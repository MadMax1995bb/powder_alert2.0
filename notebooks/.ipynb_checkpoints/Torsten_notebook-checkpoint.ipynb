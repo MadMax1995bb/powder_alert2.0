{
 "cells": [
  {
   "cell_type": "code",
   "execution_count": 1,
   "metadata": {},
   "outputs": [],
   "source": [
    "import pandas as pd\n",
    "import numpy as np\n",
    "import seaborn as sns\n",
    "import matplotlib.pyplot as plt\n",
    "import pickle\n",
    "import pandas\n",
    "\n",
    "from datetime import datetime\n",
    "from scipy.io import readsav\n",
    "import pyreadstat"
   ]
  },
  {
   "cell_type": "code",
   "execution_count": 2,
   "metadata": {},
   "outputs": [],
   "source": [
    "filepath_historical_data = '/Users/torstenwrigley/code/MadMax1995bb/powder_alert2.0/raw_data/Hochfuegen_history.csv'\n",
    "filepath_hist_api = '/Users/torstenwrigley/code/MadMax1995bb/powder_alert2.0/raw_data/historical_api.csv'"
   ]
  },
  {
   "cell_type": "code",
   "execution_count": 3,
   "metadata": {},
   "outputs": [],
   "source": [
    "filepath_v2 = '/Users/torstenwrigley/code/MadMax1995bb/powder_alert2.0/raw_data/Alternative_data_v2.csv'\n",
    "filepath_v3 = '/Users/torstenwrigley/code/MadMax1995bb/powder_alert2.0/raw_data/Alternative_data_v3_Davos.csv'"
   ]
  },
  {
   "cell_type": "code",
   "execution_count": 4,
   "metadata": {},
   "outputs": [
    {
     "data": {
      "text/html": [
       "<div>\n",
       "<style scoped>\n",
       "    .dataframe tbody tr th:only-of-type {\n",
       "        vertical-align: middle;\n",
       "    }\n",
       "\n",
       "    .dataframe tbody tr th {\n",
       "        vertical-align: top;\n",
       "    }\n",
       "\n",
       "    .dataframe thead th {\n",
       "        text-align: right;\n",
       "    }\n",
       "</style>\n",
       "<table border=\"1\" class=\"dataframe\">\n",
       "  <thead>\n",
       "    <tr style=\"text-align: right;\">\n",
       "      <th></th>\n",
       "      <th>dt</th>\n",
       "      <th>dt_iso</th>\n",
       "      <th>timezone</th>\n",
       "      <th>city_name</th>\n",
       "      <th>lat</th>\n",
       "      <th>lon</th>\n",
       "      <th>temp</th>\n",
       "      <th>visibility</th>\n",
       "      <th>dew_point</th>\n",
       "      <th>feels_like</th>\n",
       "      <th>...</th>\n",
       "      <th>wind_gust</th>\n",
       "      <th>rain_1h</th>\n",
       "      <th>rain_3h</th>\n",
       "      <th>snow_1h</th>\n",
       "      <th>snow_3h</th>\n",
       "      <th>clouds_all</th>\n",
       "      <th>weather_id</th>\n",
       "      <th>weather_main</th>\n",
       "      <th>weather_description</th>\n",
       "      <th>weather_icon</th>\n",
       "    </tr>\n",
       "  </thead>\n",
       "  <tbody>\n",
       "    <tr>\n",
       "      <th>0</th>\n",
       "      <td>283996800</td>\n",
       "      <td>1979-01-01 00:00:00 +0000 UTC</td>\n",
       "      <td>3600</td>\n",
       "      <td>Hochfügen</td>\n",
       "      <td>47.26759</td>\n",
       "      <td>11.77616</td>\n",
       "      <td>274.75</td>\n",
       "      <td>NaN</td>\n",
       "      <td>273.59</td>\n",
       "      <td>272.69</td>\n",
       "      <td>...</td>\n",
       "      <td>NaN</td>\n",
       "      <td>NaN</td>\n",
       "      <td>NaN</td>\n",
       "      <td>NaN</td>\n",
       "      <td>NaN</td>\n",
       "      <td>95</td>\n",
       "      <td>804</td>\n",
       "      <td>Clouds</td>\n",
       "      <td>overcast clouds</td>\n",
       "      <td>04n</td>\n",
       "    </tr>\n",
       "    <tr>\n",
       "      <th>1</th>\n",
       "      <td>284000400</td>\n",
       "      <td>1979-01-01 01:00:00 +0000 UTC</td>\n",
       "      <td>3600</td>\n",
       "      <td>Hochfügen</td>\n",
       "      <td>47.26759</td>\n",
       "      <td>11.77616</td>\n",
       "      <td>274.68</td>\n",
       "      <td>NaN</td>\n",
       "      <td>273.67</td>\n",
       "      <td>272.25</td>\n",
       "      <td>...</td>\n",
       "      <td>NaN</td>\n",
       "      <td>NaN</td>\n",
       "      <td>NaN</td>\n",
       "      <td>NaN</td>\n",
       "      <td>NaN</td>\n",
       "      <td>95</td>\n",
       "      <td>804</td>\n",
       "      <td>Clouds</td>\n",
       "      <td>overcast clouds</td>\n",
       "      <td>04n</td>\n",
       "    </tr>\n",
       "    <tr>\n",
       "      <th>2</th>\n",
       "      <td>284004000</td>\n",
       "      <td>1979-01-01 02:00:00 +0000 UTC</td>\n",
       "      <td>3600</td>\n",
       "      <td>Hochfügen</td>\n",
       "      <td>47.26759</td>\n",
       "      <td>11.77616</td>\n",
       "      <td>274.63</td>\n",
       "      <td>NaN</td>\n",
       "      <td>273.77</td>\n",
       "      <td>272.43</td>\n",
       "      <td>...</td>\n",
       "      <td>NaN</td>\n",
       "      <td>NaN</td>\n",
       "      <td>NaN</td>\n",
       "      <td>NaN</td>\n",
       "      <td>NaN</td>\n",
       "      <td>98</td>\n",
       "      <td>804</td>\n",
       "      <td>Clouds</td>\n",
       "      <td>overcast clouds</td>\n",
       "      <td>04n</td>\n",
       "    </tr>\n",
       "  </tbody>\n",
       "</table>\n",
       "<p>3 rows × 28 columns</p>\n",
       "</div>"
      ],
      "text/plain": [
       "          dt                         dt_iso  timezone  city_name       lat  \\\n",
       "0  283996800  1979-01-01 00:00:00 +0000 UTC      3600  Hochfügen  47.26759   \n",
       "1  284000400  1979-01-01 01:00:00 +0000 UTC      3600  Hochfügen  47.26759   \n",
       "2  284004000  1979-01-01 02:00:00 +0000 UTC      3600  Hochfügen  47.26759   \n",
       "\n",
       "        lon    temp  visibility  dew_point  feels_like  ...  wind_gust  \\\n",
       "0  11.77616  274.75         NaN     273.59      272.69  ...        NaN   \n",
       "1  11.77616  274.68         NaN     273.67      272.25  ...        NaN   \n",
       "2  11.77616  274.63         NaN     273.77      272.43  ...        NaN   \n",
       "\n",
       "   rain_1h  rain_3h  snow_1h  snow_3h  clouds_all  weather_id  weather_main  \\\n",
       "0      NaN      NaN      NaN      NaN          95         804        Clouds   \n",
       "1      NaN      NaN      NaN      NaN          95         804        Clouds   \n",
       "2      NaN      NaN      NaN      NaN          98         804        Clouds   \n",
       "\n",
       "   weather_description  weather_icon  \n",
       "0      overcast clouds           04n  \n",
       "1      overcast clouds           04n  \n",
       "2      overcast clouds           04n  \n",
       "\n",
       "[3 rows x 28 columns]"
      ]
     },
     "execution_count": 4,
     "metadata": {},
     "output_type": "execute_result"
    }
   ],
   "source": [
    "csv_file = filepath_historical_data\n",
    "df_hist = pd.read_csv(csv_file)\n",
    "df_hist.head(3)"
   ]
  },
  {
   "cell_type": "code",
   "execution_count": 5,
   "metadata": {},
   "outputs": [],
   "source": [
    "# csv_file = filepath_v2\n",
    "# alt2 = pd.read_csv(csv_file)"
   ]
  },
  {
   "cell_type": "code",
   "execution_count": 6,
   "metadata": {},
   "outputs": [],
   "source": [
    "# csv_file = filepath_v3\n",
    "# alt3 = pd.read_csv(csv_file, delimiter=';')"
   ]
  },
  {
   "cell_type": "code",
   "execution_count": 7,
   "metadata": {},
   "outputs": [
    {
     "data": {
      "text/html": [
       "<div>\n",
       "<style scoped>\n",
       "    .dataframe tbody tr th:only-of-type {\n",
       "        vertical-align: middle;\n",
       "    }\n",
       "\n",
       "    .dataframe tbody tr th {\n",
       "        vertical-align: top;\n",
       "    }\n",
       "\n",
       "    .dataframe thead th {\n",
       "        text-align: right;\n",
       "    }\n",
       "</style>\n",
       "<table border=\"1\" class=\"dataframe\">\n",
       "  <thead>\n",
       "    <tr style=\"text-align: right;\">\n",
       "      <th></th>\n",
       "      <th>date</th>\n",
       "      <th>temperature_2m</th>\n",
       "      <th>relative_humidity_2m</th>\n",
       "      <th>dew_point_2m</th>\n",
       "      <th>apparent_temperature</th>\n",
       "      <th>precipitation</th>\n",
       "      <th>rain</th>\n",
       "      <th>snowfall</th>\n",
       "      <th>snow_depth</th>\n",
       "      <th>weather_code</th>\n",
       "      <th>...</th>\n",
       "      <th>wind_gusts_10m</th>\n",
       "      <th>soil_temperature_0_to_7cm</th>\n",
       "      <th>soil_temperature_7_to_28cm</th>\n",
       "      <th>soil_temperature_28_to_100cm</th>\n",
       "      <th>soil_temperature_100_to_255cm</th>\n",
       "      <th>soil_moisture_0_to_7cm</th>\n",
       "      <th>soil_moisture_7_to_28cm</th>\n",
       "      <th>soil_moisture_28_to_100cm</th>\n",
       "      <th>soil_moisture_100_to_255cm</th>\n",
       "      <th>sunshine_duration</th>\n",
       "    </tr>\n",
       "  </thead>\n",
       "  <tbody>\n",
       "    <tr>\n",
       "      <th>0</th>\n",
       "      <td>1979-01-01 00:00:00+00:00</td>\n",
       "      <td>-5.499</td>\n",
       "      <td>92.65972</td>\n",
       "      <td>-6.499</td>\n",
       "      <td>-9.440102</td>\n",
       "      <td>0.1</td>\n",
       "      <td>0.1</td>\n",
       "      <td>0.00</td>\n",
       "      <td>0.47</td>\n",
       "      <td>51.0</td>\n",
       "      <td>...</td>\n",
       "      <td>42.120000</td>\n",
       "      <td>-0.749</td>\n",
       "      <td>-0.649</td>\n",
       "      <td>0.301</td>\n",
       "      <td>2.201</td>\n",
       "      <td>0.316</td>\n",
       "      <td>0.315</td>\n",
       "      <td>0.304</td>\n",
       "      <td>0.367</td>\n",
       "      <td>0.0</td>\n",
       "    </tr>\n",
       "    <tr>\n",
       "      <th>1</th>\n",
       "      <td>1979-01-01 01:00:00+00:00</td>\n",
       "      <td>-5.349</td>\n",
       "      <td>94.81615</td>\n",
       "      <td>-6.049</td>\n",
       "      <td>-9.425217</td>\n",
       "      <td>0.2</td>\n",
       "      <td>0.1</td>\n",
       "      <td>0.07</td>\n",
       "      <td>0.47</td>\n",
       "      <td>71.0</td>\n",
       "      <td>...</td>\n",
       "      <td>46.079998</td>\n",
       "      <td>-0.749</td>\n",
       "      <td>-0.649</td>\n",
       "      <td>0.301</td>\n",
       "      <td>2.201</td>\n",
       "      <td>0.316</td>\n",
       "      <td>0.315</td>\n",
       "      <td>0.304</td>\n",
       "      <td>0.367</td>\n",
       "      <td>0.0</td>\n",
       "    </tr>\n",
       "    <tr>\n",
       "      <th>2</th>\n",
       "      <td>1979-01-01 02:00:00+00:00</td>\n",
       "      <td>-5.449</td>\n",
       "      <td>95.53807</td>\n",
       "      <td>-6.049</td>\n",
       "      <td>-9.401998</td>\n",
       "      <td>0.5</td>\n",
       "      <td>0.1</td>\n",
       "      <td>0.28</td>\n",
       "      <td>0.47</td>\n",
       "      <td>73.0</td>\n",
       "      <td>...</td>\n",
       "      <td>48.600000</td>\n",
       "      <td>-0.749</td>\n",
       "      <td>-0.649</td>\n",
       "      <td>0.301</td>\n",
       "      <td>2.201</td>\n",
       "      <td>0.316</td>\n",
       "      <td>0.315</td>\n",
       "      <td>0.304</td>\n",
       "      <td>0.367</td>\n",
       "      <td>0.0</td>\n",
       "    </tr>\n",
       "  </tbody>\n",
       "</table>\n",
       "<p>3 rows × 32 columns</p>\n",
       "</div>"
      ],
      "text/plain": [
       "                        date  temperature_2m  relative_humidity_2m  \\\n",
       "0  1979-01-01 00:00:00+00:00          -5.499              92.65972   \n",
       "1  1979-01-01 01:00:00+00:00          -5.349              94.81615   \n",
       "2  1979-01-01 02:00:00+00:00          -5.449              95.53807   \n",
       "\n",
       "   dew_point_2m  apparent_temperature  precipitation  rain  snowfall  \\\n",
       "0        -6.499             -9.440102            0.1   0.1      0.00   \n",
       "1        -6.049             -9.425217            0.2   0.1      0.07   \n",
       "2        -6.049             -9.401998            0.5   0.1      0.28   \n",
       "\n",
       "   snow_depth  weather_code  ...  wind_gusts_10m  soil_temperature_0_to_7cm  \\\n",
       "0        0.47          51.0  ...       42.120000                     -0.749   \n",
       "1        0.47          71.0  ...       46.079998                     -0.749   \n",
       "2        0.47          73.0  ...       48.600000                     -0.749   \n",
       "\n",
       "   soil_temperature_7_to_28cm  soil_temperature_28_to_100cm  \\\n",
       "0                      -0.649                         0.301   \n",
       "1                      -0.649                         0.301   \n",
       "2                      -0.649                         0.301   \n",
       "\n",
       "   soil_temperature_100_to_255cm  soil_moisture_0_to_7cm  \\\n",
       "0                          2.201                   0.316   \n",
       "1                          2.201                   0.316   \n",
       "2                          2.201                   0.316   \n",
       "\n",
       "   soil_moisture_7_to_28cm  soil_moisture_28_to_100cm  \\\n",
       "0                    0.315                      0.304   \n",
       "1                    0.315                      0.304   \n",
       "2                    0.315                      0.304   \n",
       "\n",
       "   soil_moisture_100_to_255cm  sunshine_duration  \n",
       "0                       0.367                0.0  \n",
       "1                       0.367                0.0  \n",
       "2                       0.367                0.0  \n",
       "\n",
       "[3 rows x 32 columns]"
      ]
     },
     "execution_count": 7,
     "metadata": {},
     "output_type": "execute_result"
    }
   ],
   "source": [
    "csv_file = filepath_hist_api\n",
    "df_api = pd.read_csv(csv_file)\n",
    "df_api.head(3)"
   ]
  },
  {
   "cell_type": "markdown",
   "metadata": {},
   "source": [
    "# Merging two datasets"
   ]
  },
  {
   "cell_type": "code",
   "execution_count": 8,
   "metadata": {},
   "outputs": [
    {
     "name": "stdout",
     "output_type": "stream",
     "text": [
      "<class 'pandas.core.frame.DataFrame'>\n",
      "RangeIndex: 402861 entries, 0 to 402860\n",
      "Data columns (total 28 columns):\n",
      " #   Column               Non-Null Count   Dtype  \n",
      "---  ------               --------------   -----  \n",
      " 0   dt                   402861 non-null  int64  \n",
      " 1   dt_iso               402861 non-null  object \n",
      " 2   timezone             402861 non-null  int64  \n",
      " 3   city_name            402861 non-null  object \n",
      " 4   lat                  402861 non-null  float64\n",
      " 5   lon                  402861 non-null  float64\n",
      " 6   temp                 402861 non-null  float64\n",
      " 7   visibility           4045 non-null    float64\n",
      " 8   dew_point            402861 non-null  float64\n",
      " 9   feels_like           402861 non-null  float64\n",
      " 10  temp_min             402861 non-null  float64\n",
      " 11  temp_max             402861 non-null  float64\n",
      " 12  pressure             402861 non-null  int64  \n",
      " 13  sea_level            0 non-null       float64\n",
      " 14  grnd_level           0 non-null       float64\n",
      " 15  humidity             402861 non-null  int64  \n",
      " 16  wind_speed           402861 non-null  float64\n",
      " 17  wind_deg             402861 non-null  int64  \n",
      " 18  wind_gust            19409 non-null   float64\n",
      " 19  rain_1h              79855 non-null   float64\n",
      " 20  rain_3h              5 non-null       float64\n",
      " 21  snow_1h              45003 non-null   float64\n",
      " 22  snow_3h              80 non-null      float64\n",
      " 23  clouds_all           402861 non-null  int64  \n",
      " 24  weather_id           402861 non-null  int64  \n",
      " 25  weather_main         402861 non-null  object \n",
      " 26  weather_description  402861 non-null  object \n",
      " 27  weather_icon         402861 non-null  object \n",
      "dtypes: float64(16), int64(7), object(5)\n",
      "memory usage: 86.1+ MB\n"
     ]
    }
   ],
   "source": [
    "df_hist.info()"
   ]
  },
  {
   "cell_type": "code",
   "execution_count": 9,
   "metadata": {},
   "outputs": [
    {
     "data": {
      "text/html": [
       "<div>\n",
       "<style scoped>\n",
       "    .dataframe tbody tr th:only-of-type {\n",
       "        vertical-align: middle;\n",
       "    }\n",
       "\n",
       "    .dataframe tbody tr th {\n",
       "        vertical-align: top;\n",
       "    }\n",
       "\n",
       "    .dataframe thead th {\n",
       "        text-align: right;\n",
       "    }\n",
       "</style>\n",
       "<table border=\"1\" class=\"dataframe\">\n",
       "  <thead>\n",
       "    <tr style=\"text-align: right;\">\n",
       "      <th></th>\n",
       "      <th>date</th>\n",
       "      <th>city_name</th>\n",
       "      <th>temp_min</th>\n",
       "      <th>temp_max</th>\n",
       "      <th>rain_3h</th>\n",
       "      <th>weather_id</th>\n",
       "      <th>weather_main</th>\n",
       "      <th>weather_description</th>\n",
       "    </tr>\n",
       "  </thead>\n",
       "  <tbody>\n",
       "    <tr>\n",
       "      <th>402859</th>\n",
       "      <td>2024-12-08 22:00:00 +0000 UTC</td>\n",
       "      <td>Hochfügen</td>\n",
       "      <td>267.18</td>\n",
       "      <td>269.03</td>\n",
       "      <td>NaN</td>\n",
       "      <td>600</td>\n",
       "      <td>Snow</td>\n",
       "      <td>light snow</td>\n",
       "    </tr>\n",
       "    <tr>\n",
       "      <th>402860</th>\n",
       "      <td>2024-12-08 23:00:00 +0000 UTC</td>\n",
       "      <td>Hochfügen</td>\n",
       "      <td>267.18</td>\n",
       "      <td>268.97</td>\n",
       "      <td>NaN</td>\n",
       "      <td>600</td>\n",
       "      <td>Snow</td>\n",
       "      <td>light snow</td>\n",
       "    </tr>\n",
       "  </tbody>\n",
       "</table>\n",
       "</div>"
      ],
      "text/plain": [
       "                                 date  city_name  temp_min  temp_max  rain_3h  \\\n",
       "402859  2024-12-08 22:00:00 +0000 UTC  Hochfügen    267.18    269.03      NaN   \n",
       "402860  2024-12-08 23:00:00 +0000 UTC  Hochfügen    267.18    268.97      NaN   \n",
       "\n",
       "        weather_id weather_main weather_description  \n",
       "402859         600         Snow          light snow  \n",
       "402860         600         Snow          light snow  "
      ]
     },
     "execution_count": 9,
     "metadata": {},
     "output_type": "execute_result"
    }
   ],
   "source": [
    "#Keeping columns of interest and renaming date column \n",
    "df_hist_clean = df_hist[['dt_iso','city_name', 'temp_min', 'temp_max','rain_3h','weather_id', 'weather_main', 'weather_description']]\n",
    "df_hist_clean = df_hist_clean.rename(columns={'dt_iso':'date'})\n",
    "df_hist_clean.tail(2)"
   ]
  },
  {
   "cell_type": "code",
   "execution_count": 10,
   "metadata": {},
   "outputs": [],
   "source": [
    "#Stripping date string and then removing timezone\n",
    "df_hist_clean['date'] = df_hist_clean['date'].str.replace(' UTC', '').copy()"
   ]
  },
  {
   "cell_type": "code",
   "execution_count": 11,
   "metadata": {},
   "outputs": [],
   "source": [
    "#Changing date columns to date format \n",
    "df_hist_clean['date'] = pd.to_datetime(df_hist_clean['date'])\n",
    "df_api['date'] = pd.to_datetime(df_api['date'])"
   ]
  },
  {
   "cell_type": "code",
   "execution_count": 12,
   "metadata": {},
   "outputs": [],
   "source": [
    "#Merged df_api with df_hist_clean \n",
    "df = df_api.merge(df_hist_clean, on = 'date', how='left')"
   ]
  },
  {
   "cell_type": "code",
   "execution_count": 13,
   "metadata": {},
   "outputs": [
    {
     "name": "stdout",
     "output_type": "stream",
     "text": [
      "<class 'pandas.core.frame.DataFrame'>\n",
      "RangeIndex: 402861 entries, 0 to 402860\n",
      "Data columns (total 39 columns):\n",
      " #   Column                         Non-Null Count   Dtype              \n",
      "---  ------                         --------------   -----              \n",
      " 0   date                           402861 non-null  datetime64[ns, UTC]\n",
      " 1   temperature_2m                 402838 non-null  float64            \n",
      " 2   relative_humidity_2m           402838 non-null  float64            \n",
      " 3   dew_point_2m                   402838 non-null  float64            \n",
      " 4   apparent_temperature           402838 non-null  float64            \n",
      " 5   precipitation                  402838 non-null  float64            \n",
      " 6   rain                           402838 non-null  float64            \n",
      " 7   snowfall                       402838 non-null  float64            \n",
      " 8   snow_depth                     402237 non-null  float64            \n",
      " 9   weather_code                   402838 non-null  float64            \n",
      " 10  pressure_msl                   402838 non-null  float64            \n",
      " 11  surface_pressure               402838 non-null  float64            \n",
      " 12  cloud_cover                    402838 non-null  float64            \n",
      " 13  cloud_cover_low                402838 non-null  float64            \n",
      " 14  cloud_cover_mid                402838 non-null  float64            \n",
      " 15  cloud_cover_high               402838 non-null  float64            \n",
      " 16  et0_fao_evapotranspiration     402838 non-null  float64            \n",
      " 17  vapour_pressure_deficit        402838 non-null  float64            \n",
      " 18  wind_speed_10m                 402838 non-null  float64            \n",
      " 19  wind_speed_100m                402838 non-null  float64            \n",
      " 20  wind_direction_10m             402838 non-null  float64            \n",
      " 21  wind_direction_100m            402838 non-null  float64            \n",
      " 22  wind_gusts_10m                 402838 non-null  float64            \n",
      " 23  soil_temperature_0_to_7cm      402838 non-null  float64            \n",
      " 24  soil_temperature_7_to_28cm     402838 non-null  float64            \n",
      " 25  soil_temperature_28_to_100cm   402838 non-null  float64            \n",
      " 26  soil_temperature_100_to_255cm  402838 non-null  float64            \n",
      " 27  soil_moisture_0_to_7cm         402838 non-null  float64            \n",
      " 28  soil_moisture_7_to_28cm        402838 non-null  float64            \n",
      " 29  soil_moisture_28_to_100cm      402838 non-null  float64            \n",
      " 30  soil_moisture_100_to_255cm     402838 non-null  float64            \n",
      " 31  sunshine_duration              402838 non-null  float64            \n",
      " 32  city_name                      402861 non-null  object             \n",
      " 33  temp_min                       402861 non-null  float64            \n",
      " 34  temp_max                       402861 non-null  float64            \n",
      " 35  rain_3h                        5 non-null       float64            \n",
      " 36  weather_id                     402861 non-null  int64              \n",
      " 37  weather_main                   402861 non-null  object             \n",
      " 38  weather_description            402861 non-null  object             \n",
      "dtypes: datetime64[ns, UTC](1), float64(34), int64(1), object(3)\n",
      "memory usage: 119.9+ MB\n"
     ]
    }
   ],
   "source": [
    "df.info()"
   ]
  },
  {
   "cell_type": "markdown",
   "metadata": {},
   "source": [
    "# Data cleaning "
   ]
  },
  {
   "cell_type": "code",
   "execution_count": 14,
   "metadata": {},
   "outputs": [
    {
     "data": {
      "image/png": "[encoded data removed]",
      "text/plain": [
       "<Figure size 1000x600 with 1 Axes>"
      ]
     },
     "metadata": {},
     "output_type": "display_data"
    }
   ],
   "source": [
    "nan_distribution = (df.isna().sum() / len(df)) * 100\n",
    "nan_distribution.plot(kind='bar', figsize=(10, 6), title='Percentage of NaN Values Per Column')\n",
    "plt.ylabel('Percentage of NaN Values')\n",
    "plt.xlabel('Columns')\n",
    "plt.show();"
   ]
  },
  {
   "cell_type": "code",
   "execution_count": 15,
   "metadata": {},
   "outputs": [],
   "source": [
    "#Filter out all entries from July 2024 onwards (to deal with missing snow_depth values)\n",
    "\n",
    "df = df[df['date'] < '2024-07-01']"
   ]
  },
  {
   "cell_type": "code",
   "execution_count": 16,
   "metadata": {},
   "outputs": [
    {
     "data": {
      "text/html": [
       "<div>\n",
       "<style scoped>\n",
       "    .dataframe tbody tr th:only-of-type {\n",
       "        vertical-align: middle;\n",
       "    }\n",
       "\n",
       "    .dataframe tbody tr th {\n",
       "        vertical-align: top;\n",
       "    }\n",
       "\n",
       "    .dataframe thead th {\n",
       "        text-align: right;\n",
       "    }\n",
       "</style>\n",
       "<table border=\"1\" class=\"dataframe\">\n",
       "  <thead>\n",
       "    <tr style=\"text-align: right;\">\n",
       "      <th></th>\n",
       "      <th>date</th>\n",
       "      <th>temperature_2m</th>\n",
       "      <th>relative_humidity_2m</th>\n",
       "      <th>dew_point_2m</th>\n",
       "      <th>apparent_temperature</th>\n",
       "      <th>precipitation</th>\n",
       "      <th>rain</th>\n",
       "      <th>snowfall</th>\n",
       "      <th>snow_depth</th>\n",
       "      <th>weather_code</th>\n",
       "      <th>...</th>\n",
       "      <th>soil_moisture_28_to_100cm</th>\n",
       "      <th>soil_moisture_100_to_255cm</th>\n",
       "      <th>sunshine_duration</th>\n",
       "      <th>city_name</th>\n",
       "      <th>temp_min</th>\n",
       "      <th>temp_max</th>\n",
       "      <th>rain_3h</th>\n",
       "      <th>weather_id</th>\n",
       "      <th>weather_main</th>\n",
       "      <th>weather_description</th>\n",
       "    </tr>\n",
       "  </thead>\n",
       "  <tbody>\n",
       "    <tr>\n",
       "      <th>398995</th>\n",
       "      <td>2024-06-30 22:00:00+00:00</td>\n",
       "      <td>12.499001</td>\n",
       "      <td>100.000000</td>\n",
       "      <td>12.499001</td>\n",
       "      <td>12.977301</td>\n",
       "      <td>2.2</td>\n",
       "      <td>2.2</td>\n",
       "      <td>0.0</td>\n",
       "      <td>0.0</td>\n",
       "      <td>61.0</td>\n",
       "      <td>...</td>\n",
       "      <td>0.374</td>\n",
       "      <td>0.414</td>\n",
       "      <td>0.0</td>\n",
       "      <td>Hochfügen</td>\n",
       "      <td>282.86</td>\n",
       "      <td>285.69</td>\n",
       "      <td>NaN</td>\n",
       "      <td>501</td>\n",
       "      <td>Rain</td>\n",
       "      <td>moderate rain</td>\n",
       "    </tr>\n",
       "    <tr>\n",
       "      <th>398996</th>\n",
       "      <td>2024-06-30 23:00:00+00:00</td>\n",
       "      <td>12.199000</td>\n",
       "      <td>99.671715</td>\n",
       "      <td>12.149000</td>\n",
       "      <td>12.385004</td>\n",
       "      <td>1.0</td>\n",
       "      <td>1.0</td>\n",
       "      <td>0.0</td>\n",
       "      <td>0.0</td>\n",
       "      <td>55.0</td>\n",
       "      <td>...</td>\n",
       "      <td>0.374</td>\n",
       "      <td>0.414</td>\n",
       "      <td>0.0</td>\n",
       "      <td>Hochfügen</td>\n",
       "      <td>282.86</td>\n",
       "      <td>284.18</td>\n",
       "      <td>NaN</td>\n",
       "      <td>500</td>\n",
       "      <td>Rain</td>\n",
       "      <td>light rain</td>\n",
       "    </tr>\n",
       "  </tbody>\n",
       "</table>\n",
       "<p>2 rows × 39 columns</p>\n",
       "</div>"
      ],
      "text/plain": [
       "                            date  temperature_2m  relative_humidity_2m  \\\n",
       "398995 2024-06-30 22:00:00+00:00       12.499001            100.000000   \n",
       "398996 2024-06-30 23:00:00+00:00       12.199000             99.671715   \n",
       "\n",
       "        dew_point_2m  apparent_temperature  precipitation  rain  snowfall  \\\n",
       "398995     12.499001             12.977301            2.2   2.2       0.0   \n",
       "398996     12.149000             12.385004            1.0   1.0       0.0   \n",
       "\n",
       "        snow_depth  weather_code  ...  soil_moisture_28_to_100cm  \\\n",
       "398995         0.0          61.0  ...                      0.374   \n",
       "398996         0.0          55.0  ...                      0.374   \n",
       "\n",
       "        soil_moisture_100_to_255cm  sunshine_duration  city_name  temp_min  \\\n",
       "398995                       0.414                0.0  Hochfügen    282.86   \n",
       "398996                       0.414                0.0  Hochfügen    282.86   \n",
       "\n",
       "        temp_max  rain_3h  weather_id  weather_main  weather_description  \n",
       "398995    285.69      NaN         501          Rain        moderate rain  \n",
       "398996    284.18      NaN         500          Rain           light rain  \n",
       "\n",
       "[2 rows x 39 columns]"
      ]
     },
     "execution_count": 16,
     "metadata": {},
     "output_type": "execute_result"
    }
   ],
   "source": [
    "df.tail(2)"
   ]
  },
  {
   "cell_type": "code",
   "execution_count": 17,
   "metadata": {},
   "outputs": [
    {
     "name": "stdout",
     "output_type": "stream",
     "text": [
      "Number of rows = 398997\n"
     ]
    }
   ],
   "source": [
    "#Checking and dropping any duplicates duplicates\n",
    "print(f'Number of rows = {len(df)}') # Check number of rows before removing duplicates"
   ]
  },
  {
   "cell_type": "code",
   "execution_count": 18,
   "metadata": {},
   "outputs": [
    {
     "name": "stdout",
     "output_type": "stream",
     "text": [
      "Number of duplicates = 0\n",
      "Number of rows (after dropping duplicates) = 398997\n"
     ]
    }
   ],
   "source": [
    "print(f'Number of duplicates = {df.duplicated().sum()}') # Compute the number of duplicated rows\n",
    "df = df.drop_duplicates() # Remove duplicates\n",
    "print(f'Number of rows (after dropping duplicates) = {len(df)}')"
   ]
  },
  {
   "cell_type": "code",
   "execution_count": 19,
   "metadata": {},
   "outputs": [
    {
     "data": {
      "text/plain": [
       "snow_depth\n",
       "0.00    150279\n",
       "0.01     13517\n",
       "0.02      6500\n",
       "0.03      4132\n",
       "0.04      3666\n",
       "         ...  \n",
       "1.98         5\n",
       "2.08         5\n",
       "2.00         5\n",
       "1.99         4\n",
       "2.04         4\n",
       "Name: count, Length: 214, dtype: int64"
      ]
     },
     "execution_count": 19,
     "metadata": {},
     "output_type": "execute_result"
    }
   ],
   "source": [
    "df['snow_depth'].value_counts()"
   ]
  },
  {
   "cell_type": "code",
   "execution_count": 20,
   "metadata": {},
   "outputs": [
    {
     "data": {
      "text/plain": [
       "count    398997.000000\n",
       "mean          0.426482\n",
       "std           0.502717\n",
       "min           0.000000\n",
       "25%           0.000000\n",
       "50%           0.140000\n",
       "75%           0.840000\n",
       "max           2.130000\n",
       "Name: snow_depth, dtype: float64"
      ]
     },
     "execution_count": 20,
     "metadata": {},
     "output_type": "execute_result"
    }
   ],
   "source": [
    "df['snow_depth'].describe()"
   ]
  },
  {
   "cell_type": "code",
   "execution_count": 21,
   "metadata": {},
   "outputs": [
    {
     "data": {
      "text/plain": [
       "np.int64(0)"
      ]
     },
     "execution_count": 21,
     "metadata": {},
     "output_type": "execute_result"
    }
   ],
   "source": [
    "df['snow_depth'].isnull().sum()"
   ]
  },
  {
   "cell_type": "markdown",
   "metadata": {},
   "source": [
    "# Data preprocessing "
   ]
  },
  {
   "cell_type": "code",
   "execution_count": null,
   "metadata": {},
   "outputs": [],
   "source": []
  }
 ],
 "metadata": {
  "kernelspec": {
   "display_name": "Python 3 (ipykernel)",
   "language": "python",
   "name": "python3"
  },
  "language_info": {
   "codemirror_mode": {
    "name": "ipython",
    "version": 3
   },
   "file_extension": ".py",
   "mimetype": "text/x-python",
   "name": "python",
   "nbconvert_exporter": "python",
   "pygments_lexer": "ipython3",
   "version": "3.10.6"
  }
 },
 "nbformat": 4,
 "nbformat_minor": 4
}
