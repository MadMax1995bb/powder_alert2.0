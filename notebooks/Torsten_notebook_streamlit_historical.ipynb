{
 "cells": [
  {
   "cell_type": "code",
   "execution_count": 1,
   "metadata": {},
   "outputs": [],
   "source": [
    "import openmeteo_requests\n",
    "import matplotlib as plt\n",
    "import requests_cache\n",
    "import pandas as pd\n",
    "from retry_requests import retry\n",
    "from datetime import datetime as dt\n",
    "from datetime import timedelta"
   ]
  },
  {
   "cell_type": "code",
   "execution_count": 2,
   "metadata": {},
   "outputs": [
    {
     "name": "stdout",
     "output_type": "stream",
     "text": [
      "Coordinates 47.2400016784668°N 11.84000015258789°E\n",
      "Elevation 1818.0 m asl\n",
      "Timezone None None\n",
      "Timezone difference to GMT+0 0 s\n"
     ]
    }
   ],
   "source": [
    "# Setup the Open-Meteo API client with cache and retry on error\n",
    "cache_session = requests_cache.CachedSession('.cache', expire_after = -1)\n",
    "retry_session = retry(cache_session, retries = 5, backoff_factor = 0.2)\n",
    "openmeteo = openmeteo_requests.Client(session = retry_session)\n",
    "\n",
    "# Make sure all required weather variables are listed here\n",
    "# The order of variables in hourly or daily is important to assign them correctly below\n",
    "url = \"https://api.open-meteo.com/v1/forecast\"\n",
    "params = {\n",
    "\t\"latitude\": 47.26580883196723,\n",
    "\t\"longitude\": 11.84457426992035,\n",
    "    'past_days': 7,\n",
    "    'forecast_days': 0,\n",
    "\t\"hourly\": [\"temperature_2m\", \"relative_humidity_2m\", \"dew_point_2m\", \"precipitation\", \"rain\", \"snowfall\", \"snow_depth\", \"weather_code\", \"pressure_msl\", \"surface_pressure\", \"cloud_cover\", \"cloud_cover_low\", \"cloud_cover_mid\", \"cloud_cover_high\", \"et0_fao_evapotranspiration\", \"vapour_pressure_deficit\", \"wind_speed_10m\", \"wind_speed_120m\", \"wind_direction_10m\", \"wind_direction_120m\", \"wind_gusts_10m\", \"soil_temperature_0cm\", \"soil_temperature_6cm\", \"soil_temperature_18cm\", \"soil_temperature_54cm\", \"soil_moisture_0_to_1cm\", \"soil_moisture_1_to_3cm\", \"soil_moisture_3_to_9cm\", \"soil_moisture_9_to_27cm\", \"soil_moisture_27_to_81cm\"]\n",
    "}\n",
    "responses = openmeteo.weather_api(url, params=params)\n",
    "\n",
    "# Process first location. Add a for-loop for multiple locations or weather models\n",
    "response = responses[0]\n",
    "print(f\"Coordinates {response.Latitude()}°N {response.Longitude()}°E\")\n",
    "print(f\"Elevation {response.Elevation()} m asl\")\n",
    "print(f\"Timezone {response.Timezone()} {response.TimezoneAbbreviation()}\")\n",
    "print(f\"Timezone difference to GMT+0 {response.UtcOffsetSeconds()} s\")\n"
   ]
  },
  {
   "cell_type": "code",
   "execution_count": 3,
   "metadata": {},
   "outputs": [
    {
     "name": "stdout",
     "output_type": "stream",
     "text": [
      "                         date  snow_depth\n",
      "0   2024-12-10 00:00:00+00:00        0.24\n",
      "1   2024-12-10 01:00:00+00:00        0.24\n",
      "2   2024-12-10 02:00:00+00:00        0.24\n",
      "3   2024-12-10 03:00:00+00:00        0.24\n",
      "4   2024-12-10 04:00:00+00:00        0.24\n",
      "..                        ...         ...\n",
      "163 2024-12-16 19:00:00+00:00        0.20\n",
      "164 2024-12-16 20:00:00+00:00        0.20\n",
      "165 2024-12-16 21:00:00+00:00        0.20\n",
      "166 2024-12-16 22:00:00+00:00        0.20\n",
      "167 2024-12-16 23:00:00+00:00        0.19\n",
      "\n",
      "[168 rows x 2 columns]\n"
     ]
    }
   ],
   "source": [
    "# Process hourly data. The order of variables needs to be the same as requested.\n",
    "hourly = response.Hourly()\n",
    "hourly_snow_depth = hourly.Variables(6).ValuesAsNumpy()\n",
    "\n",
    "hourly_data = {\"date\": pd.date_range(\n",
    "\tstart = pd.to_datetime(hourly.Time(), unit = \"s\", utc = True),\n",
    "\tend = pd.to_datetime(hourly.TimeEnd(), unit = \"s\", utc = True),\n",
    "\tfreq = pd.Timedelta(seconds = hourly.Interval()),\n",
    "\tinclusive = \"left\"\n",
    ")}\n",
    "\n",
    "hourly_data[\"snow_depth\"] = hourly_snow_depth\n",
    "\n",
    "hourly_dataframe = pd.DataFrame(data = hourly_data)\n",
    "print(hourly_dataframe)"
   ]
  },
  {
   "cell_type": "code",
   "execution_count": 4,
   "metadata": {},
   "outputs": [
    {
     "ename": "NameError",
     "evalue": "name 'st' is not defined",
     "output_type": "error",
     "traceback": [
      "\u001b[0;31m---------------------------------------------------------------------------\u001b[0m",
      "\u001b[0;31mNameError\u001b[0m                                 Traceback (most recent call last)",
      "Cell \u001b[0;32mIn[4], line 2\u001b[0m\n\u001b[1;32m      1\u001b[0m \u001b[38;5;66;03m# Load the data\u001b[39;00m\n\u001b[0;32m----> 2\u001b[0m \u001b[43mst\u001b[49m\u001b[38;5;241m.\u001b[39mtitle(\u001b[38;5;124m\"\u001b[39m\u001b[38;5;124mInteractive Snow Depth Visualization\u001b[39m\u001b[38;5;124m\"\u001b[39m)\n\u001b[1;32m      3\u001b[0m st\u001b[38;5;241m.\u001b[39mwrite(\u001b[38;5;124m\"\u001b[39m\u001b[38;5;124mThis interactive line graph shows the past snow depth over the last 7 days.\u001b[39m\u001b[38;5;124m\"\u001b[39m)\n\u001b[1;32m      5\u001b[0m \u001b[38;5;66;03m# Plot with Plotly\u001b[39;00m\n",
      "\u001b[0;31mNameError\u001b[0m: name 'st' is not defined"
     ]
    }
   ],
   "source": [
    "# Load the data\n",
    "st.title(\"Interactive Snow Depth Visualization\")\n",
    "st.write(\"This interactive line graph shows the past snow depth over the last 7 days.\")\n",
    "\n",
    "# Plot with Plotly\n",
    "fig = px.line(\n",
    "    data,\n",
    "    x='date',\n",
    "    y='snow_depth',\n",
    "    title=\"Snow Depth Over Time\",\n",
    "    labels={\"snow_depth\": \"Snow Depth (cm)\", \"date\": \"Date\"},\n",
    "    markers=True\n",
    ")\n",
    "st.plotly_chart(fig)"
   ]
  }
 ],
 "metadata": {
  "kernelspec": {
   "display_name": "powder_alert2.0",
   "language": "python",
   "name": "python3"
  },
  "language_info": {
   "codemirror_mode": {
    "name": "ipython",
    "version": 3
   },
   "file_extension": ".py",
   "mimetype": "text/x-python",
   "name": "python",
   "nbconvert_exporter": "python",
   "pygments_lexer": "ipython3",
   "version": "3.10.6"
  }
 },
 "nbformat": 4,
 "nbformat_minor": 2
}
