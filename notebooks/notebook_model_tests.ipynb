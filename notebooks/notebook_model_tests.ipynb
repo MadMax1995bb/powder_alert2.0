{
 "cells": [
  {
   "cell_type": "code",
   "execution_count": 1,
   "metadata": {},
   "outputs": [],
   "source": [
    "import pandas as pd\n",
    "import os"
   ]
  },
  {
   "cell_type": "code",
   "execution_count": 2,
   "metadata": {},
   "outputs": [
    {
     "name": "stdout",
     "output_type": "stream",
     "text": [
      "/Users/maxburger/code/MadMax1995bb/powder_alert2.0/notebooks\n",
      "total 864\n",
      "drwxr-xr-x   8 maxburger  staff     256 Dec 10 11:50 \u001b[1m\u001b[36m.\u001b[m\u001b[m\n",
      "drwxr-xr-x  18 maxburger  staff     576 Dec 10 11:34 \u001b[1m\u001b[36m..\u001b[m\u001b[m\n",
      "-rw-r--r--   1 maxburger  staff       0 Dec 10 08:36 .keep\n",
      "-rw-r--r--   1 maxburger  staff  264154 Dec 10 11:50 Wisal_notebook.ipynb\n",
      "-rw-r--r--   1 maxburger  staff   11202 Dec 10 11:50 alternative_notebook.ipynb\n",
      "-rw-r--r--   1 maxburger  staff   59870 Dec 10 11:50 notebook_Anita-Gei_get_openmeteo_data.ipynb\n",
      "-rw-r--r--   1 maxburger  staff   38604 Dec 10 11:50 notebook_Anita-Gei_model_tests.ipynb\n",
      "-rw-r--r--   1 maxburger  staff   59870 Dec 10 09:27 notebook_MadMax1995bb.ipynb\n"
     ]
    }
   ],
   "source": [
    "!pwd\n",
    "!ls -la"
   ]
  },
  {
   "cell_type": "code",
   "execution_count": 10,
   "metadata": {},
   "outputs": [],
   "source": [
    "current_dir = os.getcwd()\n",
    "relative_path = os.path.dirname(current_dir)\n",
    "file_name = \"raw_data/historical_weather_openmeteo_01011979-08122024.csv\"\n",
    "\n",
    "file_path = os.path.join(relative_path, file_name)\n",
    "\n",
    "df_hist_openmeteo = pd.read_csv(file_path)"
   ]
  },
  {
   "cell_type": "code",
   "execution_count": 11,
   "metadata": {},
   "outputs": [
    {
     "name": "stderr",
     "output_type": "stream",
     "text": [
      "/var/folders/pb/bz16q8fx0flb7flbn8cbcsdw0000gn/T/ipykernel_72738/3396273356.py:1: UserWarning: The argument 'infer_datetime_format' is deprecated and will be removed in a future version. A strict version of it is now the default, see https://pandas.pydata.org/pdeps/0004-consistent-to-datetime-parsing.html. You can safely remove this argument.\n",
      "  df_hist_openmeteo['date'] = pd.to_datetime(df_hist_openmeteo['date'], infer_datetime_format=True)\n"
     ]
    }
   ],
   "source": [
    "df_hist_openmeteo['date'] = pd.to_datetime(df_hist_openmeteo['date'], infer_datetime_format=True)\n",
    "#df_hist_openmeteo.set_index(['date'], inplace=True)"
   ]
  },
  {
   "cell_type": "code",
   "execution_count": 18,
   "metadata": {},
   "outputs": [
    {
     "data": {
      "text/html": [
       "<div>\n",
       "<style scoped>\n",
       "    .dataframe tbody tr th:only-of-type {\n",
       "        vertical-align: middle;\n",
       "    }\n",
       "\n",
       "    .dataframe tbody tr th {\n",
       "        vertical-align: top;\n",
       "    }\n",
       "\n",
       "    .dataframe thead th {\n",
       "        text-align: right;\n",
       "    }\n",
       "</style>\n",
       "<table border=\"1\" class=\"dataframe\">\n",
       "  <thead>\n",
       "    <tr style=\"text-align: right;\">\n",
       "      <th></th>\n",
       "      <th>date</th>\n",
       "      <th>temperature_2m</th>\n",
       "      <th>relative_humidity_2m</th>\n",
       "      <th>dew_point_2m</th>\n",
       "      <th>apparent_temperature</th>\n",
       "      <th>precipitation</th>\n",
       "      <th>rain</th>\n",
       "      <th>snowfall</th>\n",
       "      <th>snow_depth</th>\n",
       "      <th>weather_code</th>\n",
       "      <th>...</th>\n",
       "      <th>wind_gusts_10m</th>\n",
       "      <th>soil_temperature_0_to_7cm</th>\n",
       "      <th>soil_temperature_7_to_28cm</th>\n",
       "      <th>soil_temperature_28_to_100cm</th>\n",
       "      <th>soil_temperature_100_to_255cm</th>\n",
       "      <th>soil_moisture_0_to_7cm</th>\n",
       "      <th>soil_moisture_7_to_28cm</th>\n",
       "      <th>soil_moisture_28_to_100cm</th>\n",
       "      <th>soil_moisture_100_to_255cm</th>\n",
       "      <th>sunshine_duration</th>\n",
       "    </tr>\n",
       "  </thead>\n",
       "  <tbody>\n",
       "    <tr>\n",
       "      <th>0</th>\n",
       "      <td>1979-01-01 00:00:00+00:00</td>\n",
       "      <td>-5.499</td>\n",
       "      <td>92.65972</td>\n",
       "      <td>-6.499</td>\n",
       "      <td>-9.440102</td>\n",
       "      <td>0.1</td>\n",
       "      <td>0.1</td>\n",
       "      <td>0.00</td>\n",
       "      <td>0.47</td>\n",
       "      <td>51.0</td>\n",
       "      <td>...</td>\n",
       "      <td>42.120000</td>\n",
       "      <td>-0.749</td>\n",
       "      <td>-0.649</td>\n",
       "      <td>0.301</td>\n",
       "      <td>2.201</td>\n",
       "      <td>0.316</td>\n",
       "      <td>0.315</td>\n",
       "      <td>0.304</td>\n",
       "      <td>0.367</td>\n",
       "      <td>0.0</td>\n",
       "    </tr>\n",
       "    <tr>\n",
       "      <th>1</th>\n",
       "      <td>1979-01-01 01:00:00+00:00</td>\n",
       "      <td>-5.349</td>\n",
       "      <td>94.81615</td>\n",
       "      <td>-6.049</td>\n",
       "      <td>-9.425217</td>\n",
       "      <td>0.2</td>\n",
       "      <td>0.1</td>\n",
       "      <td>0.07</td>\n",
       "      <td>0.47</td>\n",
       "      <td>71.0</td>\n",
       "      <td>...</td>\n",
       "      <td>46.079998</td>\n",
       "      <td>-0.749</td>\n",
       "      <td>-0.649</td>\n",
       "      <td>0.301</td>\n",
       "      <td>2.201</td>\n",
       "      <td>0.316</td>\n",
       "      <td>0.315</td>\n",
       "      <td>0.304</td>\n",
       "      <td>0.367</td>\n",
       "      <td>0.0</td>\n",
       "    </tr>\n",
       "    <tr>\n",
       "      <th>2</th>\n",
       "      <td>1979-01-01 02:00:00+00:00</td>\n",
       "      <td>-5.449</td>\n",
       "      <td>95.53807</td>\n",
       "      <td>-6.049</td>\n",
       "      <td>-9.401998</td>\n",
       "      <td>0.5</td>\n",
       "      <td>0.1</td>\n",
       "      <td>0.28</td>\n",
       "      <td>0.47</td>\n",
       "      <td>73.0</td>\n",
       "      <td>...</td>\n",
       "      <td>48.600000</td>\n",
       "      <td>-0.749</td>\n",
       "      <td>-0.649</td>\n",
       "      <td>0.301</td>\n",
       "      <td>2.201</td>\n",
       "      <td>0.316</td>\n",
       "      <td>0.315</td>\n",
       "      <td>0.304</td>\n",
       "      <td>0.367</td>\n",
       "      <td>0.0</td>\n",
       "    </tr>\n",
       "  </tbody>\n",
       "</table>\n",
       "<p>3 rows × 32 columns</p>\n",
       "</div>"
      ],
      "text/plain": [
       "                       date  temperature_2m  relative_humidity_2m  \\\n",
       "0 1979-01-01 00:00:00+00:00          -5.499              92.65972   \n",
       "1 1979-01-01 01:00:00+00:00          -5.349              94.81615   \n",
       "2 1979-01-01 02:00:00+00:00          -5.449              95.53807   \n",
       "\n",
       "   dew_point_2m  apparent_temperature  precipitation  rain  snowfall  \\\n",
       "0        -6.499             -9.440102            0.1   0.1      0.00   \n",
       "1        -6.049             -9.425217            0.2   0.1      0.07   \n",
       "2        -6.049             -9.401998            0.5   0.1      0.28   \n",
       "\n",
       "   snow_depth  weather_code  ...  wind_gusts_10m  soil_temperature_0_to_7cm  \\\n",
       "0        0.47          51.0  ...       42.120000                     -0.749   \n",
       "1        0.47          71.0  ...       46.079998                     -0.749   \n",
       "2        0.47          73.0  ...       48.600000                     -0.749   \n",
       "\n",
       "   soil_temperature_7_to_28cm  soil_temperature_28_to_100cm  \\\n",
       "0                      -0.649                         0.301   \n",
       "1                      -0.649                         0.301   \n",
       "2                      -0.649                         0.301   \n",
       "\n",
       "   soil_temperature_100_to_255cm  soil_moisture_0_to_7cm  \\\n",
       "0                          2.201                   0.316   \n",
       "1                          2.201                   0.316   \n",
       "2                          2.201                   0.316   \n",
       "\n",
       "   soil_moisture_7_to_28cm  soil_moisture_28_to_100cm  \\\n",
       "0                    0.315                      0.304   \n",
       "1                    0.315                      0.304   \n",
       "2                    0.315                      0.304   \n",
       "\n",
       "   soil_moisture_100_to_255cm  sunshine_duration  \n",
       "0                       0.367                0.0  \n",
       "1                       0.367                0.0  \n",
       "2                       0.367                0.0  \n",
       "\n",
       "[3 rows x 32 columns]"
      ]
     },
     "execution_count": 18,
     "metadata": {},
     "output_type": "execute_result"
    }
   ],
   "source": [
    "df_hist_openmeteo.head(3)"
   ]
  },
  {
   "cell_type": "code",
   "execution_count": 12,
   "metadata": {},
   "outputs": [
    {
     "data": {
      "text/plain": [
       "date                             datetime64[ns, UTC]\n",
       "temperature_2m                               float64\n",
       "relative_humidity_2m                         float64\n",
       "dew_point_2m                                 float64\n",
       "apparent_temperature                         float64\n",
       "precipitation                                float64\n",
       "rain                                         float64\n",
       "snowfall                                     float64\n",
       "snow_depth                                   float64\n",
       "weather_code                                 float64\n",
       "pressure_msl                                 float64\n",
       "surface_pressure                             float64\n",
       "cloud_cover                                  float64\n",
       "cloud_cover_low                              float64\n",
       "cloud_cover_mid                              float64\n",
       "cloud_cover_high                             float64\n",
       "et0_fao_evapotranspiration                   float64\n",
       "vapour_pressure_deficit                      float64\n",
       "wind_speed_10m                               float64\n",
       "wind_speed_100m                              float64\n",
       "wind_direction_10m                           float64\n",
       "wind_direction_100m                          float64\n",
       "wind_gusts_10m                               float64\n",
       "soil_temperature_0_to_7cm                    float64\n",
       "soil_temperature_7_to_28cm                   float64\n",
       "soil_temperature_28_to_100cm                 float64\n",
       "soil_temperature_100_to_255cm                float64\n",
       "soil_moisture_0_to_7cm                       float64\n",
       "soil_moisture_7_to_28cm                      float64\n",
       "soil_moisture_28_to_100cm                    float64\n",
       "soil_moisture_100_to_255cm                   float64\n",
       "sunshine_duration                            float64\n",
       "dtype: object"
      ]
     },
     "execution_count": 12,
     "metadata": {},
     "output_type": "execute_result"
    }
   ],
   "source": [
    "df_hist_openmeteo.dtypes"
   ]
  },
  {
   "cell_type": "code",
   "execution_count": 13,
   "metadata": {},
   "outputs": [],
   "source": [
    "from darts import TimeSeries"
   ]
  },
  {
   "cell_type": "code",
   "execution_count": null,
   "metadata": {},
   "outputs": [],
   "source": [
    "df_hist_openmeteo['date'] = df_hist_openmeteo['date'].dt.tz_localize(None)"
   ]
  },
  {
   "cell_type": "code",
   "execution_count": null,
   "metadata": {},
   "outputs": [],
   "source": [
    "series = TimeSeries.from_dataframe(df_hist_openmeteo, \"date\", \"snowfall\")"
   ]
  },
  {
   "cell_type": "code",
   "execution_count": 24,
   "metadata": {},
   "outputs": [
    {
     "name": "stdout",
     "output_type": "stream",
     "text": [
      "datetime64[ns]\n"
     ]
    }
   ],
   "source": [
    "print(df_hist_openmeteo['date'].dtype)"
   ]
  },
  {
   "cell_type": "code",
   "execution_count": 27,
   "metadata": {},
   "outputs": [],
   "source": [
    "y = df_hist_openmeteo['snowfall']\n",
    "X = df_hist_openmeteo.drop(columns='snowfall')"
   ]
  },
  {
   "cell_type": "code",
   "execution_count": 29,
   "metadata": {},
   "outputs": [
    {
     "data": {
      "text/plain": [
       "<Axes: >"
      ]
     },
     "execution_count": 29,
     "metadata": {},
     "output_type": "execute_result"
    },
    {
     "data": {
      "image/png": "[encoded data removed]",
      "text/plain": [
       "<Figure size 640x480 with 1 Axes>"
      ]
     },
     "metadata": {},
     "output_type": "display_data"
    }
   ],
   "source": [
    "df_hist_openmeteo.plot(y='snowfall')"
   ]
  },
  {
   "cell_type": "code",
   "execution_count": null,
   "metadata": {},
   "outputs": [],
   "source": []
  }
 ],
 "metadata": {
  "kernelspec": {
   "display_name": "powder_alert2.0",
   "language": "python",
   "name": "python3"
  },
  "language_info": {
   "codemirror_mode": {
    "name": "ipython",
    "version": 3
   },
   "file_extension": ".py",
   "mimetype": "text/x-python",
   "name": "python",
   "nbconvert_exporter": "python",
   "pygments_lexer": "ipython3",
   "version": "3.10.6"
  }
 },
 "nbformat": 4,
 "nbformat_minor": 2
}
