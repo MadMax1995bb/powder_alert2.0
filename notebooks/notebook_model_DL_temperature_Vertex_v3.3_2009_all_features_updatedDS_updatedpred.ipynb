{
 "cells": [
  {
   "cell_type": "markdown",
   "metadata": {},
   "source": [
    "# 0.1 Imports"
   ]
  },
  {
   "cell_type": "code",
   "execution_count": 103,
   "metadata": {
    "scrolled": true
   },
   "outputs": [],
   "source": [
    "import pandas as pd\n",
    "import numpy as np\n",
    "pd.set_option(\"display.max_columns\", None)\n",
    "\n",
    "import matplotlib.pyplot as plt\n",
    "import seaborn as sns\n",
    "\n",
    "import tensorflow as tf\n",
    "\n",
    "import os\n",
    "\n",
    "from typing import Dict, List, Tuple, Sequence\n",
    "from sklearn.preprocessing import FunctionTransformer, MinMaxScaler, StandardScaler\n",
    "from sklearn.pipeline import make_pipeline\n",
    "from sklearn.preprocessing import StandardScaler"
   ]
  },
  {
   "cell_type": "markdown",
   "metadata": {},
   "source": [
    "# 1. Data Import & Cleaning"
   ]
  },
  {
   "cell_type": "code",
   "execution_count": 104,
   "metadata": {},
   "outputs": [
    {
     "data": {
      "text/plain": [
       "'/home/jupyter/powder_alert2.0'"
      ]
     },
     "execution_count": 104,
     "metadata": {},
     "output_type": "execute_result"
    }
   ],
   "source": [
    "current_dir = os.getcwd()\n",
    "current_dir"
   ]
  },
  {
   "cell_type": "code",
   "execution_count": 105,
   "metadata": {},
   "outputs": [
    {
     "data": {
      "text/plain": [
       "'/home/jupyter'"
      ]
     },
     "execution_count": 105,
     "metadata": {},
     "output_type": "execute_result"
    }
   ],
   "source": [
    "relative_path = os.path.dirname(current_dir)\n",
    "relative_path"
   ]
  },
  {
   "cell_type": "code",
   "execution_count": 106,
   "metadata": {},
   "outputs": [],
   "source": [
    "file_name = \"powder_alert2.0/preprocessed_historical_data.csv\"\n",
    "file_path = os.path.join(relative_path, file_name)\n",
    "\n",
    "df = pd.read_csv(file_path, parse_dates=['date'], usecols=lambda col: col != '')"
   ]
  },
  {
   "cell_type": "code",
   "execution_count": 107,
   "metadata": {},
   "outputs": [
    {
     "data": {
      "text/plain": [
       "Unnamed: 0                             int64\n",
       "date                          datetime64[ns]\n",
       "snowfall                             float64\n",
       "weather_code_encoded                 float64\n",
       "temperature_2m                       float64\n",
       "relative_humidity_2m                 float64\n",
       "dew_point_2m                         float64\n",
       "precipitation                        float64\n",
       "rain                                 float64\n",
       "snow_depth                           float64\n",
       "pressure_msl                         float64\n",
       "surface_pressure                     float64\n",
       "cloud_cover                          float64\n",
       "cloud_cover_low                      float64\n",
       "cloud_cover_mid                      float64\n",
       "cloud_cover_high                     float64\n",
       "et0_fao_evapotranspiration           float64\n",
       "vapour_pressure_deficit              float64\n",
       "wind_speed_10m                       float64\n",
       "wind_speed_100m                      float64\n",
       "wind_direction_10m                   float64\n",
       "wind_direction_100m                  float64\n",
       "wind_gusts_10m                       float64\n",
       "sunshine_duration                    float64\n",
       "hour_sin                             float64\n",
       "hour_cos                             float64\n",
       "day_of_week_sin                      float64\n",
       "day_of_week_cos                      float64\n",
       "month_sin                            float64\n",
       "month_cos                            float64\n",
       "dtype: object"
      ]
     },
     "execution_count": 107,
     "metadata": {},
     "output_type": "execute_result"
    }
   ],
   "source": [
    "df.dtypes"
   ]
  },
  {
   "cell_type": "code",
   "execution_count": 108,
   "metadata": {},
   "outputs": [],
   "source": [
    "if 'Unnamed: 0' in df.columns:\n",
    "    df = df.drop(columns=['Unnamed: 0'])"
   ]
  },
  {
   "cell_type": "code",
   "execution_count": 109,
   "metadata": {},
   "outputs": [
    {
     "data": {
      "text/plain": [
       "(131496, 29)"
      ]
     },
     "execution_count": 109,
     "metadata": {},
     "output_type": "execute_result"
    }
   ],
   "source": [
    "df.shape"
   ]
  },
  {
   "cell_type": "code",
   "execution_count": 110,
   "metadata": {},
   "outputs": [
    {
     "data": {
      "text/plain": [
       "Index(['date', 'snowfall', 'weather_code_encoded', 'temperature_2m',\n",
       "       'relative_humidity_2m', 'dew_point_2m', 'precipitation', 'rain',\n",
       "       'snow_depth', 'pressure_msl', 'surface_pressure', 'cloud_cover',\n",
       "       'cloud_cover_low', 'cloud_cover_mid', 'cloud_cover_high',\n",
       "       'et0_fao_evapotranspiration', 'vapour_pressure_deficit',\n",
       "       'wind_speed_10m', 'wind_speed_100m', 'wind_direction_10m',\n",
       "       'wind_direction_100m', 'wind_gusts_10m', 'sunshine_duration',\n",
       "       'hour_sin', 'hour_cos', 'day_of_week_sin', 'day_of_week_cos',\n",
       "       'month_sin', 'month_cos'],\n",
       "      dtype='object')"
      ]
     },
     "execution_count": 110,
     "metadata": {},
     "output_type": "execute_result"
    }
   ],
   "source": [
    "df.columns"
   ]
  },
  {
   "cell_type": "code",
   "execution_count": 111,
   "metadata": {},
   "outputs": [
    {
     "data": {
      "image/png": "[encoded data removed]",
      "text/plain": [
       "<Figure size 640x480 with 1 Axes>"
      ]
     },
     "metadata": {},
     "output_type": "display_data"
    }
   ],
   "source": [
    "df.plot(y='temperature_2m');"
   ]
  },
  {
   "cell_type": "markdown",
   "metadata": {},
   "source": [
    "# 2. Dataset"
   ]
  },
  {
   "cell_type": "code",
   "execution_count": 112,
   "metadata": {},
   "outputs": [],
   "source": [
    "target2 = \"temperature_2m\""
   ]
  },
  {
   "cell_type": "code",
   "execution_count": 113,
   "metadata": {},
   "outputs": [
    {
     "data": {
      "text/html": [
       "<div>\n",
       "<style scoped>\n",
       "    .dataframe tbody tr th:only-of-type {\n",
       "        vertical-align: middle;\n",
       "    }\n",
       "\n",
       "    .dataframe tbody tr th {\n",
       "        vertical-align: top;\n",
       "    }\n",
       "\n",
       "    .dataframe thead th {\n",
       "        text-align: right;\n",
       "    }\n",
       "</style>\n",
       "<table border=\"1\" class=\"dataframe\">\n",
       "  <thead>\n",
       "    <tr style=\"text-align: right;\">\n",
       "      <th></th>\n",
       "      <th>date</th>\n",
       "      <th>snowfall</th>\n",
       "      <th>weather_code_encoded</th>\n",
       "      <th>temperature_2m</th>\n",
       "      <th>relative_humidity_2m</th>\n",
       "      <th>dew_point_2m</th>\n",
       "      <th>precipitation</th>\n",
       "      <th>rain</th>\n",
       "      <th>snow_depth</th>\n",
       "      <th>pressure_msl</th>\n",
       "      <th>surface_pressure</th>\n",
       "      <th>cloud_cover</th>\n",
       "      <th>cloud_cover_low</th>\n",
       "      <th>cloud_cover_mid</th>\n",
       "      <th>cloud_cover_high</th>\n",
       "      <th>et0_fao_evapotranspiration</th>\n",
       "      <th>vapour_pressure_deficit</th>\n",
       "      <th>wind_speed_10m</th>\n",
       "      <th>wind_speed_100m</th>\n",
       "      <th>wind_direction_10m</th>\n",
       "      <th>wind_direction_100m</th>\n",
       "      <th>wind_gusts_10m</th>\n",
       "      <th>sunshine_duration</th>\n",
       "      <th>hour_sin</th>\n",
       "      <th>hour_cos</th>\n",
       "      <th>day_of_week_sin</th>\n",
       "      <th>day_of_week_cos</th>\n",
       "      <th>month_sin</th>\n",
       "      <th>month_cos</th>\n",
       "    </tr>\n",
       "  </thead>\n",
       "  <tbody>\n",
       "    <tr>\n",
       "      <th>0</th>\n",
       "      <td>2009-01-01 00:00:00</td>\n",
       "      <td>0.00</td>\n",
       "      <td>3.0</td>\n",
       "      <td>-1.565276</td>\n",
       "      <td>-0.359492</td>\n",
       "      <td>-1.676971</td>\n",
       "      <td>-0.389763</td>\n",
       "      <td>-0.272938</td>\n",
       "      <td>0.821605</td>\n",
       "      <td>0.915229</td>\n",
       "      <td>-0.344468</td>\n",
       "      <td>0.796798</td>\n",
       "      <td>-1.084686</td>\n",
       "      <td>1.525737</td>\n",
       "      <td>-0.266834</td>\n",
       "      <td>-0.609045</td>\n",
       "      <td>-0.468303</td>\n",
       "      <td>0.915814</td>\n",
       "      <td>0.615276</td>\n",
       "      <td>-0.038465</td>\n",
       "      <td>0.000227</td>\n",
       "      <td>0.164295</td>\n",
       "      <td>-0.722739</td>\n",
       "      <td>0.000000</td>\n",
       "      <td>1.000000</td>\n",
       "      <td>0.433884</td>\n",
       "      <td>-0.900969</td>\n",
       "      <td>0.0</td>\n",
       "      <td>1.0</td>\n",
       "    </tr>\n",
       "    <tr>\n",
       "      <th>1</th>\n",
       "      <td>2009-01-01 01:00:00</td>\n",
       "      <td>0.00</td>\n",
       "      <td>3.0</td>\n",
       "      <td>-1.541233</td>\n",
       "      <td>-0.304528</td>\n",
       "      <td>-1.632742</td>\n",
       "      <td>-0.389763</td>\n",
       "      <td>-0.272938</td>\n",
       "      <td>0.821605</td>\n",
       "      <td>0.915229</td>\n",
       "      <td>-0.327194</td>\n",
       "      <td>0.769715</td>\n",
       "      <td>-1.059035</td>\n",
       "      <td>1.525737</td>\n",
       "      <td>0.286362</td>\n",
       "      <td>-0.619531</td>\n",
       "      <td>-0.473445</td>\n",
       "      <td>0.465664</td>\n",
       "      <td>0.069724</td>\n",
       "      <td>-0.051303</td>\n",
       "      <td>0.052709</td>\n",
       "      <td>-0.149584</td>\n",
       "      <td>-0.722739</td>\n",
       "      <td>0.258819</td>\n",
       "      <td>0.965926</td>\n",
       "      <td>0.433884</td>\n",
       "      <td>-0.900969</td>\n",
       "      <td>0.0</td>\n",
       "      <td>1.0</td>\n",
       "    </tr>\n",
       "    <tr>\n",
       "      <th>2</th>\n",
       "      <td>2009-01-01 02:00:00</td>\n",
       "      <td>0.07</td>\n",
       "      <td>10.0</td>\n",
       "      <td>-1.523201</td>\n",
       "      <td>-0.267453</td>\n",
       "      <td>-1.601150</td>\n",
       "      <td>-0.191058</td>\n",
       "      <td>-0.272938</td>\n",
       "      <td>0.821605</td>\n",
       "      <td>0.890052</td>\n",
       "      <td>-0.333781</td>\n",
       "      <td>0.661382</td>\n",
       "      <td>-1.084686</td>\n",
       "      <td>1.367563</td>\n",
       "      <td>0.412089</td>\n",
       "      <td>-0.619531</td>\n",
       "      <td>-0.476742</td>\n",
       "      <td>0.184326</td>\n",
       "      <td>-0.303696</td>\n",
       "      <td>-0.036381</td>\n",
       "      <td>0.185151</td>\n",
       "      <td>-0.541932</td>\n",
       "      <td>-0.732331</td>\n",
       "      <td>0.500000</td>\n",
       "      <td>0.866025</td>\n",
       "      <td>0.433884</td>\n",
       "      <td>-0.900969</td>\n",
       "      <td>0.0</td>\n",
       "      <td>1.0</td>\n",
       "    </tr>\n",
       "  </tbody>\n",
       "</table>\n",
       "</div>"
      ],
      "text/plain": [
       "                 date  snowfall  weather_code_encoded  temperature_2m  \\\n",
       "0 2009-01-01 00:00:00      0.00                   3.0       -1.565276   \n",
       "1 2009-01-01 01:00:00      0.00                   3.0       -1.541233   \n",
       "2 2009-01-01 02:00:00      0.07                  10.0       -1.523201   \n",
       "\n",
       "   relative_humidity_2m  dew_point_2m  precipitation      rain  snow_depth  \\\n",
       "0             -0.359492     -1.676971      -0.389763 -0.272938    0.821605   \n",
       "1             -0.304528     -1.632742      -0.389763 -0.272938    0.821605   \n",
       "2             -0.267453     -1.601150      -0.191058 -0.272938    0.821605   \n",
       "\n",
       "   pressure_msl  surface_pressure  cloud_cover  cloud_cover_low  \\\n",
       "0      0.915229         -0.344468     0.796798        -1.084686   \n",
       "1      0.915229         -0.327194     0.769715        -1.059035   \n",
       "2      0.890052         -0.333781     0.661382        -1.084686   \n",
       "\n",
       "   cloud_cover_mid  cloud_cover_high  et0_fao_evapotranspiration  \\\n",
       "0         1.525737         -0.266834                   -0.609045   \n",
       "1         1.525737          0.286362                   -0.619531   \n",
       "2         1.367563          0.412089                   -0.619531   \n",
       "\n",
       "   vapour_pressure_deficit  wind_speed_10m  wind_speed_100m  \\\n",
       "0                -0.468303        0.915814         0.615276   \n",
       "1                -0.473445        0.465664         0.069724   \n",
       "2                -0.476742        0.184326        -0.303696   \n",
       "\n",
       "   wind_direction_10m  wind_direction_100m  wind_gusts_10m  sunshine_duration  \\\n",
       "0           -0.038465             0.000227        0.164295          -0.722739   \n",
       "1           -0.051303             0.052709       -0.149584          -0.722739   \n",
       "2           -0.036381             0.185151       -0.541932          -0.732331   \n",
       "\n",
       "   hour_sin  hour_cos  day_of_week_sin  day_of_week_cos  month_sin  month_cos  \n",
       "0  0.000000  1.000000         0.433884        -0.900969        0.0        1.0  \n",
       "1  0.258819  0.965926         0.433884        -0.900969        0.0        1.0  \n",
       "2  0.500000  0.866025         0.433884        -0.900969        0.0        1.0  "
      ]
     },
     "execution_count": 113,
     "metadata": {},
     "output_type": "execute_result"
    }
   ],
   "source": [
    "df.head(3)"
   ]
  },
  {
   "cell_type": "code",
   "execution_count": 114,
   "metadata": {},
   "outputs": [],
   "source": [
    "df = df.drop(columns='date')"
   ]
  },
  {
   "cell_type": "code",
   "execution_count": 115,
   "metadata": {},
   "outputs": [],
   "source": [
    "correlation_matrix = df[num_columns].corr()\n",
    "temperature_corr = correlation_matrix[target2]\n",
    "high_corr_features = temperature_corr[abs(temperature_corr) > 0.55]\n",
    "relevant_features = high_corr_features.index.tolist()\n",
    "features = [col for col in relevant_features if col in df.columns and col != 'weather_code']\n",
    "# df = df[features]"
   ]
  },
  {
   "cell_type": "code",
   "execution_count": 116,
   "metadata": {},
   "outputs": [
    {
     "data": {
      "text/plain": [
       "(131496, 28)"
      ]
     },
     "execution_count": 116,
     "metadata": {},
     "output_type": "execute_result"
    }
   ],
   "source": [
    "df.shape"
   ]
  },
  {
   "cell_type": "code",
   "execution_count": 117,
   "metadata": {},
   "outputs": [
    {
     "data": {
      "text/html": [
       "<div>\n",
       "<style scoped>\n",
       "    .dataframe tbody tr th:only-of-type {\n",
       "        vertical-align: middle;\n",
       "    }\n",
       "\n",
       "    .dataframe tbody tr th {\n",
       "        vertical-align: top;\n",
       "    }\n",
       "\n",
       "    .dataframe thead th {\n",
       "        text-align: right;\n",
       "    }\n",
       "</style>\n",
       "<table border=\"1\" class=\"dataframe\">\n",
       "  <thead>\n",
       "    <tr style=\"text-align: right;\">\n",
       "      <th></th>\n",
       "      <th>snowfall</th>\n",
       "      <th>weather_code_encoded</th>\n",
       "      <th>temperature_2m</th>\n",
       "      <th>relative_humidity_2m</th>\n",
       "      <th>dew_point_2m</th>\n",
       "      <th>precipitation</th>\n",
       "      <th>rain</th>\n",
       "      <th>snow_depth</th>\n",
       "      <th>pressure_msl</th>\n",
       "      <th>surface_pressure</th>\n",
       "      <th>cloud_cover</th>\n",
       "      <th>cloud_cover_low</th>\n",
       "      <th>cloud_cover_mid</th>\n",
       "      <th>cloud_cover_high</th>\n",
       "      <th>et0_fao_evapotranspiration</th>\n",
       "      <th>vapour_pressure_deficit</th>\n",
       "      <th>wind_speed_10m</th>\n",
       "      <th>wind_speed_100m</th>\n",
       "      <th>wind_direction_10m</th>\n",
       "      <th>wind_direction_100m</th>\n",
       "      <th>wind_gusts_10m</th>\n",
       "      <th>sunshine_duration</th>\n",
       "      <th>hour_sin</th>\n",
       "      <th>hour_cos</th>\n",
       "      <th>day_of_week_sin</th>\n",
       "      <th>day_of_week_cos</th>\n",
       "      <th>month_sin</th>\n",
       "      <th>month_cos</th>\n",
       "    </tr>\n",
       "  </thead>\n",
       "  <tbody>\n",
       "    <tr>\n",
       "      <th>0</th>\n",
       "      <td>0.00</td>\n",
       "      <td>3.0</td>\n",
       "      <td>-1.565276</td>\n",
       "      <td>-0.359492</td>\n",
       "      <td>-1.676971</td>\n",
       "      <td>-0.389763</td>\n",
       "      <td>-0.272938</td>\n",
       "      <td>0.821605</td>\n",
       "      <td>0.915229</td>\n",
       "      <td>-0.344468</td>\n",
       "      <td>0.796798</td>\n",
       "      <td>-1.084686</td>\n",
       "      <td>1.525737</td>\n",
       "      <td>-0.266834</td>\n",
       "      <td>-0.609045</td>\n",
       "      <td>-0.468303</td>\n",
       "      <td>0.915814</td>\n",
       "      <td>0.615276</td>\n",
       "      <td>-0.038465</td>\n",
       "      <td>0.000227</td>\n",
       "      <td>0.164295</td>\n",
       "      <td>-0.722739</td>\n",
       "      <td>0.000000</td>\n",
       "      <td>1.000000</td>\n",
       "      <td>0.433884</td>\n",
       "      <td>-0.900969</td>\n",
       "      <td>0.0</td>\n",
       "      <td>1.0</td>\n",
       "    </tr>\n",
       "    <tr>\n",
       "      <th>1</th>\n",
       "      <td>0.00</td>\n",
       "      <td>3.0</td>\n",
       "      <td>-1.541233</td>\n",
       "      <td>-0.304528</td>\n",
       "      <td>-1.632742</td>\n",
       "      <td>-0.389763</td>\n",
       "      <td>-0.272938</td>\n",
       "      <td>0.821605</td>\n",
       "      <td>0.915229</td>\n",
       "      <td>-0.327194</td>\n",
       "      <td>0.769715</td>\n",
       "      <td>-1.059035</td>\n",
       "      <td>1.525737</td>\n",
       "      <td>0.286362</td>\n",
       "      <td>-0.619531</td>\n",
       "      <td>-0.473445</td>\n",
       "      <td>0.465664</td>\n",
       "      <td>0.069724</td>\n",
       "      <td>-0.051303</td>\n",
       "      <td>0.052709</td>\n",
       "      <td>-0.149584</td>\n",
       "      <td>-0.722739</td>\n",
       "      <td>0.258819</td>\n",
       "      <td>0.965926</td>\n",
       "      <td>0.433884</td>\n",
       "      <td>-0.900969</td>\n",
       "      <td>0.0</td>\n",
       "      <td>1.0</td>\n",
       "    </tr>\n",
       "    <tr>\n",
       "      <th>2</th>\n",
       "      <td>0.07</td>\n",
       "      <td>10.0</td>\n",
       "      <td>-1.523201</td>\n",
       "      <td>-0.267453</td>\n",
       "      <td>-1.601150</td>\n",
       "      <td>-0.191058</td>\n",
       "      <td>-0.272938</td>\n",
       "      <td>0.821605</td>\n",
       "      <td>0.890052</td>\n",
       "      <td>-0.333781</td>\n",
       "      <td>0.661382</td>\n",
       "      <td>-1.084686</td>\n",
       "      <td>1.367563</td>\n",
       "      <td>0.412089</td>\n",
       "      <td>-0.619531</td>\n",
       "      <td>-0.476742</td>\n",
       "      <td>0.184326</td>\n",
       "      <td>-0.303696</td>\n",
       "      <td>-0.036381</td>\n",
       "      <td>0.185151</td>\n",
       "      <td>-0.541932</td>\n",
       "      <td>-0.732331</td>\n",
       "      <td>0.500000</td>\n",
       "      <td>0.866025</td>\n",
       "      <td>0.433884</td>\n",
       "      <td>-0.900969</td>\n",
       "      <td>0.0</td>\n",
       "      <td>1.0</td>\n",
       "    </tr>\n",
       "  </tbody>\n",
       "</table>\n",
       "</div>"
      ],
      "text/plain": [
       "   snowfall  weather_code_encoded  temperature_2m  relative_humidity_2m  \\\n",
       "0      0.00                   3.0       -1.565276             -0.359492   \n",
       "1      0.00                   3.0       -1.541233             -0.304528   \n",
       "2      0.07                  10.0       -1.523201             -0.267453   \n",
       "\n",
       "   dew_point_2m  precipitation      rain  snow_depth  pressure_msl  \\\n",
       "0     -1.676971      -0.389763 -0.272938    0.821605      0.915229   \n",
       "1     -1.632742      -0.389763 -0.272938    0.821605      0.915229   \n",
       "2     -1.601150      -0.191058 -0.272938    0.821605      0.890052   \n",
       "\n",
       "   surface_pressure  cloud_cover  cloud_cover_low  cloud_cover_mid  \\\n",
       "0         -0.344468     0.796798        -1.084686         1.525737   \n",
       "1         -0.327194     0.769715        -1.059035         1.525737   \n",
       "2         -0.333781     0.661382        -1.084686         1.367563   \n",
       "\n",
       "   cloud_cover_high  et0_fao_evapotranspiration  vapour_pressure_deficit  \\\n",
       "0         -0.266834                   -0.609045                -0.468303   \n",
       "1          0.286362                   -0.619531                -0.473445   \n",
       "2          0.412089                   -0.619531                -0.476742   \n",
       "\n",
       "   wind_speed_10m  wind_speed_100m  wind_direction_10m  wind_direction_100m  \\\n",
       "0        0.915814         0.615276           -0.038465             0.000227   \n",
       "1        0.465664         0.069724           -0.051303             0.052709   \n",
       "2        0.184326        -0.303696           -0.036381             0.185151   \n",
       "\n",
       "   wind_gusts_10m  sunshine_duration  hour_sin  hour_cos  day_of_week_sin  \\\n",
       "0        0.164295          -0.722739  0.000000  1.000000         0.433884   \n",
       "1       -0.149584          -0.722739  0.258819  0.965926         0.433884   \n",
       "2       -0.541932          -0.732331  0.500000  0.866025         0.433884   \n",
       "\n",
       "   day_of_week_cos  month_sin  month_cos  \n",
       "0        -0.900969        0.0        1.0  \n",
       "1        -0.900969        0.0        1.0  \n",
       "2        -0.900969        0.0        1.0  "
      ]
     },
     "execution_count": 117,
     "metadata": {},
     "output_type": "execute_result"
    }
   ],
   "source": [
    "df.head(3)"
   ]
  },
  {
   "cell_type": "markdown",
   "metadata": {},
   "source": [
    "# 3. Folds"
   ]
  },
  {
   "cell_type": "code",
   "execution_count": 118,
   "metadata": {},
   "outputs": [
    {
     "name": "stdout",
     "output_type": "stream",
     "text": [
      "DS includes 131496 rows --> hours\n",
      "DS includes 5479.0 --> days\n",
      "DS includes 782.7142857142857 --> weeks\n",
      "DS includes 195.67857142857142 --> months\n",
      "DS includes 16.306547619047617 --> years\n"
     ]
    }
   ],
   "source": [
    "rows = df.shape[0]\n",
    "days = rows/24\n",
    "weeks = days/7\n",
    "months = weeks/4\n",
    "years = months/ 12\n",
    "print(f'DS includes {rows} rows --> hours')\n",
    "print(f'DS includes {days} --> days')\n",
    "print(f'DS includes {weeks} --> weeks')\n",
    "print(f'DS includes {months} --> months')\n",
    "print(f'DS includes {years} --> years')"
   ]
  },
  {
   "cell_type": "code",
   "execution_count": 119,
   "metadata": {},
   "outputs": [],
   "source": [
    "FOLD_LENGTH = df.shape[0] # each fold will have the whole dataset --> only 1 fold in this model\n",
    "FOLD_STRIDE = 1 # sliding only on hour\n",
    "# Temporal Train-Test split\n",
    "TRAIN_TEST_RATIO = 0.66\n",
    "split_index = int(df.shape[0] * TRAIN_TEST_RATIO)\n",
    "# Inputs\n",
    "N_FEATURES = df.shape[1]\n",
    "INPUT_LENGTH = 48 # 48 hours input = forecast the upcooming 48 hours\n",
    "# Outputs\n",
    "TARGET = target2\n",
    "N_TARGETS = 1\n",
    "OUTPUT_LENGTH = N_TARGETS * 48 # - Predicting one target, the temperature - for two days with predictions every hour\n",
    "# Additional parameters\n",
    "HORIZON = 1 # - We are predicting next two days\n",
    "TARGET_COLUMN_IDX = df.columns.get_loc(target2)"
   ]
  },
  {
   "cell_type": "code",
   "execution_count": 120,
   "metadata": {},
   "outputs": [],
   "source": [
    "def get_folds(\n",
    "    df: pd.DataFrame,\n",
    "    fold_length: int,\n",
    "    fold_stride: int) -> List[pd.DataFrame]:\n",
    "    '''\n",
    "    This function slides through the Time Series dataframe of shape (n_timesteps, n_features) to create folds\n",
    "    - of equal `fold_length`\n",
    "    - using `fold_stride` between each fold\n",
    "\n",
    "    Returns a list of folds, each as a DataFrame\n",
    "    '''\n",
    "\n",
    "    folds = []\n",
    "    for idx in range(0, len(df), fold_stride):\n",
    "        # Exits the loop as soon as the last fold index would exceed the last index\n",
    "        if (idx + fold_length) > len(df):\n",
    "            break\n",
    "        fold = df.iloc[idx:idx + fold_length, :]\n",
    "        folds.append(fold)\n",
    "    return folds"
   ]
  },
  {
   "cell_type": "code",
   "execution_count": 121,
   "metadata": {},
   "outputs": [
    {
     "name": "stdout",
     "output_type": "stream",
     "text": [
      "The function generated 1 folds.\n",
      "Each fold has a shape equal to (131496, 28).\n"
     ]
    }
   ],
   "source": [
    "folds = get_folds(df, FOLD_LENGTH, FOLD_STRIDE)\n",
    "\n",
    "print(f'The function generated {len(folds)} folds.')\n",
    "print(f'Each fold has a shape equal to {folds[0].shape}.')"
   ]
  },
  {
   "cell_type": "code",
   "execution_count": 122,
   "metadata": {},
   "outputs": [],
   "source": [
    "fold = folds[0]"
   ]
  },
  {
   "cell_type": "code",
   "execution_count": 123,
   "metadata": {},
   "outputs": [
    {
     "data": {
      "text/plain": [
       "(131496, 28)"
      ]
     },
     "execution_count": 123,
     "metadata": {},
     "output_type": "execute_result"
    }
   ],
   "source": [
    "fold.shape"
   ]
  },
  {
   "cell_type": "markdown",
   "metadata": {},
   "source": [
    "# 4. Creating Sequences"
   ]
  },
  {
   "cell_type": "code",
   "execution_count": 124,
   "metadata": {},
   "outputs": [],
   "source": [
    "def train_test_split(fold: pd.DataFrame,\n",
    "                     train_test_ratio: float,\n",
    "                     input_length: int,\n",
    "                     horizon: int) -> Tuple[pd.DataFrame]:\n",
    "    '''\n",
    "    Returns a train dataframe and a test dataframe (fold_train, fold_test)\n",
    "    from which one can sample (X,y) sequences.\n",
    "    df_train should contain all the timesteps until round(train_test_ratio * len(fold))\n",
    "    '''\n",
    "\n",
    "    # TRAIN SET\n",
    "    # ======================\n",
    "    last_train_idx = round(train_test_ratio * len(fold))\n",
    "    fold_train = fold.iloc[0:last_train_idx, :]\n",
    "\n",
    "    # TEST SET\n",
    "    # ======================\n",
    "    first_test_idx = last_train_idx - input_length\n",
    "    fold_test = fold.iloc[first_test_idx:, :]\n",
    "\n",
    "    return (fold_train, fold_test)"
   ]
  },
  {
   "cell_type": "code",
   "execution_count": 125,
   "metadata": {},
   "outputs": [],
   "source": [
    "fold_train = df.iloc[:split_index]\n",
    "fold_test = df.iloc[split_index:]"
   ]
  },
  {
   "cell_type": "code",
   "execution_count": 126,
   "metadata": {},
   "outputs": [
    {
     "data": {
      "text/plain": [
       "((86787, 28), (44709, 28))"
      ]
     },
     "execution_count": 126,
     "metadata": {},
     "output_type": "execute_result"
    }
   ],
   "source": [
    "fold_train.shape, fold_test.shape"
   ]
  },
  {
   "cell_type": "code",
   "execution_count": 127,
   "metadata": {},
   "outputs": [
    {
     "data": {
      "text/plain": [
       "0"
      ]
     },
     "execution_count": 127,
     "metadata": {},
     "output_type": "execute_result"
    }
   ],
   "source": [
    "fold_train.index[0]"
   ]
  },
  {
   "cell_type": "code",
   "execution_count": 128,
   "metadata": {},
   "outputs": [
    {
     "name": "stdout",
     "output_type": "stream",
     "text": [
      "##### INPUTS #####\n",
      "- INPUT_LENGTH = 48 timesteps = 2 days = 0 weeks\n",
      "- N_FEATURES = 28\n",
      "##### OUTPUTS #####\n",
      "- OUTPUT_LENGTH = 48 timesteps = 2 day(s)\n",
      "- N_TARGETS = 1\n",
      "##### PARAMETERS #####\n",
      "- HORIZON = 1 timesteps = 0 day(s)\n",
      "##### TRAIN SET #####\n",
      "- The training fold starts at index 0 and stops at index 86786.\n",
      "##### TEST SET #####\n",
      "- The test fold starts at index 86787 and stops at index 131495.\n"
     ]
    }
   ],
   "source": [
    "# Inputs\n",
    "print(\"##### INPUTS #####\")\n",
    "print(f'- INPUT_LENGTH = {INPUT_LENGTH} timesteps = {int(INPUT_LENGTH/24)} days = {int(INPUT_LENGTH/24/7)} weeks')\n",
    "print(f'- N_FEATURES = {N_FEATURES}')\n",
    "# Outputs\n",
    "print(\"##### OUTPUTS #####\")\n",
    "print(f'- OUTPUT_LENGTH = {OUTPUT_LENGTH} timesteps = {int(OUTPUT_LENGTH/24)} day(s)')\n",
    "print(f'- N_TARGETS = {N_TARGETS}')\n",
    "# Parameters\n",
    "print(\"##### PARAMETERS #####\")\n",
    "print(f'- HORIZON = {HORIZON} timesteps = {int(HORIZON/24)} day(s)')\n",
    "# Train\n",
    "print(\"##### TRAIN SET #####\")\n",
    "print(f\"- The training fold starts at index {fold_train.index[0]} and stops at index {fold_train.index[-1]}.\")\n",
    "# Test\n",
    "print(\"##### TEST SET #####\")\n",
    "print(f\"- The test fold starts at index {fold_test.index[0]} and stops at index {fold_test.index[-1]}.\")"
   ]
  },
  {
   "cell_type": "code",
   "execution_count": 129,
   "metadata": {},
   "outputs": [
    {
     "name": "stdout",
     "output_type": "stream",
     "text": [
      "STRIDE = 1 timesteps = 0 day(s)\n"
     ]
    }
   ],
   "source": [
    "# New: Scanning  through a fold\n",
    "STRIDE = 1 # sliding every day, for instance\n",
    "print(f'STRIDE = {STRIDE} timesteps = {int(STRIDE/24)} day(s)')"
   ]
  },
  {
   "cell_type": "code",
   "execution_count": 130,
   "metadata": {},
   "outputs": [],
   "source": [
    "def get_Xi_yi(first_index: int,\n",
    "              fold: pd.DataFrame,\n",
    "              horizon: int,\n",
    "              input_length: int,\n",
    "              output_length: int) -> Tuple[np.ndarray, np.ndarray]:\n",
    "    '''\n",
    "    - extracts one sequence from a fold\n",
    "    - returns a pair (Xi, yi) with:\n",
    "        * len(Xi) = `input_length` and Xi starting at first_index\n",
    "        * len(yi) = `output_length`\n",
    "        * last_Xi and first_yi separated by the gap = horizon -1\n",
    "    '''\n",
    "\n",
    "    Xi_start = first_index\n",
    "    Xi_last = Xi_start + input_length\n",
    "    yi_start = Xi_last + horizon - 1\n",
    "    yi_last = yi_start + output_length\n",
    "\n",
    "    Xi = fold[Xi_start:Xi_last]\n",
    "    yi = fold[yi_start:yi_last][TARGET]\n",
    "\n",
    "    return (Xi, yi)"
   ]
  },
  {
   "cell_type": "code",
   "execution_count": 131,
   "metadata": {},
   "outputs": [],
   "source": [
    "def get_X_y(fold: pd.DataFrame,\n",
    "            horizon: int,\n",
    "            input_length: int,\n",
    "            output_length: int,\n",
    "            stride: int,\n",
    "            shuffle=False) -> Tuple[np.ndarray, np.ndarray]:\n",
    "    \"\"\"\n",
    "    - Uses `data`, a 2D-array with axis=0 for timesteps, and axis=1 for (targets+covariates columns)\n",
    "    - Returns a Tuple (X,y) of two ndarrays :\n",
    "        * X.shape = (n_samples, input_length, n_covariates)\n",
    "        * y.shape =\n",
    "            (n_samples, output_length, n_targets) if all 3-dimensions are of size > 1\n",
    "            (n_samples, output_length) if n_targets == 1\n",
    "            (n_samples, n_targets) if output_length == 1\n",
    "            (n_samples, ) if both n_targets and lenghts == 1\n",
    "    - You can shuffle the pairs (Xi,yi) of your fold\n",
    "    \"\"\"\n",
    "\n",
    "    X = []\n",
    "    y = []\n",
    "\n",
    "    for i in range(0, len(fold), stride):\n",
    "        ## Extracting a sequence starting at index_i\n",
    "        Xi, yi = get_Xi_yi(first_index=i,\n",
    "                           fold=fold,\n",
    "                           horizon=horizon,\n",
    "                           input_length=input_length,\n",
    "                           output_length=output_length)\n",
    "        ## Exits loop as soon as we reach the end of the dataset\n",
    "        if len(yi) < output_length:\n",
    "            break\n",
    "        X.append(Xi)\n",
    "        y.append(yi)\n",
    "\n",
    "    X = np.array(X)\n",
    "    y = np.array(y)\n",
    "    y = np.squeeze(y)\n",
    "\n",
    "    if shuffle:\n",
    "        idx = np.arange(len(X))\n",
    "        np.random.shuffle(idx)\n",
    "        X = X[idx]\n",
    "        y = y[idx]\n",
    "\n",
    "    return X, y"
   ]
  },
  {
   "cell_type": "code",
   "execution_count": 132,
   "metadata": {},
   "outputs": [
    {
     "name": "stdout",
     "output_type": "stream",
     "text": [
      "Shapes for the training set:\n",
      "X_train.shape = (86692, 48, 28), y_train.shape = (86692, 48)\n",
      "Shapes for the test set:\n",
      "X_test.shape = (44614, 48, 28), y_test.shape = (44614, 48)\n"
     ]
    }
   ],
   "source": [
    "X_train, y_train = get_X_y(fold=fold_train,\n",
    "                           horizon=HORIZON,\n",
    "                           input_length=INPUT_LENGTH,\n",
    "                           output_length=OUTPUT_LENGTH,\n",
    "                           stride=STRIDE)\n",
    "X_test, y_test = get_X_y(fold=fold_test,\n",
    "                         horizon=HORIZON,\n",
    "                         input_length=INPUT_LENGTH,\n",
    "                         output_length=OUTPUT_LENGTH,\n",
    "                         stride=STRIDE)\n",
    "\n",
    "print(\"Shapes for the training set:\")\n",
    "print(f\"X_train.shape = {X_train.shape}, y_train.shape = {y_train.shape}\")\n",
    "\n",
    "print(\"Shapes for the test set:\")\n",
    "print(f\"X_test.shape = {X_test.shape}, y_test.shape = {y_test.shape}\")"
   ]
  },
  {
   "cell_type": "markdown",
   "metadata": {},
   "source": [
    "# 5. Modelling"
   ]
  },
  {
   "cell_type": "markdown",
   "metadata": {},
   "source": [
    "## 5.1 Main Model"
   ]
  },
  {
   "cell_type": "code",
   "execution_count": 133,
   "metadata": {
    "scrolled": true
   },
   "outputs": [],
   "source": [
    "from tensorflow.keras import models\n",
    "from tensorflow.keras import layers\n",
    "from tensorflow.keras import optimizers, metrics\n",
    "from tensorflow.keras.layers import Normalization, BatchNormalization\n",
    "from tensorflow.keras import regularizers\n",
    "from tensorflow.keras.optimizers.schedules import ExponentialDecay\n",
    "from tensorflow.keras.optimizers import Adam\n",
    "from sklearn.model_selection import GridSearchCV\n",
    "\n",
    "def init_model(X_train):\n",
    "    reg_l2 = regularizers.L2(0.1)\n",
    "\n",
    "    #========================================================================================\n",
    "\n",
    "    # 1 - RNN architecture\n",
    "    model = models.Sequential()\n",
    "    model.add(layers.Input(shape=(X_train.shape[1], X_train.shape[2])))\n",
    "\n",
    "    # Recurrent Layer\n",
    "    model.add(layers.LSTM(units=32, activation='tanh',return_sequences=True,\n",
    "                        #   recurrent_dropout=0.3,dropout=0.3\n",
    "                        )\n",
    "                          )\n",
    "\n",
    "    # Hidden Dense Layer that we are regularizing\n",
    "    model.add(layers.Dense(16, activation=\"relu\",\n",
    "                        #    kernel_regularizer = reg_l2\n",
    "                        )\n",
    "                           )\n",
    "    # model.add(layers.Dropout(rate=0.3))\n",
    "\n",
    "    # Predictive Dense Layer\n",
    "    model.add(layers.Dense(1, activation='linear'))\n",
    "\n",
    "    #========================================================================================\n",
    "\n",
    "    # 2 - Compiler\n",
    "    optimizer = Adam(learning_rate=0.0001)\n",
    "    model.compile(loss='mse', optimizer=optimizer, metrics=[\"mae\"])\n",
    "\n",
    "    return model"
   ]
  },
  {
   "cell_type": "code",
   "execution_count": 134,
   "metadata": {},
   "outputs": [],
   "source": [
    "from tensorflow.keras.callbacks import EarlyStopping, ModelCheckpoint, ReduceLROnPlateau, ModelCheckpoint\n",
    "\n",
    "def fit_model(model: tf.keras.Model, verbose=1) -> Tuple[tf.keras.Model, dict]:\n",
    "\n",
    "    es = EarlyStopping(\n",
    "        monitor=\"val_mae\",\n",
    "        patience=10,\n",
    "        mode=\"min\",\n",
    "        restore_best_weights=True)\n",
    "\n",
    "    reduce_lr = ReduceLROnPlateau(\n",
    "        monitor='val_mae',\n",
    "        factor=0.1,\n",
    "        patience=5,\n",
    "        min_lr=1e-6)\n",
    "\n",
    "    checkpoint = ModelCheckpoint(\n",
    "        'model_v1_best.keras', \n",
    "        monitor='val_mae',\n",
    "        save_best_only=True,\n",
    "        mode='min', \n",
    "        verbose=1)\n",
    "\n",
    "    history = model.fit(\n",
    "        X_train,\n",
    "        y_train,\n",
    "        validation_split=0.3,\n",
    "        shuffle=False,\n",
    "        batch_size=128,\n",
    "        epochs=100,\n",
    "        callbacks=[es, reduce_lr, checkpoint],\n",
    "        verbose=verbose)\n",
    "\n",
    "    return model, history"
   ]
  },
  {
   "cell_type": "code",
   "execution_count": 135,
   "metadata": {
    "jupyter": {
     "source_hidden": true
    }
   },
   "outputs": [],
   "source": [
    "def plot_history(history):\n",
    "\n",
    "    fig, ax = plt.subplots(1,2, figsize=(20,7))\n",
    "    # --- LOSS: MSE ---\n",
    "    ax[0].plot(history.history['loss'])\n",
    "    ax[0].plot(history.history['val_loss'])\n",
    "    ax[0].set_title('MSE')\n",
    "    ax[0].set_ylabel('Loss')\n",
    "    ax[0].set_xlabel('Epoch')\n",
    "    ax[0].legend(['Train', 'Validation'], loc='best')\n",
    "    ax[0].grid(axis=\"x\",linewidth=0.5)\n",
    "    ax[0].grid(axis=\"y\",linewidth=0.5)\n",
    "\n",
    "    # --- METRICS:MAE ---\n",
    "\n",
    "    ax[1].plot(history.history['mae'])\n",
    "    ax[1].plot(history.history['val_mae'])\n",
    "    ax[1].set_title('MAE')\n",
    "    ax[1].set_ylabel('MAE')\n",
    "    ax[1].set_xlabel('Epoch')\n",
    "    ax[1].legend(['Train', 'Validation'], loc='best')\n",
    "    ax[1].grid(axis=\"x\",linewidth=0.5)\n",
    "    ax[1].grid(axis=\"y\",linewidth=0.5)\n",
    "\n",
    "    return ax"
   ]
  },
  {
   "cell_type": "code",
   "execution_count": 136,
   "metadata": {},
   "outputs": [
    {
     "data": {
      "text/html": [
       "<pre style=\"white-space:pre;overflow-x:auto;line-height:normal;font-family:Menlo,'DejaVu Sans Mono',consolas,'Courier New',monospace\"><span style=\"font-weight: bold\">Model: \"sequential_1\"</span>\n",
       "</pre>\n"
      ],
      "text/plain": [
       "\u001b[1mModel: \"sequential_1\"\u001b[0m\n"
      ]
     },
     "metadata": {},
     "output_type": "display_data"
    },
    {
     "data": {
      "text/html": [
       "<pre style=\"white-space:pre;overflow-x:auto;line-height:normal;font-family:Menlo,'DejaVu Sans Mono',consolas,'Courier New',monospace\">┏━━━━━━━━━━━━━━━━━━━━━━━━━━━━━━━━━┳━━━━━━━━━━━━━━━━━━━━━━━━┳━━━━━━━━━━━━━━━┓\n",
       "┃<span style=\"font-weight: bold\"> Layer (type)                    </span>┃<span style=\"font-weight: bold\"> Output Shape           </span>┃<span style=\"font-weight: bold\">       Param # </span>┃\n",
       "┡━━━━━━━━━━━━━━━━━━━━━━━━━━━━━━━━━╇━━━━━━━━━━━━━━━━━━━━━━━━╇━━━━━━━━━━━━━━━┩\n",
       "│ lstm_1 (<span style=\"color: #0087ff; text-decoration-color: #0087ff\">LSTM</span>)                   │ (<span style=\"color: #00d7ff; text-decoration-color: #00d7ff\">None</span>, <span style=\"color: #00af00; text-decoration-color: #00af00\">48</span>, <span style=\"color: #00af00; text-decoration-color: #00af00\">32</span>)         │         <span style=\"color: #00af00; text-decoration-color: #00af00\">7,808</span> │\n",
       "├─────────────────────────────────┼────────────────────────┼───────────────┤\n",
       "│ dense_2 (<span style=\"color: #0087ff; text-decoration-color: #0087ff\">Dense</span>)                 │ (<span style=\"color: #00d7ff; text-decoration-color: #00d7ff\">None</span>, <span style=\"color: #00af00; text-decoration-color: #00af00\">48</span>, <span style=\"color: #00af00; text-decoration-color: #00af00\">16</span>)         │           <span style=\"color: #00af00; text-decoration-color: #00af00\">528</span> │\n",
       "├─────────────────────────────────┼────────────────────────┼───────────────┤\n",
       "│ dense_3 (<span style=\"color: #0087ff; text-decoration-color: #0087ff\">Dense</span>)                 │ (<span style=\"color: #00d7ff; text-decoration-color: #00d7ff\">None</span>, <span style=\"color: #00af00; text-decoration-color: #00af00\">48</span>, <span style=\"color: #00af00; text-decoration-color: #00af00\">1</span>)          │            <span style=\"color: #00af00; text-decoration-color: #00af00\">17</span> │\n",
       "└─────────────────────────────────┴────────────────────────┴───────────────┘\n",
       "</pre>\n"
      ],
      "text/plain": [
       "┏━━━━━━━━━━━━━━━━━━━━━━━━━━━━━━━━━┳━━━━━━━━━━━━━━━━━━━━━━━━┳━━━━━━━━━━━━━━━┓\n",
       "┃\u001b[1m \u001b[0m\u001b[1mLayer (type)                   \u001b[0m\u001b[1m \u001b[0m┃\u001b[1m \u001b[0m\u001b[1mOutput Shape          \u001b[0m\u001b[1m \u001b[0m┃\u001b[1m \u001b[0m\u001b[1m      Param #\u001b[0m\u001b[1m \u001b[0m┃\n",
       "┡━━━━━━━━━━━━━━━━━━━━━━━━━━━━━━━━━╇━━━━━━━━━━━━━━━━━━━━━━━━╇━━━━━━━━━━━━━━━┩\n",
       "│ lstm_1 (\u001b[38;5;33mLSTM\u001b[0m)                   │ (\u001b[38;5;45mNone\u001b[0m, \u001b[38;5;34m48\u001b[0m, \u001b[38;5;34m32\u001b[0m)         │         \u001b[38;5;34m7,808\u001b[0m │\n",
       "├─────────────────────────────────┼────────────────────────┼───────────────┤\n",
       "│ dense_2 (\u001b[38;5;33mDense\u001b[0m)                 │ (\u001b[38;5;45mNone\u001b[0m, \u001b[38;5;34m48\u001b[0m, \u001b[38;5;34m16\u001b[0m)         │           \u001b[38;5;34m528\u001b[0m │\n",
       "├─────────────────────────────────┼────────────────────────┼───────────────┤\n",
       "│ dense_3 (\u001b[38;5;33mDense\u001b[0m)                 │ (\u001b[38;5;45mNone\u001b[0m, \u001b[38;5;34m48\u001b[0m, \u001b[38;5;34m1\u001b[0m)          │            \u001b[38;5;34m17\u001b[0m │\n",
       "└─────────────────────────────────┴────────────────────────┴───────────────┘\n"
      ]
     },
     "metadata": {},
     "output_type": "display_data"
    },
    {
     "data": {
      "text/html": [
       "<pre style=\"white-space:pre;overflow-x:auto;line-height:normal;font-family:Menlo,'DejaVu Sans Mono',consolas,'Courier New',monospace\"><span style=\"font-weight: bold\"> Total params: </span><span style=\"color: #00af00; text-decoration-color: #00af00\">8,353</span> (32.63 KB)\n",
       "</pre>\n"
      ],
      "text/plain": [
       "\u001b[1m Total params: \u001b[0m\u001b[38;5;34m8,353\u001b[0m (32.63 KB)\n"
      ]
     },
     "metadata": {},
     "output_type": "display_data"
    },
    {
     "data": {
      "text/html": [
       "<pre style=\"white-space:pre;overflow-x:auto;line-height:normal;font-family:Menlo,'DejaVu Sans Mono',consolas,'Courier New',monospace\"><span style=\"font-weight: bold\"> Trainable params: </span><span style=\"color: #00af00; text-decoration-color: #00af00\">8,353</span> (32.63 KB)\n",
       "</pre>\n"
      ],
      "text/plain": [
       "\u001b[1m Trainable params: \u001b[0m\u001b[38;5;34m8,353\u001b[0m (32.63 KB)\n"
      ]
     },
     "metadata": {},
     "output_type": "display_data"
    },
    {
     "data": {
      "text/html": [
       "<pre style=\"white-space:pre;overflow-x:auto;line-height:normal;font-family:Menlo,'DejaVu Sans Mono',consolas,'Courier New',monospace\"><span style=\"font-weight: bold\"> Non-trainable params: </span><span style=\"color: #00af00; text-decoration-color: #00af00\">0</span> (0.00 B)\n",
       "</pre>\n"
      ],
      "text/plain": [
       "\u001b[1m Non-trainable params: \u001b[0m\u001b[38;5;34m0\u001b[0m (0.00 B)\n"
      ]
     },
     "metadata": {},
     "output_type": "display_data"
    }
   ],
   "source": [
    "model = init_model(X_train)\n",
    "model.summary()"
   ]
  },
  {
   "cell_type": "code",
   "execution_count": 137,
   "metadata": {},
   "outputs": [
    {
     "name": "stdout",
     "output_type": "stream",
     "text": [
      "Epoch 1/100\n",
      "\u001b[1m475/475\u001b[0m \u001b[32m━━━━━━━━━━━━━━━━━━━━\u001b[0m\u001b[37m\u001b[0m \u001b[1m0s\u001b[0m 24ms/step - loss: 1.0601 - mae: 0.8175\n",
      "Epoch 1: val_mae improved from inf to 0.48550, saving model to model_v1_best.keras\n",
      "\u001b[1m475/475\u001b[0m \u001b[32m━━━━━━━━━━━━━━━━━━━━\u001b[0m\u001b[37m\u001b[0m \u001b[1m17s\u001b[0m 30ms/step - loss: 1.0594 - mae: 0.8172 - val_loss: 0.4026 - val_mae: 0.4855 - learning_rate: 1.0000e-04\n",
      "Epoch 2/100\n",
      "\u001b[1m473/475\u001b[0m \u001b[32m━━━━━━━━━━━━━━━━━━━\u001b[0m\u001b[37m━\u001b[0m \u001b[1m0s\u001b[0m 24ms/step - loss: 0.4537 - mae: 0.5117\n",
      "Epoch 2: val_mae improved from 0.48550 to 0.40748, saving model to model_v1_best.keras\n",
      "\u001b[1m475/475\u001b[0m \u001b[32m━━━━━━━━━━━━━━━━━━━━\u001b[0m\u001b[37m\u001b[0m \u001b[1m13s\u001b[0m 28ms/step - loss: 0.4530 - mae: 0.5113 - val_loss: 0.2799 - val_mae: 0.4075 - learning_rate: 1.0000e-04\n",
      "Epoch 3/100\n",
      "\u001b[1m474/475\u001b[0m \u001b[32m━━━━━━━━━━━━━━━━━━━\u001b[0m\u001b[37m━\u001b[0m \u001b[1m0s\u001b[0m 25ms/step - loss: 0.2842 - mae: 0.4099\n",
      "Epoch 3: val_mae improved from 0.40748 to 0.38781, saving model to model_v1_best.keras\n",
      "\u001b[1m475/475\u001b[0m \u001b[32m━━━━━━━━━━━━━━━━━━━━\u001b[0m\u001b[37m\u001b[0m \u001b[1m14s\u001b[0m 29ms/step - loss: 0.2840 - mae: 0.4098 - val_loss: 0.2520 - val_mae: 0.3878 - learning_rate: 1.0000e-04\n",
      "Epoch 4/100\n",
      "\u001b[1m474/475\u001b[0m \u001b[32m━━━━━━━━━━━━━━━━━━━\u001b[0m\u001b[37m━\u001b[0m \u001b[1m0s\u001b[0m 24ms/step - loss: 0.2415 - mae: 0.3801\n",
      "Epoch 4: val_mae improved from 0.38781 to 0.37904, saving model to model_v1_best.keras\n",
      "\u001b[1m475/475\u001b[0m \u001b[32m━━━━━━━━━━━━━━━━━━━━\u001b[0m\u001b[37m\u001b[0m \u001b[1m13s\u001b[0m 28ms/step - loss: 0.2414 - mae: 0.3800 - val_loss: 0.2404 - val_mae: 0.3790 - learning_rate: 1.0000e-04\n",
      "Epoch 5/100\n",
      "\u001b[1m473/475\u001b[0m \u001b[32m━━━━━━━━━━━━━━━━━━━\u001b[0m\u001b[37m━\u001b[0m \u001b[1m0s\u001b[0m 24ms/step - loss: 0.2235 - mae: 0.3654\n",
      "Epoch 5: val_mae improved from 0.37904 to 0.37293, saving model to model_v1_best.keras\n",
      "\u001b[1m475/475\u001b[0m \u001b[32m━━━━━━━━━━━━━━━━━━━━\u001b[0m\u001b[37m\u001b[0m \u001b[1m13s\u001b[0m 28ms/step - loss: 0.2234 - mae: 0.3653 - val_loss: 0.2332 - val_mae: 0.3729 - learning_rate: 1.0000e-04\n",
      "Epoch 6/100\n",
      "\u001b[1m474/475\u001b[0m \u001b[32m━━━━━━━━━━━━━━━━━━━\u001b[0m\u001b[37m━\u001b[0m \u001b[1m0s\u001b[0m 24ms/step - loss: 0.2128 - mae: 0.3559\n",
      "Epoch 6: val_mae improved from 0.37293 to 0.36810, saving model to model_v1_best.keras\n",
      "\u001b[1m475/475\u001b[0m \u001b[32m━━━━━━━━━━━━━━━━━━━━\u001b[0m\u001b[37m\u001b[0m \u001b[1m13s\u001b[0m 28ms/step - loss: 0.2127 - mae: 0.3558 - val_loss: 0.2277 - val_mae: 0.3681 - learning_rate: 1.0000e-04\n",
      "Epoch 7/100\n",
      "\u001b[1m474/475\u001b[0m \u001b[32m━━━━━━━━━━━━━━━━━━━\u001b[0m\u001b[37m━\u001b[0m \u001b[1m0s\u001b[0m 24ms/step - loss: 0.2052 - mae: 0.3490\n",
      "Epoch 7: val_mae improved from 0.36810 to 0.36401, saving model to model_v1_best.keras\n",
      "\u001b[1m475/475\u001b[0m \u001b[32m━━━━━━━━━━━━━━━━━━━━\u001b[0m\u001b[37m\u001b[0m \u001b[1m13s\u001b[0m 28ms/step - loss: 0.2052 - mae: 0.3490 - val_loss: 0.2232 - val_mae: 0.3640 - learning_rate: 1.0000e-04\n",
      "Epoch 8/100\n",
      "\u001b[1m474/475\u001b[0m \u001b[32m━━━━━━━━━━━━━━━━━━━\u001b[0m\u001b[37m━\u001b[0m \u001b[1m0s\u001b[0m 24ms/step - loss: 0.1994 - mae: 0.3437\n",
      "Epoch 8: val_mae improved from 0.36401 to 0.36052, saving model to model_v1_best.keras\n",
      "\u001b[1m475/475\u001b[0m \u001b[32m━━━━━━━━━━━━━━━━━━━━\u001b[0m\u001b[37m\u001b[0m \u001b[1m14s\u001b[0m 29ms/step - loss: 0.1994 - mae: 0.3436 - val_loss: 0.2193 - val_mae: 0.3605 - learning_rate: 1.0000e-04\n",
      "Epoch 9/100\n",
      "\u001b[1m474/475\u001b[0m \u001b[32m━━━━━━━━━━━━━━━━━━━\u001b[0m\u001b[37m━\u001b[0m \u001b[1m0s\u001b[0m 24ms/step - loss: 0.1947 - mae: 0.3393\n",
      "Epoch 9: val_mae improved from 0.36052 to 0.35752, saving model to model_v1_best.keras\n",
      "\u001b[1m475/475\u001b[0m \u001b[32m━━━━━━━━━━━━━━━━━━━━\u001b[0m\u001b[37m\u001b[0m \u001b[1m14s\u001b[0m 28ms/step - loss: 0.1946 - mae: 0.3392 - val_loss: 0.2160 - val_mae: 0.3575 - learning_rate: 1.0000e-04\n",
      "Epoch 10/100\n",
      "\u001b[1m473/475\u001b[0m \u001b[32m━━━━━━━━━━━━━━━━━━━\u001b[0m\u001b[37m━\u001b[0m \u001b[1m0s\u001b[0m 24ms/step - loss: 0.1907 - mae: 0.3356\n",
      "Epoch 10: val_mae improved from 0.35752 to 0.35492, saving model to model_v1_best.keras\n",
      "\u001b[1m475/475\u001b[0m \u001b[32m━━━━━━━━━━━━━━━━━━━━\u001b[0m\u001b[37m\u001b[0m \u001b[1m13s\u001b[0m 28ms/step - loss: 0.1906 - mae: 0.3355 - val_loss: 0.2131 - val_mae: 0.3549 - learning_rate: 1.0000e-04\n",
      "Epoch 11/100\n",
      "\u001b[1m475/475\u001b[0m \u001b[32m━━━━━━━━━━━━━━━━━━━━\u001b[0m\u001b[37m\u001b[0m \u001b[1m0s\u001b[0m 23ms/step - loss: 0.1872 - mae: 0.3323\n",
      "Epoch 11: val_mae improved from 0.35492 to 0.35265, saving model to model_v1_best.keras\n",
      "\u001b[1m475/475\u001b[0m \u001b[32m━━━━━━━━━━━━━━━━━━━━\u001b[0m\u001b[37m\u001b[0m \u001b[1m13s\u001b[0m 28ms/step - loss: 0.1871 - mae: 0.3323 - val_loss: 0.2105 - val_mae: 0.3527 - learning_rate: 1.0000e-04\n",
      "Epoch 12/100\n",
      "\u001b[1m473/475\u001b[0m \u001b[32m━━━━━━━━━━━━━━━━━━━\u001b[0m\u001b[37m━\u001b[0m \u001b[1m0s\u001b[0m 24ms/step - loss: 0.1842 - mae: 0.3295\n",
      "Epoch 12: val_mae improved from 0.35265 to 0.35067, saving model to model_v1_best.keras\n",
      "\u001b[1m475/475\u001b[0m \u001b[32m━━━━━━━━━━━━━━━━━━━━\u001b[0m\u001b[37m\u001b[0m \u001b[1m13s\u001b[0m 28ms/step - loss: 0.1841 - mae: 0.3295 - val_loss: 0.2083 - val_mae: 0.3507 - learning_rate: 1.0000e-04\n",
      "Epoch 13/100\n",
      "\u001b[1m474/475\u001b[0m \u001b[32m━━━━━━━━━━━━━━━━━━━\u001b[0m\u001b[37m━\u001b[0m \u001b[1m0s\u001b[0m 23ms/step - loss: 0.1815 - mae: 0.3270\n",
      "Epoch 13: val_mae improved from 0.35067 to 0.34894, saving model to model_v1_best.keras\n",
      "\u001b[1m475/475\u001b[0m \u001b[32m━━━━━━━━━━━━━━━━━━━━\u001b[0m\u001b[37m\u001b[0m \u001b[1m13s\u001b[0m 28ms/step - loss: 0.1815 - mae: 0.3270 - val_loss: 0.2064 - val_mae: 0.3489 - learning_rate: 1.0000e-04\n",
      "Epoch 14/100\n",
      "\u001b[1m474/475\u001b[0m \u001b[32m━━━━━━━━━━━━━━━━━━━\u001b[0m\u001b[37m━\u001b[0m \u001b[1m0s\u001b[0m 24ms/step - loss: 0.1792 - mae: 0.3248\n",
      "Epoch 14: val_mae improved from 0.34894 to 0.34743, saving model to model_v1_best.keras\n",
      "\u001b[1m475/475\u001b[0m \u001b[32m━━━━━━━━━━━━━━━━━━━━\u001b[0m\u001b[37m\u001b[0m \u001b[1m13s\u001b[0m 28ms/step - loss: 0.1791 - mae: 0.3248 - val_loss: 0.2047 - val_mae: 0.3474 - learning_rate: 1.0000e-04\n",
      "Epoch 15/100\n",
      "\u001b[1m475/475\u001b[0m \u001b[32m━━━━━━━━━━━━━━━━━━━━\u001b[0m\u001b[37m\u001b[0m \u001b[1m0s\u001b[0m 24ms/step - loss: 0.1770 - mae: 0.3228\n",
      "Epoch 15: val_mae improved from 0.34743 to 0.34612, saving model to model_v1_best.keras\n",
      "\u001b[1m475/475\u001b[0m \u001b[32m━━━━━━━━━━━━━━━━━━━━\u001b[0m\u001b[37m\u001b[0m \u001b[1m13s\u001b[0m 28ms/step - loss: 0.1770 - mae: 0.3228 - val_loss: 0.2032 - val_mae: 0.3461 - learning_rate: 1.0000e-04\n",
      "Epoch 16/100\n",
      "\u001b[1m473/475\u001b[0m \u001b[32m━━━━━━━━━━━━━━━━━━━\u001b[0m\u001b[37m━\u001b[0m \u001b[1m0s\u001b[0m 23ms/step - loss: 0.1751 - mae: 0.3211\n",
      "Epoch 16: val_mae improved from 0.34612 to 0.34499, saving model to model_v1_best.keras\n",
      "\u001b[1m475/475\u001b[0m \u001b[32m━━━━━━━━━━━━━━━━━━━━\u001b[0m\u001b[37m\u001b[0m \u001b[1m14s\u001b[0m 28ms/step - loss: 0.1751 - mae: 0.3211 - val_loss: 0.2020 - val_mae: 0.3450 - learning_rate: 1.0000e-04\n",
      "Epoch 17/100\n",
      "\u001b[1m473/475\u001b[0m \u001b[32m━━━━━━━━━━━━━━━━━━━\u001b[0m\u001b[37m━\u001b[0m \u001b[1m0s\u001b[0m 24ms/step - loss: 0.1734 - mae: 0.3195\n",
      "Epoch 17: val_mae improved from 0.34499 to 0.34400, saving model to model_v1_best.keras\n",
      "\u001b[1m475/475\u001b[0m \u001b[32m━━━━━━━━━━━━━━━━━━━━\u001b[0m\u001b[37m\u001b[0m \u001b[1m14s\u001b[0m 29ms/step - loss: 0.1733 - mae: 0.3194 - val_loss: 0.2009 - val_mae: 0.3440 - learning_rate: 1.0000e-04\n",
      "Epoch 18/100\n",
      "\u001b[1m474/475\u001b[0m \u001b[32m━━━━━━━━━━━━━━━━━━━\u001b[0m\u001b[37m━\u001b[0m \u001b[1m0s\u001b[0m 24ms/step - loss: 0.1717 - mae: 0.3180\n",
      "Epoch 18: val_mae improved from 0.34400 to 0.34313, saving model to model_v1_best.keras\n",
      "\u001b[1m475/475\u001b[0m \u001b[32m━━━━━━━━━━━━━━━━━━━━\u001b[0m\u001b[37m\u001b[0m \u001b[1m13s\u001b[0m 28ms/step - loss: 0.1717 - mae: 0.3180 - val_loss: 0.1999 - val_mae: 0.3431 - learning_rate: 1.0000e-04\n",
      "Epoch 19/100\n",
      "\u001b[1m474/475\u001b[0m \u001b[32m━━━━━━━━━━━━━━━━━━━\u001b[0m\u001b[37m━\u001b[0m \u001b[1m0s\u001b[0m 24ms/step - loss: 0.1702 - mae: 0.3166\n",
      "Epoch 19: val_mae improved from 0.34313 to 0.34238, saving model to model_v1_best.keras\n",
      "\u001b[1m475/475\u001b[0m \u001b[32m━━━━━━━━━━━━━━━━━━━━\u001b[0m\u001b[37m\u001b[0m \u001b[1m14s\u001b[0m 29ms/step - loss: 0.1702 - mae: 0.3166 - val_loss: 0.1991 - val_mae: 0.3424 - learning_rate: 1.0000e-04\n",
      "Epoch 20/100\n",
      "\u001b[1m474/475\u001b[0m \u001b[32m━━━━━━━━━━━━━━━━━━━\u001b[0m\u001b[37m━\u001b[0m \u001b[1m0s\u001b[0m 24ms/step - loss: 0.1689 - mae: 0.3154\n",
      "Epoch 20: val_mae improved from 0.34238 to 0.34173, saving model to model_v1_best.keras\n",
      "\u001b[1m475/475\u001b[0m \u001b[32m━━━━━━━━━━━━━━━━━━━━\u001b[0m\u001b[37m\u001b[0m \u001b[1m14s\u001b[0m 28ms/step - loss: 0.1689 - mae: 0.3154 - val_loss: 0.1984 - val_mae: 0.3417 - learning_rate: 1.0000e-04\n",
      "Epoch 21/100\n",
      "\u001b[1m475/475\u001b[0m \u001b[32m━━━━━━━━━━━━━━━━━━━━\u001b[0m\u001b[37m\u001b[0m \u001b[1m0s\u001b[0m 24ms/step - loss: 0.1676 - mae: 0.3142\n",
      "Epoch 21: val_mae improved from 0.34173 to 0.34117, saving model to model_v1_best.keras\n",
      "\u001b[1m475/475\u001b[0m \u001b[32m━━━━━━━━━━━━━━━━━━━━\u001b[0m\u001b[37m\u001b[0m \u001b[1m13s\u001b[0m 28ms/step - loss: 0.1676 - mae: 0.3142 - val_loss: 0.1978 - val_mae: 0.3412 - learning_rate: 1.0000e-04\n",
      "Epoch 22/100\n",
      "\u001b[1m474/475\u001b[0m \u001b[32m━━━━━━━━━━━━━━━━━━━\u001b[0m\u001b[37m━\u001b[0m \u001b[1m0s\u001b[0m 23ms/step - loss: 0.1664 - mae: 0.3131\n",
      "Epoch 22: val_mae improved from 0.34117 to 0.34067, saving model to model_v1_best.keras\n",
      "\u001b[1m475/475\u001b[0m \u001b[32m━━━━━━━━━━━━━━━━━━━━\u001b[0m\u001b[37m\u001b[0m \u001b[1m13s\u001b[0m 27ms/step - loss: 0.1664 - mae: 0.3131 - val_loss: 0.1972 - val_mae: 0.3407 - learning_rate: 1.0000e-04\n",
      "Epoch 23/100\n",
      "\u001b[1m473/475\u001b[0m \u001b[32m━━━━━━━━━━━━━━━━━━━\u001b[0m\u001b[37m━\u001b[0m \u001b[1m0s\u001b[0m 23ms/step - loss: 0.1653 - mae: 0.3121\n",
      "Epoch 23: val_mae improved from 0.34067 to 0.34023, saving model to model_v1_best.keras\n",
      "\u001b[1m475/475\u001b[0m \u001b[32m━━━━━━━━━━━━━━━━━━━━\u001b[0m\u001b[37m\u001b[0m \u001b[1m13s\u001b[0m 28ms/step - loss: 0.1653 - mae: 0.3121 - val_loss: 0.1968 - val_mae: 0.3402 - learning_rate: 1.0000e-04\n",
      "Epoch 24/100\n",
      "\u001b[1m475/475\u001b[0m \u001b[32m━━━━━━━━━━━━━━━━━━━━\u001b[0m\u001b[37m\u001b[0m \u001b[1m0s\u001b[0m 23ms/step - loss: 0.1643 - mae: 0.3111\n",
      "Epoch 24: val_mae improved from 0.34023 to 0.33983, saving model to model_v1_best.keras\n",
      "\u001b[1m475/475\u001b[0m \u001b[32m━━━━━━━━━━━━━━━━━━━━\u001b[0m\u001b[37m\u001b[0m \u001b[1m13s\u001b[0m 28ms/step - loss: 0.1642 - mae: 0.3111 - val_loss: 0.1963 - val_mae: 0.3398 - learning_rate: 1.0000e-04\n",
      "Epoch 25/100\n",
      "\u001b[1m473/475\u001b[0m \u001b[32m━━━━━━━━━━━━━━━━━━━\u001b[0m\u001b[37m━\u001b[0m \u001b[1m0s\u001b[0m 24ms/step - loss: 0.1633 - mae: 0.3102\n",
      "Epoch 25: val_mae improved from 0.33983 to 0.33947, saving model to model_v1_best.keras\n",
      "\u001b[1m475/475\u001b[0m \u001b[32m━━━━━━━━━━━━━━━━━━━━\u001b[0m\u001b[37m\u001b[0m \u001b[1m14s\u001b[0m 29ms/step - loss: 0.1632 - mae: 0.3102 - val_loss: 0.1959 - val_mae: 0.3395 - learning_rate: 1.0000e-04\n",
      "Epoch 26/100\n",
      "\u001b[1m473/475\u001b[0m \u001b[32m━━━━━━━━━━━━━━━━━━━\u001b[0m\u001b[37m━\u001b[0m \u001b[1m0s\u001b[0m 24ms/step - loss: 0.1623 - mae: 0.3094\n",
      "Epoch 26: val_mae improved from 0.33947 to 0.33916, saving model to model_v1_best.keras\n",
      "\u001b[1m475/475\u001b[0m \u001b[32m━━━━━━━━━━━━━━━━━━━━\u001b[0m\u001b[37m\u001b[0m \u001b[1m13s\u001b[0m 28ms/step - loss: 0.1623 - mae: 0.3094 - val_loss: 0.1956 - val_mae: 0.3392 - learning_rate: 1.0000e-04\n",
      "Epoch 27/100\n",
      "\u001b[1m474/475\u001b[0m \u001b[32m━━━━━━━━━━━━━━━━━━━\u001b[0m\u001b[37m━\u001b[0m \u001b[1m0s\u001b[0m 23ms/step - loss: 0.1614 - mae: 0.3085\n",
      "Epoch 27: val_mae improved from 0.33916 to 0.33891, saving model to model_v1_best.keras\n",
      "\u001b[1m475/475\u001b[0m \u001b[32m━━━━━━━━━━━━━━━━━━━━\u001b[0m\u001b[37m\u001b[0m \u001b[1m13s\u001b[0m 28ms/step - loss: 0.1614 - mae: 0.3085 - val_loss: 0.1953 - val_mae: 0.3389 - learning_rate: 1.0000e-04\n",
      "Epoch 28/100\n",
      "\u001b[1m473/475\u001b[0m \u001b[32m━━━━━━━━━━━━━━━━━━━\u001b[0m\u001b[37m━\u001b[0m \u001b[1m0s\u001b[0m 23ms/step - loss: 0.1606 - mae: 0.3078\n",
      "Epoch 28: val_mae improved from 0.33891 to 0.33868, saving model to model_v1_best.keras\n",
      "\u001b[1m475/475\u001b[0m \u001b[32m━━━━━━━━━━━━━━━━━━━━\u001b[0m\u001b[37m\u001b[0m \u001b[1m13s\u001b[0m 27ms/step - loss: 0.1605 - mae: 0.3077 - val_loss: 0.1951 - val_mae: 0.3387 - learning_rate: 1.0000e-04\n",
      "Epoch 29/100\n",
      "\u001b[1m474/475\u001b[0m \u001b[32m━━━━━━━━━━━━━━━━━━━\u001b[0m\u001b[37m━\u001b[0m \u001b[1m0s\u001b[0m 23ms/step - loss: 0.1598 - mae: 0.3070\n",
      "Epoch 29: val_mae improved from 0.33868 to 0.33849, saving model to model_v1_best.keras\n",
      "\u001b[1m475/475\u001b[0m \u001b[32m━━━━━━━━━━━━━━━━━━━━\u001b[0m\u001b[37m\u001b[0m \u001b[1m13s\u001b[0m 28ms/step - loss: 0.1597 - mae: 0.3070 - val_loss: 0.1949 - val_mae: 0.3385 - learning_rate: 1.0000e-04\n",
      "Epoch 30/100\n",
      "\u001b[1m473/475\u001b[0m \u001b[32m━━━━━━━━━━━━━━━━━━━\u001b[0m\u001b[37m━\u001b[0m \u001b[1m0s\u001b[0m 24ms/step - loss: 0.1590 - mae: 0.3063\n",
      "Epoch 30: val_mae improved from 0.33849 to 0.33832, saving model to model_v1_best.keras\n",
      "\u001b[1m475/475\u001b[0m \u001b[32m━━━━━━━━━━━━━━━━━━━━\u001b[0m\u001b[37m\u001b[0m \u001b[1m13s\u001b[0m 28ms/step - loss: 0.1589 - mae: 0.3062 - val_loss: 0.1947 - val_mae: 0.3383 - learning_rate: 1.0000e-04\n",
      "Epoch 31/100\n",
      "\u001b[1m473/475\u001b[0m \u001b[32m━━━━━━━━━━━━━━━━━━━\u001b[0m\u001b[37m━\u001b[0m \u001b[1m0s\u001b[0m 23ms/step - loss: 0.1582 - mae: 0.3055\n",
      "Epoch 31: val_mae improved from 0.33832 to 0.33818, saving model to model_v1_best.keras\n",
      "\u001b[1m475/475\u001b[0m \u001b[32m━━━━━━━━━━━━━━━━━━━━\u001b[0m\u001b[37m\u001b[0m \u001b[1m13s\u001b[0m 28ms/step - loss: 0.1582 - mae: 0.3055 - val_loss: 0.1945 - val_mae: 0.3382 - learning_rate: 1.0000e-04\n",
      "Epoch 32/100\n",
      "\u001b[1m473/475\u001b[0m \u001b[32m━━━━━━━━━━━━━━━━━━━\u001b[0m\u001b[37m━\u001b[0m \u001b[1m0s\u001b[0m 24ms/step - loss: 0.1575 - mae: 0.3048\n",
      "Epoch 32: val_mae improved from 0.33818 to 0.33805, saving model to model_v1_best.keras\n",
      "\u001b[1m475/475\u001b[0m \u001b[32m━━━━━━━━━━━━━━━━━━━━\u001b[0m\u001b[37m\u001b[0m \u001b[1m13s\u001b[0m 28ms/step - loss: 0.1575 - mae: 0.3048 - val_loss: 0.1943 - val_mae: 0.3380 - learning_rate: 1.0000e-04\n",
      "Epoch 33/100\n",
      "\u001b[1m473/475\u001b[0m \u001b[32m━━━━━━━━━━━━━━━━━━━\u001b[0m\u001b[37m━\u001b[0m \u001b[1m0s\u001b[0m 24ms/step - loss: 0.1568 - mae: 0.3042\n",
      "Epoch 33: val_mae improved from 0.33805 to 0.33794, saving model to model_v1_best.keras\n",
      "\u001b[1m475/475\u001b[0m \u001b[32m━━━━━━━━━━━━━━━━━━━━\u001b[0m\u001b[37m\u001b[0m \u001b[1m13s\u001b[0m 28ms/step - loss: 0.1568 - mae: 0.3041 - val_loss: 0.1942 - val_mae: 0.3379 - learning_rate: 1.0000e-04\n",
      "Epoch 34/100\n",
      "\u001b[1m475/475\u001b[0m \u001b[32m━━━━━━━━━━━━━━━━━━━━\u001b[0m\u001b[37m\u001b[0m \u001b[1m0s\u001b[0m 24ms/step - loss: 0.1561 - mae: 0.3035\n",
      "Epoch 34: val_mae improved from 0.33794 to 0.33785, saving model to model_v1_best.keras\n",
      "\u001b[1m475/475\u001b[0m \u001b[32m━━━━━━━━━━━━━━━━━━━━\u001b[0m\u001b[37m\u001b[0m \u001b[1m13s\u001b[0m 28ms/step - loss: 0.1561 - mae: 0.3035 - val_loss: 0.1941 - val_mae: 0.3378 - learning_rate: 1.0000e-04\n",
      "Epoch 35/100\n",
      "\u001b[1m473/475\u001b[0m \u001b[32m━━━━━━━━━━━━━━━━━━━\u001b[0m\u001b[37m━\u001b[0m \u001b[1m0s\u001b[0m 24ms/step - loss: 0.1555 - mae: 0.3029\n",
      "Epoch 35: val_mae improved from 0.33785 to 0.33777, saving model to model_v1_best.keras\n",
      "\u001b[1m475/475\u001b[0m \u001b[32m━━━━━━━━━━━━━━━━━━━━\u001b[0m\u001b[37m\u001b[0m \u001b[1m13s\u001b[0m 28ms/step - loss: 0.1554 - mae: 0.3029 - val_loss: 0.1940 - val_mae: 0.3378 - learning_rate: 1.0000e-04\n",
      "Epoch 36/100\n",
      "\u001b[1m475/475\u001b[0m \u001b[32m━━━━━━━━━━━━━━━━━━━━\u001b[0m\u001b[37m\u001b[0m \u001b[1m0s\u001b[0m 23ms/step - loss: 0.1548 - mae: 0.3022\n",
      "Epoch 36: val_mae improved from 0.33777 to 0.33771, saving model to model_v1_best.keras\n",
      "\u001b[1m475/475\u001b[0m \u001b[32m━━━━━━━━━━━━━━━━━━━━\u001b[0m\u001b[37m\u001b[0m \u001b[1m13s\u001b[0m 28ms/step - loss: 0.1548 - mae: 0.3022 - val_loss: 0.1939 - val_mae: 0.3377 - learning_rate: 1.0000e-04\n",
      "Epoch 37/100\n",
      "\u001b[1m474/475\u001b[0m \u001b[32m━━━━━━━━━━━━━━━━━━━\u001b[0m\u001b[37m━\u001b[0m \u001b[1m0s\u001b[0m 23ms/step - loss: 0.1542 - mae: 0.3017\n",
      "Epoch 37: val_mae improved from 0.33771 to 0.33766, saving model to model_v1_best.keras\n",
      "\u001b[1m475/475\u001b[0m \u001b[32m━━━━━━━━━━━━━━━━━━━━\u001b[0m\u001b[37m\u001b[0m \u001b[1m13s\u001b[0m 28ms/step - loss: 0.1542 - mae: 0.3016 - val_loss: 0.1939 - val_mae: 0.3377 - learning_rate: 1.0000e-04\n",
      "Epoch 38/100\n",
      "\u001b[1m474/475\u001b[0m \u001b[32m━━━━━━━━━━━━━━━━━━━\u001b[0m\u001b[37m━\u001b[0m \u001b[1m0s\u001b[0m 23ms/step - loss: 0.1536 - mae: 0.3011\n",
      "Epoch 38: val_mae improved from 0.33766 to 0.33763, saving model to model_v1_best.keras\n",
      "\u001b[1m475/475\u001b[0m \u001b[32m━━━━━━━━━━━━━━━━━━━━\u001b[0m\u001b[37m\u001b[0m \u001b[1m13s\u001b[0m 28ms/step - loss: 0.1536 - mae: 0.3011 - val_loss: 0.1938 - val_mae: 0.3376 - learning_rate: 1.0000e-04\n",
      "Epoch 39/100\n",
      "\u001b[1m474/475\u001b[0m \u001b[32m━━━━━━━━━━━━━━━━━━━\u001b[0m\u001b[37m━\u001b[0m \u001b[1m0s\u001b[0m 24ms/step - loss: 0.1530 - mae: 0.3005\n",
      "Epoch 39: val_mae improved from 0.33763 to 0.33761, saving model to model_v1_best.keras\n",
      "\u001b[1m475/475\u001b[0m \u001b[32m━━━━━━━━━━━━━━━━━━━━\u001b[0m\u001b[37m\u001b[0m \u001b[1m13s\u001b[0m 28ms/step - loss: 0.1530 - mae: 0.3005 - val_loss: 0.1938 - val_mae: 0.3376 - learning_rate: 1.0000e-04\n",
      "Epoch 40/100\n",
      "\u001b[1m475/475\u001b[0m \u001b[32m━━━━━━━━━━━━━━━━━━━━\u001b[0m\u001b[37m\u001b[0m \u001b[1m0s\u001b[0m 23ms/step - loss: 0.1525 - mae: 0.2999\n",
      "Epoch 40: val_mae improved from 0.33761 to 0.33760, saving model to model_v1_best.keras\n",
      "\u001b[1m475/475\u001b[0m \u001b[32m━━━━━━━━━━━━━━━━━━━━\u001b[0m\u001b[37m\u001b[0m \u001b[1m13s\u001b[0m 28ms/step - loss: 0.1525 - mae: 0.2999 - val_loss: 0.1938 - val_mae: 0.3376 - learning_rate: 1.0000e-04\n",
      "Epoch 41/100\n",
      "\u001b[1m474/475\u001b[0m \u001b[32m━━━━━━━━━━━━━━━━━━━\u001b[0m\u001b[37m━\u001b[0m \u001b[1m0s\u001b[0m 23ms/step - loss: 0.1519 - mae: 0.2994\n",
      "Epoch 41: val_mae improved from 0.33760 to 0.33760, saving model to model_v1_best.keras\n",
      "\u001b[1m475/475\u001b[0m \u001b[32m━━━━━━━━━━━━━━━━━━━━\u001b[0m\u001b[37m\u001b[0m \u001b[1m13s\u001b[0m 28ms/step - loss: 0.1519 - mae: 0.2994 - val_loss: 0.1938 - val_mae: 0.3376 - learning_rate: 1.0000e-04\n",
      "Epoch 42/100\n",
      "\u001b[1m474/475\u001b[0m \u001b[32m━━━━━━━━━━━━━━━━━━━\u001b[0m\u001b[37m━\u001b[0m \u001b[1m0s\u001b[0m 24ms/step - loss: 0.1514 - mae: 0.2989\n",
      "Epoch 42: val_mae did not improve from 0.33760\n",
      "\u001b[1m475/475\u001b[0m \u001b[32m━━━━━━━━━━━━━━━━━━━━\u001b[0m\u001b[37m\u001b[0m \u001b[1m13s\u001b[0m 28ms/step - loss: 0.1514 - mae: 0.2988 - val_loss: 0.1938 - val_mae: 0.3376 - learning_rate: 1.0000e-04\n",
      "Epoch 43/100\n",
      "\u001b[1m474/475\u001b[0m \u001b[32m━━━━━━━━━━━━━━━━━━━\u001b[0m\u001b[37m━\u001b[0m \u001b[1m0s\u001b[0m 24ms/step - loss: 0.1499 - mae: 0.2965\n",
      "Epoch 43: val_mae improved from 0.33760 to 0.33644, saving model to model_v1_best.keras\n",
      "\u001b[1m475/475\u001b[0m \u001b[32m━━━━━━━━━━━━━━━━━━━━\u001b[0m\u001b[37m\u001b[0m \u001b[1m13s\u001b[0m 28ms/step - loss: 0.1498 - mae: 0.2965 - val_loss: 0.1917 - val_mae: 0.3364 - learning_rate: 1.0000e-05\n",
      "Epoch 44/100\n",
      "\u001b[1m474/475\u001b[0m \u001b[32m━━━━━━━━━━━━━━━━━━━\u001b[0m\u001b[37m━\u001b[0m \u001b[1m0s\u001b[0m 24ms/step - loss: 0.1493 - mae: 0.2961\n",
      "Epoch 44: val_mae improved from 0.33644 to 0.33621, saving model to model_v1_best.keras\n",
      "\u001b[1m475/475\u001b[0m \u001b[32m━━━━━━━━━━━━━━━━━━━━\u001b[0m\u001b[37m\u001b[0m \u001b[1m13s\u001b[0m 28ms/step - loss: 0.1493 - mae: 0.2961 - val_loss: 0.1911 - val_mae: 0.3362 - learning_rate: 1.0000e-05\n",
      "Epoch 45/100\n",
      "\u001b[1m474/475\u001b[0m \u001b[32m━━━━━━━━━━━━━━━━━━━\u001b[0m\u001b[37m━\u001b[0m \u001b[1m0s\u001b[0m 23ms/step - loss: 0.1491 - mae: 0.2961\n",
      "Epoch 45: val_mae improved from 0.33621 to 0.33616, saving model to model_v1_best.keras\n",
      "\u001b[1m475/475\u001b[0m \u001b[32m━━━━━━━━━━━━━━━━━━━━\u001b[0m\u001b[37m\u001b[0m \u001b[1m13s\u001b[0m 28ms/step - loss: 0.1490 - mae: 0.2961 - val_loss: 0.1909 - val_mae: 0.3362 - learning_rate: 1.0000e-05\n",
      "Epoch 46/100\n",
      "\u001b[1m475/475\u001b[0m \u001b[32m━━━━━━━━━━━━━━━━━━━━\u001b[0m\u001b[37m\u001b[0m \u001b[1m0s\u001b[0m 23ms/step - loss: 0.1489 - mae: 0.2960\n",
      "Epoch 46: val_mae improved from 0.33616 to 0.33615, saving model to model_v1_best.keras\n",
      "\u001b[1m475/475\u001b[0m \u001b[32m━━━━━━━━━━━━━━━━━━━━\u001b[0m\u001b[37m\u001b[0m \u001b[1m13s\u001b[0m 27ms/step - loss: 0.1489 - mae: 0.2960 - val_loss: 0.1908 - val_mae: 0.3362 - learning_rate: 1.0000e-05\n",
      "Epoch 47/100\n",
      "\u001b[1m474/475\u001b[0m \u001b[32m━━━━━━━━━━━━━━━━━━━\u001b[0m\u001b[37m━\u001b[0m \u001b[1m0s\u001b[0m 23ms/step - loss: 0.1488 - mae: 0.2959\n",
      "Epoch 47: val_mae improved from 0.33615 to 0.33615, saving model to model_v1_best.keras\n",
      "\u001b[1m475/475\u001b[0m \u001b[32m━━━━━━━━━━━━━━━━━━━━\u001b[0m\u001b[37m\u001b[0m \u001b[1m13s\u001b[0m 27ms/step - loss: 0.1488 - mae: 0.2959 - val_loss: 0.1908 - val_mae: 0.3362 - learning_rate: 1.0000e-05\n",
      "Epoch 48/100\n",
      "\u001b[1m474/475\u001b[0m \u001b[32m━━━━━━━━━━━━━━━━━━━\u001b[0m\u001b[37m━\u001b[0m \u001b[1m0s\u001b[0m 23ms/step - loss: 0.1487 - mae: 0.2958\n",
      "Epoch 48: val_mae did not improve from 0.33615\n",
      "\u001b[1m475/475\u001b[0m \u001b[32m━━━━━━━━━━━━━━━━━━━━\u001b[0m\u001b[37m\u001b[0m \u001b[1m13s\u001b[0m 27ms/step - loss: 0.1486 - mae: 0.2958 - val_loss: 0.1908 - val_mae: 0.3362 - learning_rate: 1.0000e-05\n",
      "Epoch 49/100\n",
      "\u001b[1m475/475\u001b[0m \u001b[32m━━━━━━━━━━━━━━━━━━━━\u001b[0m\u001b[37m\u001b[0m \u001b[1m0s\u001b[0m 23ms/step - loss: 0.1486 - mae: 0.2958\n",
      "Epoch 49: val_mae did not improve from 0.33615\n",
      "\u001b[1m475/475\u001b[0m \u001b[32m━━━━━━━━━━━━━━━━━━━━\u001b[0m\u001b[37m\u001b[0m \u001b[1m13s\u001b[0m 28ms/step - loss: 0.1485 - mae: 0.2957 - val_loss: 0.1908 - val_mae: 0.3362 - learning_rate: 1.0000e-05\n",
      "Epoch 50/100\n",
      "\u001b[1m474/475\u001b[0m \u001b[32m━━━━━━━━━━━━━━━━━━━\u001b[0m\u001b[37m━\u001b[0m \u001b[1m0s\u001b[0m 23ms/step - loss: 0.1484 - mae: 0.2954\n",
      "Epoch 50: val_mae did not improve from 0.33615\n",
      "\u001b[1m475/475\u001b[0m \u001b[32m━━━━━━━━━━━━━━━━━━━━\u001b[0m\u001b[37m\u001b[0m \u001b[1m13s\u001b[0m 28ms/step - loss: 0.1484 - mae: 0.2954 - val_loss: 0.1908 - val_mae: 0.3362 - learning_rate: 1.0000e-06\n",
      "Epoch 51/100\n",
      "\u001b[1m474/475\u001b[0m \u001b[32m━━━━━━━━━━━━━━━━━━━\u001b[0m\u001b[37m━\u001b[0m \u001b[1m0s\u001b[0m 23ms/step - loss: 0.1484 - mae: 0.2954\n",
      "Epoch 51: val_mae did not improve from 0.33615\n",
      "\u001b[1m475/475\u001b[0m \u001b[32m━━━━━━━━━━━━━━━━━━━━\u001b[0m\u001b[37m\u001b[0m \u001b[1m13s\u001b[0m 27ms/step - loss: 0.1483 - mae: 0.2954 - val_loss: 0.1908 - val_mae: 0.3362 - learning_rate: 1.0000e-06\n",
      "Epoch 52/100\n",
      "\u001b[1m473/475\u001b[0m \u001b[32m━━━━━━━━━━━━━━━━━━━\u001b[0m\u001b[37m━\u001b[0m \u001b[1m0s\u001b[0m 23ms/step - loss: 0.1484 - mae: 0.2954\n",
      "Epoch 52: val_mae did not improve from 0.33615\n",
      "\u001b[1m475/475\u001b[0m \u001b[32m━━━━━━━━━━━━━━━━━━━━\u001b[0m\u001b[37m\u001b[0m \u001b[1m13s\u001b[0m 28ms/step - loss: 0.1483 - mae: 0.2954 - val_loss: 0.1909 - val_mae: 0.3363 - learning_rate: 1.0000e-06\n",
      "Epoch 53/100\n",
      "\u001b[1m475/475\u001b[0m \u001b[32m━━━━━━━━━━━━━━━━━━━━\u001b[0m\u001b[37m\u001b[0m \u001b[1m0s\u001b[0m 23ms/step - loss: 0.1483 - mae: 0.2954\n",
      "Epoch 53: val_mae did not improve from 0.33615\n",
      "\u001b[1m475/475\u001b[0m \u001b[32m━━━━━━━━━━━━━━━━━━━━\u001b[0m\u001b[37m\u001b[0m \u001b[1m13s\u001b[0m 27ms/step - loss: 0.1483 - mae: 0.2954 - val_loss: 0.1909 - val_mae: 0.3363 - learning_rate: 1.0000e-06\n",
      "Epoch 54/100\n",
      "\u001b[1m473/475\u001b[0m \u001b[32m━━━━━━━━━━━━━━━━━━━\u001b[0m\u001b[37m━\u001b[0m \u001b[1m0s\u001b[0m 23ms/step - loss: 0.1483 - mae: 0.2954\n",
      "Epoch 54: val_mae did not improve from 0.33615\n",
      "\u001b[1m475/475\u001b[0m \u001b[32m━━━━━━━━━━━━━━━━━━━━\u001b[0m\u001b[37m\u001b[0m \u001b[1m13s\u001b[0m 28ms/step - loss: 0.1483 - mae: 0.2954 - val_loss: 0.1909 - val_mae: 0.3363 - learning_rate: 1.0000e-06\n",
      "Epoch 55/100\n",
      "\u001b[1m473/475\u001b[0m \u001b[32m━━━━━━━━━━━━━━━━━━━\u001b[0m\u001b[37m━\u001b[0m \u001b[1m0s\u001b[0m 23ms/step - loss: 0.1483 - mae: 0.2954\n",
      "Epoch 55: val_mae did not improve from 0.33615\n",
      "\u001b[1m475/475\u001b[0m \u001b[32m━━━━━━━━━━━━━━━━━━━━\u001b[0m\u001b[37m\u001b[0m \u001b[1m13s\u001b[0m 28ms/step - loss: 0.1483 - mae: 0.2954 - val_loss: 0.1909 - val_mae: 0.3363 - learning_rate: 1.0000e-06\n",
      "Epoch 56/100\n",
      "\u001b[1m475/475\u001b[0m \u001b[32m━━━━━━━━━━━━━━━━━━━━\u001b[0m\u001b[37m\u001b[0m \u001b[1m0s\u001b[0m 23ms/step - loss: 0.1483 - mae: 0.2954\n",
      "Epoch 56: val_mae did not improve from 0.33615\n",
      "\u001b[1m475/475\u001b[0m \u001b[32m━━━━━━━━━━━━━━━━━━━━\u001b[0m\u001b[37m\u001b[0m \u001b[1m13s\u001b[0m 28ms/step - loss: 0.1482 - mae: 0.2954 - val_loss: 0.1909 - val_mae: 0.3364 - learning_rate: 1.0000e-06\n",
      "Epoch 57/100\n",
      "\u001b[1m474/475\u001b[0m \u001b[32m━━━━━━━━━━━━━━━━━━━\u001b[0m\u001b[37m━\u001b[0m \u001b[1m0s\u001b[0m 23ms/step - loss: 0.1482 - mae: 0.2954\n",
      "Epoch 57: val_mae did not improve from 0.33615\n",
      "\u001b[1m475/475\u001b[0m \u001b[32m━━━━━━━━━━━━━━━━━━━━\u001b[0m\u001b[37m\u001b[0m \u001b[1m13s\u001b[0m 28ms/step - loss: 0.1482 - mae: 0.2954 - val_loss: 0.1909 - val_mae: 0.3364 - learning_rate: 1.0000e-06\n",
      "\u001b[1m1395/1395\u001b[0m \u001b[32m━━━━━━━━━━━━━━━━━━━━\u001b[0m\u001b[37m\u001b[0m \u001b[1m7s\u001b[0m 5ms/step - loss: 0.2251 - mae: 0.3746\n",
      "--------------------------------------------------\n",
      "The LSTM MAE on the test set is equal to 0.37 Celsius degrees\n"
     ]
    },
    {
     "data": {
      "image/png": "[encoded data removed]",
      "text/plain": [
       "<Figure size 2000x700 with 2 Axes>"
      ]
     },
     "metadata": {},
     "output_type": "display_data"
    }
   ],
   "source": [
    "# 2 - Training\n",
    "# ====================================\n",
    "model, history = fit_model(model, verbose=1)\n",
    "\n",
    "plot_history(history);\n",
    "\n",
    "# 3 - Evaluation\n",
    "# ====================================\n",
    "res = model.evaluate(X_test, y_test)\n",
    "print(\"-\"*50)\n",
    "print(f\"The LSTM MAE on the test set is equal to {round(res[1],2)} Celsius degrees\")"
   ]
  },
  {
   "cell_type": "markdown",
   "metadata": {},
   "source": [
    "## 5.2 Baseline"
   ]
  },
  {
   "cell_type": "code",
   "execution_count": 138,
   "metadata": {},
   "outputs": [],
   "source": [
    "def last_seen_value_baseline(X_test, y_test, target_column_idx=0):\n",
    "    \"\"\"\n",
    "    Baseline model that predicts the last observed value of the target variable (temperature).\n",
    "\n",
    "    Parameters:\n",
    "    X: Input features (shape: [num_samples, time_steps, num_features])\n",
    "    y: Ground truth values (shape: [num_samples, time_steps, num_targets])\n",
    "    target_column_idx: Index of the target variable in the input features\n",
    "\n",
    "    Returns:\n",
    "    baseline_mae: Mean Absolute Error (MAE) of the baseline model\n",
    "    \"\"\"\n",
    "    # Get the last observed value of the target (temperature) for each sample\n",
    "    last_seen_values = X_test[:, -1, target_column_idx].reshape(-1, 1)\n",
    "\n",
    "    # Repeat this value for all the output steps\n",
    "    output_length = y_test.shape[1]  # Number of time steps in the target sequence\n",
    "    repeated = np.repeat(last_seen_values, axis=1, repeats=output_length)\n",
    "\n",
    "    # Calculate the MAE: Mean of absolute errors\n",
    "    mae = np.mean(np.abs(y_test - repeated))\n",
    "\n",
    "    return mae"
   ]
  },
  {
   "cell_type": "code",
   "execution_count": 139,
   "metadata": {},
   "outputs": [
    {
     "name": "stdout",
     "output_type": "stream",
     "text": [
      "- The Baseline MAE on the test set is equal to 0.87 Celsius degrees\n",
      "- The LSTM MAE on the test set is equal to 0.37 Celsius degrees\n",
      "👉 Improvement/decrease of the LSTM model over the baseline (on this fold for the test set): 56.88 % 👈\n"
     ]
    }
   ],
   "source": [
    "# 1 - Evaluation of the Baseline Model\n",
    "# ====================================\n",
    "mae_baseline = last_seen_value_baseline(X_test, y_test, target_column_idx=0)\n",
    "print(f\"- The Baseline MAE on the test set is equal to {round(mae_baseline,2)} Celsius degrees\")\n",
    "\n",
    "# 4 - Comparison with the LSTM model\n",
    "# ====================================\n",
    "print(f\"- The LSTM MAE on the test set is equal to {round(res[1],2)} Celsius degrees\")\n",
    "print(f\"👉 Improvement/decrease of the LSTM model over the baseline (on this fold for the test set): {round((1 - (res[1]/mae_baseline))*100,2)} % 👈\")"
   ]
  },
  {
   "cell_type": "markdown",
   "metadata": {},
   "source": [
    "## 5.3 Optimizing on Hyperparameters"
   ]
  },
  {
   "cell_type": "code",
   "execution_count": 140,
   "metadata": {},
   "outputs": [],
   "source": [
    "from tensorflow.keras import layers, models, optimizers\n",
    "from tensorflow.keras import regularizers\n",
    "from tensorflow.keras.optimizers import Adam\n",
    "from keras_tuner import HyperModel\n",
    "from keras_tuner import RandomSearch\n",
    "\n",
    "class LSTMModel(HyperModel):\n",
    "    def build(self, hp):\n",
    "        reg_l2 = regularizers.L2(hp.Float('l2_reg', min_value=0.001, max_value=0.1, step=0.001))\n",
    "\n",
    "        #========================================================================================\n",
    "\n",
    "        model = models.Sequential()\n",
    "\n",
    "        # Input Layer\n",
    "        model.add(layers.Input(shape=(X_train.shape[1], X_train.shape[2])))\n",
    "\n",
    "        # Recurrent Layer with tunable units and dropout\n",
    "        model.add(layers.LSTM(\n",
    "            units=hp.Int('units', min_value=16, max_value=128, step=16),\n",
    "            activation='tanh',\n",
    "            return_sequences=True,\n",
    "            recurrent_dropout=hp.Float('recurrent_dropout', min_value=0.2, max_value=0.5, step=0.05),\n",
    "            dropout=hp.Float('dropout', min_value=0.2, max_value=0.5, step=0.05)\n",
    "        ))\n",
    "        model.add(layers.LSTM(\n",
    "            units=hp.Int('units', min_value=16, max_value=128, step=16),\n",
    "            activation='tanh',\n",
    "            return_sequences=True,\n",
    "            recurrent_dropout=hp.Float('recurrent_dropout', min_value=0.2, max_value=0.5, step=0.05),\n",
    "            dropout=hp.Float('dropout', min_value=0.2, max_value=0.5, step=0.05)\n",
    "        ))\n",
    "\n",
    "        # Hidden Dense Layer with tunable regularization\n",
    "        model.add(layers.Dense(\n",
    "            units=hp.Int('dense_units', min_value=32, max_value=128, step=32),\n",
    "            activation=\"relu\",\n",
    "            kernel_regularizer=reg_l2\n",
    "        ))\n",
    "        model.add(layers.Dropout(rate=hp.Float('dense_dropout', min_value=0.2, max_value=0.5, step=0.05)))\n",
    "\n",
    "        # Output Layer\n",
    "        model.add(layers.Dense(1, activation='linear'))\n",
    "\n",
    "        #========================================================================================\n",
    "\n",
    "        # Compile the model\n",
    "        model.compile(\n",
    "            loss='mse',\n",
    "            optimizer=Adam(learning_rate=hp.Float('learning_rate', min_value=1e-5, max_value=1e-2, sampling='log')),\n",
    "            metrics=[\"mae\"]\n",
    "        )\n",
    "\n",
    "        return model"
   ]
  },
  {
   "cell_type": "code",
   "execution_count": 141,
   "metadata": {},
   "outputs": [
    {
     "name": "stdout",
     "output_type": "stream",
     "text": [
      "Reloading Tuner from models/temperature_hyperparameters/tuner0.json\n"
     ]
    }
   ],
   "source": [
    "es = EarlyStopping(\n",
    "    monitor=\"val_mae\",\n",
    "    patience=3,\n",
    "    mode=\"min\",\n",
    "    restore_best_weights=True)\n",
    "\n",
    "reduce_lr = ReduceLROnPlateau(\n",
    "    monitor='val_mae',\n",
    "    factor=0.1,\n",
    "    patience=3,\n",
    "    min_lr=1e-6)\n",
    "\n",
    "checkpoint = ModelCheckpoint(\n",
    "    'model_v1_best.keras', \n",
    "    monitor='val_mae',\n",
    "    save_best_only=True,\n",
    "    mode='min', \n",
    "    verbose=1)\n",
    "\n",
    "\n",
    "tuner = RandomSearch(\n",
    "    LSTMModel(),  # The HyperModel class\n",
    "    objective='val_mae',  # We want to minimize validation MAE\n",
    "    max_trials=10,  # Number of different hyperparameter combinations to try\n",
    "    executions_per_trial=1,  # Number of models to train per trial\n",
    "    directory='models',  # Directory to store logs and models\n",
    "    project_name='temperature_hyperparameters')\n",
    "\n",
    "tuner.search(\n",
    "    X_train,\n",
    "    y_train,\n",
    "    epochs=50,\n",
    "    batch_size=128,\n",
    "    validation_split=0.3,  # Use a validation split\n",
    "    callbacks=[es, reduce_lr, checkpoint])"
   ]
  },
  {
   "cell_type": "code",
   "execution_count": 142,
   "metadata": {},
   "outputs": [
    {
     "name": "stdout",
     "output_type": "stream",
     "text": [
      "Best Hyperparameters: {'l2_reg': 0.07200000000000001, 'units': 48, 'recurrent_dropout': 0.2, 'dropout': 0.25, 'dense_units': 96, 'dense_dropout': 0.4, 'learning_rate': 0.004817189232254613}\n",
      "Epoch 1/100\n",
      "\u001b[1m542/542\u001b[0m \u001b[32m━━━━━━━━━━━━━━━━━━━━\u001b[0m\u001b[37m\u001b[0m \u001b[1m0s\u001b[0m 61ms/step - loss: 0.7658 - mae: 0.4194\n",
      "Epoch 1: val_mae improved from inf to 0.35107, saving model to model_v1_best.keras\n",
      "\u001b[1m542/542\u001b[0m \u001b[32m━━━━━━━━━━━━━━━━━━━━\u001b[0m\u001b[37m\u001b[0m \u001b[1m40s\u001b[0m 68ms/step - loss: 0.7651 - mae: 0.4193 - val_loss: 0.2196 - val_mae: 0.3511 - learning_rate: 0.0048\n",
      "Epoch 2/100\n",
      "\u001b[1m542/542\u001b[0m \u001b[32m━━━━━━━━━━━━━━━━━━━━\u001b[0m\u001b[37m\u001b[0m \u001b[1m0s\u001b[0m 59ms/step - loss: 0.2210 - mae: 0.3569\n",
      "Epoch 2: val_mae improved from 0.35107 to 0.34841, saving model to model_v1_best.keras\n",
      "\u001b[1m542/542\u001b[0m \u001b[32m━━━━━━━━━━━━━━━━━━━━\u001b[0m\u001b[37m\u001b[0m \u001b[1m36s\u001b[0m 66ms/step - loss: 0.2210 - mae: 0.3569 - val_loss: 0.2166 - val_mae: 0.3484 - learning_rate: 0.0048\n",
      "Epoch 3/100\n",
      "\u001b[1m542/542\u001b[0m \u001b[32m━━━━━━━━━━━━━━━━━━━━\u001b[0m\u001b[37m\u001b[0m \u001b[1m0s\u001b[0m 61ms/step - loss: 0.2070 - mae: 0.3461\n",
      "Epoch 3: val_mae did not improve from 0.34841\n",
      "\u001b[1m542/542\u001b[0m \u001b[32m━━━━━━━━━━━━━━━━━━━━\u001b[0m\u001b[37m\u001b[0m \u001b[1m36s\u001b[0m 66ms/step - loss: 0.2070 - mae: 0.3461 - val_loss: 0.2114 - val_mae: 0.3491 - learning_rate: 0.0048\n",
      "Epoch 4/100\n",
      "\u001b[1m542/542\u001b[0m \u001b[32m━━━━━━━━━━━━━━━━━━━━\u001b[0m\u001b[37m\u001b[0m \u001b[1m0s\u001b[0m 60ms/step - loss: 0.2026 - mae: 0.3416\n",
      "Epoch 4: val_mae did not improve from 0.34841\n",
      "\u001b[1m542/542\u001b[0m \u001b[32m━━━━━━━━━━━━━━━━━━━━\u001b[0m\u001b[37m\u001b[0m \u001b[1m36s\u001b[0m 66ms/step - loss: 0.2026 - mae: 0.3416 - val_loss: 0.2149 - val_mae: 0.3532 - learning_rate: 0.0048\n",
      "Epoch 5/100\n",
      "\u001b[1m542/542\u001b[0m \u001b[32m━━━━━━━━━━━━━━━━━━━━\u001b[0m\u001b[37m\u001b[0m \u001b[1m0s\u001b[0m 60ms/step - loss: 0.1964 - mae: 0.3366\n",
      "Epoch 5: val_mae did not improve from 0.34841\n",
      "\u001b[1m542/542\u001b[0m \u001b[32m━━━━━━━━━━━━━━━━━━━━\u001b[0m\u001b[37m\u001b[0m \u001b[1m36s\u001b[0m 66ms/step - loss: 0.1964 - mae: 0.3366 - val_loss: 0.2107 - val_mae: 0.3503 - learning_rate: 0.0048\n",
      "\u001b[1m1395/1395\u001b[0m \u001b[32m━━━━━━━━━━━━━━━━━━━━\u001b[0m\u001b[37m\u001b[0m \u001b[1m15s\u001b[0m 11ms/step - loss: 0.2268 - mae: 0.3691\n",
      "Test MAE: 0.3652361333370209 Celsius degrees\n"
     ]
    }
   ],
   "source": [
    "# Get the best hyperparameters\n",
    "best_hps = tuner.get_best_hyperparameters(num_trials=1)[0]\n",
    "print(f\"Best Hyperparameters: {best_hps.values}\")\n",
    "\n",
    "# Build the best model with those hyperparameters\n",
    "best_model = tuner.hypermodel.build(best_hps)\n",
    "\n",
    "# Train the best model\n",
    "history = best_model.fit(\n",
    "    X_train,\n",
    "    y_train,\n",
    "    validation_split=0.2,\n",
    "    epochs=100,\n",
    "    batch_size=128,\n",
    "    callbacks=[es, reduce_lr, checkpoint])\n",
    "\n",
    "# Evaluate the best model on the test set\n",
    "test_results = best_model.evaluate(X_test, y_test)\n",
    "print(f\"Test MAE: {test_results[1]} Celsius degrees\")"
   ]
  },
  {
   "cell_type": "code",
   "execution_count": 146,
   "metadata": {},
   "outputs": [
    {
     "data": {
      "image/png": "[encoded data removed]",
      "text/plain": [
       "<Figure size 2000x700 with 2 Axes>"
      ]
     },
     "metadata": {},
     "output_type": "display_data"
    }
   ],
   "source": [
    "plot_history(history);"
   ]
  },
  {
   "cell_type": "markdown",
   "metadata": {},
   "source": [
    "# 5.3. Safe/ Load model"
   ]
  },
  {
   "cell_type": "code",
   "execution_count": 147,
   "metadata": {},
   "outputs": [],
   "source": [
    "from tensorflow.keras.models import Sequential, save_model, load_model\n",
    "from tensorflow.keras import models"
   ]
  },
  {
   "cell_type": "code",
   "execution_count": 148,
   "metadata": {},
   "outputs": [],
   "source": [
    "relative_path = os.path.dirname(current_dir)\n",
    "models_folder = os.path.join(relative_path, \"powder_alert2.0/models\")\n",
    "\n",
    "save_as_keras = os.path.join(models_folder, 'model_production.keras')"
   ]
  },
  {
   "cell_type": "code",
   "execution_count": 149,
   "metadata": {},
   "outputs": [],
   "source": [
    "model.save(save_as_keras)"
   ]
  },
  {
   "cell_type": "code",
   "execution_count": 150,
   "metadata": {},
   "outputs": [],
   "source": [
    "loaded_model_keras = tf.keras.models.load_model(save_as_keras)"
   ]
  },
  {
   "cell_type": "markdown",
   "metadata": {},
   "source": [
    "# 6. Prediction"
   ]
  },
  {
   "cell_type": "code",
   "execution_count": 151,
   "metadata": {},
   "outputs": [],
   "source": [
    "from datetime import datetime, timedelta"
   ]
  },
  {
   "cell_type": "code",
   "execution_count": 167,
   "metadata": {},
   "outputs": [],
   "source": [
    "file_name = \"powder_alert2.0/preprocessed_prediction_data.csv\"\n",
    "file_path = os.path.join(relative_path, file_name)\n",
    "\n",
    "df = pd.read_csv(file_path, parse_dates=['date'], usecols=lambda col: col != '')\n",
    "if 'Unnamed: 0' in df.columns:\n",
    "    df = df.drop(columns=['Unnamed: 0'])"
   ]
  },
  {
   "cell_type": "code",
   "execution_count": 168,
   "metadata": {},
   "outputs": [
    {
     "data": {
      "text/html": [
       "<div>\n",
       "<style scoped>\n",
       "    .dataframe tbody tr th:only-of-type {\n",
       "        vertical-align: middle;\n",
       "    }\n",
       "\n",
       "    .dataframe tbody tr th {\n",
       "        vertical-align: top;\n",
       "    }\n",
       "\n",
       "    .dataframe thead th {\n",
       "        text-align: right;\n",
       "    }\n",
       "</style>\n",
       "<table border=\"1\" class=\"dataframe\">\n",
       "  <thead>\n",
       "    <tr style=\"text-align: right;\">\n",
       "      <th></th>\n",
       "      <th>date</th>\n",
       "      <th>temperature_2m</th>\n",
       "      <th>relative_humidity_2m</th>\n",
       "      <th>dew_point_2m</th>\n",
       "      <th>precipitation</th>\n",
       "      <th>rain</th>\n",
       "      <th>snowfall</th>\n",
       "      <th>snow_depth</th>\n",
       "      <th>weather_code</th>\n",
       "      <th>pressure_msl</th>\n",
       "      <th>surface_pressure</th>\n",
       "      <th>cloud_cover</th>\n",
       "      <th>cloud_cover_low</th>\n",
       "      <th>cloud_cover_mid</th>\n",
       "      <th>cloud_cover_high</th>\n",
       "      <th>et0_fao_evapotranspiration</th>\n",
       "      <th>vapour_pressure_deficit</th>\n",
       "      <th>wind_speed_10m</th>\n",
       "      <th>wind_speed_100m</th>\n",
       "      <th>wind_direction_10m</th>\n",
       "      <th>wind_direction_100m</th>\n",
       "      <th>wind_gusts_10m</th>\n",
       "      <th>sunshine_duration</th>\n",
       "      <th>hour_sin</th>\n",
       "      <th>hour_cos</th>\n",
       "      <th>day_of_week_sin</th>\n",
       "      <th>day_of_week_cos</th>\n",
       "      <th>month_sin</th>\n",
       "      <th>month_cos</th>\n",
       "    </tr>\n",
       "  </thead>\n",
       "  <tbody>\n",
       "    <tr>\n",
       "      <th>0</th>\n",
       "      <td>2024-12-14 00:00:00</td>\n",
       "      <td>-2.074</td>\n",
       "      <td>55.0</td>\n",
       "      <td>-9.914110</td>\n",
       "      <td>0.0</td>\n",
       "      <td>0.0</td>\n",
       "      <td>0.0</td>\n",
       "      <td>0.22</td>\n",
       "      <td>3.0</td>\n",
       "      <td>1021.8</td>\n",
       "      <td>816.5264</td>\n",
       "      <td>100.0</td>\n",
       "      <td>0.0</td>\n",
       "      <td>100.0</td>\n",
       "      <td>100.0</td>\n",
       "      <td>0.012611</td>\n",
       "      <td>0.236865</td>\n",
       "      <td>7.28055</td>\n",
       "      <td>3.396233</td>\n",
       "      <td>261.46933</td>\n",
       "      <td>212.00534</td>\n",
       "      <td>25.919998</td>\n",
       "      <td>0.0</td>\n",
       "      <td>0.000000</td>\n",
       "      <td>1.000000</td>\n",
       "      <td>-0.974928</td>\n",
       "      <td>-0.222521</td>\n",
       "      <td>-0.5</td>\n",
       "      <td>0.866025</td>\n",
       "    </tr>\n",
       "    <tr>\n",
       "      <th>1</th>\n",
       "      <td>2024-12-14 01:00:00</td>\n",
       "      <td>-2.324</td>\n",
       "      <td>56.0</td>\n",
       "      <td>-9.919742</td>\n",
       "      <td>0.0</td>\n",
       "      <td>0.0</td>\n",
       "      <td>0.0</td>\n",
       "      <td>0.22</td>\n",
       "      <td>3.0</td>\n",
       "      <td>1021.4</td>\n",
       "      <td>816.0416</td>\n",
       "      <td>100.0</td>\n",
       "      <td>0.0</td>\n",
       "      <td>100.0</td>\n",
       "      <td>100.0</td>\n",
       "      <td>0.011692</td>\n",
       "      <td>0.227360</td>\n",
       "      <td>7.20000</td>\n",
       "      <td>3.600000</td>\n",
       "      <td>270.00000</td>\n",
       "      <td>216.86998</td>\n",
       "      <td>20.519999</td>\n",
       "      <td>0.0</td>\n",
       "      <td>0.258819</td>\n",
       "      <td>0.965926</td>\n",
       "      <td>-0.974928</td>\n",
       "      <td>-0.222521</td>\n",
       "      <td>-0.5</td>\n",
       "      <td>0.866025</td>\n",
       "    </tr>\n",
       "  </tbody>\n",
       "</table>\n",
       "</div>"
      ],
      "text/plain": [
       "                 date  temperature_2m  relative_humidity_2m  dew_point_2m  \\\n",
       "0 2024-12-14 00:00:00          -2.074                  55.0     -9.914110   \n",
       "1 2024-12-14 01:00:00          -2.324                  56.0     -9.919742   \n",
       "\n",
       "   precipitation  rain  snowfall  snow_depth  weather_code  pressure_msl  \\\n",
       "0            0.0   0.0       0.0        0.22           3.0        1021.8   \n",
       "1            0.0   0.0       0.0        0.22           3.0        1021.4   \n",
       "\n",
       "   surface_pressure  cloud_cover  cloud_cover_low  cloud_cover_mid  \\\n",
       "0          816.5264        100.0              0.0            100.0   \n",
       "1          816.0416        100.0              0.0            100.0   \n",
       "\n",
       "   cloud_cover_high  et0_fao_evapotranspiration  vapour_pressure_deficit  \\\n",
       "0             100.0                    0.012611                 0.236865   \n",
       "1             100.0                    0.011692                 0.227360   \n",
       "\n",
       "   wind_speed_10m  wind_speed_100m  wind_direction_10m  wind_direction_100m  \\\n",
       "0         7.28055         3.396233           261.46933            212.00534   \n",
       "1         7.20000         3.600000           270.00000            216.86998   \n",
       "\n",
       "   wind_gusts_10m  sunshine_duration  hour_sin  hour_cos  day_of_week_sin  \\\n",
       "0       25.919998                0.0  0.000000  1.000000        -0.974928   \n",
       "1       20.519999                0.0  0.258819  0.965926        -0.974928   \n",
       "\n",
       "   day_of_week_cos  month_sin  month_cos  \n",
       "0        -0.222521       -0.5   0.866025  \n",
       "1        -0.222521       -0.5   0.866025  "
      ]
     },
     "execution_count": 168,
     "metadata": {},
     "output_type": "execute_result"
    }
   ],
   "source": [
    "df.head(2)"
   ]
  },
  {
   "cell_type": "code",
   "execution_count": 183,
   "metadata": {},
   "outputs": [],
   "source": [
    "current_time = datetime.now()\n",
    "last_48h = df[(df['date'] <= current_time) & (df['date'] > current_time - timedelta(hours=48))]"
   ]
  },
  {
   "cell_type": "code",
   "execution_count": 184,
   "metadata": {},
   "outputs": [],
   "source": [
    "last_48h = last_48h.drop(columns='date')"
   ]
  },
  {
   "cell_type": "code",
   "execution_count": 185,
   "metadata": {},
   "outputs": [],
   "source": [
    "last_48h = np.expand_dims(last_48h, axis=0)"
   ]
  },
  {
   "cell_type": "code",
   "execution_count": 186,
   "metadata": {},
   "outputs": [
    {
     "data": {
      "text/plain": [
       "(1, 48, 28)"
      ]
     },
     "execution_count": 186,
     "metadata": {},
     "output_type": "execute_result"
    }
   ],
   "source": [
    "last_48h.shape"
   ]
  },
  {
   "cell_type": "code",
   "execution_count": 187,
   "metadata": {},
   "outputs": [
    {
     "data": {
      "text/plain": [
       "dtype('float64')"
      ]
     },
     "execution_count": 187,
     "metadata": {},
     "output_type": "execute_result"
    }
   ],
   "source": [
    "last_48h.dtype"
   ]
  },
  {
   "cell_type": "code",
   "execution_count": 188,
   "metadata": {},
   "outputs": [],
   "source": [
    "best_model = loaded_model_keras"
   ]
  },
  {
   "cell_type": "code",
   "execution_count": 190,
   "metadata": {},
   "outputs": [
    {
     "name": "stdout",
     "output_type": "stream",
     "text": [
      "\u001b[1m1/1\u001b[0m \u001b[32m━━━━━━━━━━━━━━━━━━━━\u001b[0m\u001b[37m\u001b[0m \u001b[1m0s\u001b[0m 173ms/step\n"
     ]
    }
   ],
   "source": [
    "predictions = best_model.predict(last_48h)"
   ]
  },
  {
   "cell_type": "code",
   "execution_count": 191,
   "metadata": {},
   "outputs": [
    {
     "name": "stdout",
     "output_type": "stream",
     "text": [
      "The temperature for the upcoming 48 h range from -0.6723036766052246 to 0.9374794363975525 Celsius degrees.\n"
     ]
    }
   ],
   "source": [
    "predicted_temperatures = predictions[0]\n",
    "print(f'The temperature for the upcoming 48 h range from {predicted_temperatures.min()} to {predicted_temperatures.max()} Celsius degrees.')"
   ]
  },
  {
   "cell_type": "code",
   "execution_count": 192,
   "metadata": {},
   "outputs": [
    {
     "data": {
      "image/png": "[encoded data removed]",
      "text/plain": [
       "<Figure size 1000x600 with 1 Axes>"
      ]
     },
     "metadata": {},
     "output_type": "display_data"
    }
   ],
   "source": [
    "predicted_df = pd.DataFrame(predicted_temperatures, columns=[\"Predicted Temperature\"])\n",
    "predicted_df[\"Hour\"] = pd.date_range(start=pd.to_datetime('now'), periods=48, freq='h')\n",
    "\n",
    "# Plot the predicted temperatures\n",
    "plt.figure(figsize=(10,6))\n",
    "plt.plot(predicted_df[\"Hour\"], predicted_df[\"Predicted Temperature\"], marker='o')\n",
    "plt.title(\"Predicted Temperature for the Next 48 Hours\")\n",
    "plt.xlabel(\"Hour\")\n",
    "plt.ylabel(\"Temperature (°C)\")\n",
    "plt.grid(True)\n",
    "plt.xticks(rotation=45)\n",
    "plt.show();"
   ]
  },
  {
   "cell_type": "code",
   "execution_count": null,
   "metadata": {},
   "outputs": [],
   "source": []
  }
 ],
 "metadata": {
  "environment": {
   "kernel": "conda-base-py",
   "name": "workbench-notebooks.m126",
   "type": "gcloud",
   "uri": "us-docker.pkg.dev/deeplearning-platform-release/gcr.io/workbench-notebooks:m126"
  },
  "kernelspec": {
   "display_name": "Python 3 (ipykernel)",
   "language": "python",
   "name": "conda-base-py"
  },
  "language_info": {
   "codemirror_mode": {
    "name": "ipython",
    "version": 3
   },
   "file_extension": ".py",
   "mimetype": "text/x-python",
   "name": "python",
   "nbconvert_exporter": "python",
   "pygments_lexer": "ipython3",
   "version": "3.10.15"
  }
 },
 "nbformat": 4,
 "nbformat_minor": 4
}
