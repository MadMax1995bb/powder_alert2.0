{
 "cells": [
  {
   "cell_type": "markdown",
   "metadata": {
    "jp-MarkdownHeadingCollapsed": true
   },
   "source": [
    "# 0.1 Imports"
   ]
  },
  {
   "cell_type": "code",
   "execution_count": 1,
   "metadata": {
    "collapsed": true,
    "jupyter": {
     "outputs_hidden": true
    },
    "scrolled": true
   },
   "outputs": [
    {
     "name": "stderr",
     "output_type": "stream",
     "text": [
      "2024-12-13 10:02:27.760852: I external/local_xla/xla/tsl/cuda/cudart_stub.cc:32] Could not find cuda drivers on your machine, GPU will not be used.\n",
      "2024-12-13 10:02:27.767315: I external/local_xla/xla/tsl/cuda/cudart_stub.cc:32] Could not find cuda drivers on your machine, GPU will not be used.\n",
      "2024-12-13 10:02:27.786247: E external/local_xla/xla/stream_executor/cuda/cuda_fft.cc:477] Unable to register cuFFT factory: Attempting to register factory for plugin cuFFT when one has already been registered\n",
      "WARNING: All log messages before absl::InitializeLog() is called are written to STDERR\n",
      "E0000 00:00:1734084147.821030    6162 cuda_dnn.cc:8310] Unable to register cuDNN factory: Attempting to register factory for plugin cuDNN when one has already been registered\n",
      "E0000 00:00:1734084147.829258    6162 cuda_blas.cc:1418] Unable to register cuBLAS factory: Attempting to register factory for plugin cuBLAS when one has already been registered\n",
      "2024-12-13 10:02:27.864439: I tensorflow/core/platform/cpu_feature_guard.cc:210] This TensorFlow binary is optimized to use available CPU instructions in performance-critical operations.\n",
      "To enable the following instructions: AVX2 FMA, in other operations, rebuild TensorFlow with the appropriate compiler flags.\n"
     ]
    }
   ],
   "source": [
    "import pandas as pd\n",
    "import numpy as np\n",
    "pd.set_option(\"display.max_columns\", None)\n",
    "\n",
    "import matplotlib.pyplot as plt\n",
    "import seaborn as sns\n",
    "\n",
    "import tensorflow as tf\n",
    "\n",
    "import os\n",
    "\n",
    "from typing import Dict, List, Tuple, Sequence"
   ]
  },
  {
   "cell_type": "markdown",
   "metadata": {
    "jp-MarkdownHeadingCollapsed": true
   },
   "source": [
    "# 1. Data Import & Cleaning"
   ]
  },
  {
   "cell_type": "code",
   "execution_count": 2,
   "metadata": {},
   "outputs": [
    {
     "data": {
      "text/plain": [
       "'/home/jupyter/powder_alert2.0'"
      ]
     },
     "execution_count": 2,
     "metadata": {},
     "output_type": "execute_result"
    }
   ],
   "source": [
    "current_dir = os.getcwd()\n",
    "current_dir"
   ]
  },
  {
   "cell_type": "code",
   "execution_count": 3,
   "metadata": {},
   "outputs": [
    {
     "data": {
      "text/plain": [
       "'/home/jupyter'"
      ]
     },
     "execution_count": 3,
     "metadata": {},
     "output_type": "execute_result"
    }
   ],
   "source": [
    "relative_path = os.path.dirname(current_dir)\n",
    "relative_path"
   ]
  },
  {
   "cell_type": "code",
   "execution_count": 4,
   "metadata": {},
   "outputs": [],
   "source": [
    "file_name = \"powder_alert2.0/historical_weather_openmeteo_01011979-08122024.csv\"\n",
    "\n",
    "file_path = os.path.join(relative_path, file_name)\n",
    "\n",
    "df = pd.read_csv(file_path, parse_dates=['date'])"
   ]
  },
  {
   "cell_type": "code",
   "execution_count": 5,
   "metadata": {},
   "outputs": [],
   "source": [
    "df['datetime'] = pd.to_datetime(df['date'])  # Convert 'datetime' column to datetime format\n",
    "df.set_index('datetime', inplace=True)\n",
    "\n",
    "df['hour_sin'] = np.sin(2 * np.pi * df.index.hour / 24)\n",
    "df['hour_cos'] = np.cos(2 * np.pi * df.index.hour / 24)\n",
    "\n",
    "df['day_of_week_sin'] = np.sin(2 * np.pi * df.index.dayofweek / 7)\n",
    "df['day_of_week_cos'] = np.cos(2 * np.pi * df.index.dayofweek / 7)\n",
    "\n",
    "df['month_sin'] = np.sin(2 * np.pi * (df.index.month - 1) / 12)\n",
    "df['month_cos'] = np.cos(2 * np.pi * (df.index.month - 1) / 12)"
   ]
  },
  {
   "cell_type": "code",
   "execution_count": 6,
   "metadata": {},
   "outputs": [],
   "source": [
    "df = df.loc[df.index > '2010-01-01']"
   ]
  },
  {
   "cell_type": "code",
   "execution_count": 7,
   "metadata": {},
   "outputs": [],
   "source": [
    "df['date'] = df['date'].dt.tz_localize(None) # remove the UTC"
   ]
  },
  {
   "cell_type": "code",
   "execution_count": 8,
   "metadata": {},
   "outputs": [
    {
     "data": {
      "text/plain": [
       "date                             datetime64[ns]\n",
       "temperature_2m                          float64\n",
       "relative_humidity_2m                    float64\n",
       "dew_point_2m                            float64\n",
       "apparent_temperature                    float64\n",
       "precipitation                           float64\n",
       "rain                                    float64\n",
       "snowfall                                float64\n",
       "snow_depth                              float64\n",
       "weather_code                            float64\n",
       "pressure_msl                            float64\n",
       "surface_pressure                        float64\n",
       "cloud_cover                             float64\n",
       "cloud_cover_low                         float64\n",
       "cloud_cover_mid                         float64\n",
       "cloud_cover_high                        float64\n",
       "et0_fao_evapotranspiration              float64\n",
       "vapour_pressure_deficit                 float64\n",
       "wind_speed_10m                          float64\n",
       "wind_speed_100m                         float64\n",
       "wind_direction_10m                      float64\n",
       "wind_direction_100m                     float64\n",
       "wind_gusts_10m                          float64\n",
       "soil_temperature_0_to_7cm               float64\n",
       "soil_temperature_7_to_28cm              float64\n",
       "soil_temperature_28_to_100cm            float64\n",
       "soil_temperature_100_to_255cm           float64\n",
       "soil_moisture_0_to_7cm                  float64\n",
       "soil_moisture_7_to_28cm                 float64\n",
       "soil_moisture_28_to_100cm               float64\n",
       "soil_moisture_100_to_255cm              float64\n",
       "sunshine_duration                       float64\n",
       "hour_sin                                float64\n",
       "hour_cos                                float64\n",
       "day_of_week_sin                         float64\n",
       "day_of_week_cos                         float64\n",
       "month_sin                               float64\n",
       "month_cos                               float64\n",
       "dtype: object"
      ]
     },
     "execution_count": 8,
     "metadata": {},
     "output_type": "execute_result"
    }
   ],
   "source": [
    "df.dtypes"
   ]
  },
  {
   "cell_type": "code",
   "execution_count": 9,
   "metadata": {},
   "outputs": [
    {
     "data": {
      "text/plain": [
       "(130943, 38)"
      ]
     },
     "execution_count": 9,
     "metadata": {},
     "output_type": "execute_result"
    }
   ],
   "source": [
    "df.shape"
   ]
  },
  {
   "cell_type": "code",
   "execution_count": 10,
   "metadata": {},
   "outputs": [
    {
     "data": {
      "text/html": [
       "<div>\n",
       "<style scoped>\n",
       "    .dataframe tbody tr th:only-of-type {\n",
       "        vertical-align: middle;\n",
       "    }\n",
       "\n",
       "    .dataframe tbody tr th {\n",
       "        vertical-align: top;\n",
       "    }\n",
       "\n",
       "    .dataframe thead th {\n",
       "        text-align: right;\n",
       "    }\n",
       "</style>\n",
       "<table border=\"1\" class=\"dataframe\">\n",
       "  <thead>\n",
       "    <tr style=\"text-align: right;\">\n",
       "      <th></th>\n",
       "      <th>date</th>\n",
       "      <th>temperature_2m</th>\n",
       "      <th>relative_humidity_2m</th>\n",
       "      <th>dew_point_2m</th>\n",
       "      <th>apparent_temperature</th>\n",
       "      <th>precipitation</th>\n",
       "      <th>rain</th>\n",
       "      <th>snowfall</th>\n",
       "      <th>snow_depth</th>\n",
       "      <th>weather_code</th>\n",
       "      <th>pressure_msl</th>\n",
       "      <th>surface_pressure</th>\n",
       "      <th>cloud_cover</th>\n",
       "      <th>cloud_cover_low</th>\n",
       "      <th>cloud_cover_mid</th>\n",
       "      <th>cloud_cover_high</th>\n",
       "      <th>et0_fao_evapotranspiration</th>\n",
       "      <th>vapour_pressure_deficit</th>\n",
       "      <th>wind_speed_10m</th>\n",
       "      <th>wind_speed_100m</th>\n",
       "      <th>wind_direction_10m</th>\n",
       "      <th>wind_direction_100m</th>\n",
       "      <th>wind_gusts_10m</th>\n",
       "      <th>soil_temperature_0_to_7cm</th>\n",
       "      <th>soil_temperature_7_to_28cm</th>\n",
       "      <th>soil_temperature_28_to_100cm</th>\n",
       "      <th>soil_temperature_100_to_255cm</th>\n",
       "      <th>soil_moisture_0_to_7cm</th>\n",
       "      <th>soil_moisture_7_to_28cm</th>\n",
       "      <th>soil_moisture_28_to_100cm</th>\n",
       "      <th>soil_moisture_100_to_255cm</th>\n",
       "      <th>sunshine_duration</th>\n",
       "      <th>hour_sin</th>\n",
       "      <th>hour_cos</th>\n",
       "      <th>day_of_week_sin</th>\n",
       "      <th>day_of_week_cos</th>\n",
       "      <th>month_sin</th>\n",
       "      <th>month_cos</th>\n",
       "    </tr>\n",
       "    <tr>\n",
       "      <th>datetime</th>\n",
       "      <th></th>\n",
       "      <th></th>\n",
       "      <th></th>\n",
       "      <th></th>\n",
       "      <th></th>\n",
       "      <th></th>\n",
       "      <th></th>\n",
       "      <th></th>\n",
       "      <th></th>\n",
       "      <th></th>\n",
       "      <th></th>\n",
       "      <th></th>\n",
       "      <th></th>\n",
       "      <th></th>\n",
       "      <th></th>\n",
       "      <th></th>\n",
       "      <th></th>\n",
       "      <th></th>\n",
       "      <th></th>\n",
       "      <th></th>\n",
       "      <th></th>\n",
       "      <th></th>\n",
       "      <th></th>\n",
       "      <th></th>\n",
       "      <th></th>\n",
       "      <th></th>\n",
       "      <th></th>\n",
       "      <th></th>\n",
       "      <th></th>\n",
       "      <th></th>\n",
       "      <th></th>\n",
       "      <th></th>\n",
       "      <th></th>\n",
       "      <th></th>\n",
       "      <th></th>\n",
       "      <th></th>\n",
       "      <th></th>\n",
       "      <th></th>\n",
       "    </tr>\n",
       "  </thead>\n",
       "  <tbody>\n",
       "    <tr>\n",
       "      <th>2024-12-08 22:00:00+00:00</th>\n",
       "      <td>2024-12-08 22:00:00</td>\n",
       "      <td>NaN</td>\n",
       "      <td>NaN</td>\n",
       "      <td>NaN</td>\n",
       "      <td>NaN</td>\n",
       "      <td>NaN</td>\n",
       "      <td>NaN</td>\n",
       "      <td>NaN</td>\n",
       "      <td>NaN</td>\n",
       "      <td>NaN</td>\n",
       "      <td>NaN</td>\n",
       "      <td>NaN</td>\n",
       "      <td>NaN</td>\n",
       "      <td>NaN</td>\n",
       "      <td>NaN</td>\n",
       "      <td>NaN</td>\n",
       "      <td>NaN</td>\n",
       "      <td>NaN</td>\n",
       "      <td>NaN</td>\n",
       "      <td>NaN</td>\n",
       "      <td>NaN</td>\n",
       "      <td>NaN</td>\n",
       "      <td>NaN</td>\n",
       "      <td>NaN</td>\n",
       "      <td>NaN</td>\n",
       "      <td>NaN</td>\n",
       "      <td>NaN</td>\n",
       "      <td>NaN</td>\n",
       "      <td>NaN</td>\n",
       "      <td>NaN</td>\n",
       "      <td>NaN</td>\n",
       "      <td>NaN</td>\n",
       "      <td>-0.500000</td>\n",
       "      <td>0.866025</td>\n",
       "      <td>-0.781831</td>\n",
       "      <td>0.62349</td>\n",
       "      <td>-0.5</td>\n",
       "      <td>0.866025</td>\n",
       "    </tr>\n",
       "    <tr>\n",
       "      <th>2024-12-08 23:00:00+00:00</th>\n",
       "      <td>2024-12-08 23:00:00</td>\n",
       "      <td>NaN</td>\n",
       "      <td>NaN</td>\n",
       "      <td>NaN</td>\n",
       "      <td>NaN</td>\n",
       "      <td>NaN</td>\n",
       "      <td>NaN</td>\n",
       "      <td>NaN</td>\n",
       "      <td>NaN</td>\n",
       "      <td>NaN</td>\n",
       "      <td>NaN</td>\n",
       "      <td>NaN</td>\n",
       "      <td>NaN</td>\n",
       "      <td>NaN</td>\n",
       "      <td>NaN</td>\n",
       "      <td>NaN</td>\n",
       "      <td>NaN</td>\n",
       "      <td>NaN</td>\n",
       "      <td>NaN</td>\n",
       "      <td>NaN</td>\n",
       "      <td>NaN</td>\n",
       "      <td>NaN</td>\n",
       "      <td>NaN</td>\n",
       "      <td>NaN</td>\n",
       "      <td>NaN</td>\n",
       "      <td>NaN</td>\n",
       "      <td>NaN</td>\n",
       "      <td>NaN</td>\n",
       "      <td>NaN</td>\n",
       "      <td>NaN</td>\n",
       "      <td>NaN</td>\n",
       "      <td>NaN</td>\n",
       "      <td>-0.258819</td>\n",
       "      <td>0.965926</td>\n",
       "      <td>-0.781831</td>\n",
       "      <td>0.62349</td>\n",
       "      <td>-0.5</td>\n",
       "      <td>0.866025</td>\n",
       "    </tr>\n",
       "  </tbody>\n",
       "</table>\n",
       "</div>"
      ],
      "text/plain": [
       "                                         date  temperature_2m  \\\n",
       "datetime                                                        \n",
       "2024-12-08 22:00:00+00:00 2024-12-08 22:00:00             NaN   \n",
       "2024-12-08 23:00:00+00:00 2024-12-08 23:00:00             NaN   \n",
       "\n",
       "                           relative_humidity_2m  dew_point_2m  \\\n",
       "datetime                                                        \n",
       "2024-12-08 22:00:00+00:00                   NaN           NaN   \n",
       "2024-12-08 23:00:00+00:00                   NaN           NaN   \n",
       "\n",
       "                           apparent_temperature  precipitation  rain  \\\n",
       "datetime                                                               \n",
       "2024-12-08 22:00:00+00:00                   NaN            NaN   NaN   \n",
       "2024-12-08 23:00:00+00:00                   NaN            NaN   NaN   \n",
       "\n",
       "                           snowfall  snow_depth  weather_code  pressure_msl  \\\n",
       "datetime                                                                      \n",
       "2024-12-08 22:00:00+00:00       NaN         NaN           NaN           NaN   \n",
       "2024-12-08 23:00:00+00:00       NaN         NaN           NaN           NaN   \n",
       "\n",
       "                           surface_pressure  cloud_cover  cloud_cover_low  \\\n",
       "datetime                                                                    \n",
       "2024-12-08 22:00:00+00:00               NaN          NaN              NaN   \n",
       "2024-12-08 23:00:00+00:00               NaN          NaN              NaN   \n",
       "\n",
       "                           cloud_cover_mid  cloud_cover_high  \\\n",
       "datetime                                                       \n",
       "2024-12-08 22:00:00+00:00              NaN               NaN   \n",
       "2024-12-08 23:00:00+00:00              NaN               NaN   \n",
       "\n",
       "                           et0_fao_evapotranspiration  \\\n",
       "datetime                                                \n",
       "2024-12-08 22:00:00+00:00                         NaN   \n",
       "2024-12-08 23:00:00+00:00                         NaN   \n",
       "\n",
       "                           vapour_pressure_deficit  wind_speed_10m  \\\n",
       "datetime                                                             \n",
       "2024-12-08 22:00:00+00:00                      NaN             NaN   \n",
       "2024-12-08 23:00:00+00:00                      NaN             NaN   \n",
       "\n",
       "                           wind_speed_100m  wind_direction_10m  \\\n",
       "datetime                                                         \n",
       "2024-12-08 22:00:00+00:00              NaN                 NaN   \n",
       "2024-12-08 23:00:00+00:00              NaN                 NaN   \n",
       "\n",
       "                           wind_direction_100m  wind_gusts_10m  \\\n",
       "datetime                                                         \n",
       "2024-12-08 22:00:00+00:00                  NaN             NaN   \n",
       "2024-12-08 23:00:00+00:00                  NaN             NaN   \n",
       "\n",
       "                           soil_temperature_0_to_7cm  \\\n",
       "datetime                                               \n",
       "2024-12-08 22:00:00+00:00                        NaN   \n",
       "2024-12-08 23:00:00+00:00                        NaN   \n",
       "\n",
       "                           soil_temperature_7_to_28cm  \\\n",
       "datetime                                                \n",
       "2024-12-08 22:00:00+00:00                         NaN   \n",
       "2024-12-08 23:00:00+00:00                         NaN   \n",
       "\n",
       "                           soil_temperature_28_to_100cm  \\\n",
       "datetime                                                  \n",
       "2024-12-08 22:00:00+00:00                           NaN   \n",
       "2024-12-08 23:00:00+00:00                           NaN   \n",
       "\n",
       "                           soil_temperature_100_to_255cm  \\\n",
       "datetime                                                   \n",
       "2024-12-08 22:00:00+00:00                            NaN   \n",
       "2024-12-08 23:00:00+00:00                            NaN   \n",
       "\n",
       "                           soil_moisture_0_to_7cm  soil_moisture_7_to_28cm  \\\n",
       "datetime                                                                     \n",
       "2024-12-08 22:00:00+00:00                     NaN                      NaN   \n",
       "2024-12-08 23:00:00+00:00                     NaN                      NaN   \n",
       "\n",
       "                           soil_moisture_28_to_100cm  \\\n",
       "datetime                                               \n",
       "2024-12-08 22:00:00+00:00                        NaN   \n",
       "2024-12-08 23:00:00+00:00                        NaN   \n",
       "\n",
       "                           soil_moisture_100_to_255cm  sunshine_duration  \\\n",
       "datetime                                                                   \n",
       "2024-12-08 22:00:00+00:00                         NaN                NaN   \n",
       "2024-12-08 23:00:00+00:00                         NaN                NaN   \n",
       "\n",
       "                           hour_sin  hour_cos  day_of_week_sin  \\\n",
       "datetime                                                         \n",
       "2024-12-08 22:00:00+00:00 -0.500000  0.866025        -0.781831   \n",
       "2024-12-08 23:00:00+00:00 -0.258819  0.965926        -0.781831   \n",
       "\n",
       "                           day_of_week_cos  month_sin  month_cos  \n",
       "datetime                                                          \n",
       "2024-12-08 22:00:00+00:00          0.62349       -0.5   0.866025  \n",
       "2024-12-08 23:00:00+00:00          0.62349       -0.5   0.866025  "
      ]
     },
     "execution_count": 10,
     "metadata": {},
     "output_type": "execute_result"
    }
   ],
   "source": [
    "df.tail(2)"
   ]
  },
  {
   "cell_type": "code",
   "execution_count": 11,
   "metadata": {},
   "outputs": [
    {
     "data": {
      "text/plain": [
       "Index(['date', 'temperature_2m', 'relative_humidity_2m', 'dew_point_2m',\n",
       "       'apparent_temperature', 'precipitation', 'rain', 'snowfall',\n",
       "       'snow_depth', 'weather_code', 'pressure_msl', 'surface_pressure',\n",
       "       'cloud_cover', 'cloud_cover_low', 'cloud_cover_mid', 'cloud_cover_high',\n",
       "       'et0_fao_evapotranspiration', 'vapour_pressure_deficit',\n",
       "       'wind_speed_10m', 'wind_speed_100m', 'wind_direction_10m',\n",
       "       'wind_direction_100m', 'wind_gusts_10m', 'soil_temperature_0_to_7cm',\n",
       "       'soil_temperature_7_to_28cm', 'soil_temperature_28_to_100cm',\n",
       "       'soil_temperature_100_to_255cm', 'soil_moisture_0_to_7cm',\n",
       "       'soil_moisture_7_to_28cm', 'soil_moisture_28_to_100cm',\n",
       "       'soil_moisture_100_to_255cm', 'sunshine_duration', 'hour_sin',\n",
       "       'hour_cos', 'day_of_week_sin', 'day_of_week_cos', 'month_sin',\n",
       "       'month_cos'],\n",
       "      dtype='object')"
      ]
     },
     "execution_count": 11,
     "metadata": {},
     "output_type": "execute_result"
    }
   ],
   "source": [
    "df.columns"
   ]
  },
  {
   "cell_type": "code",
   "execution_count": 12,
   "metadata": {},
   "outputs": [
    {
     "data": {
      "image/png": "[encoded data removed]",
      "text/plain": [
       "<Figure size 640x480 with 1 Axes>"
      ]
     },
     "metadata": {},
     "output_type": "display_data"
    }
   ],
   "source": [
    "df.plot(y='temperature_2m');"
   ]
  },
  {
   "cell_type": "code",
   "execution_count": 13,
   "metadata": {},
   "outputs": [],
   "source": [
    "df = df.drop_duplicates()\n",
    "df = df.dropna()"
   ]
  },
  {
   "cell_type": "markdown",
   "metadata": {
    "jp-MarkdownHeadingCollapsed": true
   },
   "source": [
    "# 2. Dataset"
   ]
  },
  {
   "cell_type": "code",
   "execution_count": 14,
   "metadata": {},
   "outputs": [],
   "source": [
    "correlation_matrix = df.corr()\n",
    "temperature_corr = correlation_matrix['temperature_2m']\n",
    "high_corr_features = temperature_corr[abs(temperature_corr) > 0.55]"
   ]
  },
  {
   "cell_type": "code",
   "execution_count": 15,
   "metadata": {},
   "outputs": [],
   "source": [
    "features = [\n",
    "    \"temperature_2m\",\n",
    "    \"dew_point_2m\",\n",
    "    \"apparent_temperature\",\n",
    "    \"snow_depth\",\n",
    "    \"et0_fao_evapotranspiration\",\n",
    "    \"vapour_pressure_deficit\",\n",
    "    \"soil_temperature_0_to_7cm\",\n",
    "    \"soil_temperature_7_to_28cm\",\n",
    "    \"soil_temperature_28_to_100cm\",\n",
    "    \"month_cos\"]"
   ]
  },
  {
   "cell_type": "code",
   "execution_count": 16,
   "metadata": {},
   "outputs": [
    {
     "data": {
      "text/html": [
       "<div>\n",
       "<style scoped>\n",
       "    .dataframe tbody tr th:only-of-type {\n",
       "        vertical-align: middle;\n",
       "    }\n",
       "\n",
       "    .dataframe tbody tr th {\n",
       "        vertical-align: top;\n",
       "    }\n",
       "\n",
       "    .dataframe thead th {\n",
       "        text-align: right;\n",
       "    }\n",
       "</style>\n",
       "<table border=\"1\" class=\"dataframe\">\n",
       "  <thead>\n",
       "    <tr style=\"text-align: right;\">\n",
       "      <th></th>\n",
       "      <th>temperature_2m</th>\n",
       "      <th>dew_point_2m</th>\n",
       "      <th>apparent_temperature</th>\n",
       "      <th>snow_depth</th>\n",
       "      <th>et0_fao_evapotranspiration</th>\n",
       "      <th>vapour_pressure_deficit</th>\n",
       "      <th>soil_temperature_0_to_7cm</th>\n",
       "      <th>soil_temperature_7_to_28cm</th>\n",
       "      <th>soil_temperature_28_to_100cm</th>\n",
       "      <th>month_cos</th>\n",
       "    </tr>\n",
       "    <tr>\n",
       "      <th>datetime</th>\n",
       "      <th></th>\n",
       "      <th></th>\n",
       "      <th></th>\n",
       "      <th></th>\n",
       "      <th></th>\n",
       "      <th></th>\n",
       "      <th></th>\n",
       "      <th></th>\n",
       "      <th></th>\n",
       "      <th></th>\n",
       "    </tr>\n",
       "  </thead>\n",
       "  <tbody>\n",
       "    <tr>\n",
       "      <th>2024-12-03 23:00:00+00:00</th>\n",
       "      <td>-2.951</td>\n",
       "      <td>-4.851</td>\n",
       "      <td>-5.981707</td>\n",
       "      <td>0.17</td>\n",
       "      <td>0.0</td>\n",
       "      <td>0.065454</td>\n",
       "      <td>-0.951</td>\n",
       "      <td>-0.701</td>\n",
       "      <td>1.449</td>\n",
       "      <td>0.866025</td>\n",
       "    </tr>\n",
       "  </tbody>\n",
       "</table>\n",
       "</div>"
      ],
      "text/plain": [
       "                           temperature_2m  dew_point_2m  apparent_temperature  \\\n",
       "datetime                                                                        \n",
       "2024-12-03 23:00:00+00:00          -2.951        -4.851             -5.981707   \n",
       "\n",
       "                           snow_depth  et0_fao_evapotranspiration  \\\n",
       "datetime                                                            \n",
       "2024-12-03 23:00:00+00:00        0.17                         0.0   \n",
       "\n",
       "                           vapour_pressure_deficit  soil_temperature_0_to_7cm  \\\n",
       "datetime                                                                        \n",
       "2024-12-03 23:00:00+00:00                 0.065454                     -0.951   \n",
       "\n",
       "                           soil_temperature_7_to_28cm  \\\n",
       "datetime                                                \n",
       "2024-12-03 23:00:00+00:00                      -0.701   \n",
       "\n",
       "                           soil_temperature_28_to_100cm  month_cos  \n",
       "datetime                                                            \n",
       "2024-12-03 23:00:00+00:00                         1.449   0.866025  "
      ]
     },
     "execution_count": 16,
     "metadata": {},
     "output_type": "execute_result"
    }
   ],
   "source": [
    "features = [col for col in features if col in df.columns]\n",
    "df = df[features]\n",
    "df.tail(1)"
   ]
  },
  {
   "cell_type": "markdown",
   "metadata": {
    "jp-MarkdownHeadingCollapsed": true
   },
   "source": [
    "# 3. Folds"
   ]
  },
  {
   "cell_type": "code",
   "execution_count": 17,
   "metadata": {},
   "outputs": [
    {
     "name": "stdout",
     "output_type": "stream",
     "text": [
      "DS includes 130319 rows --> hours\n",
      "DS includes 5429.958333333333 --> days\n",
      "DS includes 775.7083333333333 --> weeks\n",
      "DS includes 193.92708333333331 --> months\n",
      "DS includes 16.160590277777775 --> years\n"
     ]
    }
   ],
   "source": [
    "rows = df.shape[0]\n",
    "days = rows/24\n",
    "weeks = days/7\n",
    "months = weeks/4\n",
    "years = months/ 12\n",
    "print(f'DS includes {rows} rows --> hours')\n",
    "print(f'DS includes {days} --> days')\n",
    "print(f'DS includes {weeks} --> weeks')\n",
    "print(f'DS includes {months} --> months')\n",
    "print(f'DS includes {years} --> years')"
   ]
  },
  {
   "cell_type": "code",
   "execution_count": 18,
   "metadata": {},
   "outputs": [],
   "source": [
    "# Folds\n",
    "FOLD_LENGTH = rows      # each fold will have 1 years of data\n",
    "FOLD_STRIDE = 1 # sliding half a year\n",
    "\n",
    "# Temporal Train-Test split\n",
    "TRAIN_TEST_RATIO = 0.66\n",
    "N_TRAIN = 6666 # number_of_sequences_train for each fold_train\n",
    "N_TEST =  3333 # number_of_sequences_test for each fold_test\n",
    "\n",
    "# Inputs\n",
    "N_FEATURES = 10\n",
    "INPUT_LENGTH = 24 # - Records every hour = 48 hours\n",
    "                    # - During two weeks, which is quite common for weather forecasts\n",
    "\n",
    "# Outputs\n",
    "TARGET = ['temperature_2m']\n",
    "TARGET_COLUMN_IDX = 1 # 'temperature_2m' corresponds to the second column of the df\n",
    "N_TARGETS = 1\n",
    "OUTPUT_LENGTH = N_TARGETS*24 # - Predicting one target, the temperature\n",
    "                              # - for two days with predictions every hour\n",
    "\n",
    "# Additional parameters\n",
    "HORIZON = 1 # - We are predicting next two days"
   ]
  },
  {
   "cell_type": "code",
   "execution_count": 19,
   "metadata": {},
   "outputs": [],
   "source": [
    "def get_folds(\n",
    "    df: pd.DataFrame,\n",
    "    fold_length: int,\n",
    "    fold_stride: int) -> List[pd.DataFrame]:\n",
    "    '''\n",
    "    This function slides through the Time Series dataframe of shape (n_timesteps, n_features) to create folds\n",
    "    - of equal `fold_length`\n",
    "    - using `fold_stride` between each fold\n",
    "\n",
    "    Returns a list of folds, each as a DataFrame\n",
    "    '''\n",
    "\n",
    "    folds = []\n",
    "    for idx in range(0, len(df), fold_stride):\n",
    "        # Exits the loop as soon as the last fold index would exceed the last index\n",
    "        if (idx + fold_length) > len(df):\n",
    "            break\n",
    "        fold = df.iloc[idx:idx + fold_length, :]\n",
    "        folds.append(fold)\n",
    "    return folds"
   ]
  },
  {
   "cell_type": "code",
   "execution_count": 20,
   "metadata": {},
   "outputs": [
    {
     "name": "stdout",
     "output_type": "stream",
     "text": [
      "The function generated 1 folds.\n",
      "Each fold has a shape equal to (130319, 10).\n"
     ]
    }
   ],
   "source": [
    "folds = get_folds(df, FOLD_LENGTH, FOLD_STRIDE)\n",
    "\n",
    "print(f'The function generated {len(folds)} folds.')\n",
    "print(f'Each fold has a shape equal to {folds[0].shape}.')"
   ]
  },
  {
   "cell_type": "code",
   "execution_count": 21,
   "metadata": {},
   "outputs": [],
   "source": [
    "fold = folds[0]"
   ]
  },
  {
   "cell_type": "code",
   "execution_count": 22,
   "metadata": {},
   "outputs": [
    {
     "data": {
      "text/plain": [
       "(130319, 10)"
      ]
     },
     "execution_count": 22,
     "metadata": {},
     "output_type": "execute_result"
    }
   ],
   "source": [
    "fold.shape"
   ]
  },
  {
   "cell_type": "markdown",
   "metadata": {
    "jp-MarkdownHeadingCollapsed": true
   },
   "source": [
    "# 4. Creating Sequences"
   ]
  },
  {
   "cell_type": "code",
   "execution_count": 23,
   "metadata": {},
   "outputs": [],
   "source": [
    "def train_test_split(fold: pd.DataFrame,\n",
    "                     train_test_ratio: float,\n",
    "                     input_length: int,\n",
    "                     horizon: int) -> Tuple[pd.DataFrame]:\n",
    "    '''\n",
    "    Returns a train dataframe and a test dataframe (fold_train, fold_test)\n",
    "    from which one can sample (X,y) sequences.\n",
    "    df_train should contain all the timesteps until round(train_test_ratio * len(fold))\n",
    "    '''\n",
    "\n",
    "    # TRAIN SET\n",
    "    # ======================\n",
    "    last_train_idx = round(train_test_ratio * len(fold))\n",
    "    fold_train = fold.iloc[0:last_train_idx, :]\n",
    "\n",
    "    # TEST SET\n",
    "    # ======================\n",
    "    first_test_idx = last_train_idx - input_length\n",
    "    fold_test = fold.iloc[first_test_idx:, :]\n",
    "\n",
    "    return (fold_train, fold_test)"
   ]
  },
  {
   "cell_type": "code",
   "execution_count": 24,
   "metadata": {},
   "outputs": [],
   "source": [
    "(fold_train, fold_test) = train_test_split(fold,\n",
    "                                           TRAIN_TEST_RATIO,\n",
    "                                           INPUT_LENGTH,\n",
    "                                           HORIZON)"
   ]
  },
  {
   "cell_type": "code",
   "execution_count": 25,
   "metadata": {},
   "outputs": [
    {
     "data": {
      "text/plain": [
       "((86011, 10), (44332, 10))"
      ]
     },
     "execution_count": 25,
     "metadata": {},
     "output_type": "execute_result"
    }
   ],
   "source": [
    "fold_train.shape, fold_test.shape"
   ]
  },
  {
   "cell_type": "code",
   "execution_count": 26,
   "metadata": {},
   "outputs": [
    {
     "data": {
      "text/plain": [
       "Timestamp('2010-01-01 01:00:00+0000', tz='UTC')"
      ]
     },
     "execution_count": 26,
     "metadata": {},
     "output_type": "execute_result"
    }
   ],
   "source": [
    "fold_train.index[0]"
   ]
  },
  {
   "cell_type": "code",
   "execution_count": 27,
   "metadata": {},
   "outputs": [
    {
     "name": "stdout",
     "output_type": "stream",
     "text": [
      "##### INPUTS #####\n",
      "- INPUT_LENGTH = 24 timesteps = 1 days = 0 weeks\n",
      "- N_FEATURES = 10\n",
      "##### OUTPUTS #####\n",
      "- OUTPUT_LENGTH = 24 timesteps = 1 day(s)\n",
      "- N_TARGETS = 1\n",
      "##### PARAMETERS #####\n",
      "- HORIZON = 1 timesteps = 0 day(s)\n",
      "##### TRAIN SET #####\n",
      "- The training fold starts at index 2010-01-01 01:00:00+00:00 and stops at index 2019-10-24 19:00:00+00:00.\n",
      "##### TEST SET #####\n",
      "- The test fold starts at index 2019-10-23 20:00:00+00:00 and stops at index 2024-12-03 23:00:00+00:00.\n"
     ]
    }
   ],
   "source": [
    "# Inputs\n",
    "print(\"##### INPUTS #####\")\n",
    "print(f'- INPUT_LENGTH = {INPUT_LENGTH} timesteps = {int(INPUT_LENGTH/24)} days = {int(INPUT_LENGTH/24/7)} weeks')\n",
    "print(f'- N_FEATURES = {N_FEATURES}')\n",
    "# Outputs\n",
    "print(\"##### OUTPUTS #####\")\n",
    "print(f'- OUTPUT_LENGTH = {OUTPUT_LENGTH} timesteps = {int(OUTPUT_LENGTH/24)} day(s)')\n",
    "print(f'- N_TARGETS = {N_TARGETS}')\n",
    "# Parameters\n",
    "print(\"##### PARAMETERS #####\")\n",
    "print(f'- HORIZON = {HORIZON} timesteps = {int(HORIZON/24)} day(s)')\n",
    "# Train\n",
    "print(\"##### TRAIN SET #####\")\n",
    "print(f\"- The training fold starts at index {fold_train.index[0]} and stops at index {fold_train.index[-1]}.\")\n",
    "# Test\n",
    "print(\"##### TEST SET #####\")\n",
    "print(f\"- The test fold starts at index {fold_test.index[0]} and stops at index {fold_test.index[-1]}.\")"
   ]
  },
  {
   "cell_type": "code",
   "execution_count": 28,
   "metadata": {},
   "outputs": [
    {
     "name": "stdout",
     "output_type": "stream",
     "text": [
      "STRIDE = 1 timesteps = 0 day(s)\n"
     ]
    }
   ],
   "source": [
    "# New: Scanning  through a fold\n",
    "STRIDE = 1 # sliding every day, for instance\n",
    "print(f'STRIDE = {STRIDE} timesteps = {int(STRIDE/24)} day(s)')"
   ]
  },
  {
   "cell_type": "code",
   "execution_count": 29,
   "metadata": {},
   "outputs": [],
   "source": [
    "def get_Xi_yi(first_index: int,\n",
    "              fold: pd.DataFrame,\n",
    "              horizon: int,\n",
    "              input_length: int,\n",
    "              output_length: int) -> Tuple[np.ndarray, np.ndarray]:\n",
    "    '''\n",
    "    - extracts one sequence from a fold\n",
    "    - returns a pair (Xi, yi) with:\n",
    "        * len(Xi) = `input_length` and Xi starting at first_index\n",
    "        * len(yi) = `output_length`\n",
    "        * last_Xi and first_yi separated by the gap = horizon -1\n",
    "    '''\n",
    "\n",
    "    Xi_start = first_index\n",
    "    Xi_last = Xi_start + input_length\n",
    "    yi_start = Xi_last + horizon - 1\n",
    "    yi_last = yi_start + output_length\n",
    "\n",
    "    Xi = fold[Xi_start:Xi_last]\n",
    "    yi = fold[yi_start:yi_last][TARGET]\n",
    "\n",
    "    return (Xi, yi)"
   ]
  },
  {
   "cell_type": "code",
   "execution_count": 30,
   "metadata": {},
   "outputs": [],
   "source": [
    "def get_X_y(fold: pd.DataFrame,\n",
    "            horizon: int,\n",
    "            input_length: int,\n",
    "            output_length: int,\n",
    "            stride: int,\n",
    "            shuffle=False) -> Tuple[np.ndarray, np.ndarray]:\n",
    "    \"\"\"\n",
    "    - Uses `data`, a 2D-array with axis=0 for timesteps, and axis=1 for (targets+covariates columns)\n",
    "    - Returns a Tuple (X,y) of two ndarrays :\n",
    "        * X.shape = (n_samples, input_length, n_covariates)\n",
    "        * y.shape =\n",
    "            (n_samples, output_length, n_targets) if all 3-dimensions are of size > 1\n",
    "            (n_samples, output_length) if n_targets == 1\n",
    "            (n_samples, n_targets) if output_length == 1\n",
    "            (n_samples, ) if both n_targets and lenghts == 1\n",
    "    - You can shuffle the pairs (Xi,yi) of your fold\n",
    "    \"\"\"\n",
    "\n",
    "    X = []\n",
    "    y = []\n",
    "\n",
    "    for i in range(0, len(fold), stride):\n",
    "        ## Extracting a sequence starting at index_i\n",
    "        Xi, yi = get_Xi_yi(first_index=i,\n",
    "                           fold=fold,\n",
    "                           horizon=horizon,\n",
    "                           input_length=input_length,\n",
    "                           output_length=output_length)\n",
    "        ## Exits loop as soon as we reach the end of the dataset\n",
    "        if len(yi) < output_length:\n",
    "            break\n",
    "        X.append(Xi)\n",
    "        y.append(yi)\n",
    "\n",
    "    X = np.array(X)\n",
    "    y = np.array(y)\n",
    "    y = np.squeeze(y)\n",
    "\n",
    "    if shuffle:\n",
    "        idx = np.arange(len(X))\n",
    "        np.random.shuffle(idx)\n",
    "        X = X[idx]\n",
    "        y = y[idx]\n",
    "\n",
    "    return X, y"
   ]
  },
  {
   "cell_type": "code",
   "execution_count": 31,
   "metadata": {},
   "outputs": [
    {
     "name": "stdout",
     "output_type": "stream",
     "text": [
      "Shapes for the training set:\n",
      "X_train.shape = (85964, 24, 10), y_train.shape = (85964, 24)\n",
      "Shapes for the test set:\n",
      "X_test.shape = (44285, 24, 10), y_test.shape = (44285, 24)\n"
     ]
    }
   ],
   "source": [
    "X_train, y_train = get_X_y(fold=fold_train,\n",
    "                           horizon=HORIZON,\n",
    "                           input_length=INPUT_LENGTH,\n",
    "                           output_length=OUTPUT_LENGTH,\n",
    "                           stride=STRIDE)\n",
    "X_test, y_test = get_X_y(fold=fold_test,\n",
    "                         horizon=HORIZON,\n",
    "                         input_length=INPUT_LENGTH,\n",
    "                         output_length=OUTPUT_LENGTH,\n",
    "                         stride=STRIDE)\n",
    "\n",
    "print(\"Shapes for the training set:\")\n",
    "print(f\"X_train.shape = {X_train.shape}, y_train.shape = {y_train.shape}\")\n",
    "\n",
    "print(\"Shapes for the test set:\")\n",
    "print(f\"X_test.shape = {X_test.shape}, y_test.shape = {y_test.shape}\")"
   ]
  },
  {
   "cell_type": "markdown",
   "metadata": {},
   "source": [
    "# 5. Modelling"
   ]
  },
  {
   "cell_type": "markdown",
   "metadata": {},
   "source": [
    "## 5.1 Main Model"
   ]
  },
  {
   "cell_type": "code",
   "execution_count": 32,
   "metadata": {
    "scrolled": true
   },
   "outputs": [],
   "source": [
    "from tensorflow.keras import models\n",
    "from tensorflow.keras import layers\n",
    "from tensorflow.keras import optimizers, metrics\n",
    "from tensorflow.keras.layers import Normalization, BatchNormalization\n",
    "from tensorflow.keras import regularizers\n",
    "from tensorflow.keras.optimizers.schedules import ExponentialDecay\n",
    "from tensorflow.keras.optimizers import Adam\n",
    "from sklearn.model_selection import GridSearchCV\n",
    "\n",
    "def init_model(X_train):\n",
    "    reg_l2 = regularizers.L2(0.1)\n",
    "\n",
    "    #========================================================================================\n",
    "\n",
    "    # 1 - RNN architecture\n",
    "    model = models.Sequential()\n",
    "    model.add(layers.Input(shape=(X_train.shape[1], X_train.shape[2])))\n",
    "\n",
    "    # Recurrent Layer\n",
    "    model.add(layers.LSTM(units=32, activation='tanh',return_sequences=True,\n",
    "                        #   recurrent_dropout=0.3,dropout=0.3\n",
    "                        )\n",
    "                          )\n",
    "\n",
    "    # Hidden Dense Layer that we are regularizing\n",
    "    model.add(layers.Dense(16, activation=\"relu\",\n",
    "                        #    kernel_regularizer = reg_l2\n",
    "                        )\n",
    "                           )\n",
    "    # model.add(layers.Dropout(rate=0.3))\n",
    "\n",
    "    # Predictive Dense Layer\n",
    "    model.add(layers.Dense(1, activation='linear'))\n",
    "\n",
    "    #========================================================================================\n",
    "\n",
    "    # 2 - Compiler\n",
    "    optimizer = Adam(learning_rate=0.0001)\n",
    "    model.compile(loss='mse', optimizer=optimizer, metrics=[\"mae\"])\n",
    "\n",
    "    return model\n"
   ]
  },
  {
   "cell_type": "code",
   "execution_count": 33,
   "metadata": {},
   "outputs": [],
   "source": [
    "from tensorflow.keras.callbacks import EarlyStopping, ModelCheckpoint, ReduceLROnPlateau\n",
    "\n",
    "def fit_model(model: tf.keras.Model, verbose=1) -> Tuple[tf.keras.Model, dict]:\n",
    "\n",
    "    es = EarlyStopping(\n",
    "        monitor=\"val_mae\",\n",
    "        patience=10,\n",
    "        mode=\"min\",\n",
    "        restore_best_weights=True)\n",
    "\n",
    "    reduce_lr = ReduceLROnPlateau(\n",
    "        monitor='val_mae',\n",
    "        factor=0.1,\n",
    "        patience=5,\n",
    "        min_lr=1e-6)\n",
    "\n",
    "    history = model.fit(\n",
    "        X_train,\n",
    "        y_train,\n",
    "        validation_split=0.3,\n",
    "        shuffle=False,\n",
    "        batch_size=64,\n",
    "        epochs=100,\n",
    "        callbacks=[es, reduce_lr],\n",
    "        verbose=verbose)\n",
    "\n",
    "    return model, history"
   ]
  },
  {
   "cell_type": "code",
   "execution_count": 34,
   "metadata": {},
   "outputs": [],
   "source": [
    "def plot_history(history):\n",
    "\n",
    "    fig, ax = plt.subplots(1,2, figsize=(20,7))\n",
    "    # --- LOSS: MSE ---\n",
    "    ax[0].plot(history.history['loss'])\n",
    "    ax[0].plot(history.history['val_loss'])\n",
    "    ax[0].set_title('MSE')\n",
    "    ax[0].set_ylabel('Loss')\n",
    "    ax[0].set_xlabel('Epoch')\n",
    "    ax[0].legend(['Train', 'Validation'], loc='best')\n",
    "    ax[0].grid(axis=\"x\",linewidth=0.5)\n",
    "    ax[0].grid(axis=\"y\",linewidth=0.5)\n",
    "\n",
    "    # --- METRICS:MAE ---\n",
    "\n",
    "    ax[1].plot(history.history['mae'])\n",
    "    ax[1].plot(history.history['val_mae'])\n",
    "    ax[1].set_title('MAE')\n",
    "    ax[1].set_ylabel('MAE')\n",
    "    ax[1].set_xlabel('Epoch')\n",
    "    ax[1].legend(['Train', 'Validation'], loc='best')\n",
    "    ax[1].grid(axis=\"x\",linewidth=0.5)\n",
    "    ax[1].grid(axis=\"y\",linewidth=0.5)\n",
    "\n",
    "    return ax"
   ]
  },
  {
   "cell_type": "code",
   "execution_count": 35,
   "metadata": {},
   "outputs": [
    {
     "name": "stderr",
     "output_type": "stream",
     "text": [
      "2024-12-13 10:04:26.262853: E external/local_xla/xla/stream_executor/cuda/cuda_driver.cc:152] failed call to cuInit: INTERNAL: CUDA error: Failed call to cuInit: UNKNOWN ERROR (303)\n"
     ]
    },
    {
     "data": {
      "text/html": [
       "<pre style=\"white-space:pre;overflow-x:auto;line-height:normal;font-family:Menlo,'DejaVu Sans Mono',consolas,'Courier New',monospace\"><span style=\"font-weight: bold\">Model: \"sequential\"</span>\n",
       "</pre>\n"
      ],
      "text/plain": [
       "\u001b[1mModel: \"sequential\"\u001b[0m\n"
      ]
     },
     "metadata": {},
     "output_type": "display_data"
    },
    {
     "data": {
      "text/html": [
       "<pre style=\"white-space:pre;overflow-x:auto;line-height:normal;font-family:Menlo,'DejaVu Sans Mono',consolas,'Courier New',monospace\">┏━━━━━━━━━━━━━━━━━━━━━━━━━━━━━━━━━┳━━━━━━━━━━━━━━━━━━━━━━━━┳━━━━━━━━━━━━━━━┓\n",
       "┃<span style=\"font-weight: bold\"> Layer (type)                    </span>┃<span style=\"font-weight: bold\"> Output Shape           </span>┃<span style=\"font-weight: bold\">       Param # </span>┃\n",
       "┡━━━━━━━━━━━━━━━━━━━━━━━━━━━━━━━━━╇━━━━━━━━━━━━━━━━━━━━━━━━╇━━━━━━━━━━━━━━━┩\n",
       "│ lstm (<span style=\"color: #0087ff; text-decoration-color: #0087ff\">LSTM</span>)                     │ (<span style=\"color: #00d7ff; text-decoration-color: #00d7ff\">None</span>, <span style=\"color: #00af00; text-decoration-color: #00af00\">24</span>, <span style=\"color: #00af00; text-decoration-color: #00af00\">32</span>)         │         <span style=\"color: #00af00; text-decoration-color: #00af00\">5,504</span> │\n",
       "├─────────────────────────────────┼────────────────────────┼───────────────┤\n",
       "│ dense (<span style=\"color: #0087ff; text-decoration-color: #0087ff\">Dense</span>)                   │ (<span style=\"color: #00d7ff; text-decoration-color: #00d7ff\">None</span>, <span style=\"color: #00af00; text-decoration-color: #00af00\">24</span>, <span style=\"color: #00af00; text-decoration-color: #00af00\">16</span>)         │           <span style=\"color: #00af00; text-decoration-color: #00af00\">528</span> │\n",
       "├─────────────────────────────────┼────────────────────────┼───────────────┤\n",
       "│ dense_1 (<span style=\"color: #0087ff; text-decoration-color: #0087ff\">Dense</span>)                 │ (<span style=\"color: #00d7ff; text-decoration-color: #00d7ff\">None</span>, <span style=\"color: #00af00; text-decoration-color: #00af00\">24</span>, <span style=\"color: #00af00; text-decoration-color: #00af00\">1</span>)          │            <span style=\"color: #00af00; text-decoration-color: #00af00\">17</span> │\n",
       "└─────────────────────────────────┴────────────────────────┴───────────────┘\n",
       "</pre>\n"
      ],
      "text/plain": [
       "┏━━━━━━━━━━━━━━━━━━━━━━━━━━━━━━━━━┳━━━━━━━━━━━━━━━━━━━━━━━━┳━━━━━━━━━━━━━━━┓\n",
       "┃\u001b[1m \u001b[0m\u001b[1mLayer (type)                   \u001b[0m\u001b[1m \u001b[0m┃\u001b[1m \u001b[0m\u001b[1mOutput Shape          \u001b[0m\u001b[1m \u001b[0m┃\u001b[1m \u001b[0m\u001b[1m      Param #\u001b[0m\u001b[1m \u001b[0m┃\n",
       "┡━━━━━━━━━━━━━━━━━━━━━━━━━━━━━━━━━╇━━━━━━━━━━━━━━━━━━━━━━━━╇━━━━━━━━━━━━━━━┩\n",
       "│ lstm (\u001b[38;5;33mLSTM\u001b[0m)                     │ (\u001b[38;5;45mNone\u001b[0m, \u001b[38;5;34m24\u001b[0m, \u001b[38;5;34m32\u001b[0m)         │         \u001b[38;5;34m5,504\u001b[0m │\n",
       "├─────────────────────────────────┼────────────────────────┼───────────────┤\n",
       "│ dense (\u001b[38;5;33mDense\u001b[0m)                   │ (\u001b[38;5;45mNone\u001b[0m, \u001b[38;5;34m24\u001b[0m, \u001b[38;5;34m16\u001b[0m)         │           \u001b[38;5;34m528\u001b[0m │\n",
       "├─────────────────────────────────┼────────────────────────┼───────────────┤\n",
       "│ dense_1 (\u001b[38;5;33mDense\u001b[0m)                 │ (\u001b[38;5;45mNone\u001b[0m, \u001b[38;5;34m24\u001b[0m, \u001b[38;5;34m1\u001b[0m)          │            \u001b[38;5;34m17\u001b[0m │\n",
       "└─────────────────────────────────┴────────────────────────┴───────────────┘\n"
      ]
     },
     "metadata": {},
     "output_type": "display_data"
    },
    {
     "data": {
      "text/html": [
       "<pre style=\"white-space:pre;overflow-x:auto;line-height:normal;font-family:Menlo,'DejaVu Sans Mono',consolas,'Courier New',monospace\"><span style=\"font-weight: bold\"> Total params: </span><span style=\"color: #00af00; text-decoration-color: #00af00\">6,049</span> (23.63 KB)\n",
       "</pre>\n"
      ],
      "text/plain": [
       "\u001b[1m Total params: \u001b[0m\u001b[38;5;34m6,049\u001b[0m (23.63 KB)\n"
      ]
     },
     "metadata": {},
     "output_type": "display_data"
    },
    {
     "data": {
      "text/html": [
       "<pre style=\"white-space:pre;overflow-x:auto;line-height:normal;font-family:Menlo,'DejaVu Sans Mono',consolas,'Courier New',monospace\"><span style=\"font-weight: bold\"> Trainable params: </span><span style=\"color: #00af00; text-decoration-color: #00af00\">6,049</span> (23.63 KB)\n",
       "</pre>\n"
      ],
      "text/plain": [
       "\u001b[1m Trainable params: \u001b[0m\u001b[38;5;34m6,049\u001b[0m (23.63 KB)\n"
      ]
     },
     "metadata": {},
     "output_type": "display_data"
    },
    {
     "data": {
      "text/html": [
       "<pre style=\"white-space:pre;overflow-x:auto;line-height:normal;font-family:Menlo,'DejaVu Sans Mono',consolas,'Courier New',monospace\"><span style=\"font-weight: bold\"> Non-trainable params: </span><span style=\"color: #00af00; text-decoration-color: #00af00\">0</span> (0.00 B)\n",
       "</pre>\n"
      ],
      "text/plain": [
       "\u001b[1m Non-trainable params: \u001b[0m\u001b[38;5;34m0\u001b[0m (0.00 B)\n"
      ]
     },
     "metadata": {},
     "output_type": "display_data"
    }
   ],
   "source": [
    "model = init_model(X_train)\n",
    "model.summary()"
   ]
  },
  {
   "cell_type": "code",
   "execution_count": 36,
   "metadata": {},
   "outputs": [
    {
     "name": "stdout",
     "output_type": "stream",
     "text": [
      "Epoch 1/100\n",
      "\u001b[1m941/941\u001b[0m \u001b[32m━━━━━━━━━━━━━━━━━━━━\u001b[0m\u001b[37m\u001b[0m \u001b[1m20s\u001b[0m 18ms/step - loss: 65.5424 - mae: 6.4588 - val_loss: 30.1715 - val_mae: 4.2252 - learning_rate: 1.0000e-04\n",
      "Epoch 2/100\n",
      "\u001b[1m941/941\u001b[0m \u001b[32m━━━━━━━━━━━━━━━━━━━━\u001b[0m\u001b[37m\u001b[0m \u001b[1m19s\u001b[0m 20ms/step - loss: 31.8736 - mae: 4.2315 - val_loss: 19.5192 - val_mae: 3.3783 - learning_rate: 1.0000e-04\n",
      "Epoch 3/100\n",
      "\u001b[1m941/941\u001b[0m \u001b[32m━━━━━━━━━━━━━━━━━━━━\u001b[0m\u001b[37m\u001b[0m \u001b[1m17s\u001b[0m 18ms/step - loss: 21.8270 - mae: 3.4431 - val_loss: 15.3682 - val_mae: 2.9822 - learning_rate: 1.0000e-04\n",
      "Epoch 4/100\n",
      "\u001b[1m941/941\u001b[0m \u001b[32m━━━━━━━━━━━━━━━━━━━━\u001b[0m\u001b[37m\u001b[0m \u001b[1m16s\u001b[0m 17ms/step - loss: 16.9347 - mae: 3.0368 - val_loss: 13.4563 - val_mae: 2.7858 - learning_rate: 1.0000e-04\n",
      "Epoch 5/100\n",
      "\u001b[1m941/941\u001b[0m \u001b[32m━━━━━━━━━━━━━━━━━━━━\u001b[0m\u001b[37m\u001b[0m \u001b[1m17s\u001b[0m 18ms/step - loss: 14.2376 - mae: 2.8039 - val_loss: 12.4975 - val_mae: 2.6850 - learning_rate: 1.0000e-04\n",
      "Epoch 6/100\n",
      "\u001b[1m941/941\u001b[0m \u001b[32m━━━━━━━━━━━━━━━━━━━━\u001b[0m\u001b[37m\u001b[0m \u001b[1m18s\u001b[0m 19ms/step - loss: 12.7379 - mae: 2.6718 - val_loss: 11.9743 - val_mae: 2.6302 - learning_rate: 1.0000e-04\n",
      "Epoch 7/100\n",
      "\u001b[1m941/941\u001b[0m \u001b[32m━━━━━━━━━━━━━━━━━━━━\u001b[0m\u001b[37m\u001b[0m \u001b[1m19s\u001b[0m 17ms/step - loss: 11.8189 - mae: 2.5929 - val_loss: 11.6682 - val_mae: 2.5980 - learning_rate: 1.0000e-04\n",
      "Epoch 8/100\n",
      "\u001b[1m941/941\u001b[0m \u001b[32m━━━━━━━━━━━━━━━━━━━━\u001b[0m\u001b[37m\u001b[0m \u001b[1m19s\u001b[0m 20ms/step - loss: 11.2555 - mae: 2.5439 - val_loss: 11.4815 - val_mae: 2.5778 - learning_rate: 1.0000e-04\n",
      "Epoch 9/100\n",
      "\u001b[1m941/941\u001b[0m \u001b[32m━━━━━━━━━━━━━━━━━━━━\u001b[0m\u001b[37m\u001b[0m \u001b[1m17s\u001b[0m 18ms/step - loss: 10.9149 - mae: 2.5123 - val_loss: 11.3514 - val_mae: 2.5637 - learning_rate: 1.0000e-04\n",
      "Epoch 10/100\n",
      "\u001b[1m941/941\u001b[0m \u001b[32m━━━━━━━━━━━━━━━━━━━━\u001b[0m\u001b[37m\u001b[0m \u001b[1m17s\u001b[0m 18ms/step - loss: 10.6853 - mae: 2.4898 - val_loss: 11.2528 - val_mae: 2.5531 - learning_rate: 1.0000e-04\n",
      "Epoch 11/100\n",
      "\u001b[1m941/941\u001b[0m \u001b[32m━━━━━━━━━━━━━━━━━━━━\u001b[0m\u001b[37m\u001b[0m \u001b[1m17s\u001b[0m 18ms/step - loss: 10.5189 - mae: 2.4730 - val_loss: 11.1742 - val_mae: 2.5445 - learning_rate: 1.0000e-04\n",
      "Epoch 12/100\n",
      "\u001b[1m941/941\u001b[0m \u001b[32m━━━━━━━━━━━━━━━━━━━━\u001b[0m\u001b[37m\u001b[0m \u001b[1m16s\u001b[0m 17ms/step - loss: 10.3920 - mae: 2.4599 - val_loss: 11.1083 - val_mae: 2.5371 - learning_rate: 1.0000e-04\n",
      "Epoch 13/100\n",
      "\u001b[1m941/941\u001b[0m \u001b[32m━━━━━━━━━━━━━━━━━━━━\u001b[0m\u001b[37m\u001b[0m \u001b[1m17s\u001b[0m 18ms/step - loss: 10.2901 - mae: 2.4490 - val_loss: 11.0521 - val_mae: 2.5306 - learning_rate: 1.0000e-04\n",
      "Epoch 14/100\n",
      "\u001b[1m941/941\u001b[0m \u001b[32m━━━━━━━━━━━━━━━━━━━━\u001b[0m\u001b[37m\u001b[0m \u001b[1m17s\u001b[0m 18ms/step - loss: 10.2055 - mae: 2.4398 - val_loss: 11.0036 - val_mae: 2.5250 - learning_rate: 1.0000e-04\n",
      "Epoch 15/100\n",
      "\u001b[1m941/941\u001b[0m \u001b[32m━━━━━━━━━━━━━━━━━━━━\u001b[0m\u001b[37m\u001b[0m \u001b[1m16s\u001b[0m 17ms/step - loss: 10.1334 - mae: 2.4319 - val_loss: 10.9612 - val_mae: 2.5200 - learning_rate: 1.0000e-04\n",
      "Epoch 16/100\n",
      "\u001b[1m941/941\u001b[0m \u001b[32m━━━━━━━━━━━━━━━━━━━━\u001b[0m\u001b[37m\u001b[0m \u001b[1m17s\u001b[0m 18ms/step - loss: 10.0703 - mae: 2.4248 - val_loss: 10.9233 - val_mae: 2.5155 - learning_rate: 1.0000e-04\n",
      "Epoch 17/100\n",
      "\u001b[1m941/941\u001b[0m \u001b[32m━━━━━━━━━━━━━━━━━━━━\u001b[0m\u001b[37m\u001b[0m \u001b[1m17s\u001b[0m 18ms/step - loss: 10.0145 - mae: 2.4186 - val_loss: 10.8892 - val_mae: 2.5115 - learning_rate: 1.0000e-04\n",
      "Epoch 18/100\n",
      "\u001b[1m941/941\u001b[0m \u001b[32m━━━━━━━━━━━━━━━━━━━━\u001b[0m\u001b[37m\u001b[0m \u001b[1m17s\u001b[0m 18ms/step - loss: 9.9645 - mae: 2.4129 - val_loss: 10.8578 - val_mae: 2.5078 - learning_rate: 1.0000e-04\n",
      "Epoch 19/100\n",
      "\u001b[1m941/941\u001b[0m \u001b[32m━━━━━━━━━━━━━━━━━━━━\u001b[0m\u001b[37m\u001b[0m \u001b[1m19s\u001b[0m 20ms/step - loss: 9.9186 - mae: 2.4077 - val_loss: 10.8287 - val_mae: 2.5042 - learning_rate: 1.0000e-04\n",
      "Epoch 20/100\n",
      "\u001b[1m941/941\u001b[0m \u001b[32m━━━━━━━━━━━━━━━━━━━━\u001b[0m\u001b[37m\u001b[0m \u001b[1m18s\u001b[0m 19ms/step - loss: 9.8762 - mae: 2.4029 - val_loss: 10.8019 - val_mae: 2.5010 - learning_rate: 1.0000e-04\n",
      "Epoch 21/100\n",
      "\u001b[1m941/941\u001b[0m \u001b[32m━━━━━━━━━━━━━━━━━━━━\u001b[0m\u001b[37m\u001b[0m \u001b[1m17s\u001b[0m 18ms/step - loss: 9.8367 - mae: 2.3984 - val_loss: 10.7775 - val_mae: 2.4981 - learning_rate: 1.0000e-04\n",
      "Epoch 22/100\n",
      "\u001b[1m941/941\u001b[0m \u001b[32m━━━━━━━━━━━━━━━━━━━━\u001b[0m\u001b[37m\u001b[0m \u001b[1m16s\u001b[0m 17ms/step - loss: 9.7998 - mae: 2.3942 - val_loss: 10.7555 - val_mae: 2.4954 - learning_rate: 1.0000e-04\n",
      "Epoch 23/100\n",
      "\u001b[1m941/941\u001b[0m \u001b[32m━━━━━━━━━━━━━━━━━━━━\u001b[0m\u001b[37m\u001b[0m \u001b[1m19s\u001b[0m 20ms/step - loss: 9.7651 - mae: 2.3902 - val_loss: 10.7355 - val_mae: 2.4931 - learning_rate: 1.0000e-04\n",
      "Epoch 24/100\n",
      "\u001b[1m941/941\u001b[0m \u001b[32m━━━━━━━━━━━━━━━━━━━━\u001b[0m\u001b[37m\u001b[0m \u001b[1m17s\u001b[0m 18ms/step - loss: 9.7322 - mae: 2.3864 - val_loss: 10.7173 - val_mae: 2.4909 - learning_rate: 1.0000e-04\n",
      "Epoch 25/100\n",
      "\u001b[1m941/941\u001b[0m \u001b[32m━━━━━━━━━━━━━━━━━━━━\u001b[0m\u001b[37m\u001b[0m \u001b[1m17s\u001b[0m 18ms/step - loss: 9.7009 - mae: 2.3827 - val_loss: 10.7007 - val_mae: 2.4890 - learning_rate: 1.0000e-04\n",
      "Epoch 26/100\n",
      "\u001b[1m941/941\u001b[0m \u001b[32m━━━━━━━━━━━━━━━━━━━━\u001b[0m\u001b[37m\u001b[0m \u001b[1m17s\u001b[0m 18ms/step - loss: 9.6710 - mae: 2.3792 - val_loss: 10.6857 - val_mae: 2.4873 - learning_rate: 1.0000e-04\n",
      "Epoch 27/100\n",
      "\u001b[1m941/941\u001b[0m \u001b[32m━━━━━━━━━━━━━━━━━━━━\u001b[0m\u001b[37m\u001b[0m \u001b[1m17s\u001b[0m 18ms/step - loss: 9.6424 - mae: 2.3759 - val_loss: 10.6719 - val_mae: 2.4857 - learning_rate: 1.0000e-04\n",
      "Epoch 28/100\n",
      "\u001b[1m941/941\u001b[0m \u001b[32m━━━━━━━━━━━━━━━━━━━━\u001b[0m\u001b[37m\u001b[0m \u001b[1m19s\u001b[0m 20ms/step - loss: 9.6152 - mae: 2.3727 - val_loss: 10.6595 - val_mae: 2.4843 - learning_rate: 1.0000e-04\n",
      "Epoch 29/100\n",
      "\u001b[1m941/941\u001b[0m \u001b[32m━━━━━━━━━━━━━━━━━━━━\u001b[0m\u001b[37m\u001b[0m \u001b[1m17s\u001b[0m 18ms/step - loss: 9.5892 - mae: 2.3697 - val_loss: 10.6483 - val_mae: 2.4831 - learning_rate: 1.0000e-04\n",
      "Epoch 30/100\n",
      "\u001b[1m941/941\u001b[0m \u001b[32m━━━━━━━━━━━━━━━━━━━━\u001b[0m\u001b[37m\u001b[0m \u001b[1m17s\u001b[0m 18ms/step - loss: 9.5645 - mae: 2.3669 - val_loss: 10.6381 - val_mae: 2.4819 - learning_rate: 1.0000e-04\n",
      "Epoch 31/100\n",
      "\u001b[1m941/941\u001b[0m \u001b[32m━━━━━━━━━━━━━━━━━━━━\u001b[0m\u001b[37m\u001b[0m \u001b[1m16s\u001b[0m 17ms/step - loss: 9.5410 - mae: 2.3642 - val_loss: 10.6285 - val_mae: 2.4808 - learning_rate: 1.0000e-04\n",
      "Epoch 32/100\n",
      "\u001b[1m941/941\u001b[0m \u001b[32m━━━━━━━━━━━━━━━━━━━━\u001b[0m\u001b[37m\u001b[0m \u001b[1m17s\u001b[0m 18ms/step - loss: 9.5189 - mae: 2.3618 - val_loss: 10.6193 - val_mae: 2.4797 - learning_rate: 1.0000e-04\n",
      "Epoch 33/100\n",
      "\u001b[1m941/941\u001b[0m \u001b[32m━━━━━━━━━━━━━━━━━━━━\u001b[0m\u001b[37m\u001b[0m \u001b[1m16s\u001b[0m 17ms/step - loss: 9.4981 - mae: 2.3595 - val_loss: 10.6102 - val_mae: 2.4786 - learning_rate: 1.0000e-04\n",
      "Epoch 34/100\n",
      "\u001b[1m941/941\u001b[0m \u001b[32m━━━━━━━━━━━━━━━━━━━━\u001b[0m\u001b[37m\u001b[0m \u001b[1m20s\u001b[0m 21ms/step - loss: 9.4783 - mae: 2.3573 - val_loss: 10.6014 - val_mae: 2.4775 - learning_rate: 1.0000e-04\n",
      "Epoch 35/100\n",
      "\u001b[1m941/941\u001b[0m \u001b[32m━━━━━━━━━━━━━━━━━━━━\u001b[0m\u001b[37m\u001b[0m \u001b[1m17s\u001b[0m 18ms/step - loss: 9.4595 - mae: 2.3552 - val_loss: 10.5926 - val_mae: 2.4763 - learning_rate: 1.0000e-04\n",
      "Epoch 36/100\n",
      "\u001b[1m941/941\u001b[0m \u001b[32m━━━━━━━━━━━━━━━━━━━━\u001b[0m\u001b[37m\u001b[0m \u001b[1m16s\u001b[0m 17ms/step - loss: 9.4415 - mae: 2.3532 - val_loss: 10.5840 - val_mae: 2.4752 - learning_rate: 1.0000e-04\n",
      "Epoch 37/100\n",
      "\u001b[1m941/941\u001b[0m \u001b[32m━━━━━━━━━━━━━━━━━━━━\u001b[0m\u001b[37m\u001b[0m \u001b[1m19s\u001b[0m 20ms/step - loss: 9.4240 - mae: 2.3513 - val_loss: 10.5756 - val_mae: 2.4741 - learning_rate: 1.0000e-04\n",
      "Epoch 38/100\n",
      "\u001b[1m941/941\u001b[0m \u001b[32m━━━━━━━━━━━━━━━━━━━━\u001b[0m\u001b[37m\u001b[0m \u001b[1m17s\u001b[0m 18ms/step - loss: 9.4070 - mae: 2.3494 - val_loss: 10.5674 - val_mae: 2.4730 - learning_rate: 1.0000e-04\n",
      "Epoch 39/100\n",
      "\u001b[1m941/941\u001b[0m \u001b[32m━━━━━━━━━━━━━━━━━━━━\u001b[0m\u001b[37m\u001b[0m \u001b[1m16s\u001b[0m 17ms/step - loss: 9.3904 - mae: 2.3476 - val_loss: 10.5592 - val_mae: 2.4719 - learning_rate: 1.0000e-04\n",
      "Epoch 40/100\n",
      "\u001b[1m941/941\u001b[0m \u001b[32m━━━━━━━━━━━━━━━━━━━━\u001b[0m\u001b[37m\u001b[0m \u001b[1m14s\u001b[0m 15ms/step - loss: 9.3744 - mae: 2.3458 - val_loss: 10.5511 - val_mae: 2.4708 - learning_rate: 1.0000e-04\n",
      "Epoch 41/100\n",
      "\u001b[1m941/941\u001b[0m \u001b[32m━━━━━━━━━━━━━━━━━━━━\u001b[0m\u001b[37m\u001b[0m \u001b[1m16s\u001b[0m 17ms/step - loss: 9.3588 - mae: 2.3441 - val_loss: 10.5429 - val_mae: 2.4697 - learning_rate: 1.0000e-04\n",
      "Epoch 42/100\n",
      "\u001b[1m941/941\u001b[0m \u001b[32m━━━━━━━━━━━━━━━━━━━━\u001b[0m\u001b[37m\u001b[0m \u001b[1m16s\u001b[0m 17ms/step - loss: 9.3436 - mae: 2.3424 - val_loss: 10.5349 - val_mae: 2.4687 - learning_rate: 1.0000e-04\n",
      "Epoch 43/100\n",
      "\u001b[1m941/941\u001b[0m \u001b[32m━━━━━━━━━━━━━━━━━━━━\u001b[0m\u001b[37m\u001b[0m \u001b[1m16s\u001b[0m 17ms/step - loss: 9.3288 - mae: 2.3408 - val_loss: 10.5268 - val_mae: 2.4677 - learning_rate: 1.0000e-04\n",
      "Epoch 44/100\n",
      "\u001b[1m941/941\u001b[0m \u001b[32m━━━━━━━━━━━━━━━━━━━━\u001b[0m\u001b[37m\u001b[0m \u001b[1m16s\u001b[0m 17ms/step - loss: 9.3143 - mae: 2.3392 - val_loss: 10.5189 - val_mae: 2.4667 - learning_rate: 1.0000e-04\n",
      "Epoch 45/100\n",
      "\u001b[1m941/941\u001b[0m \u001b[32m━━━━━━━━━━━━━━━━━━━━\u001b[0m\u001b[37m\u001b[0m \u001b[1m16s\u001b[0m 17ms/step - loss: 9.3002 - mae: 2.3376 - val_loss: 10.5112 - val_mae: 2.4658 - learning_rate: 1.0000e-04\n",
      "Epoch 46/100\n",
      "\u001b[1m941/941\u001b[0m \u001b[32m━━━━━━━━━━━━━━━━━━━━\u001b[0m\u001b[37m\u001b[0m \u001b[1m16s\u001b[0m 17ms/step - loss: 9.2864 - mae: 2.3361 - val_loss: 10.5036 - val_mae: 2.4650 - learning_rate: 1.0000e-04\n",
      "Epoch 47/100\n",
      "\u001b[1m941/941\u001b[0m \u001b[32m━━━━━━━━━━━━━━━━━━━━\u001b[0m\u001b[37m\u001b[0m \u001b[1m16s\u001b[0m 17ms/step - loss: 9.2729 - mae: 2.3346 - val_loss: 10.4962 - val_mae: 2.4641 - learning_rate: 1.0000e-04\n",
      "Epoch 48/100\n",
      "\u001b[1m941/941\u001b[0m \u001b[32m━━━━━━━━━━━━━━━━━━━━\u001b[0m\u001b[37m\u001b[0m \u001b[1m18s\u001b[0m 20ms/step - loss: 9.2596 - mae: 2.3331 - val_loss: 10.4890 - val_mae: 2.4633 - learning_rate: 1.0000e-04\n",
      "Epoch 49/100\n",
      "\u001b[1m941/941\u001b[0m \u001b[32m━━━━━━━━━━━━━━━━━━━━\u001b[0m\u001b[37m\u001b[0m \u001b[1m16s\u001b[0m 17ms/step - loss: 9.2466 - mae: 2.3317 - val_loss: 10.4820 - val_mae: 2.4625 - learning_rate: 1.0000e-04\n",
      "Epoch 50/100\n",
      "\u001b[1m941/941\u001b[0m \u001b[32m━━━━━━━━━━━━━━━━━━━━\u001b[0m\u001b[37m\u001b[0m \u001b[1m16s\u001b[0m 17ms/step - loss: 9.2340 - mae: 2.3302 - val_loss: 10.4752 - val_mae: 2.4618 - learning_rate: 1.0000e-04\n",
      "Epoch 51/100\n",
      "\u001b[1m941/941\u001b[0m \u001b[32m━━━━━━━━━━━━━━━━━━━━\u001b[0m\u001b[37m\u001b[0m \u001b[1m16s\u001b[0m 17ms/step - loss: 9.2217 - mae: 2.3288 - val_loss: 10.4688 - val_mae: 2.4611 - learning_rate: 1.0000e-04\n",
      "Epoch 52/100\n",
      "\u001b[1m941/941\u001b[0m \u001b[32m━━━━━━━━━━━━━━━━━━━━\u001b[0m\u001b[37m\u001b[0m \u001b[1m16s\u001b[0m 17ms/step - loss: 9.2096 - mae: 2.3274 - val_loss: 10.4625 - val_mae: 2.4604 - learning_rate: 1.0000e-04\n",
      "Epoch 53/100\n",
      "\u001b[1m941/941\u001b[0m \u001b[32m━━━━━━━━━━━━━━━━━━━━\u001b[0m\u001b[37m\u001b[0m \u001b[1m15s\u001b[0m 16ms/step - loss: 9.1978 - mae: 2.3261 - val_loss: 10.4565 - val_mae: 2.4598 - learning_rate: 1.0000e-04\n",
      "Epoch 54/100\n",
      "\u001b[1m941/941\u001b[0m \u001b[32m━━━━━━━━━━━━━━━━━━━━\u001b[0m\u001b[37m\u001b[0m \u001b[1m15s\u001b[0m 16ms/step - loss: 9.1862 - mae: 2.3248 - val_loss: 10.4507 - val_mae: 2.4592 - learning_rate: 1.0000e-04\n",
      "Epoch 55/100\n",
      "\u001b[1m941/941\u001b[0m \u001b[32m━━━━━━━━━━━━━━━━━━━━\u001b[0m\u001b[37m\u001b[0m \u001b[1m15s\u001b[0m 16ms/step - loss: 9.1751 - mae: 2.3235 - val_loss: 10.4447 - val_mae: 2.4586 - learning_rate: 1.0000e-04\n",
      "Epoch 56/100\n",
      "\u001b[1m941/941\u001b[0m \u001b[32m━━━━━━━━━━━━━━━━━━━━\u001b[0m\u001b[37m\u001b[0m \u001b[1m16s\u001b[0m 17ms/step - loss: 9.1639 - mae: 2.3223 - val_loss: 10.4392 - val_mae: 2.4580 - learning_rate: 1.0000e-04\n",
      "Epoch 57/100\n",
      "\u001b[1m941/941\u001b[0m \u001b[32m━━━━━━━━━━━━━━━━━━━━\u001b[0m\u001b[37m\u001b[0m \u001b[1m15s\u001b[0m 16ms/step - loss: 9.1535 - mae: 2.3211 - val_loss: 10.4337 - val_mae: 2.4575 - learning_rate: 1.0000e-04\n",
      "Epoch 58/100\n",
      "\u001b[1m941/941\u001b[0m \u001b[32m━━━━━━━━━━━━━━━━━━━━\u001b[0m\u001b[37m\u001b[0m \u001b[1m15s\u001b[0m 16ms/step - loss: 9.1428 - mae: 2.3199 - val_loss: 10.4284 - val_mae: 2.4569 - learning_rate: 1.0000e-04\n",
      "Epoch 59/100\n",
      "\u001b[1m941/941\u001b[0m \u001b[32m━━━━━━━━━━━━━━━━━━━━\u001b[0m\u001b[37m\u001b[0m \u001b[1m15s\u001b[0m 16ms/step - loss: 9.1328 - mae: 2.3188 - val_loss: 10.4231 - val_mae: 2.4564 - learning_rate: 1.0000e-04\n",
      "Epoch 60/100\n",
      "\u001b[1m941/941\u001b[0m \u001b[32m━━━━━━━━━━━━━━━━━━━━\u001b[0m\u001b[37m\u001b[0m \u001b[1m15s\u001b[0m 16ms/step - loss: 9.1233 - mae: 2.3177 - val_loss: 10.4182 - val_mae: 2.4559 - learning_rate: 1.0000e-04\n",
      "Epoch 61/100\n",
      "\u001b[1m941/941\u001b[0m \u001b[32m━━━━━━━━━━━━━━━━━━━━\u001b[0m\u001b[37m\u001b[0m \u001b[1m15s\u001b[0m 15ms/step - loss: 9.1138 - mae: 2.3166 - val_loss: 10.4134 - val_mae: 2.4554 - learning_rate: 1.0000e-04\n",
      "Epoch 62/100\n",
      "\u001b[1m941/941\u001b[0m \u001b[32m━━━━━━━━━━━━━━━━━━━━\u001b[0m\u001b[37m\u001b[0m \u001b[1m15s\u001b[0m 16ms/step - loss: 9.1049 - mae: 2.3156 - val_loss: 10.4089 - val_mae: 2.4550 - learning_rate: 1.0000e-04\n",
      "Epoch 63/100\n",
      "\u001b[1m941/941\u001b[0m \u001b[32m━━━━━━━━━━━━━━━━━━━━\u001b[0m\u001b[37m\u001b[0m \u001b[1m15s\u001b[0m 16ms/step - loss: 9.0958 - mae: 2.3146 - val_loss: 10.4047 - val_mae: 2.4546 - learning_rate: 1.0000e-04\n",
      "Epoch 64/100\n",
      "\u001b[1m941/941\u001b[0m \u001b[32m━━━━━━━━━━━━━━━━━━━━\u001b[0m\u001b[37m\u001b[0m \u001b[1m16s\u001b[0m 17ms/step - loss: 9.0869 - mae: 2.3136 - val_loss: 10.4009 - val_mae: 2.4542 - learning_rate: 1.0000e-04\n",
      "Epoch 65/100\n",
      "\u001b[1m941/941\u001b[0m \u001b[32m━━━━━━━━━━━━━━━━━━━━\u001b[0m\u001b[37m\u001b[0m \u001b[1m18s\u001b[0m 20ms/step - loss: 9.0781 - mae: 2.3127 - val_loss: 10.3974 - val_mae: 2.4539 - learning_rate: 1.0000e-04\n",
      "Epoch 66/100\n",
      "\u001b[1m941/941\u001b[0m \u001b[32m━━━━━━━━━━━━━━━━━━━━\u001b[0m\u001b[37m\u001b[0m \u001b[1m20s\u001b[0m 21ms/step - loss: 9.0695 - mae: 2.3117 - val_loss: 10.3940 - val_mae: 2.4536 - learning_rate: 1.0000e-04\n",
      "Epoch 67/100\n",
      "\u001b[1m941/941\u001b[0m \u001b[32m━━━━━━━━━━━━━━━━━━━━\u001b[0m\u001b[37m\u001b[0m \u001b[1m18s\u001b[0m 19ms/step - loss: 9.0609 - mae: 2.3108 - val_loss: 10.3910 - val_mae: 2.4534 - learning_rate: 1.0000e-04\n",
      "Epoch 68/100\n",
      "\u001b[1m941/941\u001b[0m \u001b[32m━━━━━━━━━━━━━━━━━━━━\u001b[0m\u001b[37m\u001b[0m \u001b[1m22s\u001b[0m 21ms/step - loss: 9.0527 - mae: 2.3098 - val_loss: 10.3881 - val_mae: 2.4531 - learning_rate: 1.0000e-04\n",
      "Epoch 69/100\n",
      "\u001b[1m941/941\u001b[0m \u001b[32m━━━━━━━━━━━━━━━━━━━━\u001b[0m\u001b[37m\u001b[0m \u001b[1m19s\u001b[0m 21ms/step - loss: 9.0448 - mae: 2.3089 - val_loss: 10.3855 - val_mae: 2.4529 - learning_rate: 1.0000e-04\n",
      "Epoch 70/100\n",
      "\u001b[1m941/941\u001b[0m \u001b[32m━━━━━━━━━━━━━━━━━━━━\u001b[0m\u001b[37m\u001b[0m \u001b[1m18s\u001b[0m 19ms/step - loss: 9.0370 - mae: 2.3081 - val_loss: 10.3832 - val_mae: 2.4527 - learning_rate: 1.0000e-04\n",
      "Epoch 71/100\n",
      "\u001b[1m941/941\u001b[0m \u001b[32m━━━━━━━━━━━━━━━━━━━━\u001b[0m\u001b[37m\u001b[0m \u001b[1m18s\u001b[0m 19ms/step - loss: 9.0293 - mae: 2.3072 - val_loss: 10.3810 - val_mae: 2.4525 - learning_rate: 1.0000e-04\n",
      "Epoch 72/100\n",
      "\u001b[1m941/941\u001b[0m \u001b[32m━━━━━━━━━━━━━━━━━━━━\u001b[0m\u001b[37m\u001b[0m \u001b[1m17s\u001b[0m 19ms/step - loss: 9.0219 - mae: 2.3064 - val_loss: 10.3791 - val_mae: 2.4523 - learning_rate: 1.0000e-04\n",
      "Epoch 73/100\n",
      "\u001b[1m941/941\u001b[0m \u001b[32m━━━━━━━━━━━━━━━━━━━━\u001b[0m\u001b[37m\u001b[0m \u001b[1m17s\u001b[0m 18ms/step - loss: 9.0146 - mae: 2.3055 - val_loss: 10.3773 - val_mae: 2.4522 - learning_rate: 1.0000e-04\n",
      "Epoch 74/100\n",
      "\u001b[1m941/941\u001b[0m \u001b[32m━━━━━━━━━━━━━━━━━━━━\u001b[0m\u001b[37m\u001b[0m \u001b[1m16s\u001b[0m 17ms/step - loss: 9.0076 - mae: 2.3047 - val_loss: 10.3756 - val_mae: 2.4520 - learning_rate: 1.0000e-04\n",
      "Epoch 75/100\n",
      "\u001b[1m941/941\u001b[0m \u001b[32m━━━━━━━━━━━━━━━━━━━━\u001b[0m\u001b[37m\u001b[0m \u001b[1m19s\u001b[0m 20ms/step - loss: 9.0006 - mae: 2.3040 - val_loss: 10.3740 - val_mae: 2.4519 - learning_rate: 1.0000e-04\n",
      "Epoch 76/100\n",
      "\u001b[1m941/941\u001b[0m \u001b[32m━━━━━━━━━━━━━━━━━━━━\u001b[0m\u001b[37m\u001b[0m \u001b[1m20s\u001b[0m 21ms/step - loss: 8.9939 - mae: 2.3032 - val_loss: 10.3725 - val_mae: 2.4518 - learning_rate: 1.0000e-04\n",
      "Epoch 77/100\n",
      "\u001b[1m941/941\u001b[0m \u001b[32m━━━━━━━━━━━━━━━━━━━━\u001b[0m\u001b[37m\u001b[0m \u001b[1m21s\u001b[0m 22ms/step - loss: 8.9873 - mae: 2.3024 - val_loss: 10.3713 - val_mae: 2.4517 - learning_rate: 1.0000e-04\n",
      "Epoch 78/100\n",
      "\u001b[1m941/941\u001b[0m \u001b[32m━━━━━━━━━━━━━━━━━━━━\u001b[0m\u001b[37m\u001b[0m \u001b[1m20s\u001b[0m 21ms/step - loss: 8.9807 - mae: 2.3017 - val_loss: 10.3702 - val_mae: 2.4516 - learning_rate: 1.0000e-04\n",
      "Epoch 79/100\n",
      "\u001b[1m941/941\u001b[0m \u001b[32m━━━━━━━━━━━━━━━━━━━━\u001b[0m\u001b[37m\u001b[0m \u001b[1m17s\u001b[0m 19ms/step - loss: 8.9743 - mae: 2.3009 - val_loss: 10.3691 - val_mae: 2.4515 - learning_rate: 1.0000e-04\n",
      "Epoch 80/100\n",
      "\u001b[1m941/941\u001b[0m \u001b[32m━━━━━━━━━━━━━━━━━━━━\u001b[0m\u001b[37m\u001b[0m \u001b[1m19s\u001b[0m 20ms/step - loss: 8.9680 - mae: 2.3002 - val_loss: 10.3680 - val_mae: 2.4514 - learning_rate: 1.0000e-04\n",
      "Epoch 81/100\n",
      "\u001b[1m941/941\u001b[0m \u001b[32m━━━━━━━━━━━━━━━━━━━━\u001b[0m\u001b[37m\u001b[0m \u001b[1m17s\u001b[0m 18ms/step - loss: 8.9619 - mae: 2.2995 - val_loss: 10.3672 - val_mae: 2.4514 - learning_rate: 1.0000e-04\n",
      "Epoch 82/100\n",
      "\u001b[1m941/941\u001b[0m \u001b[32m━━━━━━━━━━━━━━━━━━━━\u001b[0m\u001b[37m\u001b[0m \u001b[1m17s\u001b[0m 18ms/step - loss: 8.9557 - mae: 2.2988 - val_loss: 10.3665 - val_mae: 2.4514 - learning_rate: 1.0000e-04\n",
      "Epoch 83/100\n",
      "\u001b[1m941/941\u001b[0m \u001b[32m━━━━━━━━━━━━━━━━━━━━\u001b[0m\u001b[37m\u001b[0m \u001b[1m17s\u001b[0m 18ms/step - loss: 8.9498 - mae: 2.2981 - val_loss: 10.3660 - val_mae: 2.4514 - learning_rate: 1.0000e-04\n",
      "Epoch 84/100\n",
      "\u001b[1m941/941\u001b[0m \u001b[32m━━━━━━━━━━━━━━━━━━━━\u001b[0m\u001b[37m\u001b[0m \u001b[1m16s\u001b[0m 17ms/step - loss: 8.9440 - mae: 2.2974 - val_loss: 10.3656 - val_mae: 2.4514 - learning_rate: 1.0000e-04\n",
      "Epoch 85/100\n",
      "\u001b[1m941/941\u001b[0m \u001b[32m━━━━━━━━━━━━━━━━━━━━\u001b[0m\u001b[37m\u001b[0m \u001b[1m16s\u001b[0m 17ms/step - loss: 8.9383 - mae: 2.2967 - val_loss: 10.3654 - val_mae: 2.4514 - learning_rate: 1.0000e-04\n",
      "Epoch 86/100\n",
      "\u001b[1m941/941\u001b[0m \u001b[32m━━━━━━━━━━━━━━━━━━━━\u001b[0m\u001b[37m\u001b[0m \u001b[1m19s\u001b[0m 20ms/step - loss: 8.8528 - mae: 2.2810 - val_loss: 10.3700 - val_mae: 2.4556 - learning_rate: 1.0000e-05\n",
      "Epoch 87/100\n",
      "\u001b[1m941/941\u001b[0m \u001b[32m━━━━━━━━━━━━━━━━━━━━\u001b[0m\u001b[37m\u001b[0m \u001b[1m21s\u001b[0m 21ms/step - loss: 8.8287 - mae: 2.2803 - val_loss: 10.3691 - val_mae: 2.4559 - learning_rate: 1.0000e-05\n",
      "Epoch 88/100\n",
      "\u001b[1m941/941\u001b[0m \u001b[32m━━━━━━━━━━━━━━━━━━━━\u001b[0m\u001b[37m\u001b[0m \u001b[1m16s\u001b[0m 17ms/step - loss: 8.8235 - mae: 2.2799 - val_loss: 10.3686 - val_mae: 2.4560 - learning_rate: 1.0000e-05\n",
      "Epoch 89/100\n",
      "\u001b[1m941/941\u001b[0m \u001b[32m━━━━━━━━━━━━━━━━━━━━\u001b[0m\u001b[37m\u001b[0m \u001b[1m15s\u001b[0m 16ms/step - loss: 8.8205 - mae: 2.2796 - val_loss: 10.3683 - val_mae: 2.4560 - learning_rate: 1.0000e-05\n",
      "Epoch 90/100\n",
      "\u001b[1m941/941\u001b[0m \u001b[32m━━━━━━━━━━━━━━━━━━━━\u001b[0m\u001b[37m\u001b[0m \u001b[1m17s\u001b[0m 18ms/step - loss: 8.8181 - mae: 2.2793 - val_loss: 10.3683 - val_mae: 2.4560 - learning_rate: 1.0000e-05\n",
      "Epoch 91/100\n",
      "\u001b[1m941/941\u001b[0m \u001b[32m━━━━━━━━━━━━━━━━━━━━\u001b[0m\u001b[37m\u001b[0m \u001b[1m17s\u001b[0m 18ms/step - loss: 8.8157 - mae: 2.2770 - val_loss: 10.3727 - val_mae: 2.4571 - learning_rate: 1.0000e-06\n",
      "Epoch 92/100\n",
      "\u001b[1m941/941\u001b[0m \u001b[32m━━━━━━━━━━━━━━━━━━━━\u001b[0m\u001b[37m\u001b[0m \u001b[1m16s\u001b[0m 17ms/step - loss: 8.8097 - mae: 2.2768 - val_loss: 10.3764 - val_mae: 2.4579 - learning_rate: 1.0000e-06\n",
      "Epoch 93/100\n",
      "\u001b[1m941/941\u001b[0m \u001b[32m━━━━━━━━━━━━━━━━━━━━\u001b[0m\u001b[37m\u001b[0m \u001b[1m21s\u001b[0m 18ms/step - loss: 8.8053 - mae: 2.2767 - val_loss: 10.3794 - val_mae: 2.4586 - learning_rate: 1.0000e-06\n",
      "\u001b[1m1384/1384\u001b[0m \u001b[32m━━━━━━━━━━━━━━━━━━━━\u001b[0m\u001b[37m\u001b[0m \u001b[1m9s\u001b[0m 7ms/step - loss: 11.3920 - mae: 2.5918\n",
      "--------------------------------------------------\n",
      "The LSTM MAE on the test set is equal to 2.6 Celsius degrees\n"
     ]
    },
    {
     "data": {
      "image/png": "[encoded data removed]",
      "text/plain": [
       "<Figure size 2000x700 with 2 Axes>"
      ]
     },
     "metadata": {},
     "output_type": "display_data"
    }
   ],
   "source": [
    "# 2 - Training\n",
    "# ====================================\n",
    "model, history = fit_model(model, verbose=1)\n",
    "\n",
    "plot_history(history);\n",
    "\n",
    "# 3 - Evaluation\n",
    "# ====================================\n",
    "res = model.evaluate(X_test, y_test)\n",
    "print(\"-\"*50)\n",
    "print(f\"The LSTM MAE on the test set is equal to {round(res[1],2)} Celsius degrees\")"
   ]
  },
  {
   "cell_type": "markdown",
   "metadata": {},
   "source": [
    "## 5.2 Baseline"
   ]
  },
  {
   "cell_type": "code",
   "execution_count": 37,
   "metadata": {},
   "outputs": [],
   "source": [
    "def last_seen_value_baseline(X_test, y_test, target_column_idx=0):\n",
    "    \"\"\"\n",
    "    Baseline model that predicts the last observed value of the target variable (temperature).\n",
    "\n",
    "    Parameters:\n",
    "    X: Input features (shape: [num_samples, time_steps, num_features])\n",
    "    y: Ground truth values (shape: [num_samples, time_steps, num_targets])\n",
    "    target_column_idx: Index of the target variable in the input features\n",
    "\n",
    "    Returns:\n",
    "    baseline_mae: Mean Absolute Error (MAE) of the baseline model\n",
    "    \"\"\"\n",
    "    # Get the last observed value of the target (temperature) for each sample\n",
    "    last_seen_values = X_test[:, -1, target_column_idx].reshape(-1, 1)\n",
    "\n",
    "    # Repeat this value for all the output steps\n",
    "    output_length = y_test.shape[1]  # Number of time steps in the target sequence\n",
    "    repeated = np.repeat(last_seen_values, axis=1, repeats=output_length)\n",
    "\n",
    "    # Calculate the MAE: Mean of absolute errors\n",
    "    mae = np.mean(np.abs(y_test - repeated))\n",
    "\n",
    "    return mae"
   ]
  },
  {
   "cell_type": "code",
   "execution_count": 38,
   "metadata": {},
   "outputs": [
    {
     "name": "stdout",
     "output_type": "stream",
     "text": [
      "- The Baseline MAE on the test set is equal to 4.39 Celsius degrees\n",
      "- The LSTM MAE on the test set is equal to 2.6 Celsius degrees\n",
      "👉 Improvement/decrease of the LSTM model over the baseline (on this fold for the test set): 40.89 % 👈\n"
     ]
    }
   ],
   "source": [
    "# 1 - Evaluation of the Baseline Model\n",
    "# ====================================\n",
    "mae_baseline = last_seen_value_baseline(X_test, y_test, target_column_idx=0)\n",
    "print(f\"- The Baseline MAE on the test set is equal to {round(mae_baseline,2)} Celsius degrees\")\n",
    "\n",
    "# 4 - Comparison with the LSTM model\n",
    "# ====================================\n",
    "print(f\"- The LSTM MAE on the test set is equal to {round(res[1],2)} Celsius degrees\")\n",
    "print(f\"👉 Improvement/decrease of the LSTM model over the baseline (on this fold for the test set): {round((1 - (res[1]/mae_baseline))*100,2)} % 👈\")"
   ]
  },
  {
   "cell_type": "markdown",
   "metadata": {},
   "source": [
    "## 5.3 Optimizing on Hyperparameters"
   ]
  },
  {
   "cell_type": "code",
   "execution_count": 39,
   "metadata": {},
   "outputs": [],
   "source": [
    "from tensorflow.keras import layers, models, optimizers\n",
    "from tensorflow.keras import regularizers\n",
    "from tensorflow.keras.optimizers import Adam\n",
    "from keras_tuner import HyperModel\n",
    "from keras_tuner import RandomSearch\n",
    "\n",
    "class LSTMModel(HyperModel):\n",
    "    def build(self, hp):\n",
    "        reg_l2 = regularizers.L2(hp.Float('l2_reg', min_value=0.001, max_value=0.1, step=0.001))\n",
    "\n",
    "        #========================================================================================\n",
    "\n",
    "        model = models.Sequential()\n",
    "\n",
    "        # Input Layer\n",
    "        model.add(layers.Input(shape=(X_train.shape[1], X_train.shape[2])))\n",
    "\n",
    "        # Recurrent Layer with tunable units and dropout\n",
    "        model.add(layers.LSTM(\n",
    "            units=hp.Int('units', min_value=16, max_value=128, step=16),\n",
    "            activation='tanh',\n",
    "            return_sequences=True,\n",
    "            recurrent_dropout=hp.Float('recurrent_dropout', min_value=0.2, max_value=0.5, step=0.05),\n",
    "            dropout=hp.Float('dropout', min_value=0.2, max_value=0.5, step=0.05)\n",
    "        ))\n",
    "\n",
    "        # Hidden Dense Layer with tunable regularization\n",
    "        model.add(layers.Dense(\n",
    "            units=hp.Int('dense_units', min_value=32, max_value=128, step=32),\n",
    "            activation=\"relu\",\n",
    "            kernel_regularizer=reg_l2\n",
    "        ))\n",
    "        model.add(layers.Dropout(rate=hp.Float('dense_dropout', min_value=0.2, max_value=0.5, step=0.05)))\n",
    "\n",
    "        # Output Layer\n",
    "        model.add(layers.Dense(1, activation='linear'))\n",
    "\n",
    "        #========================================================================================\n",
    "\n",
    "        # Compile the model\n",
    "        model.compile(\n",
    "            loss='mse',\n",
    "            optimizer=Adam(learning_rate=hp.Float('learning_rate', min_value=1e-5, max_value=1e-2, sampling='log')),\n",
    "            metrics=[\"mae\"]\n",
    "        )\n",
    "\n",
    "        return model"
   ]
  },
  {
   "cell_type": "code",
   "execution_count": 40,
   "metadata": {},
   "outputs": [
    {
     "name": "stdout",
     "output_type": "stream",
     "text": [
      "Reloading Tuner from models/temperature_hyperparameters/tuner0.json\n"
     ]
    }
   ],
   "source": [
    "tuner = RandomSearch(\n",
    "    LSTMModel(),  # The HyperModel class\n",
    "    objective='val_mae',  # We want to minimize validation MAE\n",
    "    max_trials=10,  # Number of different hyperparameter combinations to try\n",
    "    executions_per_trial=1,  # Number of models to train per trial\n",
    "    directory='models',  # Directory to store logs and models\n",
    "    project_name='temperature_hyperparameters')\n",
    "\n",
    "tuner.search(\n",
    "    X_train,\n",
    "    y_train,\n",
    "    epochs=50,\n",
    "    batch_size=64,\n",
    "    validation_split=0.2,  # Use a validation split\n",
    "    callbacks=[tf.keras.callbacks.EarlyStopping(monitor='val_mae', patience=2)])"
   ]
  },
  {
   "cell_type": "code",
   "execution_count": 41,
   "metadata": {},
   "outputs": [
    {
     "name": "stdout",
     "output_type": "stream",
     "text": [
      "Best Hyperparameters: {'l2_reg': 0.07200000000000001, 'units': 48, 'recurrent_dropout': 0.2, 'dropout': 0.25, 'dense_units': 96, 'dense_dropout': 0.4, 'learning_rate': 0.004817189232254613}\n",
      "Epoch 1/100\n",
      "\u001b[1m1075/1075\u001b[0m \u001b[32m━━━━━━━━━━━━━━━━━━━━\u001b[0m\u001b[37m\u001b[0m \u001b[1m29s\u001b[0m 23ms/step - loss: 18.9257 - mae: 3.0960 - val_loss: 14.2554 - val_mae: 2.9474\n",
      "Epoch 2/100\n",
      "\u001b[1m1075/1075\u001b[0m \u001b[32m━━━━━━━━━━━━━━━━━━━━\u001b[0m\u001b[37m\u001b[0m \u001b[1m21s\u001b[0m 20ms/step - loss: 12.3488 - mae: 2.6568 - val_loss: 12.1024 - val_mae: 2.7043\n",
      "Epoch 3/100\n",
      "\u001b[1m1075/1075\u001b[0m \u001b[32m━━━━━━━━━━━━━━━━━━━━\u001b[0m\u001b[37m\u001b[0m \u001b[1m26s\u001b[0m 24ms/step - loss: 12.1978 - mae: 2.6408 - val_loss: 16.9046 - val_mae: 3.2715\n",
      "Epoch 4/100\n",
      "\u001b[1m1075/1075\u001b[0m \u001b[32m━━━━━━━━━━━━━━━━━━━━\u001b[0m\u001b[37m\u001b[0m \u001b[1m26s\u001b[0m 24ms/step - loss: 12.0777 - mae: 2.6310 - val_loss: 14.3847 - val_mae: 2.9971\n",
      "Epoch 5/100\n",
      "\u001b[1m1075/1075\u001b[0m \u001b[32m━━━━━━━━━━━━━━━━━━━━\u001b[0m\u001b[37m\u001b[0m \u001b[1m24s\u001b[0m 23ms/step - loss: 11.9471 - mae: 2.6196 - val_loss: 14.8379 - val_mae: 3.0348\n",
      "Epoch 6/100\n",
      "\u001b[1m1075/1075\u001b[0m \u001b[32m━━━━━━━━━━━━━━━━━━━━\u001b[0m\u001b[37m\u001b[0m \u001b[1m43s\u001b[0m 24ms/step - loss: 11.8764 - mae: 2.6049 - val_loss: 11.1995 - val_mae: 2.5824\n",
      "Epoch 7/100\n",
      "\u001b[1m1075/1075\u001b[0m \u001b[32m━━━━━━━━━━━━━━━━━━━━\u001b[0m\u001b[37m\u001b[0m \u001b[1m26s\u001b[0m 24ms/step - loss: 11.7355 - mae: 2.5925 - val_loss: 11.4437 - val_mae: 2.6174\n",
      "Epoch 8/100\n",
      "\u001b[1m1075/1075\u001b[0m \u001b[32m━━━━━━━━━━━━━━━━━━━━\u001b[0m\u001b[37m\u001b[0m \u001b[1m25s\u001b[0m 23ms/step - loss: 11.7560 - mae: 2.5957 - val_loss: 13.1118 - val_mae: 2.8281\n",
      "Epoch 9/100\n",
      "\u001b[1m1075/1075\u001b[0m \u001b[32m━━━━━━━━━━━━━━━━━━━━\u001b[0m\u001b[37m\u001b[0m \u001b[1m27s\u001b[0m 25ms/step - loss: 11.6288 - mae: 2.5820 - val_loss: 12.2349 - val_mae: 2.7020\n",
      "Epoch 10/100\n",
      "\u001b[1m1075/1075\u001b[0m \u001b[32m━━━━━━━━━━━━━━━━━━━━\u001b[0m\u001b[37m\u001b[0m \u001b[1m26s\u001b[0m 24ms/step - loss: 11.6396 - mae: 2.5811 - val_loss: 13.5328 - val_mae: 2.8941\n",
      "Epoch 11/100\n",
      "\u001b[1m1075/1075\u001b[0m \u001b[32m━━━━━━━━━━━━━━━━━━━━\u001b[0m\u001b[37m\u001b[0m \u001b[1m45s\u001b[0m 29ms/step - loss: 11.5492 - mae: 2.5694 - val_loss: 12.5194 - val_mae: 2.8031\n",
      "Epoch 12/100\n",
      "\u001b[1m1075/1075\u001b[0m \u001b[32m━━━━━━━━━━━━━━━━━━━━\u001b[0m\u001b[37m\u001b[0m \u001b[1m27s\u001b[0m 25ms/step - loss: 11.5740 - mae: 2.5719 - val_loss: 11.8391 - val_mae: 2.6957\n",
      "Epoch 13/100\n",
      "\u001b[1m1075/1075\u001b[0m \u001b[32m━━━━━━━━━━━━━━━━━━━━\u001b[0m\u001b[37m\u001b[0m \u001b[1m27s\u001b[0m 26ms/step - loss: 11.5129 - mae: 2.5684 - val_loss: 12.9178 - val_mae: 2.8391\n",
      "Epoch 14/100\n",
      "\u001b[1m1075/1075\u001b[0m \u001b[32m━━━━━━━━━━━━━━━━━━━━\u001b[0m\u001b[37m\u001b[0m \u001b[1m26s\u001b[0m 24ms/step - loss: 11.4294 - mae: 2.5568 - val_loss: 12.7424 - val_mae: 2.8073\n",
      "Epoch 15/100\n",
      "\u001b[1m1075/1075\u001b[0m \u001b[32m━━━━━━━━━━━━━━━━━━━━\u001b[0m\u001b[37m\u001b[0m \u001b[1m30s\u001b[0m 28ms/step - loss: 11.4200 - mae: 2.5562 - val_loss: 12.8566 - val_mae: 2.8420\n",
      "Epoch 16/100\n",
      "\u001b[1m1075/1075\u001b[0m \u001b[32m━━━━━━━━━━━━━━━━━━━━\u001b[0m\u001b[37m\u001b[0m \u001b[1m26s\u001b[0m 24ms/step - loss: 11.4643 - mae: 2.5616 - val_loss: 13.0985 - val_mae: 2.8464\n",
      "\u001b[1m1384/1384\u001b[0m \u001b[32m━━━━━━━━━━━━━━━━━━━━\u001b[0m\u001b[37m\u001b[0m \u001b[1m11s\u001b[0m 8ms/step - loss: 13.3108 - mae: 2.8440\n",
      "Test MAE: 2.9476823806762695 Celsius degrees\n"
     ]
    }
   ],
   "source": [
    "# Get the best hyperparameters\n",
    "best_hps = tuner.get_best_hyperparameters(num_trials=1)[0]\n",
    "print(f\"Best Hyperparameters: {best_hps.values}\")\n",
    "\n",
    "# Build the best model with those hyperparameters\n",
    "best_model = tuner.hypermodel.build(best_hps)\n",
    "\n",
    "# Train the best model\n",
    "history = best_model.fit(\n",
    "    X_train,\n",
    "    y_train,\n",
    "    validation_split=0.2,\n",
    "    epochs=100,\n",
    "    batch_size=64,\n",
    "    callbacks=[tf.keras.callbacks.EarlyStopping(monitor='val_mae', patience=10)]\n",
    ")\n",
    "\n",
    "# Evaluate the best model on the test set\n",
    "test_results = best_model.evaluate(X_test, y_test)\n",
    "print(f\"Test MAE: {test_results[1]} Celsius degrees\")"
   ]
  },
  {
   "cell_type": "code",
   "execution_count": 42,
   "metadata": {},
   "outputs": [
    {
     "data": {
      "image/png": "[encoded data removed]",
      "text/plain": [
       "<Figure size 2000x700 with 2 Axes>"
      ]
     },
     "metadata": {},
     "output_type": "display_data"
    }
   ],
   "source": [
    "plot_history(history);"
   ]
  },
  {
   "cell_type": "markdown",
   "metadata": {},
   "source": [
    "# 5.3. Safe/ Load model"
   ]
  },
  {
   "cell_type": "code",
   "execution_count": 43,
   "metadata": {},
   "outputs": [],
   "source": [
    "from tensorflow.keras.models import Sequential, save_model, load_model\n",
    "from tensorflow.keras import models"
   ]
  },
  {
   "cell_type": "code",
   "execution_count": 53,
   "metadata": {},
   "outputs": [],
   "source": [
    "relative_path = os.path.dirname(current_dir)\n",
    "models_folder = os.path.join(relative_path, \"powder_alert2.0/models\")\n",
    "\n",
    "save_as_keras = os.path.join(models_folder, 'limDS_features.keras')\n",
    "save_as_h5 = os.path.join(models_folder, 'my_model.h5')"
   ]
  },
  {
   "cell_type": "code",
   "execution_count": 54,
   "metadata": {},
   "outputs": [],
   "source": [
    "model.save(save_as_keras)"
   ]
  },
  {
   "cell_type": "code",
   "execution_count": 55,
   "metadata": {},
   "outputs": [],
   "source": [
    "loaded_model_keras = tf.keras.models.load_model(save_as_keras)"
   ]
  },
  {
   "cell_type": "markdown",
   "metadata": {},
   "source": [
    "# 6. Prediction"
   ]
  },
  {
   "cell_type": "code",
   "execution_count": 47,
   "metadata": {},
   "outputs": [
    {
     "data": {
      "text/plain": [
       "(1, 24, 10)"
      ]
     },
     "execution_count": 47,
     "metadata": {},
     "output_type": "execute_result"
    }
   ],
   "source": [
    "last_input = X_test[-1:]\n",
    "last_input.shape"
   ]
  },
  {
   "cell_type": "code",
   "execution_count": 52,
   "metadata": {},
   "outputs": [],
   "source": [
    "best_model = loaded_model_keras"
   ]
  },
  {
   "cell_type": "code",
   "execution_count": 49,
   "metadata": {},
   "outputs": [
    {
     "name": "stdout",
     "output_type": "stream",
     "text": [
      "\u001b[1m1/1\u001b[0m \u001b[32m━━━━━━━━━━━━━━━━━━━━\u001b[0m\u001b[37m\u001b[0m \u001b[1m0s\u001b[0m 297ms/step\n"
     ]
    }
   ],
   "source": [
    "predictions = best_model.predict(last_input)"
   ]
  },
  {
   "cell_type": "code",
   "execution_count": 50,
   "metadata": {},
   "outputs": [
    {
     "name": "stdout",
     "output_type": "stream",
     "text": [
      "The temperature for the upcoming 24 h range from -4.7629194259643555 to 5.311578273773193 Celsius degrees.\n"
     ]
    }
   ],
   "source": [
    "predicted_temperatures = predictions[0]\n",
    "print(f'The temperature for the upcoming 24 h range from {predicted_temperatures.min()} to {predicted_temperatures.max()} Celsius degrees.')"
   ]
  },
  {
   "cell_type": "code",
   "execution_count": 51,
   "metadata": {},
   "outputs": [
    {
     "name": "stderr",
     "output_type": "stream",
     "text": [
      "/var/tmp/ipykernel_6162/4283440329.py:2: FutureWarning: 'H' is deprecated and will be removed in a future version, please use 'h' instead.\n",
      "  predicted_df[\"Hour\"] = pd.date_range(start=pd.to_datetime('now'), periods=24, freq='H')\n"
     ]
    },
    {
     "data": {
      "image/png": "[encoded data removed]",
      "text/plain": [
       "<Figure size 1000x600 with 1 Axes>"
      ]
     },
     "metadata": {},
     "output_type": "display_data"
    }
   ],
   "source": [
    "predicted_df = pd.DataFrame(predicted_temperatures, columns=[\"Predicted Temperature\"])\n",
    "predicted_df[\"Hour\"] = pd.date_range(start=pd.to_datetime('now'), periods=24, freq='H')\n",
    "\n",
    "# Plot the predicted temperatures\n",
    "plt.figure(figsize=(10,6))\n",
    "plt.plot(predicted_df[\"Hour\"], predicted_df[\"Predicted Temperature\"], marker='o')\n",
    "plt.title(\"Predicted Temperature for the Next 24 Hours\")\n",
    "plt.xlabel(\"Hour\")\n",
    "plt.ylabel(\"Temperature (°C)\")\n",
    "plt.grid(True)\n",
    "plt.xticks(rotation=45)\n",
    "plt.show();"
   ]
  },
  {
   "cell_type": "code",
   "execution_count": null,
   "metadata": {},
   "outputs": [],
   "source": []
  }
 ],
 "metadata": {
  "environment": {
   "kernel": "conda-base-py",
   "name": "workbench-notebooks.m126",
   "type": "gcloud",
   "uri": "us-docker.pkg.dev/deeplearning-platform-release/gcr.io/workbench-notebooks:m126"
  },
  "kernelspec": {
   "display_name": "Python 3 (ipykernel)",
   "language": "python",
   "name": "conda-base-py"
  },
  "language_info": {
   "codemirror_mode": {
    "name": "ipython",
    "version": 3
   },
   "file_extension": ".py",
   "mimetype": "text/x-python",
   "name": "python",
   "nbconvert_exporter": "python",
   "pygments_lexer": "ipython3",
   "version": "3.10.15"
  }
 },
 "nbformat": 4,
 "nbformat_minor": 4
}
