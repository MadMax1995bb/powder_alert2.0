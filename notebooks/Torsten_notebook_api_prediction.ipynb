{
 "cells": [
  {
   "cell_type": "code",
   "execution_count": 1,
   "metadata": {},
   "outputs": [
    {
     "name": "stdout",
     "output_type": "stream",
     "text": [
      "Coordinates: 47.2400016784668°N, 11.84000015258789°E\n",
      "Elevation: 1818.0 m asl\n",
      "Timezone: None (None)\n",
      "UTC Offset: 0 seconds\n",
      "✅ Prediction data fetched successfully\n",
      "Shape: (96, 23)\n",
      "Index(['date', 'temperature_2m', 'relative_humidity_2m', 'dew_point_2m',\n",
      "       'precipitation', 'rain', 'snowfall', 'snow_depth', 'weather_code',\n",
      "       'pressure_msl', 'surface_pressure', 'cloud_cover', 'cloud_cover_low',\n",
      "       'cloud_cover_mid', 'cloud_cover_high', 'et0_fao_evapotranspiration',\n",
      "       'vapour_pressure_deficit', 'wind_speed_10m', 'wind_speed_100m',\n",
      "       'wind_direction_10m', 'wind_direction_100m', 'wind_gusts_10m',\n",
      "       'sunshine_duration'],\n",
      "      dtype='object')\n"
     ]
    }
   ],
   "source": [
    "import openmeteo_requests\n",
    "import matplotlib as plt\n",
    "import requests_cache\n",
    "import pandas as pd\n",
    "from retry_requests import retry\n",
    "from powderalert.ml_logic.preprocessor import define_X, preprocess\n",
    "from powderalert.ml_logic.data import clean_data"
   ]
  },
  {
   "cell_type": "code",
   "execution_count": 2,
   "metadata": {},
   "outputs": [
    {
     "name": "stdout",
     "output_type": "stream",
     "text": [
      "Coordinates 47.2400016784668°N 11.84000015258789°E\n",
      "Elevation 1818.0 m asl\n",
      "Timezone None None\n",
      "Timezone difference to GMT+0 0 s\n"
     ]
    }
   ],
   "source": [
    "# Setup the Open-Meteo API client with cache and retry on error\n",
    "cache_session = requests_cache.CachedSession('.cache', expire_after = -1)\n",
    "retry_session = retry(cache_session, retries = 5, backoff_factor = 0.2)\n",
    "openmeteo = openmeteo_requests.Client(session = retry_session)\n",
    "\n",
    "# Make sure all required weather variables are listed here\n",
    "# The order of variables in hourly or daily is important to assign them correctly below\n",
    "url = \"https://api.open-meteo.com/v1/forecast\"\n",
    "params = {\n",
    "\t\"latitude\": 47.26580883196723,\n",
    "\t\"longitude\": 11.84457426992035,\n",
    "\t\"past_days\": 2,\n",
    "\t\"forecast_days\": 3,\n",
    "\t\"hourly\": [\"temperature_2m\", \"relative_humidity_2m\", \"dew_point_2m\", \"precipitation\", \"rain\", \"snowfall\", \"snow_depth\", \"weather_code\", \"pressure_msl\", \"surface_pressure\", \"cloud_cover\", \"cloud_cover_low\", \"cloud_cover_mid\", \"cloud_cover_high\", \"et0_fao_evapotranspiration\", \"vapour_pressure_deficit\", \"wind_speed_10m\", \"wind_speed_120m\", \"wind_direction_10m\", \"wind_direction_120m\", \"wind_gusts_10m\", \"soil_temperature_0cm\", \"soil_temperature_6cm\", \"soil_temperature_18cm\", \"soil_temperature_54cm\", \"soil_moisture_0_to_1cm\", \"soil_moisture_1_to_3cm\", \"soil_moisture_3_to_9cm\", \"soil_moisture_9_to_27cm\", \"soil_moisture_27_to_81cm\"]\n",
    "}\n",
    "responses = openmeteo.weather_api(url, params=params)\n",
    "\n",
    "# Process first location. Add a for-loop for multiple locations or weather models\n",
    "response = responses[0]\n",
    "print(f\"Coordinates {response.Latitude()}°N {response.Longitude()}°E\")\n",
    "print(f\"Elevation {response.Elevation()} m asl\")\n",
    "print(f\"Timezone {response.Timezone()} {response.TimezoneAbbreviation()}\")\n",
    "print(f\"Timezone difference to GMT+0 {response.UtcOffsetSeconds()} s\")\n"
   ]
  },
  {
   "cell_type": "code",
   "execution_count": 3,
   "metadata": {},
   "outputs": [
    {
     "name": "stdout",
     "output_type": "stream",
     "text": [
      "                         date  temperature_2m  relative_humidity_2m  \\\n",
      "0   2024-12-14 00:00:00+00:00         -2.0740                  55.0   \n",
      "1   2024-12-14 01:00:00+00:00         -2.3240                  56.0   \n",
      "2   2024-12-14 02:00:00+00:00         -2.0740                  54.0   \n",
      "3   2024-12-14 03:00:00+00:00         -2.7240                  60.0   \n",
      "4   2024-12-14 04:00:00+00:00         -2.8740                  64.0   \n",
      "..                        ...             ...                   ...   \n",
      "115 2024-12-18 19:00:00+00:00          3.7635                  56.0   \n",
      "116 2024-12-18 20:00:00+00:00          3.1135                  60.0   \n",
      "117 2024-12-18 21:00:00+00:00          2.9135                  61.0   \n",
      "118 2024-12-18 22:00:00+00:00          2.9635                  61.0   \n",
      "119 2024-12-18 23:00:00+00:00          2.9635                  61.0   \n",
      "\n",
      "     dew_point_2m  precipitation  rain  snowfall  snow_depth  weather_code  \\\n",
      "0       -9.914110            0.0   0.0       0.0        0.22           3.0   \n",
      "1       -9.919742            0.0   0.0       0.0        0.22           3.0   \n",
      "2      -10.146681            0.0   0.0       0.0        0.22           3.0   \n",
      "3       -9.419146            0.0   0.0       0.0        0.22           3.0   \n",
      "4       -8.736697            0.0   0.0       0.0        0.22           3.0   \n",
      "..            ...            ...   ...       ...         ...           ...   \n",
      "115     -4.214911            0.0   0.0       0.0        0.16           2.0   \n",
      "116     -3.906108            0.0   0.0       0.0        0.16           3.0   \n",
      "117     -3.874350            0.0   0.0       0.0        0.16           2.0   \n",
      "118     -3.827072            0.0   0.0       0.0        0.16           1.0   \n",
      "119     -3.827072            0.0   0.0       0.0        0.16           0.0   \n",
      "\n",
      "     pressure_msl  ...  cloud_cover_mid  cloud_cover_high  \\\n",
      "0     1021.799988  ...            100.0             100.0   \n",
      "1     1021.400024  ...            100.0             100.0   \n",
      "2     1021.099976  ...            100.0             100.0   \n",
      "3     1020.900024  ...            100.0             100.0   \n",
      "4     1020.400024  ...            100.0             100.0   \n",
      "..            ...  ...              ...               ...   \n",
      "115   1023.000000  ...              3.0              16.0   \n",
      "116   1022.700012  ...              0.0              71.0   \n",
      "117   1021.900024  ...              0.0              44.0   \n",
      "118   1021.000000  ...              0.0              32.0   \n",
      "119   1020.299988  ...              0.0               8.0   \n",
      "\n",
      "     et0_fao_evapotranspiration  vapour_pressure_deficit  wind_speed_10m  \\\n",
      "0                      0.012611                 0.236865        7.280550   \n",
      "1                      0.011692                 0.227360        7.200000   \n",
      "2                      0.015034                 0.242124        7.993298   \n",
      "3                      0.007119                 0.200660        6.287130   \n",
      "4                      0.009735                 0.178601        8.534353   \n",
      "..                          ...                      ...             ...   \n",
      "115                    0.008150                 0.352861        5.154415   \n",
      "116                    0.010497                 0.306410        6.618519   \n",
      "117                    0.012651                 0.294551        7.594208   \n",
      "118                    0.011361                 0.295597        7.145796   \n",
      "119                    0.013548                 0.295597        7.895416   \n",
      "\n",
      "     wind_speed_100m  wind_direction_10m  wind_direction_100m  wind_gusts_10m  \\\n",
      "0           3.396233          261.469330           212.005341       25.919998   \n",
      "1           3.600000          270.000000           216.869980       20.519999   \n",
      "2           4.104631          262.234924           217.875046       20.160000   \n",
      "3           1.440000          283.240540           270.000000       16.919998   \n",
      "4           5.351785          297.645874           312.273621       12.959999   \n",
      "..               ...                 ...                  ...             ...   \n",
      "115         4.829907          245.224884           243.435013       39.599998   \n",
      "116         7.491114          224.999893           215.217682       34.919998   \n",
      "117         9.565437          211.429520           199.798965       38.160000   \n",
      "118         7.903619          220.914291           210.068497       34.200001   \n",
      "119        10.390226          204.227737           194.036270       25.919998   \n",
      "\n",
      "     sunshine_duration  \n",
      "0              -0.6240  \n",
      "1              -0.6240  \n",
      "2              -0.6240  \n",
      "3              -0.6240  \n",
      "4              -0.6240  \n",
      "..                 ...  \n",
      "115            -0.7365  \n",
      "116            -0.8365  \n",
      "117            -0.8365  \n",
      "118            -0.8365  \n",
      "119            -0.8365  \n",
      "\n",
      "[120 rows x 23 columns]\n"
     ]
    }
   ],
   "source": [
    "# Process hourly data. The order of variables needs to be the same as requested.\n",
    "hourly = response.Hourly()\n",
    "hourly_temperature_2m = hourly.Variables(0).ValuesAsNumpy()\n",
    "hourly_relative_humidity_2m = hourly.Variables(1).ValuesAsNumpy()\n",
    "hourly_dew_point_2m = hourly.Variables(2).ValuesAsNumpy()\n",
    "hourly_precipitation = hourly.Variables(3).ValuesAsNumpy()\n",
    "hourly_rain = hourly.Variables(4).ValuesAsNumpy()\n",
    "hourly_snowfall = hourly.Variables(5).ValuesAsNumpy()\n",
    "hourly_snow_depth = hourly.Variables(6).ValuesAsNumpy()\n",
    "hourly_weather_code = hourly.Variables(7).ValuesAsNumpy()\n",
    "hourly_pressure_msl = hourly.Variables(8).ValuesAsNumpy()\n",
    "hourly_surface_pressure = hourly.Variables(9).ValuesAsNumpy()\n",
    "hourly_cloud_cover = hourly.Variables(10).ValuesAsNumpy()\n",
    "hourly_cloud_cover_low = hourly.Variables(11).ValuesAsNumpy()\n",
    "hourly_cloud_cover_mid = hourly.Variables(12).ValuesAsNumpy()\n",
    "hourly_cloud_cover_high = hourly.Variables(13).ValuesAsNumpy()\n",
    "hourly_et0_fao_evapotranspiration = hourly.Variables(14).ValuesAsNumpy()\n",
    "hourly_vapour_pressure_deficit = hourly.Variables(15).ValuesAsNumpy()\n",
    "hourly_wind_speed_10m = hourly.Variables(16).ValuesAsNumpy()\n",
    "hourly_wind_speed_120m = hourly.Variables(17).ValuesAsNumpy()\n",
    "hourly_wind_direction_10m = hourly.Variables(18).ValuesAsNumpy()\n",
    "hourly_wind_direction_120m = hourly.Variables(19).ValuesAsNumpy()\n",
    "hourly_wind_gusts_10m = hourly.Variables(20).ValuesAsNumpy()\n",
    "hourly_sunshine_duration = hourly.Variables(21).ValuesAsNumpy()\n",
    "\n",
    "hourly_data = {\"date\": pd.date_range(\n",
    "\tstart = pd.to_datetime(hourly.Time(), unit = \"s\", utc = True),\n",
    "\tend = pd.to_datetime(hourly.TimeEnd(), unit = \"s\", utc = True),\n",
    "\tfreq = pd.Timedelta(seconds = hourly.Interval()),\n",
    "\tinclusive = \"left\"\n",
    ")}\n",
    "hourly_data[\"temperature_2m\"] = hourly_temperature_2m\n",
    "hourly_data[\"relative_humidity_2m\"] = hourly_relative_humidity_2m\n",
    "hourly_data[\"dew_point_2m\"] = hourly_dew_point_2m\n",
    "hourly_data[\"precipitation\"] = hourly_precipitation\n",
    "hourly_data[\"rain\"] = hourly_rain\n",
    "hourly_data[\"snowfall\"] = hourly_snowfall\n",
    "hourly_data[\"snow_depth\"] = hourly_snow_depth\n",
    "hourly_data[\"weather_code\"] = hourly_weather_code\n",
    "hourly_data[\"pressure_msl\"] = hourly_pressure_msl\n",
    "hourly_data[\"surface_pressure\"] = hourly_surface_pressure\n",
    "hourly_data[\"cloud_cover\"] = hourly_cloud_cover\n",
    "hourly_data[\"cloud_cover_low\"] = hourly_cloud_cover_low\n",
    "hourly_data[\"cloud_cover_mid\"] = hourly_cloud_cover_mid\n",
    "hourly_data[\"cloud_cover_high\"] = hourly_cloud_cover_high\n",
    "hourly_data[\"et0_fao_evapotranspiration\"] = hourly_et0_fao_evapotranspiration\n",
    "hourly_data[\"vapour_pressure_deficit\"] = hourly_vapour_pressure_deficit\n",
    "hourly_data[\"wind_speed_10m\"] = hourly_wind_speed_10m\n",
    "hourly_data[\"wind_speed_100m\"] = hourly_wind_speed_120m #changing column names to match train dataset\n",
    "hourly_data[\"wind_direction_10m\"] = hourly_wind_direction_10m\n",
    "hourly_data[\"wind_direction_100m\"] = hourly_wind_direction_120m #changing column names to match train dataset\n",
    "hourly_data[\"wind_gusts_10m\"] = hourly_wind_gusts_10m\n",
    "hourly_data[\"sunshine_duration\"] = hourly_sunshine_duration\n",
    "\n",
    "hourly_dataframe = pd.DataFrame(data = hourly_data)\n",
    "print(hourly_dataframe)"
   ]
  },
  {
   "cell_type": "code",
   "execution_count": 4,
   "metadata": {},
   "outputs": [
    {
     "name": "stdout",
     "output_type": "stream",
     "text": [
      "<class 'pandas.core.frame.DataFrame'>\n",
      "RangeIndex: 120 entries, 0 to 119\n",
      "Data columns (total 23 columns):\n",
      " #   Column                      Non-Null Count  Dtype              \n",
      "---  ------                      --------------  -----              \n",
      " 0   date                        120 non-null    datetime64[ns, UTC]\n",
      " 1   temperature_2m              120 non-null    float32            \n",
      " 2   relative_humidity_2m        120 non-null    float32            \n",
      " 3   dew_point_2m                120 non-null    float32            \n",
      " 4   precipitation               120 non-null    float32            \n",
      " 5   rain                        120 non-null    float32            \n",
      " 6   snowfall                    120 non-null    float32            \n",
      " 7   snow_depth                  120 non-null    float32            \n",
      " 8   weather_code                120 non-null    float32            \n",
      " 9   pressure_msl                120 non-null    float32            \n",
      " 10  surface_pressure            120 non-null    float32            \n",
      " 11  cloud_cover                 120 non-null    float32            \n",
      " 12  cloud_cover_low             120 non-null    float32            \n",
      " 13  cloud_cover_mid             120 non-null    float32            \n",
      " 14  cloud_cover_high            120 non-null    float32            \n",
      " 15  et0_fao_evapotranspiration  120 non-null    float32            \n",
      " 16  vapour_pressure_deficit     120 non-null    float32            \n",
      " 17  wind_speed_10m              120 non-null    float32            \n",
      " 18  wind_speed_100m             120 non-null    float32            \n",
      " 19  wind_direction_10m          120 non-null    float32            \n",
      " 20  wind_direction_100m         120 non-null    float32            \n",
      " 21  wind_gusts_10m              120 non-null    float32            \n",
      " 22  sunshine_duration           120 non-null    float32            \n",
      "dtypes: datetime64[ns, UTC](1), float32(22)\n",
      "memory usage: 11.4 KB\n"
     ]
    }
   ],
   "source": [
    "hourly_dataframe.info()"
   ]
  },
  {
   "cell_type": "code",
   "execution_count": 5,
   "metadata": {},
   "outputs": [],
   "source": [
    "api_columns = ['date', 'temperature_2m', 'relative_humidity_2m', 'dew_point_2m',\n",
    "       'precipitation', 'rain', 'snowfall', 'snow_depth', 'weather_code',\n",
    "       'pressure_msl', 'surface_pressure', 'cloud_cover', 'cloud_cover_low',\n",
    "       'cloud_cover_mid', 'cloud_cover_high', 'et0_fao_evapotranspiration',\n",
    "       'vapour_pressure_deficit', 'wind_speed_10m', 'wind_speed_100m',\n",
    "       'wind_direction_10m', 'wind_direction_100m', 'wind_gusts_10m',\n",
    "       'sunshine_duration']"
   ]
  },
  {
   "cell_type": "code",
   "execution_count": 6,
   "metadata": {},
   "outputs": [],
   "source": [
    "notebook_columns = hourly_dataframe.columns"
   ]
  },
  {
   "cell_type": "code",
   "execution_count": 8,
   "metadata": {},
   "outputs": [
    {
     "data": {
      "text/plain": [
       "Index(['date', 'temperature_2m', 'relative_humidity_2m', 'dew_point_2m',\n",
       "       'precipitation', 'rain', 'snowfall', 'snow_depth', 'weather_code',\n",
       "       'pressure_msl', 'surface_pressure', 'cloud_cover', 'cloud_cover_low',\n",
       "       'cloud_cover_mid', 'cloud_cover_high', 'et0_fao_evapotranspiration',\n",
       "       'vapour_pressure_deficit', 'wind_speed_10m', 'wind_speed_100m',\n",
       "       'wind_direction_10m', 'wind_direction_100m', 'wind_gusts_10m',\n",
       "       'sunshine_duration'],\n",
       "      dtype='object')"
      ]
     },
     "execution_count": 8,
     "metadata": {},
     "output_type": "execute_result"
    }
   ],
   "source": [
    "notebook_columns"
   ]
  },
  {
   "cell_type": "code",
   "execution_count": 7,
   "metadata": {},
   "outputs": [
    {
     "ename": "ValueError",
     "evalue": "The truth value of an array with more than one element is ambiguous. Use a.any() or a.all()",
     "output_type": "error",
     "traceback": [
      "\u001b[0;31m---------------------------------------------------------------------------\u001b[0m",
      "\u001b[0;31mValueError\u001b[0m                                Traceback (most recent call last)",
      "Cell \u001b[0;32mIn[7], line 1\u001b[0m\n\u001b[0;32m----> 1\u001b[0m \u001b[38;5;28;01mif\u001b[39;00m notebook_columns \u001b[38;5;241m==\u001b[39m api_columns:\n\u001b[1;32m      2\u001b[0m     \u001b[38;5;28mprint\u001b[39m(\u001b[38;5;124m\"\u001b[39m\u001b[38;5;124mThe lists are the same.\u001b[39m\u001b[38;5;124m\"\u001b[39m)\n\u001b[1;32m      3\u001b[0m \u001b[38;5;28;01melse\u001b[39;00m:\n",
      "\u001b[0;31mValueError\u001b[0m: The truth value of an array with more than one element is ambiguous. Use a.any() or a.all()"
     ]
    }
   ],
   "source": [
    "if notebook_columns == api_columns:\n",
    "    print(\"The lists are the same.\")\n",
    "else:\n",
    "    print(\"The lists are different.\")"
   ]
  },
  {
   "cell_type": "code",
   "execution_count": null,
   "metadata": {},
   "outputs": [],
   "source": []
  }
 ],
 "metadata": {
  "kernelspec": {
   "display_name": "powder_alert2.0",
   "language": "python",
   "name": "python3"
  },
  "language_info": {
   "codemirror_mode": {
    "name": "ipython",
    "version": 3
   },
   "file_extension": ".py",
   "mimetype": "text/x-python",
   "name": "python",
   "nbconvert_exporter": "python",
   "pygments_lexer": "ipython3",
   "version": "3.10.6"
  }
 },
 "nbformat": 4,
 "nbformat_minor": 2
}
