{
 "cells": [
  {
   "cell_type": "markdown",
   "metadata": {},
   "source": [
    "# 0.1 Imports"
   ]
  },
  {
   "cell_type": "code",
   "execution_count": 37,
   "metadata": {
    "scrolled": true
   },
   "outputs": [],
   "source": [
    "import pandas as pd\n",
    "import numpy as np\n",
    "pd.set_option(\"display.max_columns\", None)\n",
    "\n",
    "import matplotlib.pyplot as plt\n",
    "import seaborn as sns\n",
    "\n",
    "import tensorflow as tf\n",
    "\n",
    "import os\n",
    "\n",
    "from typing import Dict, List, Tuple, Sequence"
   ]
  },
  {
   "cell_type": "markdown",
   "metadata": {},
   "source": [
    "# 1. Data Import & Cleaning"
   ]
  },
  {
   "cell_type": "code",
   "execution_count": 38,
   "metadata": {},
   "outputs": [
    {
     "data": {
      "text/plain": [
       "'/home/jupyter/powder_alert2.0'"
      ]
     },
     "execution_count": 38,
     "metadata": {},
     "output_type": "execute_result"
    }
   ],
   "source": [
    "current_dir = os.getcwd()\n",
    "current_dir"
   ]
  },
  {
   "cell_type": "code",
   "execution_count": 39,
   "metadata": {},
   "outputs": [
    {
     "data": {
      "text/plain": [
       "'/home/jupyter'"
      ]
     },
     "execution_count": 39,
     "metadata": {},
     "output_type": "execute_result"
    }
   ],
   "source": [
    "relative_path = os.path.dirname(current_dir)\n",
    "relative_path"
   ]
  },
  {
   "cell_type": "code",
   "execution_count": 40,
   "metadata": {},
   "outputs": [],
   "source": [
    "file_name = \"powder_alert2.0/historical_weather_openmeteo_01011979-08122024.csv\"\n",
    "\n",
    "file_path = os.path.join(relative_path, file_name)\n",
    "\n",
    "df = pd.read_csv(file_path, parse_dates=['date'])"
   ]
  },
  {
   "cell_type": "code",
   "execution_count": 41,
   "metadata": {},
   "outputs": [],
   "source": [
    "df['datetime'] = pd.to_datetime(df['date'])  # Convert 'datetime' column to datetime format\n",
    "df.set_index('datetime', inplace=True)\n",
    "\n",
    "df['hour_sin'] = np.sin(2 * np.pi * df.index.hour / 24)\n",
    "df['hour_cos'] = np.cos(2 * np.pi * df.index.hour / 24)\n",
    "\n",
    "df['day_of_week_sin'] = np.sin(2 * np.pi * df.index.dayofweek / 7)\n",
    "df['day_of_week_cos'] = np.cos(2 * np.pi * df.index.dayofweek / 7)\n",
    "\n",
    "df['month_sin'] = np.sin(2 * np.pi * (df.index.month - 1) / 12)\n",
    "df['month_cos'] = np.cos(2 * np.pi * (df.index.month - 1) / 12)"
   ]
  },
  {
   "cell_type": "code",
   "execution_count": 42,
   "metadata": {},
   "outputs": [],
   "source": [
    "df = df.loc[df.index > '2010-01-01']"
   ]
  },
  {
   "cell_type": "code",
   "execution_count": 43,
   "metadata": {},
   "outputs": [],
   "source": [
    "df['date'] = df['date'].dt.tz_localize(None) # remove the UTC"
   ]
  },
  {
   "cell_type": "code",
   "execution_count": 44,
   "metadata": {},
   "outputs": [
    {
     "data": {
      "text/plain": [
       "date                             datetime64[ns]\n",
       "temperature_2m                          float64\n",
       "relative_humidity_2m                    float64\n",
       "dew_point_2m                            float64\n",
       "apparent_temperature                    float64\n",
       "precipitation                           float64\n",
       "rain                                    float64\n",
       "snowfall                                float64\n",
       "snow_depth                              float64\n",
       "weather_code                            float64\n",
       "pressure_msl                            float64\n",
       "surface_pressure                        float64\n",
       "cloud_cover                             float64\n",
       "cloud_cover_low                         float64\n",
       "cloud_cover_mid                         float64\n",
       "cloud_cover_high                        float64\n",
       "et0_fao_evapotranspiration              float64\n",
       "vapour_pressure_deficit                 float64\n",
       "wind_speed_10m                          float64\n",
       "wind_speed_100m                         float64\n",
       "wind_direction_10m                      float64\n",
       "wind_direction_100m                     float64\n",
       "wind_gusts_10m                          float64\n",
       "soil_temperature_0_to_7cm               float64\n",
       "soil_temperature_7_to_28cm              float64\n",
       "soil_temperature_28_to_100cm            float64\n",
       "soil_temperature_100_to_255cm           float64\n",
       "soil_moisture_0_to_7cm                  float64\n",
       "soil_moisture_7_to_28cm                 float64\n",
       "soil_moisture_28_to_100cm               float64\n",
       "soil_moisture_100_to_255cm              float64\n",
       "sunshine_duration                       float64\n",
       "hour_sin                                float64\n",
       "hour_cos                                float64\n",
       "day_of_week_sin                         float64\n",
       "day_of_week_cos                         float64\n",
       "month_sin                               float64\n",
       "month_cos                               float64\n",
       "dtype: object"
      ]
     },
     "execution_count": 44,
     "metadata": {},
     "output_type": "execute_result"
    }
   ],
   "source": [
    "df.dtypes"
   ]
  },
  {
   "cell_type": "code",
   "execution_count": 45,
   "metadata": {},
   "outputs": [
    {
     "data": {
      "text/plain": [
       "(130943, 38)"
      ]
     },
     "execution_count": 45,
     "metadata": {},
     "output_type": "execute_result"
    }
   ],
   "source": [
    "df.shape"
   ]
  },
  {
   "cell_type": "code",
   "execution_count": 46,
   "metadata": {},
   "outputs": [
    {
     "data": {
      "text/html": [
       "<div>\n",
       "<style scoped>\n",
       "    .dataframe tbody tr th:only-of-type {\n",
       "        vertical-align: middle;\n",
       "    }\n",
       "\n",
       "    .dataframe tbody tr th {\n",
       "        vertical-align: top;\n",
       "    }\n",
       "\n",
       "    .dataframe thead th {\n",
       "        text-align: right;\n",
       "    }\n",
       "</style>\n",
       "<table border=\"1\" class=\"dataframe\">\n",
       "  <thead>\n",
       "    <tr style=\"text-align: right;\">\n",
       "      <th></th>\n",
       "      <th>date</th>\n",
       "      <th>temperature_2m</th>\n",
       "      <th>relative_humidity_2m</th>\n",
       "      <th>dew_point_2m</th>\n",
       "      <th>apparent_temperature</th>\n",
       "      <th>precipitation</th>\n",
       "      <th>rain</th>\n",
       "      <th>snowfall</th>\n",
       "      <th>snow_depth</th>\n",
       "      <th>weather_code</th>\n",
       "      <th>pressure_msl</th>\n",
       "      <th>surface_pressure</th>\n",
       "      <th>cloud_cover</th>\n",
       "      <th>cloud_cover_low</th>\n",
       "      <th>cloud_cover_mid</th>\n",
       "      <th>cloud_cover_high</th>\n",
       "      <th>et0_fao_evapotranspiration</th>\n",
       "      <th>vapour_pressure_deficit</th>\n",
       "      <th>wind_speed_10m</th>\n",
       "      <th>wind_speed_100m</th>\n",
       "      <th>wind_direction_10m</th>\n",
       "      <th>wind_direction_100m</th>\n",
       "      <th>wind_gusts_10m</th>\n",
       "      <th>soil_temperature_0_to_7cm</th>\n",
       "      <th>soil_temperature_7_to_28cm</th>\n",
       "      <th>soil_temperature_28_to_100cm</th>\n",
       "      <th>soil_temperature_100_to_255cm</th>\n",
       "      <th>soil_moisture_0_to_7cm</th>\n",
       "      <th>soil_moisture_7_to_28cm</th>\n",
       "      <th>soil_moisture_28_to_100cm</th>\n",
       "      <th>soil_moisture_100_to_255cm</th>\n",
       "      <th>sunshine_duration</th>\n",
       "      <th>hour_sin</th>\n",
       "      <th>hour_cos</th>\n",
       "      <th>day_of_week_sin</th>\n",
       "      <th>day_of_week_cos</th>\n",
       "      <th>month_sin</th>\n",
       "      <th>month_cos</th>\n",
       "    </tr>\n",
       "    <tr>\n",
       "      <th>datetime</th>\n",
       "      <th></th>\n",
       "      <th></th>\n",
       "      <th></th>\n",
       "      <th></th>\n",
       "      <th></th>\n",
       "      <th></th>\n",
       "      <th></th>\n",
       "      <th></th>\n",
       "      <th></th>\n",
       "      <th></th>\n",
       "      <th></th>\n",
       "      <th></th>\n",
       "      <th></th>\n",
       "      <th></th>\n",
       "      <th></th>\n",
       "      <th></th>\n",
       "      <th></th>\n",
       "      <th></th>\n",
       "      <th></th>\n",
       "      <th></th>\n",
       "      <th></th>\n",
       "      <th></th>\n",
       "      <th></th>\n",
       "      <th></th>\n",
       "      <th></th>\n",
       "      <th></th>\n",
       "      <th></th>\n",
       "      <th></th>\n",
       "      <th></th>\n",
       "      <th></th>\n",
       "      <th></th>\n",
       "      <th></th>\n",
       "      <th></th>\n",
       "      <th></th>\n",
       "      <th></th>\n",
       "      <th></th>\n",
       "      <th></th>\n",
       "      <th></th>\n",
       "    </tr>\n",
       "  </thead>\n",
       "  <tbody>\n",
       "    <tr>\n",
       "      <th>2024-12-08 22:00:00+00:00</th>\n",
       "      <td>2024-12-08 22:00:00</td>\n",
       "      <td>NaN</td>\n",
       "      <td>NaN</td>\n",
       "      <td>NaN</td>\n",
       "      <td>NaN</td>\n",
       "      <td>NaN</td>\n",
       "      <td>NaN</td>\n",
       "      <td>NaN</td>\n",
       "      <td>NaN</td>\n",
       "      <td>NaN</td>\n",
       "      <td>NaN</td>\n",
       "      <td>NaN</td>\n",
       "      <td>NaN</td>\n",
       "      <td>NaN</td>\n",
       "      <td>NaN</td>\n",
       "      <td>NaN</td>\n",
       "      <td>NaN</td>\n",
       "      <td>NaN</td>\n",
       "      <td>NaN</td>\n",
       "      <td>NaN</td>\n",
       "      <td>NaN</td>\n",
       "      <td>NaN</td>\n",
       "      <td>NaN</td>\n",
       "      <td>NaN</td>\n",
       "      <td>NaN</td>\n",
       "      <td>NaN</td>\n",
       "      <td>NaN</td>\n",
       "      <td>NaN</td>\n",
       "      <td>NaN</td>\n",
       "      <td>NaN</td>\n",
       "      <td>NaN</td>\n",
       "      <td>NaN</td>\n",
       "      <td>-0.500000</td>\n",
       "      <td>0.866025</td>\n",
       "      <td>-0.781831</td>\n",
       "      <td>0.62349</td>\n",
       "      <td>-0.5</td>\n",
       "      <td>0.866025</td>\n",
       "    </tr>\n",
       "    <tr>\n",
       "      <th>2024-12-08 23:00:00+00:00</th>\n",
       "      <td>2024-12-08 23:00:00</td>\n",
       "      <td>NaN</td>\n",
       "      <td>NaN</td>\n",
       "      <td>NaN</td>\n",
       "      <td>NaN</td>\n",
       "      <td>NaN</td>\n",
       "      <td>NaN</td>\n",
       "      <td>NaN</td>\n",
       "      <td>NaN</td>\n",
       "      <td>NaN</td>\n",
       "      <td>NaN</td>\n",
       "      <td>NaN</td>\n",
       "      <td>NaN</td>\n",
       "      <td>NaN</td>\n",
       "      <td>NaN</td>\n",
       "      <td>NaN</td>\n",
       "      <td>NaN</td>\n",
       "      <td>NaN</td>\n",
       "      <td>NaN</td>\n",
       "      <td>NaN</td>\n",
       "      <td>NaN</td>\n",
       "      <td>NaN</td>\n",
       "      <td>NaN</td>\n",
       "      <td>NaN</td>\n",
       "      <td>NaN</td>\n",
       "      <td>NaN</td>\n",
       "      <td>NaN</td>\n",
       "      <td>NaN</td>\n",
       "      <td>NaN</td>\n",
       "      <td>NaN</td>\n",
       "      <td>NaN</td>\n",
       "      <td>NaN</td>\n",
       "      <td>-0.258819</td>\n",
       "      <td>0.965926</td>\n",
       "      <td>-0.781831</td>\n",
       "      <td>0.62349</td>\n",
       "      <td>-0.5</td>\n",
       "      <td>0.866025</td>\n",
       "    </tr>\n",
       "  </tbody>\n",
       "</table>\n",
       "</div>"
      ],
      "text/plain": [
       "                                         date  temperature_2m  \\\n",
       "datetime                                                        \n",
       "2024-12-08 22:00:00+00:00 2024-12-08 22:00:00             NaN   \n",
       "2024-12-08 23:00:00+00:00 2024-12-08 23:00:00             NaN   \n",
       "\n",
       "                           relative_humidity_2m  dew_point_2m  \\\n",
       "datetime                                                        \n",
       "2024-12-08 22:00:00+00:00                   NaN           NaN   \n",
       "2024-12-08 23:00:00+00:00                   NaN           NaN   \n",
       "\n",
       "                           apparent_temperature  precipitation  rain  \\\n",
       "datetime                                                               \n",
       "2024-12-08 22:00:00+00:00                   NaN            NaN   NaN   \n",
       "2024-12-08 23:00:00+00:00                   NaN            NaN   NaN   \n",
       "\n",
       "                           snowfall  snow_depth  weather_code  pressure_msl  \\\n",
       "datetime                                                                      \n",
       "2024-12-08 22:00:00+00:00       NaN         NaN           NaN           NaN   \n",
       "2024-12-08 23:00:00+00:00       NaN         NaN           NaN           NaN   \n",
       "\n",
       "                           surface_pressure  cloud_cover  cloud_cover_low  \\\n",
       "datetime                                                                    \n",
       "2024-12-08 22:00:00+00:00               NaN          NaN              NaN   \n",
       "2024-12-08 23:00:00+00:00               NaN          NaN              NaN   \n",
       "\n",
       "                           cloud_cover_mid  cloud_cover_high  \\\n",
       "datetime                                                       \n",
       "2024-12-08 22:00:00+00:00              NaN               NaN   \n",
       "2024-12-08 23:00:00+00:00              NaN               NaN   \n",
       "\n",
       "                           et0_fao_evapotranspiration  \\\n",
       "datetime                                                \n",
       "2024-12-08 22:00:00+00:00                         NaN   \n",
       "2024-12-08 23:00:00+00:00                         NaN   \n",
       "\n",
       "                           vapour_pressure_deficit  wind_speed_10m  \\\n",
       "datetime                                                             \n",
       "2024-12-08 22:00:00+00:00                      NaN             NaN   \n",
       "2024-12-08 23:00:00+00:00                      NaN             NaN   \n",
       "\n",
       "                           wind_speed_100m  wind_direction_10m  \\\n",
       "datetime                                                         \n",
       "2024-12-08 22:00:00+00:00              NaN                 NaN   \n",
       "2024-12-08 23:00:00+00:00              NaN                 NaN   \n",
       "\n",
       "                           wind_direction_100m  wind_gusts_10m  \\\n",
       "datetime                                                         \n",
       "2024-12-08 22:00:00+00:00                  NaN             NaN   \n",
       "2024-12-08 23:00:00+00:00                  NaN             NaN   \n",
       "\n",
       "                           soil_temperature_0_to_7cm  \\\n",
       "datetime                                               \n",
       "2024-12-08 22:00:00+00:00                        NaN   \n",
       "2024-12-08 23:00:00+00:00                        NaN   \n",
       "\n",
       "                           soil_temperature_7_to_28cm  \\\n",
       "datetime                                                \n",
       "2024-12-08 22:00:00+00:00                         NaN   \n",
       "2024-12-08 23:00:00+00:00                         NaN   \n",
       "\n",
       "                           soil_temperature_28_to_100cm  \\\n",
       "datetime                                                  \n",
       "2024-12-08 22:00:00+00:00                           NaN   \n",
       "2024-12-08 23:00:00+00:00                           NaN   \n",
       "\n",
       "                           soil_temperature_100_to_255cm  \\\n",
       "datetime                                                   \n",
       "2024-12-08 22:00:00+00:00                            NaN   \n",
       "2024-12-08 23:00:00+00:00                            NaN   \n",
       "\n",
       "                           soil_moisture_0_to_7cm  soil_moisture_7_to_28cm  \\\n",
       "datetime                                                                     \n",
       "2024-12-08 22:00:00+00:00                     NaN                      NaN   \n",
       "2024-12-08 23:00:00+00:00                     NaN                      NaN   \n",
       "\n",
       "                           soil_moisture_28_to_100cm  \\\n",
       "datetime                                               \n",
       "2024-12-08 22:00:00+00:00                        NaN   \n",
       "2024-12-08 23:00:00+00:00                        NaN   \n",
       "\n",
       "                           soil_moisture_100_to_255cm  sunshine_duration  \\\n",
       "datetime                                                                   \n",
       "2024-12-08 22:00:00+00:00                         NaN                NaN   \n",
       "2024-12-08 23:00:00+00:00                         NaN                NaN   \n",
       "\n",
       "                           hour_sin  hour_cos  day_of_week_sin  \\\n",
       "datetime                                                         \n",
       "2024-12-08 22:00:00+00:00 -0.500000  0.866025        -0.781831   \n",
       "2024-12-08 23:00:00+00:00 -0.258819  0.965926        -0.781831   \n",
       "\n",
       "                           day_of_week_cos  month_sin  month_cos  \n",
       "datetime                                                          \n",
       "2024-12-08 22:00:00+00:00          0.62349       -0.5   0.866025  \n",
       "2024-12-08 23:00:00+00:00          0.62349       -0.5   0.866025  "
      ]
     },
     "execution_count": 46,
     "metadata": {},
     "output_type": "execute_result"
    }
   ],
   "source": [
    "df.tail(2)"
   ]
  },
  {
   "cell_type": "code",
   "execution_count": 47,
   "metadata": {},
   "outputs": [],
   "source": [
    "df = df.drop(columns=\"date\")"
   ]
  },
  {
   "cell_type": "code",
   "execution_count": 48,
   "metadata": {},
   "outputs": [
    {
     "data": {
      "text/plain": [
       "Index(['temperature_2m', 'relative_humidity_2m', 'dew_point_2m',\n",
       "       'apparent_temperature', 'precipitation', 'rain', 'snowfall',\n",
       "       'snow_depth', 'weather_code', 'pressure_msl', 'surface_pressure',\n",
       "       'cloud_cover', 'cloud_cover_low', 'cloud_cover_mid', 'cloud_cover_high',\n",
       "       'et0_fao_evapotranspiration', 'vapour_pressure_deficit',\n",
       "       'wind_speed_10m', 'wind_speed_100m', 'wind_direction_10m',\n",
       "       'wind_direction_100m', 'wind_gusts_10m', 'soil_temperature_0_to_7cm',\n",
       "       'soil_temperature_7_to_28cm', 'soil_temperature_28_to_100cm',\n",
       "       'soil_temperature_100_to_255cm', 'soil_moisture_0_to_7cm',\n",
       "       'soil_moisture_7_to_28cm', 'soil_moisture_28_to_100cm',\n",
       "       'soil_moisture_100_to_255cm', 'sunshine_duration', 'hour_sin',\n",
       "       'hour_cos', 'day_of_week_sin', 'day_of_week_cos', 'month_sin',\n",
       "       'month_cos'],\n",
       "      dtype='object')"
      ]
     },
     "execution_count": 48,
     "metadata": {},
     "output_type": "execute_result"
    }
   ],
   "source": [
    "df.columns"
   ]
  },
  {
   "cell_type": "code",
   "execution_count": 49,
   "metadata": {},
   "outputs": [
    {
     "data": {
      "image/png": "[encoded data removed]",
      "text/plain": [
       "<Figure size 640x480 with 1 Axes>"
      ]
     },
     "metadata": {},
     "output_type": "display_data"
    }
   ],
   "source": [
    "df.plot(y='temperature_2m');"
   ]
  },
  {
   "cell_type": "code",
   "execution_count": 50,
   "metadata": {},
   "outputs": [],
   "source": [
    "df = df.drop_duplicates()\n",
    "df = df.dropna()"
   ]
  },
  {
   "cell_type": "markdown",
   "metadata": {
    "jp-MarkdownHeadingCollapsed": true
   },
   "source": [
    "# 2. Dataset"
   ]
  },
  {
   "cell_type": "code",
   "execution_count": 51,
   "metadata": {},
   "outputs": [],
   "source": [
    "correlation_matrix = df.corr()\n",
    "temperature_corr = correlation_matrix['temperature_2m']\n",
    "high_corr_features = temperature_corr[abs(temperature_corr) > 0.55]"
   ]
  },
  {
   "cell_type": "code",
   "execution_count": 52,
   "metadata": {},
   "outputs": [],
   "source": [
    "features = [\n",
    "    \"temperature_2m\",\n",
    "    \"dew_point_2m\",\n",
    "    \"apparent_temperature\",\n",
    "    \"snow_depth\",\n",
    "    \"et0_fao_evapotranspiration\",\n",
    "    \"vapour_pressure_deficit\",\n",
    "    \"soil_temperature_0_to_7cm\",\n",
    "    \"soil_temperature_7_to_28cm\",\n",
    "    \"soil_temperature_28_to_100cm\",\n",
    "    \"month_cos\"]"
   ]
  },
  {
   "cell_type": "code",
   "execution_count": 53,
   "metadata": {},
   "outputs": [],
   "source": [
    "# features = [col for col in features if col in df.columns]\n",
    "# df = df[features]\n",
    "# df.tail(1)"
   ]
  },
  {
   "cell_type": "markdown",
   "metadata": {
    "jp-MarkdownHeadingCollapsed": true
   },
   "source": [
    "# 3. Folds"
   ]
  },
  {
   "cell_type": "code",
   "execution_count": 54,
   "metadata": {},
   "outputs": [
    {
     "name": "stdout",
     "output_type": "stream",
     "text": [
      "DS includes 130319 rows --> hours\n",
      "DS includes 5429.958333333333 --> days\n",
      "DS includes 775.7083333333333 --> weeks\n",
      "DS includes 193.92708333333331 --> months\n",
      "DS includes 16.160590277777775 --> years\n"
     ]
    }
   ],
   "source": [
    "rows = df.shape[0]\n",
    "days = rows/24\n",
    "weeks = days/7\n",
    "months = weeks/4\n",
    "years = months/ 12\n",
    "print(f'DS includes {rows} rows --> hours')\n",
    "print(f'DS includes {days} --> days')\n",
    "print(f'DS includes {weeks} --> weeks')\n",
    "print(f'DS includes {months} --> months')\n",
    "print(f'DS includes {years} --> years')"
   ]
  },
  {
   "cell_type": "code",
   "execution_count": 55,
   "metadata": {},
   "outputs": [],
   "source": [
    "# Folds\n",
    "FOLD_LENGTH = rows      # each fold will have 1 years of data\n",
    "FOLD_STRIDE = 1 # sliding half a year\n",
    "\n",
    "# Temporal Train-Test split\n",
    "TRAIN_TEST_RATIO = 0.66\n",
    "N_TRAIN = 6666 # number_of_sequences_train for each fold_train\n",
    "N_TEST =  3333 # number_of_sequences_test for each fold_test\n",
    "\n",
    "# Inputs\n",
    "N_FEATURES = 38\n",
    "INPUT_LENGTH = 24 # - Records every hour = 48 hours\n",
    "                    # - During two weeks, which is quite common for weather forecasts\n",
    "\n",
    "# Outputs\n",
    "TARGET = ['temperature_2m']\n",
    "TARGET_COLUMN_IDX = 1 # 'temperature_2m' corresponds to the second column of the df\n",
    "N_TARGETS = 1\n",
    "OUTPUT_LENGTH = N_TARGETS*24 # - Predicting one target, the temperature\n",
    "                              # - for two days with predictions every hour\n",
    "\n",
    "# Additional parameters\n",
    "HORIZON = 1 # - We are predicting next two days"
   ]
  },
  {
   "cell_type": "code",
   "execution_count": 56,
   "metadata": {},
   "outputs": [],
   "source": [
    "def get_folds(\n",
    "    df: pd.DataFrame,\n",
    "    fold_length: int,\n",
    "    fold_stride: int) -> List[pd.DataFrame]:\n",
    "    '''\n",
    "    This function slides through the Time Series dataframe of shape (n_timesteps, n_features) to create folds\n",
    "    - of equal `fold_length`\n",
    "    - using `fold_stride` between each fold\n",
    "\n",
    "    Returns a list of folds, each as a DataFrame\n",
    "    '''\n",
    "\n",
    "    folds = []\n",
    "    for idx in range(0, len(df), fold_stride):\n",
    "        # Exits the loop as soon as the last fold index would exceed the last index\n",
    "        if (idx + fold_length) > len(df):\n",
    "            break\n",
    "        fold = df.iloc[idx:idx + fold_length, :]\n",
    "        folds.append(fold)\n",
    "    return folds"
   ]
  },
  {
   "cell_type": "code",
   "execution_count": 57,
   "metadata": {},
   "outputs": [
    {
     "name": "stdout",
     "output_type": "stream",
     "text": [
      "The function generated 1 folds.\n",
      "Each fold has a shape equal to (130319, 37).\n"
     ]
    }
   ],
   "source": [
    "folds = get_folds(df, FOLD_LENGTH, FOLD_STRIDE)\n",
    "\n",
    "print(f'The function generated {len(folds)} folds.')\n",
    "print(f'Each fold has a shape equal to {folds[0].shape}.')"
   ]
  },
  {
   "cell_type": "code",
   "execution_count": 58,
   "metadata": {},
   "outputs": [],
   "source": [
    "fold = folds[0]"
   ]
  },
  {
   "cell_type": "code",
   "execution_count": 59,
   "metadata": {},
   "outputs": [
    {
     "data": {
      "text/plain": [
       "(130319, 37)"
      ]
     },
     "execution_count": 59,
     "metadata": {},
     "output_type": "execute_result"
    }
   ],
   "source": [
    "fold.shape"
   ]
  },
  {
   "cell_type": "markdown",
   "metadata": {},
   "source": [
    "# 4. Creating Sequences"
   ]
  },
  {
   "cell_type": "code",
   "execution_count": 60,
   "metadata": {},
   "outputs": [],
   "source": [
    "def train_test_split(fold: pd.DataFrame,\n",
    "                     train_test_ratio: float,\n",
    "                     input_length: int,\n",
    "                     horizon: int) -> Tuple[pd.DataFrame]:\n",
    "    '''\n",
    "    Returns a train dataframe and a test dataframe (fold_train, fold_test)\n",
    "    from which one can sample (X,y) sequences.\n",
    "    df_train should contain all the timesteps until round(train_test_ratio * len(fold))\n",
    "    '''\n",
    "\n",
    "    # TRAIN SET\n",
    "    # ======================\n",
    "    last_train_idx = round(train_test_ratio * len(fold))\n",
    "    fold_train = fold.iloc[0:last_train_idx, :]\n",
    "\n",
    "    # TEST SET\n",
    "    # ======================\n",
    "    first_test_idx = last_train_idx - input_length\n",
    "    fold_test = fold.iloc[first_test_idx:, :]\n",
    "\n",
    "    return (fold_train, fold_test)"
   ]
  },
  {
   "cell_type": "code",
   "execution_count": 61,
   "metadata": {},
   "outputs": [],
   "source": [
    "(fold_train, fold_test) = train_test_split(fold,\n",
    "                                           TRAIN_TEST_RATIO,\n",
    "                                           INPUT_LENGTH,\n",
    "                                           HORIZON)"
   ]
  },
  {
   "cell_type": "code",
   "execution_count": 62,
   "metadata": {},
   "outputs": [
    {
     "data": {
      "text/plain": [
       "((86011, 37), (44332, 37))"
      ]
     },
     "execution_count": 62,
     "metadata": {},
     "output_type": "execute_result"
    }
   ],
   "source": [
    "fold_train.shape, fold_test.shape"
   ]
  },
  {
   "cell_type": "code",
   "execution_count": 63,
   "metadata": {},
   "outputs": [
    {
     "data": {
      "text/plain": [
       "Timestamp('2010-01-01 01:00:00+0000', tz='UTC')"
      ]
     },
     "execution_count": 63,
     "metadata": {},
     "output_type": "execute_result"
    }
   ],
   "source": [
    "fold_train.index[0]"
   ]
  },
  {
   "cell_type": "code",
   "execution_count": 64,
   "metadata": {},
   "outputs": [
    {
     "name": "stdout",
     "output_type": "stream",
     "text": [
      "##### INPUTS #####\n",
      "- INPUT_LENGTH = 24 timesteps = 1 days = 0 weeks\n",
      "- N_FEATURES = 38\n",
      "##### OUTPUTS #####\n",
      "- OUTPUT_LENGTH = 24 timesteps = 1 day(s)\n",
      "- N_TARGETS = 1\n",
      "##### PARAMETERS #####\n",
      "- HORIZON = 1 timesteps = 0 day(s)\n",
      "##### TRAIN SET #####\n",
      "- The training fold starts at index 2010-01-01 01:00:00+00:00 and stops at index 2019-10-24 19:00:00+00:00.\n",
      "##### TEST SET #####\n",
      "- The test fold starts at index 2019-10-23 20:00:00+00:00 and stops at index 2024-12-03 23:00:00+00:00.\n"
     ]
    }
   ],
   "source": [
    "# Inputs\n",
    "print(\"##### INPUTS #####\")\n",
    "print(f'- INPUT_LENGTH = {INPUT_LENGTH} timesteps = {int(INPUT_LENGTH/24)} days = {int(INPUT_LENGTH/24/7)} weeks')\n",
    "print(f'- N_FEATURES = {N_FEATURES}')\n",
    "# Outputs\n",
    "print(\"##### OUTPUTS #####\")\n",
    "print(f'- OUTPUT_LENGTH = {OUTPUT_LENGTH} timesteps = {int(OUTPUT_LENGTH/24)} day(s)')\n",
    "print(f'- N_TARGETS = {N_TARGETS}')\n",
    "# Parameters\n",
    "print(\"##### PARAMETERS #####\")\n",
    "print(f'- HORIZON = {HORIZON} timesteps = {int(HORIZON/24)} day(s)')\n",
    "# Train\n",
    "print(\"##### TRAIN SET #####\")\n",
    "print(f\"- The training fold starts at index {fold_train.index[0]} and stops at index {fold_train.index[-1]}.\")\n",
    "# Test\n",
    "print(\"##### TEST SET #####\")\n",
    "print(f\"- The test fold starts at index {fold_test.index[0]} and stops at index {fold_test.index[-1]}.\")"
   ]
  },
  {
   "cell_type": "code",
   "execution_count": 65,
   "metadata": {},
   "outputs": [
    {
     "name": "stdout",
     "output_type": "stream",
     "text": [
      "STRIDE = 1 timesteps = 0 day(s)\n"
     ]
    }
   ],
   "source": [
    "# New: Scanning  through a fold\n",
    "STRIDE = 1 # sliding every day, for instance\n",
    "print(f'STRIDE = {STRIDE} timesteps = {int(STRIDE/24)} day(s)')"
   ]
  },
  {
   "cell_type": "code",
   "execution_count": 66,
   "metadata": {},
   "outputs": [],
   "source": [
    "def get_Xi_yi(first_index: int,\n",
    "              fold: pd.DataFrame,\n",
    "              horizon: int,\n",
    "              input_length: int,\n",
    "              output_length: int) -> Tuple[np.ndarray, np.ndarray]:\n",
    "    '''\n",
    "    - extracts one sequence from a fold\n",
    "    - returns a pair (Xi, yi) with:\n",
    "        * len(Xi) = `input_length` and Xi starting at first_index\n",
    "        * len(yi) = `output_length`\n",
    "        * last_Xi and first_yi separated by the gap = horizon -1\n",
    "    '''\n",
    "\n",
    "    Xi_start = first_index\n",
    "    Xi_last = Xi_start + input_length\n",
    "    yi_start = Xi_last + horizon - 1\n",
    "    yi_last = yi_start + output_length\n",
    "\n",
    "    Xi = fold[Xi_start:Xi_last]\n",
    "    yi = fold[yi_start:yi_last][TARGET]\n",
    "\n",
    "    return (Xi, yi)"
   ]
  },
  {
   "cell_type": "code",
   "execution_count": 67,
   "metadata": {},
   "outputs": [],
   "source": [
    "def get_X_y(fold: pd.DataFrame,\n",
    "            horizon: int,\n",
    "            input_length: int,\n",
    "            output_length: int,\n",
    "            stride: int,\n",
    "            shuffle=False) -> Tuple[np.ndarray, np.ndarray]:\n",
    "    \"\"\"\n",
    "    - Uses `data`, a 2D-array with axis=0 for timesteps, and axis=1 for (targets+covariates columns)\n",
    "    - Returns a Tuple (X,y) of two ndarrays :\n",
    "        * X.shape = (n_samples, input_length, n_covariates)\n",
    "        * y.shape =\n",
    "            (n_samples, output_length, n_targets) if all 3-dimensions are of size > 1\n",
    "            (n_samples, output_length) if n_targets == 1\n",
    "            (n_samples, n_targets) if output_length == 1\n",
    "            (n_samples, ) if both n_targets and lenghts == 1\n",
    "    - You can shuffle the pairs (Xi,yi) of your fold\n",
    "    \"\"\"\n",
    "\n",
    "    X = []\n",
    "    y = []\n",
    "\n",
    "    for i in range(0, len(fold), stride):\n",
    "        ## Extracting a sequence starting at index_i\n",
    "        Xi, yi = get_Xi_yi(first_index=i,\n",
    "                           fold=fold,\n",
    "                           horizon=horizon,\n",
    "                           input_length=input_length,\n",
    "                           output_length=output_length)\n",
    "        ## Exits loop as soon as we reach the end of the dataset\n",
    "        if len(yi) < output_length:\n",
    "            break\n",
    "        X.append(Xi)\n",
    "        y.append(yi)\n",
    "\n",
    "    X = np.array(X)\n",
    "    y = np.array(y)\n",
    "    y = np.squeeze(y)\n",
    "\n",
    "    if shuffle:\n",
    "        idx = np.arange(len(X))\n",
    "        np.random.shuffle(idx)\n",
    "        X = X[idx]\n",
    "        y = y[idx]\n",
    "\n",
    "    return X, y"
   ]
  },
  {
   "cell_type": "code",
   "execution_count": 68,
   "metadata": {},
   "outputs": [
    {
     "name": "stdout",
     "output_type": "stream",
     "text": [
      "Shapes for the training set:\n",
      "X_train.shape = (85964, 24, 37), y_train.shape = (85964, 24)\n",
      "Shapes for the test set:\n",
      "X_test.shape = (44285, 24, 37), y_test.shape = (44285, 24)\n"
     ]
    }
   ],
   "source": [
    "X_train, y_train = get_X_y(fold=fold_train,\n",
    "                           horizon=HORIZON,\n",
    "                           input_length=INPUT_LENGTH,\n",
    "                           output_length=OUTPUT_LENGTH,\n",
    "                           stride=STRIDE)\n",
    "X_test, y_test = get_X_y(fold=fold_test,\n",
    "                         horizon=HORIZON,\n",
    "                         input_length=INPUT_LENGTH,\n",
    "                         output_length=OUTPUT_LENGTH,\n",
    "                         stride=STRIDE)\n",
    "\n",
    "print(\"Shapes for the training set:\")\n",
    "print(f\"X_train.shape = {X_train.shape}, y_train.shape = {y_train.shape}\")\n",
    "\n",
    "print(\"Shapes for the test set:\")\n",
    "print(f\"X_test.shape = {X_test.shape}, y_test.shape = {y_test.shape}\")"
   ]
  },
  {
   "cell_type": "markdown",
   "metadata": {},
   "source": [
    "# 5. Modelling"
   ]
  },
  {
   "cell_type": "markdown",
   "metadata": {},
   "source": [
    "## 5.1 Main Model"
   ]
  },
  {
   "cell_type": "code",
   "execution_count": 69,
   "metadata": {
    "scrolled": true
   },
   "outputs": [],
   "source": [
    "from tensorflow.keras import models\n",
    "from tensorflow.keras import layers\n",
    "from tensorflow.keras import optimizers, metrics\n",
    "from tensorflow.keras.layers import Normalization, BatchNormalization\n",
    "from tensorflow.keras import regularizers\n",
    "from tensorflow.keras.optimizers.schedules import ExponentialDecay\n",
    "from tensorflow.keras.optimizers import Adam\n",
    "from sklearn.model_selection import GridSearchCV\n",
    "\n",
    "def init_model(X_train):\n",
    "    reg_l2 = regularizers.L2(0.1)\n",
    "\n",
    "    #========================================================================================\n",
    "\n",
    "    # 1 - RNN architecture\n",
    "    model = models.Sequential()\n",
    "    model.add(layers.Input(shape=(X_train.shape[1], X_train.shape[2])))\n",
    "\n",
    "    # Recurrent Layer\n",
    "    model.add(layers.LSTM(units=32, activation='tanh',return_sequences=True,\n",
    "                        #   recurrent_dropout=0.3,dropout=0.3\n",
    "                        )\n",
    "                          )\n",
    "\n",
    "    # Hidden Dense Layer that we are regularizing\n",
    "    model.add(layers.Dense(16, activation=\"relu\",\n",
    "                        #    kernel_regularizer = reg_l2\n",
    "                        )\n",
    "                           )\n",
    "    # model.add(layers.Dropout(rate=0.3))\n",
    "\n",
    "    # Predictive Dense Layer\n",
    "    model.add(layers.Dense(1, activation='linear'))\n",
    "\n",
    "    #========================================================================================\n",
    "\n",
    "    # 2 - Compiler\n",
    "    optimizer = Adam(learning_rate=0.0001)\n",
    "    model.compile(loss='mse', optimizer=optimizer, metrics=[\"mae\"])\n",
    "\n",
    "    return model\n"
   ]
  },
  {
   "cell_type": "code",
   "execution_count": 70,
   "metadata": {},
   "outputs": [],
   "source": [
    "from tensorflow.keras.callbacks import EarlyStopping, ModelCheckpoint, ReduceLROnPlateau\n",
    "\n",
    "def fit_model(model: tf.keras.Model, verbose=1) -> Tuple[tf.keras.Model, dict]:\n",
    "\n",
    "    es = EarlyStopping(\n",
    "        monitor=\"val_mae\",\n",
    "        patience=10,\n",
    "        mode=\"min\",\n",
    "        restore_best_weights=True)\n",
    "\n",
    "    reduce_lr = ReduceLROnPlateau(\n",
    "        monitor='val_mae',\n",
    "        factor=0.1,\n",
    "        patience=5,\n",
    "        min_lr=1e-6)\n",
    "\n",
    "    history = model.fit(\n",
    "        X_train,\n",
    "        y_train,\n",
    "        validation_split=0.3,\n",
    "        shuffle=False,\n",
    "        batch_size=64,\n",
    "        epochs=100,\n",
    "        callbacks=[es, reduce_lr],\n",
    "        verbose=verbose)\n",
    "\n",
    "    return model, history"
   ]
  },
  {
   "cell_type": "code",
   "execution_count": 71,
   "metadata": {},
   "outputs": [],
   "source": [
    "def plot_history(history):\n",
    "\n",
    "    fig, ax = plt.subplots(1,2, figsize=(20,7))\n",
    "    # --- LOSS: MSE ---\n",
    "    ax[0].plot(history.history['loss'])\n",
    "    ax[0].plot(history.history['val_loss'])\n",
    "    ax[0].set_title('MSE')\n",
    "    ax[0].set_ylabel('Loss')\n",
    "    ax[0].set_xlabel('Epoch')\n",
    "    ax[0].legend(['Train', 'Validation'], loc='best')\n",
    "    ax[0].grid(axis=\"x\",linewidth=0.5)\n",
    "    ax[0].grid(axis=\"y\",linewidth=0.5)\n",
    "\n",
    "    # --- METRICS:MAE ---\n",
    "\n",
    "    ax[1].plot(history.history['mae'])\n",
    "    ax[1].plot(history.history['val_mae'])\n",
    "    ax[1].set_title('MAE')\n",
    "    ax[1].set_ylabel('MAE')\n",
    "    ax[1].set_xlabel('Epoch')\n",
    "    ax[1].legend(['Train', 'Validation'], loc='best')\n",
    "    ax[1].grid(axis=\"x\",linewidth=0.5)\n",
    "    ax[1].grid(axis=\"y\",linewidth=0.5)\n",
    "\n",
    "    return ax"
   ]
  },
  {
   "cell_type": "code",
   "execution_count": 72,
   "metadata": {},
   "outputs": [
    {
     "data": {
      "text/html": [
       "<pre style=\"white-space:pre;overflow-x:auto;line-height:normal;font-family:Menlo,'DejaVu Sans Mono',consolas,'Courier New',monospace\"><span style=\"font-weight: bold\">Model: \"sequential_1\"</span>\n",
       "</pre>\n"
      ],
      "text/plain": [
       "\u001b[1mModel: \"sequential_1\"\u001b[0m\n"
      ]
     },
     "metadata": {},
     "output_type": "display_data"
    },
    {
     "data": {
      "text/html": [
       "<pre style=\"white-space:pre;overflow-x:auto;line-height:normal;font-family:Menlo,'DejaVu Sans Mono',consolas,'Courier New',monospace\">┏━━━━━━━━━━━━━━━━━━━━━━━━━━━━━━━━━┳━━━━━━━━━━━━━━━━━━━━━━━━┳━━━━━━━━━━━━━━━┓\n",
       "┃<span style=\"font-weight: bold\"> Layer (type)                    </span>┃<span style=\"font-weight: bold\"> Output Shape           </span>┃<span style=\"font-weight: bold\">       Param # </span>┃\n",
       "┡━━━━━━━━━━━━━━━━━━━━━━━━━━━━━━━━━╇━━━━━━━━━━━━━━━━━━━━━━━━╇━━━━━━━━━━━━━━━┩\n",
       "│ lstm_1 (<span style=\"color: #0087ff; text-decoration-color: #0087ff\">LSTM</span>)                   │ (<span style=\"color: #00d7ff; text-decoration-color: #00d7ff\">None</span>, <span style=\"color: #00af00; text-decoration-color: #00af00\">24</span>, <span style=\"color: #00af00; text-decoration-color: #00af00\">32</span>)         │         <span style=\"color: #00af00; text-decoration-color: #00af00\">8,960</span> │\n",
       "├─────────────────────────────────┼────────────────────────┼───────────────┤\n",
       "│ dense_2 (<span style=\"color: #0087ff; text-decoration-color: #0087ff\">Dense</span>)                 │ (<span style=\"color: #00d7ff; text-decoration-color: #00d7ff\">None</span>, <span style=\"color: #00af00; text-decoration-color: #00af00\">24</span>, <span style=\"color: #00af00; text-decoration-color: #00af00\">16</span>)         │           <span style=\"color: #00af00; text-decoration-color: #00af00\">528</span> │\n",
       "├─────────────────────────────────┼────────────────────────┼───────────────┤\n",
       "│ dense_3 (<span style=\"color: #0087ff; text-decoration-color: #0087ff\">Dense</span>)                 │ (<span style=\"color: #00d7ff; text-decoration-color: #00d7ff\">None</span>, <span style=\"color: #00af00; text-decoration-color: #00af00\">24</span>, <span style=\"color: #00af00; text-decoration-color: #00af00\">1</span>)          │            <span style=\"color: #00af00; text-decoration-color: #00af00\">17</span> │\n",
       "└─────────────────────────────────┴────────────────────────┴───────────────┘\n",
       "</pre>\n"
      ],
      "text/plain": [
       "┏━━━━━━━━━━━━━━━━━━━━━━━━━━━━━━━━━┳━━━━━━━━━━━━━━━━━━━━━━━━┳━━━━━━━━━━━━━━━┓\n",
       "┃\u001b[1m \u001b[0m\u001b[1mLayer (type)                   \u001b[0m\u001b[1m \u001b[0m┃\u001b[1m \u001b[0m\u001b[1mOutput Shape          \u001b[0m\u001b[1m \u001b[0m┃\u001b[1m \u001b[0m\u001b[1m      Param #\u001b[0m\u001b[1m \u001b[0m┃\n",
       "┡━━━━━━━━━━━━━━━━━━━━━━━━━━━━━━━━━╇━━━━━━━━━━━━━━━━━━━━━━━━╇━━━━━━━━━━━━━━━┩\n",
       "│ lstm_1 (\u001b[38;5;33mLSTM\u001b[0m)                   │ (\u001b[38;5;45mNone\u001b[0m, \u001b[38;5;34m24\u001b[0m, \u001b[38;5;34m32\u001b[0m)         │         \u001b[38;5;34m8,960\u001b[0m │\n",
       "├─────────────────────────────────┼────────────────────────┼───────────────┤\n",
       "│ dense_2 (\u001b[38;5;33mDense\u001b[0m)                 │ (\u001b[38;5;45mNone\u001b[0m, \u001b[38;5;34m24\u001b[0m, \u001b[38;5;34m16\u001b[0m)         │           \u001b[38;5;34m528\u001b[0m │\n",
       "├─────────────────────────────────┼────────────────────────┼───────────────┤\n",
       "│ dense_3 (\u001b[38;5;33mDense\u001b[0m)                 │ (\u001b[38;5;45mNone\u001b[0m, \u001b[38;5;34m24\u001b[0m, \u001b[38;5;34m1\u001b[0m)          │            \u001b[38;5;34m17\u001b[0m │\n",
       "└─────────────────────────────────┴────────────────────────┴───────────────┘\n"
      ]
     },
     "metadata": {},
     "output_type": "display_data"
    },
    {
     "data": {
      "text/html": [
       "<pre style=\"white-space:pre;overflow-x:auto;line-height:normal;font-family:Menlo,'DejaVu Sans Mono',consolas,'Courier New',monospace\"><span style=\"font-weight: bold\"> Total params: </span><span style=\"color: #00af00; text-decoration-color: #00af00\">9,505</span> (37.13 KB)\n",
       "</pre>\n"
      ],
      "text/plain": [
       "\u001b[1m Total params: \u001b[0m\u001b[38;5;34m9,505\u001b[0m (37.13 KB)\n"
      ]
     },
     "metadata": {},
     "output_type": "display_data"
    },
    {
     "data": {
      "text/html": [
       "<pre style=\"white-space:pre;overflow-x:auto;line-height:normal;font-family:Menlo,'DejaVu Sans Mono',consolas,'Courier New',monospace\"><span style=\"font-weight: bold\"> Trainable params: </span><span style=\"color: #00af00; text-decoration-color: #00af00\">9,505</span> (37.13 KB)\n",
       "</pre>\n"
      ],
      "text/plain": [
       "\u001b[1m Trainable params: \u001b[0m\u001b[38;5;34m9,505\u001b[0m (37.13 KB)\n"
      ]
     },
     "metadata": {},
     "output_type": "display_data"
    },
    {
     "data": {
      "text/html": [
       "<pre style=\"white-space:pre;overflow-x:auto;line-height:normal;font-family:Menlo,'DejaVu Sans Mono',consolas,'Courier New',monospace\"><span style=\"font-weight: bold\"> Non-trainable params: </span><span style=\"color: #00af00; text-decoration-color: #00af00\">0</span> (0.00 B)\n",
       "</pre>\n"
      ],
      "text/plain": [
       "\u001b[1m Non-trainable params: \u001b[0m\u001b[38;5;34m0\u001b[0m (0.00 B)\n"
      ]
     },
     "metadata": {},
     "output_type": "display_data"
    }
   ],
   "source": [
    "model = init_model(X_train)\n",
    "model.summary()"
   ]
  },
  {
   "cell_type": "code",
   "execution_count": 73,
   "metadata": {},
   "outputs": [
    {
     "name": "stdout",
     "output_type": "stream",
     "text": [
      "Epoch 1/100\n",
      "\u001b[1m941/941\u001b[0m \u001b[32m━━━━━━━━━━━━━━━━━━━━\u001b[0m\u001b[37m\u001b[0m \u001b[1m20s\u001b[0m 19ms/step - loss: 83.8238 - mae: 7.4916 - val_loss: 71.9849 - val_mae: 6.9216 - learning_rate: 1.0000e-04\n",
      "Epoch 2/100\n",
      "\u001b[1m941/941\u001b[0m \u001b[32m━━━━━━━━━━━━━━━━━━━━\u001b[0m\u001b[37m\u001b[0m \u001b[1m18s\u001b[0m 19ms/step - loss: 73.3009 - mae: 7.0423 - val_loss: 62.2875 - val_mae: 6.4463 - learning_rate: 1.0000e-04\n",
      "Epoch 3/100\n",
      "\u001b[1m941/941\u001b[0m \u001b[32m━━━━━━━━━━━━━━━━━━━━\u001b[0m\u001b[37m\u001b[0m \u001b[1m19s\u001b[0m 20ms/step - loss: 68.5767 - mae: 6.8030 - val_loss: 56.1493 - val_mae: 6.0979 - learning_rate: 1.0000e-04\n",
      "Epoch 4/100\n",
      "\u001b[1m941/941\u001b[0m \u001b[32m━━━━━━━━━━━━━━━━━━━━\u001b[0m\u001b[37m\u001b[0m \u001b[1m19s\u001b[0m 20ms/step - loss: 64.5256 - mae: 6.5610 - val_loss: 50.4011 - val_mae: 5.7261 - learning_rate: 1.0000e-04\n",
      "Epoch 5/100\n",
      "\u001b[1m941/941\u001b[0m \u001b[32m━━━━━━━━━━━━━━━━━━━━\u001b[0m\u001b[37m\u001b[0m \u001b[1m19s\u001b[0m 20ms/step - loss: 60.2796 - mae: 6.2777 - val_loss: 45.0483 - val_mae: 5.3545 - learning_rate: 1.0000e-04\n",
      "Epoch 6/100\n",
      "\u001b[1m941/941\u001b[0m \u001b[32m━━━━━━━━━━━━━━━━━━━━\u001b[0m\u001b[37m\u001b[0m \u001b[1m19s\u001b[0m 20ms/step - loss: 54.1329 - mae: 5.8664 - val_loss: 39.0572 - val_mae: 4.9263 - learning_rate: 1.0000e-04\n",
      "Epoch 7/100\n",
      "\u001b[1m941/941\u001b[0m \u001b[32m━━━━━━━━━━━━━━━━━━━━\u001b[0m\u001b[37m\u001b[0m \u001b[1m19s\u001b[0m 20ms/step - loss: 47.4808 - mae: 5.4102 - val_loss: 33.5348 - val_mae: 4.5227 - learning_rate: 1.0000e-04\n",
      "Epoch 8/100\n",
      "\u001b[1m941/941\u001b[0m \u001b[32m━━━━━━━━━━━━━━━━━━━━\u001b[0m\u001b[37m\u001b[0m \u001b[1m19s\u001b[0m 21ms/step - loss: 40.7178 - mae: 4.9317 - val_loss: 28.6725 - val_mae: 4.1569 - learning_rate: 1.0000e-04\n",
      "Epoch 9/100\n",
      "\u001b[1m941/941\u001b[0m \u001b[32m━━━━━━━━━━━━━━━━━━━━\u001b[0m\u001b[37m\u001b[0m \u001b[1m20s\u001b[0m 21ms/step - loss: 34.7868 - mae: 4.5291 - val_loss: 25.6742 - val_mae: 3.9375 - learning_rate: 1.0000e-04\n",
      "Epoch 10/100\n",
      "\u001b[1m941/941\u001b[0m \u001b[32m━━━━━━━━━━━━━━━━━━━━\u001b[0m\u001b[37m\u001b[0m \u001b[1m21s\u001b[0m 22ms/step - loss: 30.9913 - mae: 4.2582 - val_loss: 23.3973 - val_mae: 3.7569 - learning_rate: 1.0000e-04\n",
      "Epoch 11/100\n",
      "\u001b[1m941/941\u001b[0m \u001b[32m━━━━━━━━━━━━━━━━━━━━\u001b[0m\u001b[37m\u001b[0m \u001b[1m41s\u001b[0m 22ms/step - loss: 27.8769 - mae: 4.0311 - val_loss: 21.5961 - val_mae: 3.6090 - learning_rate: 1.0000e-04\n",
      "Epoch 12/100\n",
      "\u001b[1m941/941\u001b[0m \u001b[32m━━━━━━━━━━━━━━━━━━━━\u001b[0m\u001b[37m\u001b[0m \u001b[1m21s\u001b[0m 22ms/step - loss: 25.3278 - mae: 3.8455 - val_loss: 20.1345 - val_mae: 3.4941 - learning_rate: 1.0000e-04\n",
      "Epoch 13/100\n",
      "\u001b[1m941/941\u001b[0m \u001b[32m━━━━━━━━━━━━━━━━━━━━\u001b[0m\u001b[37m\u001b[0m \u001b[1m39s\u001b[0m 20ms/step - loss: 22.2753 - mae: 3.6100 - val_loss: 19.1681 - val_mae: 3.4074 - learning_rate: 1.0000e-04\n",
      "Epoch 14/100\n",
      "\u001b[1m941/941\u001b[0m \u001b[32m━━━━━━━━━━━━━━━━━━━━\u001b[0m\u001b[37m\u001b[0m \u001b[1m21s\u001b[0m 22ms/step - loss: 20.7406 - mae: 3.4891 - val_loss: 18.3522 - val_mae: 3.3363 - learning_rate: 1.0000e-04\n",
      "Epoch 15/100\n",
      "\u001b[1m941/941\u001b[0m \u001b[32m━━━━━━━━━━━━━━━━━━━━\u001b[0m\u001b[37m\u001b[0m \u001b[1m39s\u001b[0m 20ms/step - loss: 19.2412 - mae: 3.3625 - val_loss: 17.7919 - val_mae: 3.2794 - learning_rate: 1.0000e-04\n",
      "Epoch 16/100\n",
      "\u001b[1m941/941\u001b[0m \u001b[32m━━━━━━━━━━━━━━━━━━━━\u001b[0m\u001b[37m\u001b[0m \u001b[1m19s\u001b[0m 20ms/step - loss: 18.3801 - mae: 3.2915 - val_loss: 17.2188 - val_mae: 3.2244 - learning_rate: 1.0000e-04\n",
      "Epoch 17/100\n",
      "\u001b[1m941/941\u001b[0m \u001b[32m━━━━━━━━━━━━━━━━━━━━\u001b[0m\u001b[37m\u001b[0m \u001b[1m19s\u001b[0m 20ms/step - loss: 17.7269 - mae: 3.2376 - val_loss: 16.7278 - val_mae: 3.1727 - learning_rate: 1.0000e-04\n",
      "Epoch 18/100\n",
      "\u001b[1m941/941\u001b[0m \u001b[32m━━━━━━━━━━━━━━━━━━━━\u001b[0m\u001b[37m\u001b[0m \u001b[1m21s\u001b[0m 22ms/step - loss: 16.9646 - mae: 3.1636 - val_loss: 16.4009 - val_mae: 3.1406 - learning_rate: 1.0000e-04\n",
      "Epoch 19/100\n",
      "\u001b[1m941/941\u001b[0m \u001b[32m━━━━━━━━━━━━━━━━━━━━\u001b[0m\u001b[37m\u001b[0m \u001b[1m41s\u001b[0m 21ms/step - loss: 16.3275 - mae: 3.0975 - val_loss: 15.8713 - val_mae: 3.0893 - learning_rate: 1.0000e-04\n",
      "Epoch 20/100\n",
      "\u001b[1m941/941\u001b[0m \u001b[32m━━━━━━━━━━━━━━━━━━━━\u001b[0m\u001b[37m\u001b[0m \u001b[1m17s\u001b[0m 18ms/step - loss: 15.6985 - mae: 3.0360 - val_loss: 15.5261 - val_mae: 3.0547 - learning_rate: 1.0000e-04\n",
      "Epoch 21/100\n",
      "\u001b[1m941/941\u001b[0m \u001b[32m━━━━━━━━━━━━━━━━━━━━\u001b[0m\u001b[37m\u001b[0m \u001b[1m19s\u001b[0m 20ms/step - loss: 15.2444 - mae: 2.9921 - val_loss: 15.3012 - val_mae: 3.0343 - learning_rate: 1.0000e-04\n",
      "Epoch 22/100\n",
      "\u001b[1m941/941\u001b[0m \u001b[32m━━━━━━━━━━━━━━━━━━━━\u001b[0m\u001b[37m\u001b[0m \u001b[1m19s\u001b[0m 20ms/step - loss: 14.9165 - mae: 2.9614 - val_loss: 15.0956 - val_mae: 3.0150 - learning_rate: 1.0000e-04\n",
      "Epoch 23/100\n",
      "\u001b[1m941/941\u001b[0m \u001b[32m━━━━━━━━━━━━━━━━━━━━\u001b[0m\u001b[37m\u001b[0m \u001b[1m21s\u001b[0m 22ms/step - loss: 14.6050 - mae: 2.9353 - val_loss: 14.8392 - val_mae: 2.9900 - learning_rate: 1.0000e-04\n",
      "Epoch 24/100\n",
      "\u001b[1m941/941\u001b[0m \u001b[32m━━━━━━━━━━━━━━━━━━━━\u001b[0m\u001b[37m\u001b[0m \u001b[1m19s\u001b[0m 20ms/step - loss: 14.3236 - mae: 2.9037 - val_loss: 14.6588 - val_mae: 2.9712 - learning_rate: 1.0000e-04\n",
      "Epoch 25/100\n",
      "\u001b[1m941/941\u001b[0m \u001b[32m━━━━━━━━━━━━━━━━━━━━\u001b[0m\u001b[37m\u001b[0m \u001b[1m21s\u001b[0m 20ms/step - loss: 14.1521 - mae: 2.8846 - val_loss: 14.4098 - val_mae: 2.9496 - learning_rate: 1.0000e-04\n",
      "Epoch 26/100\n",
      "\u001b[1m941/941\u001b[0m \u001b[32m━━━━━━━━━━━━━━━━━━━━\u001b[0m\u001b[37m\u001b[0m \u001b[1m18s\u001b[0m 19ms/step - loss: 13.7225 - mae: 2.8469 - val_loss: 14.1858 - val_mae: 2.9270 - learning_rate: 1.0000e-04\n",
      "Epoch 27/100\n",
      "\u001b[1m941/941\u001b[0m \u001b[32m━━━━━━━━━━━━━━━━━━━━\u001b[0m\u001b[37m\u001b[0m \u001b[1m17s\u001b[0m 18ms/step - loss: 13.4900 - mae: 2.8239 - val_loss: 14.1356 - val_mae: 2.9244 - learning_rate: 1.0000e-04\n",
      "Epoch 28/100\n",
      "\u001b[1m941/941\u001b[0m \u001b[32m━━━━━━━━━━━━━━━━━━━━\u001b[0m\u001b[37m\u001b[0m \u001b[1m22s\u001b[0m 23ms/step - loss: 13.3921 - mae: 2.8146 - val_loss: 14.0792 - val_mae: 2.9178 - learning_rate: 1.0000e-04\n",
      "Epoch 29/100\n",
      "\u001b[1m941/941\u001b[0m \u001b[32m━━━━━━━━━━━━━━━━━━━━\u001b[0m\u001b[37m\u001b[0m \u001b[1m21s\u001b[0m 23ms/step - loss: 13.2623 - mae: 2.8022 - val_loss: 13.9850 - val_mae: 2.9096 - learning_rate: 1.0000e-04\n",
      "Epoch 30/100\n",
      "\u001b[1m941/941\u001b[0m \u001b[32m━━━━━━━━━━━━━━━━━━━━\u001b[0m\u001b[37m\u001b[0m \u001b[1m37s\u001b[0m 19ms/step - loss: 13.1534 - mae: 2.7914 - val_loss: 13.9615 - val_mae: 2.9076 - learning_rate: 1.0000e-04\n",
      "Epoch 31/100\n",
      "\u001b[1m941/941\u001b[0m \u001b[32m━━━━━━━━━━━━━━━━━━━━\u001b[0m\u001b[37m\u001b[0m \u001b[1m19s\u001b[0m 20ms/step - loss: 13.0739 - mae: 2.7816 - val_loss: 13.9039 - val_mae: 2.9001 - learning_rate: 1.0000e-04\n",
      "Epoch 32/100\n",
      "\u001b[1m941/941\u001b[0m \u001b[32m━━━━━━━━━━━━━━━━━━━━\u001b[0m\u001b[37m\u001b[0m \u001b[1m19s\u001b[0m 20ms/step - loss: 12.9845 - mae: 2.7722 - val_loss: 13.8550 - val_mae: 2.8953 - learning_rate: 1.0000e-04\n",
      "Epoch 33/100\n",
      "\u001b[1m941/941\u001b[0m \u001b[32m━━━━━━━━━━━━━━━━━━━━\u001b[0m\u001b[37m\u001b[0m \u001b[1m20s\u001b[0m 21ms/step - loss: 12.8808 - mae: 2.7607 - val_loss: 13.7904 - val_mae: 2.8882 - learning_rate: 1.0000e-04\n",
      "Epoch 34/100\n",
      "\u001b[1m941/941\u001b[0m \u001b[32m━━━━━━━━━━━━━━━━━━━━\u001b[0m\u001b[37m\u001b[0m \u001b[1m17s\u001b[0m 18ms/step - loss: 12.8474 - mae: 2.7550 - val_loss: 13.7509 - val_mae: 2.8833 - learning_rate: 1.0000e-04\n",
      "Epoch 35/100\n",
      "\u001b[1m941/941\u001b[0m \u001b[32m━━━━━━━━━━━━━━━━━━━━\u001b[0m\u001b[37m\u001b[0m \u001b[1m18s\u001b[0m 19ms/step - loss: 12.7385 - mae: 2.7461 - val_loss: 13.6792 - val_mae: 2.8739 - learning_rate: 1.0000e-04\n",
      "Epoch 36/100\n",
      "\u001b[1m941/941\u001b[0m \u001b[32m━━━━━━━━━━━━━━━━━━━━\u001b[0m\u001b[37m\u001b[0m \u001b[1m20s\u001b[0m 21ms/step - loss: 12.6712 - mae: 2.7375 - val_loss: 13.6925 - val_mae: 2.8769 - learning_rate: 1.0000e-04\n",
      "Epoch 37/100\n",
      "\u001b[1m941/941\u001b[0m \u001b[32m━━━━━━━━━━━━━━━━━━━━\u001b[0m\u001b[37m\u001b[0m \u001b[1m21s\u001b[0m 22ms/step - loss: 12.6101 - mae: 2.7335 - val_loss: 13.6725 - val_mae: 2.8724 - learning_rate: 1.0000e-04\n",
      "Epoch 38/100\n",
      "\u001b[1m941/941\u001b[0m \u001b[32m━━━━━━━━━━━━━━━━━━━━\u001b[0m\u001b[37m\u001b[0m \u001b[1m40s\u001b[0m 21ms/step - loss: 12.5818 - mae: 2.7282 - val_loss: 13.5807 - val_mae: 2.8619 - learning_rate: 1.0000e-04\n",
      "Epoch 39/100\n",
      "\u001b[1m941/941\u001b[0m \u001b[32m━━━━━━━━━━━━━━━━━━━━\u001b[0m\u001b[37m\u001b[0m \u001b[1m19s\u001b[0m 20ms/step - loss: 12.5256 - mae: 2.7193 - val_loss: 13.5813 - val_mae: 2.8606 - learning_rate: 1.0000e-04\n",
      "Epoch 40/100\n",
      "\u001b[1m941/941\u001b[0m \u001b[32m━━━━━━━━━━━━━━━━━━━━\u001b[0m\u001b[37m\u001b[0m \u001b[1m20s\u001b[0m 19ms/step - loss: 12.4755 - mae: 2.7133 - val_loss: 13.5068 - val_mae: 2.8498 - learning_rate: 1.0000e-04\n",
      "Epoch 41/100\n",
      "\u001b[1m941/941\u001b[0m \u001b[32m━━━━━━━━━━━━━━━━━━━━\u001b[0m\u001b[37m\u001b[0m \u001b[1m22s\u001b[0m 21ms/step - loss: 12.3756 - mae: 2.7045 - val_loss: 13.4371 - val_mae: 2.8422 - learning_rate: 1.0000e-04\n",
      "Epoch 42/100\n",
      "\u001b[1m941/941\u001b[0m \u001b[32m━━━━━━━━━━━━━━━━━━━━\u001b[0m\u001b[37m\u001b[0m \u001b[1m17s\u001b[0m 18ms/step - loss: 12.3706 - mae: 2.7018 - val_loss: 13.4021 - val_mae: 2.8385 - learning_rate: 1.0000e-04\n",
      "Epoch 43/100\n",
      "\u001b[1m941/941\u001b[0m \u001b[32m━━━━━━━━━━━━━━━━━━━━\u001b[0m\u001b[37m\u001b[0m \u001b[1m17s\u001b[0m 18ms/step - loss: 12.3073 - mae: 2.6931 - val_loss: 13.3263 - val_mae: 2.8305 - learning_rate: 1.0000e-04\n",
      "Epoch 44/100\n",
      "\u001b[1m941/941\u001b[0m \u001b[32m━━━━━━━━━━━━━━━━━━━━\u001b[0m\u001b[37m\u001b[0m \u001b[1m18s\u001b[0m 19ms/step - loss: 12.1565 - mae: 2.6821 - val_loss: 13.3025 - val_mae: 2.8244 - learning_rate: 1.0000e-04\n",
      "Epoch 45/100\n",
      "\u001b[1m941/941\u001b[0m \u001b[32m━━━━━━━━━━━━━━━━━━━━\u001b[0m\u001b[37m\u001b[0m \u001b[1m17s\u001b[0m 18ms/step - loss: 12.3476 - mae: 2.6954 - val_loss: 13.1947 - val_mae: 2.8140 - learning_rate: 1.0000e-04\n",
      "Epoch 46/100\n",
      "\u001b[1m941/941\u001b[0m \u001b[32m━━━━━━━━━━━━━━━━━━━━\u001b[0m\u001b[37m\u001b[0m \u001b[1m18s\u001b[0m 19ms/step - loss: 12.1303 - mae: 2.6761 - val_loss: 13.1474 - val_mae: 2.8101 - learning_rate: 1.0000e-04\n",
      "Epoch 47/100\n",
      "\u001b[1m941/941\u001b[0m \u001b[32m━━━━━━━━━━━━━━━━━━━━\u001b[0m\u001b[37m\u001b[0m \u001b[1m17s\u001b[0m 18ms/step - loss: 12.1496 - mae: 2.6745 - val_loss: 13.1568 - val_mae: 2.8104 - learning_rate: 1.0000e-04\n",
      "Epoch 48/100\n",
      "\u001b[1m941/941\u001b[0m \u001b[32m━━━━━━━━━━━━━━━━━━━━\u001b[0m\u001b[37m\u001b[0m \u001b[1m18s\u001b[0m 19ms/step - loss: 12.0589 - mae: 2.6669 - val_loss: 13.0701 - val_mae: 2.7991 - learning_rate: 1.0000e-04\n",
      "Epoch 49/100\n",
      "\u001b[1m941/941\u001b[0m \u001b[32m━━━━━━━━━━━━━━━━━━━━\u001b[0m\u001b[37m\u001b[0m \u001b[1m21s\u001b[0m 22ms/step - loss: 12.0671 - mae: 2.6625 - val_loss: 13.0174 - val_mae: 2.7948 - learning_rate: 1.0000e-04\n",
      "Epoch 50/100\n",
      "\u001b[1m941/941\u001b[0m \u001b[32m━━━━━━━━━━━━━━━━━━━━\u001b[0m\u001b[37m\u001b[0m \u001b[1m19s\u001b[0m 20ms/step - loss: 11.9142 - mae: 2.6505 - val_loss: 12.9932 - val_mae: 2.7894 - learning_rate: 1.0000e-04\n",
      "Epoch 51/100\n",
      "\u001b[1m941/941\u001b[0m \u001b[32m━━━━━━━━━━━━━━━━━━━━\u001b[0m\u001b[37m\u001b[0m \u001b[1m18s\u001b[0m 19ms/step - loss: 11.9593 - mae: 2.6534 - val_loss: 12.9532 - val_mae: 2.7863 - learning_rate: 1.0000e-04\n",
      "Epoch 52/100\n",
      "\u001b[1m941/941\u001b[0m \u001b[32m━━━━━━━━━━━━━━━━━━━━\u001b[0m\u001b[37m\u001b[0m \u001b[1m17s\u001b[0m 18ms/step - loss: 11.8628 - mae: 2.6438 - val_loss: 12.9377 - val_mae: 2.7836 - learning_rate: 1.0000e-04\n",
      "Epoch 53/100\n",
      "\u001b[1m941/941\u001b[0m \u001b[32m━━━━━━━━━━━━━━━━━━━━\u001b[0m\u001b[37m\u001b[0m \u001b[1m20s\u001b[0m 22ms/step - loss: 11.7867 - mae: 2.6352 - val_loss: 12.9163 - val_mae: 2.7819 - learning_rate: 1.0000e-04\n",
      "Epoch 54/100\n",
      "\u001b[1m941/941\u001b[0m \u001b[32m━━━━━━━━━━━━━━━━━━━━\u001b[0m\u001b[37m\u001b[0m \u001b[1m19s\u001b[0m 20ms/step - loss: 11.7457 - mae: 2.6303 - val_loss: 12.8742 - val_mae: 2.7759 - learning_rate: 1.0000e-04\n",
      "Epoch 55/100\n",
      "\u001b[1m941/941\u001b[0m \u001b[32m━━━━━━━━━━━━━━━━━━━━\u001b[0m\u001b[37m\u001b[0m \u001b[1m18s\u001b[0m 19ms/step - loss: 11.6558 - mae: 2.6210 - val_loss: 12.7954 - val_mae: 2.7682 - learning_rate: 1.0000e-04\n",
      "Epoch 56/100\n",
      "\u001b[1m941/941\u001b[0m \u001b[32m━━━━━━━━━━━━━━━━━━━━\u001b[0m\u001b[37m\u001b[0m \u001b[1m19s\u001b[0m 20ms/step - loss: 11.5964 - mae: 2.6162 - val_loss: 12.7924 - val_mae: 2.7671 - learning_rate: 1.0000e-04\n",
      "Epoch 57/100\n",
      "\u001b[1m941/941\u001b[0m \u001b[32m━━━━━━━━━━━━━━━━━━━━\u001b[0m\u001b[37m\u001b[0m \u001b[1m20s\u001b[0m 22ms/step - loss: 11.5434 - mae: 2.6093 - val_loss: 12.7897 - val_mae: 2.7663 - learning_rate: 1.0000e-04\n",
      "Epoch 58/100\n",
      "\u001b[1m941/941\u001b[0m \u001b[32m━━━━━━━━━━━━━━━━━━━━\u001b[0m\u001b[37m\u001b[0m \u001b[1m18s\u001b[0m 19ms/step - loss: 11.4485 - mae: 2.5982 - val_loss: 12.8672 - val_mae: 2.7722 - learning_rate: 1.0000e-04\n",
      "Epoch 59/100\n",
      "\u001b[1m941/941\u001b[0m \u001b[32m━━━━━━━━━━━━━━━━━━━━\u001b[0m\u001b[37m\u001b[0m \u001b[1m17s\u001b[0m 18ms/step - loss: 11.4540 - mae: 2.5982 - val_loss: 12.7741 - val_mae: 2.7658 - learning_rate: 1.0000e-04\n",
      "Epoch 60/100\n",
      "\u001b[1m941/941\u001b[0m \u001b[32m━━━━━━━━━━━━━━━━━━━━\u001b[0m\u001b[37m\u001b[0m \u001b[1m18s\u001b[0m 19ms/step - loss: 11.3873 - mae: 2.5906 - val_loss: 12.8051 - val_mae: 2.7658 - learning_rate: 1.0000e-04\n",
      "Epoch 61/100\n",
      "\u001b[1m941/941\u001b[0m \u001b[32m━━━━━━━━━━━━━━━━━━━━\u001b[0m\u001b[37m\u001b[0m \u001b[1m19s\u001b[0m 20ms/step - loss: 11.3131 - mae: 2.5821 - val_loss: 12.8526 - val_mae: 2.7721 - learning_rate: 1.0000e-04\n",
      "Epoch 62/100\n",
      "\u001b[1m941/941\u001b[0m \u001b[32m━━━━━━━━━━━━━━━━━━━━\u001b[0m\u001b[37m\u001b[0m \u001b[1m17s\u001b[0m 18ms/step - loss: 11.2930 - mae: 2.5804 - val_loss: 12.6964 - val_mae: 2.7564 - learning_rate: 1.0000e-04\n",
      "Epoch 63/100\n",
      "\u001b[1m941/941\u001b[0m \u001b[32m━━━━━━━━━━━━━━━━━━━━\u001b[0m\u001b[37m\u001b[0m \u001b[1m18s\u001b[0m 19ms/step - loss: 11.3658 - mae: 2.5869 - val_loss: 12.7786 - val_mae: 2.7612 - learning_rate: 1.0000e-04\n",
      "Epoch 64/100\n",
      "\u001b[1m941/941\u001b[0m \u001b[32m━━━━━━━━━━━━━━━━━━━━\u001b[0m\u001b[37m\u001b[0m \u001b[1m19s\u001b[0m 20ms/step - loss: 11.2202 - mae: 2.5705 - val_loss: 12.7934 - val_mae: 2.7645 - learning_rate: 1.0000e-04\n",
      "Epoch 65/100\n",
      "\u001b[1m941/941\u001b[0m \u001b[32m━━━━━━━━━━━━━━━━━━━━\u001b[0m\u001b[37m\u001b[0m \u001b[1m19s\u001b[0m 20ms/step - loss: 11.1796 - mae: 2.5645 - val_loss: 12.7806 - val_mae: 2.7639 - learning_rate: 1.0000e-04\n",
      "Epoch 66/100\n",
      "\u001b[1m941/941\u001b[0m \u001b[32m━━━━━━━━━━━━━━━━━━━━\u001b[0m\u001b[37m\u001b[0m \u001b[1m16s\u001b[0m 17ms/step - loss: 11.2041 - mae: 2.5660 - val_loss: 12.7240 - val_mae: 2.7564 - learning_rate: 1.0000e-04\n",
      "Epoch 67/100\n",
      "\u001b[1m941/941\u001b[0m \u001b[32m━━━━━━━━━━━━━━━━━━━━\u001b[0m\u001b[37m\u001b[0m \u001b[1m17s\u001b[0m 18ms/step - loss: 11.1085 - mae: 2.5568 - val_loss: 12.7908 - val_mae: 2.7652 - learning_rate: 1.0000e-04\n",
      "Epoch 68/100\n",
      "\u001b[1m941/941\u001b[0m \u001b[32m━━━━━━━━━━━━━━━━━━━━\u001b[0m\u001b[37m\u001b[0m \u001b[1m19s\u001b[0m 20ms/step - loss: 11.1576 - mae: 2.5673 - val_loss: 12.4767 - val_mae: 2.7366 - learning_rate: 1.0000e-05\n",
      "Epoch 69/100\n",
      "\u001b[1m941/941\u001b[0m \u001b[32m━━━━━━━━━━━━━━━━━━━━\u001b[0m\u001b[37m\u001b[0m \u001b[1m18s\u001b[0m 19ms/step - loss: 10.8323 - mae: 2.5285 - val_loss: 12.4590 - val_mae: 2.7353 - learning_rate: 1.0000e-05\n",
      "Epoch 70/100\n",
      "\u001b[1m941/941\u001b[0m \u001b[32m━━━━━━━━━━━━━━━━━━━━\u001b[0m\u001b[37m\u001b[0m \u001b[1m16s\u001b[0m 17ms/step - loss: 10.8000 - mae: 2.5252 - val_loss: 12.4480 - val_mae: 2.7341 - learning_rate: 1.0000e-05\n",
      "Epoch 71/100\n",
      "\u001b[1m941/941\u001b[0m \u001b[32m━━━━━━━━━━━━━━━━━━━━\u001b[0m\u001b[37m\u001b[0m \u001b[1m21s\u001b[0m 22ms/step - loss: 10.7766 - mae: 2.5226 - val_loss: 12.4426 - val_mae: 2.7333 - learning_rate: 1.0000e-05\n",
      "Epoch 72/100\n",
      "\u001b[1m941/941\u001b[0m \u001b[32m━━━━━━━━━━━━━━━━━━━━\u001b[0m\u001b[37m\u001b[0m \u001b[1m19s\u001b[0m 20ms/step - loss: 10.7566 - mae: 2.5203 - val_loss: 12.4395 - val_mae: 2.7330 - learning_rate: 1.0000e-05\n",
      "Epoch 73/100\n",
      "\u001b[1m941/941\u001b[0m \u001b[32m━━━━━━━━━━━━━━━━━━━━\u001b[0m\u001b[37m\u001b[0m \u001b[1m20s\u001b[0m 22ms/step - loss: 10.7384 - mae: 2.5181 - val_loss: 12.4327 - val_mae: 2.7323 - learning_rate: 1.0000e-05\n",
      "Epoch 74/100\n",
      "\u001b[1m941/941\u001b[0m \u001b[32m━━━━━━━━━━━━━━━━━━━━\u001b[0m\u001b[37m\u001b[0m \u001b[1m39s\u001b[0m 20ms/step - loss: 10.7203 - mae: 2.5159 - val_loss: 12.4229 - val_mae: 2.7313 - learning_rate: 1.0000e-05\n",
      "Epoch 75/100\n",
      "\u001b[1m941/941\u001b[0m \u001b[32m━━━━━━━━━━━━━━━━━━━━\u001b[0m\u001b[37m\u001b[0m \u001b[1m21s\u001b[0m 22ms/step - loss: 10.7032 - mae: 2.5139 - val_loss: 12.4129 - val_mae: 2.7303 - learning_rate: 1.0000e-05\n",
      "Epoch 76/100\n",
      "\u001b[1m941/941\u001b[0m \u001b[32m━━━━━━━━━━━━━━━━━━━━\u001b[0m\u001b[37m\u001b[0m \u001b[1m39s\u001b[0m 20ms/step - loss: 10.6872 - mae: 2.5123 - val_loss: 12.4042 - val_mae: 2.7294 - learning_rate: 1.0000e-05\n",
      "Epoch 77/100\n",
      "\u001b[1m941/941\u001b[0m \u001b[32m━━━━━━━━━━━━━━━━━━━━\u001b[0m\u001b[37m\u001b[0m \u001b[1m19s\u001b[0m 20ms/step - loss: 10.6684 - mae: 2.5104 - val_loss: 12.3959 - val_mae: 2.7286 - learning_rate: 1.0000e-05\n",
      "Epoch 78/100\n",
      "\u001b[1m941/941\u001b[0m \u001b[32m━━━━━━━━━━━━━━━━━━━━\u001b[0m\u001b[37m\u001b[0m \u001b[1m21s\u001b[0m 22ms/step - loss: 10.6525 - mae: 2.5085 - val_loss: 12.3878 - val_mae: 2.7278 - learning_rate: 1.0000e-05\n",
      "Epoch 79/100\n",
      "\u001b[1m941/941\u001b[0m \u001b[32m━━━━━━━━━━━━━━━━━━━━\u001b[0m\u001b[37m\u001b[0m \u001b[1m37s\u001b[0m 19ms/step - loss: 10.6416 - mae: 2.5073 - val_loss: 12.3801 - val_mae: 2.7270 - learning_rate: 1.0000e-05\n",
      "Epoch 80/100\n",
      "\u001b[1m941/941\u001b[0m \u001b[32m━━━━━━━━━━━━━━━━━━━━\u001b[0m\u001b[37m\u001b[0m \u001b[1m17s\u001b[0m 18ms/step - loss: 10.6314 - mae: 2.5062 - val_loss: 12.3727 - val_mae: 2.7262 - learning_rate: 1.0000e-05\n",
      "Epoch 81/100\n",
      "\u001b[1m941/941\u001b[0m \u001b[32m━━━━━━━━━━━━━━━━━━━━\u001b[0m\u001b[37m\u001b[0m \u001b[1m17s\u001b[0m 18ms/step - loss: 10.6216 - mae: 2.5051 - val_loss: 12.3656 - val_mae: 2.7254 - learning_rate: 1.0000e-05\n",
      "Epoch 82/100\n",
      "\u001b[1m941/941\u001b[0m \u001b[32m━━━━━━━━━━━━━━━━━━━━\u001b[0m\u001b[37m\u001b[0m \u001b[1m17s\u001b[0m 18ms/step - loss: 10.6123 - mae: 2.5040 - val_loss: 12.3589 - val_mae: 2.7247 - learning_rate: 1.0000e-05\n",
      "Epoch 83/100\n",
      "\u001b[1m941/941\u001b[0m \u001b[32m━━━━━━━━━━━━━━━━━━━━\u001b[0m\u001b[37m\u001b[0m \u001b[1m19s\u001b[0m 20ms/step - loss: 10.6034 - mae: 2.5030 - val_loss: 12.3526 - val_mae: 2.7240 - learning_rate: 1.0000e-05\n",
      "Epoch 84/100\n",
      "\u001b[1m941/941\u001b[0m \u001b[32m━━━━━━━━━━━━━━━━━━━━\u001b[0m\u001b[37m\u001b[0m \u001b[1m17s\u001b[0m 18ms/step - loss: 10.5949 - mae: 2.5020 - val_loss: 12.3467 - val_mae: 2.7233 - learning_rate: 1.0000e-05\n",
      "Epoch 85/100\n",
      "\u001b[1m941/941\u001b[0m \u001b[32m━━━━━━━━━━━━━━━━━━━━\u001b[0m\u001b[37m\u001b[0m \u001b[1m20s\u001b[0m 21ms/step - loss: 10.5866 - mae: 2.5011 - val_loss: 12.3410 - val_mae: 2.7226 - learning_rate: 1.0000e-05\n",
      "Epoch 86/100\n",
      "\u001b[1m941/941\u001b[0m \u001b[32m━━━━━━━━━━━━━━━━━━━━\u001b[0m\u001b[37m\u001b[0m \u001b[1m21s\u001b[0m 22ms/step - loss: 10.5787 - mae: 2.5002 - val_loss: 12.3355 - val_mae: 2.7219 - learning_rate: 1.0000e-05\n",
      "Epoch 87/100\n",
      "\u001b[1m941/941\u001b[0m \u001b[32m━━━━━━━━━━━━━━━━━━━━\u001b[0m\u001b[37m\u001b[0m \u001b[1m19s\u001b[0m 20ms/step - loss: 10.5711 - mae: 2.4993 - val_loss: 12.3301 - val_mae: 2.7213 - learning_rate: 1.0000e-05\n",
      "Epoch 88/100\n",
      "\u001b[1m941/941\u001b[0m \u001b[32m━━━━━━━━━━━━━━━━━━━━\u001b[0m\u001b[37m\u001b[0m \u001b[1m19s\u001b[0m 20ms/step - loss: 10.5638 - mae: 2.4984 - val_loss: 12.3248 - val_mae: 2.7206 - learning_rate: 1.0000e-05\n",
      "Epoch 89/100\n",
      "\u001b[1m941/941\u001b[0m \u001b[32m━━━━━━━━━━━━━━━━━━━━\u001b[0m\u001b[37m\u001b[0m \u001b[1m22s\u001b[0m 22ms/step - loss: 10.5566 - mae: 2.4976 - val_loss: 12.3197 - val_mae: 2.7200 - learning_rate: 1.0000e-05\n",
      "Epoch 90/100\n",
      "\u001b[1m941/941\u001b[0m \u001b[32m━━━━━━━━━━━━━━━━━━━━\u001b[0m\u001b[37m\u001b[0m \u001b[1m21s\u001b[0m 23ms/step - loss: 10.5496 - mae: 2.4968 - val_loss: 12.3147 - val_mae: 2.7194 - learning_rate: 1.0000e-05\n",
      "Epoch 91/100\n",
      "\u001b[1m941/941\u001b[0m \u001b[32m━━━━━━━━━━━━━━━━━━━━\u001b[0m\u001b[37m\u001b[0m \u001b[1m20s\u001b[0m 22ms/step - loss: 10.5428 - mae: 2.4960 - val_loss: 12.3099 - val_mae: 2.7188 - learning_rate: 1.0000e-05\n",
      "Epoch 92/100\n",
      "\u001b[1m941/941\u001b[0m \u001b[32m━━━━━━━━━━━━━━━━━━━━\u001b[0m\u001b[37m\u001b[0m \u001b[1m19s\u001b[0m 20ms/step - loss: 10.5360 - mae: 2.4952 - val_loss: 12.3052 - val_mae: 2.7182 - learning_rate: 1.0000e-05\n",
      "Epoch 93/100\n",
      "\u001b[1m941/941\u001b[0m \u001b[32m━━━━━━━━━━━━━━━━━━━━\u001b[0m\u001b[37m\u001b[0m \u001b[1m23s\u001b[0m 22ms/step - loss: 10.5291 - mae: 2.4944 - val_loss: 12.3006 - val_mae: 2.7177 - learning_rate: 1.0000e-05\n",
      "Epoch 94/100\n",
      "\u001b[1m941/941\u001b[0m \u001b[32m━━━━━━━━━━━━━━━━━━━━\u001b[0m\u001b[37m\u001b[0m \u001b[1m38s\u001b[0m 19ms/step - loss: 10.5220 - mae: 2.4936 - val_loss: 12.2957 - val_mae: 2.7171 - learning_rate: 1.0000e-05\n",
      "Epoch 95/100\n",
      "\u001b[1m941/941\u001b[0m \u001b[32m━━━━━━━━━━━━━━━━━━━━\u001b[0m\u001b[37m\u001b[0m \u001b[1m21s\u001b[0m 23ms/step - loss: 10.5150 - mae: 2.4928 - val_loss: 12.2902 - val_mae: 2.7164 - learning_rate: 1.0000e-05\n",
      "Epoch 96/100\n",
      "\u001b[1m941/941\u001b[0m \u001b[32m━━━━━━━━━━━━━━━━━━━━\u001b[0m\u001b[37m\u001b[0m \u001b[1m38s\u001b[0m 19ms/step - loss: 10.5084 - mae: 2.4920 - val_loss: 12.2844 - val_mae: 2.7157 - learning_rate: 1.0000e-05\n",
      "Epoch 97/100\n",
      "\u001b[1m941/941\u001b[0m \u001b[32m━━━━━━━━━━━━━━━━━━━━\u001b[0m\u001b[37m\u001b[0m \u001b[1m15s\u001b[0m 16ms/step - loss: 10.5019 - mae: 2.4912 - val_loss: 12.2783 - val_mae: 2.7151 - learning_rate: 1.0000e-05\n",
      "Epoch 98/100\n",
      "\u001b[1m941/941\u001b[0m \u001b[32m━━━━━━━━━━━━━━━━━━━━\u001b[0m\u001b[37m\u001b[0m \u001b[1m16s\u001b[0m 17ms/step - loss: 10.4954 - mae: 2.4904 - val_loss: 12.2720 - val_mae: 2.7144 - learning_rate: 1.0000e-05\n",
      "Epoch 99/100\n",
      "\u001b[1m941/941\u001b[0m \u001b[32m━━━━━━━━━━━━━━━━━━━━\u001b[0m\u001b[37m\u001b[0m \u001b[1m20s\u001b[0m 22ms/step - loss: 10.4884 - mae: 2.4896 - val_loss: 12.2653 - val_mae: 2.7138 - learning_rate: 1.0000e-05\n",
      "Epoch 100/100\n",
      "\u001b[1m941/941\u001b[0m \u001b[32m━━━━━━━━━━━━━━━━━━━━\u001b[0m\u001b[37m\u001b[0m \u001b[1m21s\u001b[0m 22ms/step - loss: 10.4810 - mae: 2.4888 - val_loss: 12.2581 - val_mae: 2.7131 - learning_rate: 1.0000e-05\n",
      "\u001b[1m1384/1384\u001b[0m \u001b[32m━━━━━━━━━━━━━━━━━━━━\u001b[0m\u001b[37m\u001b[0m \u001b[1m8s\u001b[0m 6ms/step - loss: 12.9962 - mae: 2.7978\n",
      "--------------------------------------------------\n",
      "The LSTM MAE on the test set is equal to 2.85 Celsius degrees\n"
     ]
    },
    {
     "data": {
      "image/png": "[encoded data removed]",
      "text/plain": [
       "<Figure size 2000x700 with 2 Axes>"
      ]
     },
     "metadata": {},
     "output_type": "display_data"
    }
   ],
   "source": [
    "# 2 - Training\n",
    "# ====================================\n",
    "model, history = fit_model(model, verbose=1)\n",
    "\n",
    "plot_history(history);\n",
    "\n",
    "# 3 - Evaluation\n",
    "# ====================================\n",
    "res = model.evaluate(X_test, y_test)\n",
    "print(\"-\"*50)\n",
    "print(f\"The LSTM MAE on the test set is equal to {round(res[1],2)} Celsius degrees\")"
   ]
  },
  {
   "cell_type": "markdown",
   "metadata": {},
   "source": [
    "## 5.2 Baseline"
   ]
  },
  {
   "cell_type": "code",
   "execution_count": 74,
   "metadata": {},
   "outputs": [],
   "source": [
    "def last_seen_value_baseline(X_test, y_test, target_column_idx=0):\n",
    "    \"\"\"\n",
    "    Baseline model that predicts the last observed value of the target variable (temperature).\n",
    "\n",
    "    Parameters:\n",
    "    X: Input features (shape: [num_samples, time_steps, num_features])\n",
    "    y: Ground truth values (shape: [num_samples, time_steps, num_targets])\n",
    "    target_column_idx: Index of the target variable in the input features\n",
    "\n",
    "    Returns:\n",
    "    baseline_mae: Mean Absolute Error (MAE) of the baseline model\n",
    "    \"\"\"\n",
    "    # Get the last observed value of the target (temperature) for each sample\n",
    "    last_seen_values = X_test[:, -1, target_column_idx].reshape(-1, 1)\n",
    "\n",
    "    # Repeat this value for all the output steps\n",
    "    output_length = y_test.shape[1]  # Number of time steps in the target sequence\n",
    "    repeated = np.repeat(last_seen_values, axis=1, repeats=output_length)\n",
    "\n",
    "    # Calculate the MAE: Mean of absolute errors\n",
    "    mae = np.mean(np.abs(y_test - repeated))\n",
    "\n",
    "    return mae"
   ]
  },
  {
   "cell_type": "code",
   "execution_count": 75,
   "metadata": {},
   "outputs": [
    {
     "name": "stdout",
     "output_type": "stream",
     "text": [
      "- The Baseline MAE on the test set is equal to 4.39 Celsius degrees\n",
      "- The LSTM MAE on the test set is equal to 2.85 Celsius degrees\n",
      "👉 Improvement/decrease of the LSTM model over the baseline (on this fold for the test set): 35.2 % 👈\n"
     ]
    }
   ],
   "source": [
    "# 1 - Evaluation of the Baseline Model\n",
    "# ====================================\n",
    "mae_baseline = last_seen_value_baseline(X_test, y_test, target_column_idx=0)\n",
    "print(f\"- The Baseline MAE on the test set is equal to {round(mae_baseline,2)} Celsius degrees\")\n",
    "\n",
    "# 4 - Comparison with the LSTM model\n",
    "# ====================================\n",
    "print(f\"- The LSTM MAE on the test set is equal to {round(res[1],2)} Celsius degrees\")\n",
    "print(f\"👉 Improvement/decrease of the LSTM model over the baseline (on this fold for the test set): {round((1 - (res[1]/mae_baseline))*100,2)} % 👈\")"
   ]
  },
  {
   "cell_type": "markdown",
   "metadata": {},
   "source": [
    "## 5.3 Optimizing on Hyperparameters"
   ]
  },
  {
   "cell_type": "code",
   "execution_count": 76,
   "metadata": {},
   "outputs": [],
   "source": [
    "from tensorflow.keras import layers, models, optimizers\n",
    "from tensorflow.keras import regularizers\n",
    "from tensorflow.keras.optimizers import Adam\n",
    "from keras_tuner import HyperModel\n",
    "from keras_tuner import RandomSearch\n",
    "\n",
    "class LSTMModel(HyperModel):\n",
    "    def build(self, hp):\n",
    "        reg_l2 = regularizers.L2(hp.Float('l2_reg', min_value=0.001, max_value=0.1, step=0.001))\n",
    "\n",
    "        #========================================================================================\n",
    "\n",
    "        model = models.Sequential()\n",
    "\n",
    "        # Input Layer\n",
    "        model.add(layers.Input(shape=(X_train.shape[1], X_train.shape[2])))\n",
    "\n",
    "        # Recurrent Layer with tunable units and dropout\n",
    "        model.add(layers.LSTM(\n",
    "            units=hp.Int('units', min_value=16, max_value=128, step=16),\n",
    "            activation='tanh',\n",
    "            return_sequences=True,\n",
    "            recurrent_dropout=hp.Float('recurrent_dropout', min_value=0.2, max_value=0.5, step=0.05),\n",
    "            dropout=hp.Float('dropout', min_value=0.2, max_value=0.5, step=0.05)\n",
    "        ))\n",
    "\n",
    "        # Hidden Dense Layer with tunable regularization\n",
    "        model.add(layers.Dense(\n",
    "            units=hp.Int('dense_units', min_value=32, max_value=128, step=32),\n",
    "            activation=\"relu\",\n",
    "            kernel_regularizer=reg_l2\n",
    "        ))\n",
    "        model.add(layers.Dropout(rate=hp.Float('dense_dropout', min_value=0.2, max_value=0.5, step=0.05)))\n",
    "\n",
    "        # Output Layer\n",
    "        model.add(layers.Dense(1, activation='linear'))\n",
    "\n",
    "        #========================================================================================\n",
    "\n",
    "        # Compile the model\n",
    "        model.compile(\n",
    "            loss='mse',\n",
    "            optimizer=Adam(learning_rate=hp.Float('learning_rate', min_value=1e-5, max_value=1e-2, sampling='log')),\n",
    "            metrics=[\"mae\"]\n",
    "        )\n",
    "\n",
    "        return model"
   ]
  },
  {
   "cell_type": "code",
   "execution_count": 77,
   "metadata": {},
   "outputs": [
    {
     "name": "stdout",
     "output_type": "stream",
     "text": [
      "Reloading Tuner from models/temperature_hyperparameters/tuner0.json\n"
     ]
    }
   ],
   "source": [
    "tuner = RandomSearch(\n",
    "    LSTMModel(),  # The HyperModel class\n",
    "    objective='val_mae',  # We want to minimize validation MAE\n",
    "    max_trials=10,  # Number of different hyperparameter combinations to try\n",
    "    executions_per_trial=1,  # Number of models to train per trial\n",
    "    directory='models',  # Directory to store logs and models\n",
    "    project_name='temperature_hyperparameters')\n",
    "\n",
    "tuner.search(\n",
    "    X_train,\n",
    "    y_train,\n",
    "    epochs=50,\n",
    "    batch_size=64,\n",
    "    validation_split=0.2,  # Use a validation split\n",
    "    callbacks=[tf.keras.callbacks.EarlyStopping(monitor='val_mae', patience=2)])"
   ]
  },
  {
   "cell_type": "code",
   "execution_count": 78,
   "metadata": {},
   "outputs": [
    {
     "name": "stdout",
     "output_type": "stream",
     "text": [
      "Best Hyperparameters: {'l2_reg': 0.07200000000000001, 'units': 48, 'recurrent_dropout': 0.2, 'dropout': 0.25, 'dense_units': 96, 'dense_dropout': 0.4, 'learning_rate': 0.004817189232254613}\n",
      "Epoch 1/100\n",
      "\u001b[1m1075/1075\u001b[0m \u001b[32m━━━━━━━━━━━━━━━━━━━━\u001b[0m\u001b[37m\u001b[0m \u001b[1m36s\u001b[0m 29ms/step - loss: 37.8106 - mae: 4.5649 - val_loss: 17.2464 - val_mae: 3.1557\n",
      "Epoch 2/100\n",
      "\u001b[1m1075/1075\u001b[0m \u001b[32m━━━━━━━━━━━━━━━━━━━━\u001b[0m\u001b[37m\u001b[0m \u001b[1m37s\u001b[0m 26ms/step - loss: 19.1782 - mae: 3.3161 - val_loss: 15.4337 - val_mae: 2.9636\n",
      "Epoch 3/100\n",
      "\u001b[1m1075/1075\u001b[0m \u001b[32m━━━━━━━━━━━━━━━━━━━━\u001b[0m\u001b[37m\u001b[0m \u001b[1m31s\u001b[0m 29ms/step - loss: 18.1672 - mae: 3.2310 - val_loss: 19.0905 - val_mae: 3.4036\n",
      "Epoch 4/100\n",
      "\u001b[1m1075/1075\u001b[0m \u001b[32m━━━━━━━━━━━━━━━━━━━━\u001b[0m\u001b[37m\u001b[0m \u001b[1m31s\u001b[0m 28ms/step - loss: 17.4354 - mae: 3.1724 - val_loss: 14.6005 - val_mae: 2.8936\n",
      "Epoch 5/100\n",
      "\u001b[1m1075/1075\u001b[0m \u001b[32m━━━━━━━━━━━━━━━━━━━━\u001b[0m\u001b[37m\u001b[0m \u001b[1m40s\u001b[0m 28ms/step - loss: 16.8466 - mae: 3.1285 - val_loss: 13.7779 - val_mae: 2.8093\n",
      "Epoch 6/100\n",
      "\u001b[1m1075/1075\u001b[0m \u001b[32m━━━━━━━━━━━━━━━━━━━━\u001b[0m\u001b[37m\u001b[0m \u001b[1m31s\u001b[0m 29ms/step - loss: 16.6297 - mae: 3.1041 - val_loss: 13.4225 - val_mae: 2.7846\n",
      "Epoch 7/100\n",
      "\u001b[1m1075/1075\u001b[0m \u001b[32m━━━━━━━━━━━━━━━━━━━━\u001b[0m\u001b[37m\u001b[0m \u001b[1m30s\u001b[0m 28ms/step - loss: 16.3329 - mae: 3.0766 - val_loss: 14.0879 - val_mae: 2.8679\n",
      "Epoch 8/100\n",
      "\u001b[1m1075/1075\u001b[0m \u001b[32m━━━━━━━━━━━━━━━━━━━━\u001b[0m\u001b[37m\u001b[0m \u001b[1m28s\u001b[0m 26ms/step - loss: 16.2993 - mae: 3.0765 - val_loss: 13.3902 - val_mae: 2.7729\n",
      "Epoch 9/100\n",
      "\u001b[1m1075/1075\u001b[0m \u001b[32m━━━━━━━━━━━━━━━━━━━━\u001b[0m\u001b[37m\u001b[0m \u001b[1m25s\u001b[0m 24ms/step - loss: 16.0256 - mae: 3.0486 - val_loss: 13.5178 - val_mae: 2.7923\n",
      "Epoch 10/100\n",
      "\u001b[1m1075/1075\u001b[0m \u001b[32m━━━━━━━━━━━━━━━━━━━━\u001b[0m\u001b[37m\u001b[0m \u001b[1m27s\u001b[0m 25ms/step - loss: 16.1585 - mae: 3.0601 - val_loss: 14.3530 - val_mae: 2.8847\n",
      "Epoch 11/100\n",
      "\u001b[1m1075/1075\u001b[0m \u001b[32m━━━━━━━━━━━━━━━━━━━━\u001b[0m\u001b[37m\u001b[0m \u001b[1m28s\u001b[0m 26ms/step - loss: 15.9407 - mae: 3.0450 - val_loss: 12.8161 - val_mae: 2.7063\n",
      "Epoch 12/100\n",
      "\u001b[1m1075/1075\u001b[0m \u001b[32m━━━━━━━━━━━━━━━━━━━━\u001b[0m\u001b[37m\u001b[0m \u001b[1m43s\u001b[0m 29ms/step - loss: 15.6708 - mae: 3.0184 - val_loss: 13.8259 - val_mae: 2.8559\n",
      "Epoch 13/100\n",
      "\u001b[1m1075/1075\u001b[0m \u001b[32m━━━━━━━━━━━━━━━━━━━━\u001b[0m\u001b[37m\u001b[0m \u001b[1m28s\u001b[0m 26ms/step - loss: 15.7491 - mae: 3.0171 - val_loss: 13.8240 - val_mae: 2.8542\n",
      "Epoch 14/100\n",
      "\u001b[1m1075/1075\u001b[0m \u001b[32m━━━━━━━━━━━━━━━━━━━━\u001b[0m\u001b[37m\u001b[0m \u001b[1m45s\u001b[0m 30ms/step - loss: 15.5984 - mae: 3.0062 - val_loss: 12.8128 - val_mae: 2.7160\n",
      "Epoch 15/100\n",
      "\u001b[1m1075/1075\u001b[0m \u001b[32m━━━━━━━━━━━━━━━━━━━━\u001b[0m\u001b[37m\u001b[0m \u001b[1m28s\u001b[0m 26ms/step - loss: 15.7455 - mae: 3.0208 - val_loss: 12.0926 - val_mae: 2.6086\n",
      "Epoch 16/100\n",
      "\u001b[1m1075/1075\u001b[0m \u001b[32m━━━━━━━━━━━━━━━━━━━━\u001b[0m\u001b[37m\u001b[0m \u001b[1m31s\u001b[0m 29ms/step - loss: 15.8532 - mae: 3.0279 - val_loss: 12.9445 - val_mae: 2.7525\n",
      "Epoch 17/100\n",
      "\u001b[1m1075/1075\u001b[0m \u001b[32m━━━━━━━━━━━━━━━━━━━━\u001b[0m\u001b[37m\u001b[0m \u001b[1m30s\u001b[0m 28ms/step - loss: 15.7507 - mae: 3.0158 - val_loss: 12.5659 - val_mae: 2.6830\n",
      "Epoch 18/100\n",
      "\u001b[1m1075/1075\u001b[0m \u001b[32m━━━━━━━━━━━━━━━━━━━━\u001b[0m\u001b[37m\u001b[0m \u001b[1m28s\u001b[0m 26ms/step - loss: 15.8284 - mae: 3.0280 - val_loss: 12.4899 - val_mae: 2.6853\n",
      "Epoch 19/100\n",
      "\u001b[1m1075/1075\u001b[0m \u001b[32m━━━━━━━━━━━━━━━━━━━━\u001b[0m\u001b[37m\u001b[0m \u001b[1m43s\u001b[0m 28ms/step - loss: 15.6772 - mae: 3.0094 - val_loss: 13.0639 - val_mae: 2.7590\n",
      "Epoch 20/100\n",
      "\u001b[1m1075/1075\u001b[0m \u001b[32m━━━━━━━━━━━━━━━━━━━━\u001b[0m\u001b[37m\u001b[0m \u001b[1m38s\u001b[0m 26ms/step - loss: 15.5018 - mae: 2.9995 - val_loss: 14.2685 - val_mae: 2.9072\n",
      "Epoch 21/100\n",
      "\u001b[1m1075/1075\u001b[0m \u001b[32m━━━━━━━━━━━━━━━━━━━━\u001b[0m\u001b[37m\u001b[0m \u001b[1m45s\u001b[0m 29ms/step - loss: 15.4147 - mae: 2.9884 - val_loss: 14.1142 - val_mae: 2.8721\n",
      "Epoch 22/100\n",
      "\u001b[1m1075/1075\u001b[0m \u001b[32m━━━━━━━━━━━━━━━━━━━━\u001b[0m\u001b[37m\u001b[0m \u001b[1m30s\u001b[0m 28ms/step - loss: 15.4975 - mae: 2.9938 - val_loss: 15.1589 - val_mae: 2.9897\n",
      "Epoch 23/100\n",
      "\u001b[1m1075/1075\u001b[0m \u001b[32m━━━━━━━━━━━━━━━━━━━━\u001b[0m\u001b[37m\u001b[0m \u001b[1m28s\u001b[0m 26ms/step - loss: 15.4011 - mae: 2.9884 - val_loss: 13.7117 - val_mae: 2.8288\n",
      "Epoch 24/100\n",
      "\u001b[1m1075/1075\u001b[0m \u001b[32m━━━━━━━━━━━━━━━━━━━━\u001b[0m\u001b[37m\u001b[0m \u001b[1m28s\u001b[0m 26ms/step - loss: 15.2434 - mae: 2.9764 - val_loss: 13.0974 - val_mae: 2.7686\n",
      "Epoch 25/100\n",
      "\u001b[1m1075/1075\u001b[0m \u001b[32m━━━━━━━━━━━━━━━━━━━━\u001b[0m\u001b[37m\u001b[0m \u001b[1m41s\u001b[0m 26ms/step - loss: 15.2956 - mae: 2.9815 - val_loss: 12.5138 - val_mae: 2.6981\n",
      "\u001b[1m1384/1384\u001b[0m \u001b[32m━━━━━━━━━━━━━━━━━━━━\u001b[0m\u001b[37m\u001b[0m \u001b[1m11s\u001b[0m 8ms/step - loss: 13.3809 - mae: 2.8151\n",
      "Test MAE: 2.8162901401519775 Celsius degrees\n"
     ]
    }
   ],
   "source": [
    "# Get the best hyperparameters\n",
    "best_hps = tuner.get_best_hyperparameters(num_trials=1)[0]\n",
    "print(f\"Best Hyperparameters: {best_hps.values}\")\n",
    "\n",
    "# Build the best model with those hyperparameters\n",
    "best_model = tuner.hypermodel.build(best_hps)\n",
    "\n",
    "# Train the best model\n",
    "history = best_model.fit(\n",
    "    X_train,\n",
    "    y_train,\n",
    "    validation_split=0.2,\n",
    "    epochs=100,\n",
    "    batch_size=64,\n",
    "    callbacks=[tf.keras.callbacks.EarlyStopping(monitor='val_mae', patience=10)]\n",
    ")\n",
    "\n",
    "# Evaluate the best model on the test set\n",
    "test_results = best_model.evaluate(X_test, y_test)\n",
    "print(f\"Test MAE: {test_results[1]} Celsius degrees\")"
   ]
  },
  {
   "cell_type": "code",
   "execution_count": 79,
   "metadata": {},
   "outputs": [
    {
     "data": {
      "image/png": "[encoded data removed]",
      "text/plain": [
       "<Figure size 2000x700 with 2 Axes>"
      ]
     },
     "metadata": {},
     "output_type": "display_data"
    }
   ],
   "source": [
    "plot_history(history);"
   ]
  },
  {
   "cell_type": "markdown",
   "metadata": {},
   "source": [
    "# 5.3. Safe/ Load model"
   ]
  },
  {
   "cell_type": "code",
   "execution_count": 80,
   "metadata": {},
   "outputs": [],
   "source": [
    "from tensorflow.keras.models import Sequential, save_model, load_model\n",
    "from tensorflow.keras import models"
   ]
  },
  {
   "cell_type": "code",
   "execution_count": 81,
   "metadata": {},
   "outputs": [],
   "source": [
    "relative_path = os.path.dirname(current_dir)\n",
    "models_folder = os.path.join(relative_path, \"powder_alert2.0/models\")\n",
    "\n",
    "save_as_keras = os.path.join(models_folder, 'limDS_all_features.keras')"
   ]
  },
  {
   "cell_type": "code",
   "execution_count": 82,
   "metadata": {},
   "outputs": [],
   "source": [
    "model.save(save_as_keras)"
   ]
  },
  {
   "cell_type": "code",
   "execution_count": 83,
   "metadata": {},
   "outputs": [],
   "source": [
    "loaded_model_keras = tf.keras.models.load_model(save_as_keras)"
   ]
  },
  {
   "cell_type": "markdown",
   "metadata": {},
   "source": [
    "# 6. Prediction"
   ]
  },
  {
   "cell_type": "code",
   "execution_count": 84,
   "metadata": {},
   "outputs": [
    {
     "data": {
      "text/plain": [
       "(1, 24, 37)"
      ]
     },
     "execution_count": 84,
     "metadata": {},
     "output_type": "execute_result"
    }
   ],
   "source": [
    "last_input = X_test[-1:]\n",
    "last_input.shape"
   ]
  },
  {
   "cell_type": "code",
   "execution_count": 85,
   "metadata": {},
   "outputs": [],
   "source": [
    "best_model = loaded_model_keras # needs to be changed to load the best/ current model --> best_model"
   ]
  },
  {
   "cell_type": "code",
   "execution_count": 86,
   "metadata": {},
   "outputs": [
    {
     "name": "stdout",
     "output_type": "stream",
     "text": [
      "\u001b[1m1/1\u001b[0m \u001b[32m━━━━━━━━━━━━━━━━━━━━\u001b[0m\u001b[37m\u001b[0m \u001b[1m0s\u001b[0m 324ms/step\n"
     ]
    }
   ],
   "source": [
    "predictions = best_model.predict(last_input)"
   ]
  },
  {
   "cell_type": "code",
   "execution_count": 87,
   "metadata": {},
   "outputs": [
    {
     "name": "stdout",
     "output_type": "stream",
     "text": [
      "The temperature for the upcoming 24 h range from -10.275465965270996 to 1.528769612312317 Celsius degrees.\n"
     ]
    }
   ],
   "source": [
    "predicted_temperatures = predictions[0]\n",
    "print(f'The temperature for the upcoming 24 h range from {predicted_temperatures.min()} to {predicted_temperatures.max()} Celsius degrees.')"
   ]
  },
  {
   "cell_type": "code",
   "execution_count": 88,
   "metadata": {},
   "outputs": [
    {
     "name": "stderr",
     "output_type": "stream",
     "text": [
      "/var/tmp/ipykernel_10978/4283440329.py:2: FutureWarning: 'H' is deprecated and will be removed in a future version, please use 'h' instead.\n",
      "  predicted_df[\"Hour\"] = pd.date_range(start=pd.to_datetime('now'), periods=24, freq='H')\n"
     ]
    },
    {
     "data": {
      "image/png": "[encoded data removed]",
      "text/plain": [
       "<Figure size 1000x600 with 1 Axes>"
      ]
     },
     "metadata": {},
     "output_type": "display_data"
    }
   ],
   "source": [
    "predicted_df = pd.DataFrame(predicted_temperatures, columns=[\"Predicted Temperature\"])\n",
    "predicted_df[\"Hour\"] = pd.date_range(start=pd.to_datetime('now'), periods=24, freq='H')\n",
    "\n",
    "# Plot the predicted temperatures\n",
    "plt.figure(figsize=(10,6))\n",
    "plt.plot(predicted_df[\"Hour\"], predicted_df[\"Predicted Temperature\"], marker='o')\n",
    "plt.title(\"Predicted Temperature for the Next 24 Hours\")\n",
    "plt.xlabel(\"Hour\")\n",
    "plt.ylabel(\"Temperature (°C)\")\n",
    "plt.grid(True)\n",
    "plt.xticks(rotation=45)\n",
    "plt.show();"
   ]
  },
  {
   "cell_type": "code",
   "execution_count": null,
   "metadata": {},
   "outputs": [],
   "source": []
  }
 ],
 "metadata": {
  "environment": {
   "kernel": "conda-base-py",
   "name": "workbench-notebooks.m126",
   "type": "gcloud",
   "uri": "us-docker.pkg.dev/deeplearning-platform-release/gcr.io/workbench-notebooks:m126"
  },
  "kernelspec": {
   "display_name": "Python 3 (ipykernel)",
   "language": "python",
   "name": "conda-base-py"
  },
  "language_info": {
   "codemirror_mode": {
    "name": "ipython",
    "version": 3
   },
   "file_extension": ".py",
   "mimetype": "text/x-python",
   "name": "python",
   "nbconvert_exporter": "python",
   "pygments_lexer": "ipython3",
   "version": "3.10.15"
  }
 },
 "nbformat": 4,
 "nbformat_minor": 4
}
