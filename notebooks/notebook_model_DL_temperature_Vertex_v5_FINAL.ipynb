{
 "cells": [
  {
   "cell_type": "markdown",
   "metadata": {},
   "source": [
    "# 0.1 Imports"
   ]
  },
  {
   "cell_type": "code",
   "execution_count": 1,
   "metadata": {
    "scrolled": true
   },
   "outputs": [],
   "source": [
    "import pandas as pd\n",
    "import numpy as np\n",
    "import matplotlib.pyplot as plt\n",
    "import seaborn as sns\n",
    "import tensorflow as tf\n",
    "import os\n",
    "from typing import Dict, List, Tuple, Sequence\n",
    "import pandas as pd\n",
    "import numpy as np\n",
    "from sklearn.compose import ColumnTransformer\n",
    "from sklearn.preprocessing import FunctionTransformer, StandardScaler, LabelEncoder\n",
    "from sklearn.pipeline import make_pipeline"
   ]
  },
  {
   "cell_type": "markdown",
   "metadata": {},
   "source": [
    "# 1. Data Import & Cleaning"
   ]
  },
  {
   "cell_type": "code",
   "execution_count": 2,
   "metadata": {},
   "outputs": [
    {
     "data": {
      "text/plain": [
       "'/Users/maxburger/code/MadMax1995bb/powder_alert2.0/notebooks'"
      ]
     },
     "execution_count": 2,
     "metadata": {},
     "output_type": "execute_result"
    }
   ],
   "source": [
    "current_dir = os.getcwd()\n",
    "current_dir"
   ]
  },
  {
   "cell_type": "code",
   "execution_count": 3,
   "metadata": {},
   "outputs": [
    {
     "data": {
      "text/plain": [
       "'/Users/maxburger/code/MadMax1995bb/powder_alert2.0'"
      ]
     },
     "execution_count": 3,
     "metadata": {},
     "output_type": "execute_result"
    }
   ],
   "source": [
    "relative_path = os.path.dirname(current_dir)\n",
    "relative_path"
   ]
  },
  {
   "cell_type": "code",
   "execution_count": 4,
   "metadata": {},
   "outputs": [],
   "source": [
    "# file_name = \"powder_alert2.0/raw_fitting.csv\"\n",
    "\n",
    "# file_path = os.path.join(relative_path, file_name)\n",
    "\n",
    "df = pd.read_csv('/Users/maxburger/code/MadMax1995bb/powder_alert2.0/raw_data/raw_fitting.csv', parse_dates=['date'], usecols=lambda col: col != '')"
   ]
  },
  {
   "cell_type": "code",
   "execution_count": 5,
   "metadata": {},
   "outputs": [],
   "source": [
    "# Drop the first weird column if it exists\n",
    "if 'Unnamed: 0' in df.columns:\n",
    "    df = df.drop(columns=['Unnamed: 0'])"
   ]
  },
  {
   "cell_type": "code",
   "execution_count": 6,
   "metadata": {},
   "outputs": [
    {
     "data": {
      "text/plain": [
       "(131496, 23)"
      ]
     },
     "execution_count": 6,
     "metadata": {},
     "output_type": "execute_result"
    }
   ],
   "source": [
    "df.shape"
   ]
  },
  {
   "cell_type": "code",
   "execution_count": 7,
   "metadata": {},
   "outputs": [
    {
     "data": {
      "text/plain": [
       "Index(['date', 'temperature_2m', 'relative_humidity_2m', 'dew_point_2m',\n",
       "       'precipitation', 'rain', 'snowfall', 'snow_depth', 'weather_code',\n",
       "       'pressure_msl', 'surface_pressure', 'cloud_cover', 'cloud_cover_low',\n",
       "       'cloud_cover_mid', 'cloud_cover_high', 'et0_fao_evapotranspiration',\n",
       "       'vapour_pressure_deficit', 'wind_speed_10m', 'wind_speed_100m',\n",
       "       'wind_direction_10m', 'wind_direction_100m', 'wind_gusts_10m',\n",
       "       'sunshine_duration'],\n",
       "      dtype='object')"
      ]
     },
     "execution_count": 7,
     "metadata": {},
     "output_type": "execute_result"
    }
   ],
   "source": [
    "df.columns"
   ]
  },
  {
   "cell_type": "code",
   "execution_count": 8,
   "metadata": {},
   "outputs": [
    {
     "data": {
      "text/plain": [
       "date                          datetime64[ns]\n",
       "temperature_2m                       float64\n",
       "relative_humidity_2m                 float64\n",
       "dew_point_2m                         float64\n",
       "precipitation                        float64\n",
       "rain                                 float64\n",
       "snowfall                             float64\n",
       "snow_depth                           float64\n",
       "weather_code                         float64\n",
       "pressure_msl                         float64\n",
       "surface_pressure                     float64\n",
       "cloud_cover                          float64\n",
       "cloud_cover_low                      float64\n",
       "cloud_cover_mid                      float64\n",
       "cloud_cover_high                     float64\n",
       "et0_fao_evapotranspiration           float64\n",
       "vapour_pressure_deficit              float64\n",
       "wind_speed_10m                       float64\n",
       "wind_speed_100m                      float64\n",
       "wind_direction_10m                   float64\n",
       "wind_direction_100m                  float64\n",
       "wind_gusts_10m                       float64\n",
       "sunshine_duration                    float64\n",
       "dtype: object"
      ]
     },
     "execution_count": 8,
     "metadata": {},
     "output_type": "execute_result"
    }
   ],
   "source": [
    "df.dtypes"
   ]
  },
  {
   "cell_type": "code",
   "execution_count": 9,
   "metadata": {},
   "outputs": [
    {
     "data": {
      "text/html": [
       "<div>\n",
       "<style scoped>\n",
       "    .dataframe tbody tr th:only-of-type {\n",
       "        vertical-align: middle;\n",
       "    }\n",
       "\n",
       "    .dataframe tbody tr th {\n",
       "        vertical-align: top;\n",
       "    }\n",
       "\n",
       "    .dataframe thead th {\n",
       "        text-align: right;\n",
       "    }\n",
       "</style>\n",
       "<table border=\"1\" class=\"dataframe\">\n",
       "  <thead>\n",
       "    <tr style=\"text-align: right;\">\n",
       "      <th></th>\n",
       "      <th>date</th>\n",
       "      <th>temperature_2m</th>\n",
       "      <th>relative_humidity_2m</th>\n",
       "      <th>dew_point_2m</th>\n",
       "      <th>precipitation</th>\n",
       "      <th>rain</th>\n",
       "      <th>snowfall</th>\n",
       "      <th>snow_depth</th>\n",
       "      <th>weather_code</th>\n",
       "      <th>pressure_msl</th>\n",
       "      <th>...</th>\n",
       "      <th>cloud_cover_mid</th>\n",
       "      <th>cloud_cover_high</th>\n",
       "      <th>et0_fao_evapotranspiration</th>\n",
       "      <th>vapour_pressure_deficit</th>\n",
       "      <th>wind_speed_10m</th>\n",
       "      <th>wind_speed_100m</th>\n",
       "      <th>wind_direction_10m</th>\n",
       "      <th>wind_direction_100m</th>\n",
       "      <th>wind_gusts_10m</th>\n",
       "      <th>sunshine_duration</th>\n",
       "    </tr>\n",
       "  </thead>\n",
       "  <tbody>\n",
       "    <tr>\n",
       "      <th>131494</th>\n",
       "      <td>2024-01-01 22:00:00</td>\n",
       "      <td>-13.721</td>\n",
       "      <td>80.381676</td>\n",
       "      <td>-16.371</td>\n",
       "      <td>0.0</td>\n",
       "      <td>0.0</td>\n",
       "      <td>0.0</td>\n",
       "      <td>1.23</td>\n",
       "      <td>3.0</td>\n",
       "      <td>1016.9</td>\n",
       "      <td>...</td>\n",
       "      <td>2.0</td>\n",
       "      <td>100.0</td>\n",
       "      <td>0.0</td>\n",
       "      <td>0.041773</td>\n",
       "      <td>6.763786</td>\n",
       "      <td>12.429127</td>\n",
       "      <td>154.79890</td>\n",
       "      <td>190.00792</td>\n",
       "      <td>26.28</td>\n",
       "      <td>0.679</td>\n",
       "    </tr>\n",
       "    <tr>\n",
       "      <th>131495</th>\n",
       "      <td>2024-01-01 23:00:00</td>\n",
       "      <td>-13.421</td>\n",
       "      <td>78.443700</td>\n",
       "      <td>-16.371</td>\n",
       "      <td>0.0</td>\n",
       "      <td>0.0</td>\n",
       "      <td>0.0</td>\n",
       "      <td>1.23</td>\n",
       "      <td>1.0</td>\n",
       "      <td>1015.7</td>\n",
       "      <td>...</td>\n",
       "      <td>0.0</td>\n",
       "      <td>40.0</td>\n",
       "      <td>0.0</td>\n",
       "      <td>0.047036</td>\n",
       "      <td>6.439876</td>\n",
       "      <td>12.605142</td>\n",
       "      <td>153.43501</td>\n",
       "      <td>181.63654</td>\n",
       "      <td>27.00</td>\n",
       "      <td>0.679</td>\n",
       "    </tr>\n",
       "  </tbody>\n",
       "</table>\n",
       "<p>2 rows × 23 columns</p>\n",
       "</div>"
      ],
      "text/plain": [
       "                      date  temperature_2m  relative_humidity_2m  \\\n",
       "131494 2024-01-01 22:00:00         -13.721             80.381676   \n",
       "131495 2024-01-01 23:00:00         -13.421             78.443700   \n",
       "\n",
       "        dew_point_2m  precipitation  rain  snowfall  snow_depth  weather_code  \\\n",
       "131494       -16.371            0.0   0.0       0.0        1.23           3.0   \n",
       "131495       -16.371            0.0   0.0       0.0        1.23           1.0   \n",
       "\n",
       "        pressure_msl  ...  cloud_cover_mid  cloud_cover_high  \\\n",
       "131494        1016.9  ...              2.0             100.0   \n",
       "131495        1015.7  ...              0.0              40.0   \n",
       "\n",
       "        et0_fao_evapotranspiration  vapour_pressure_deficit  wind_speed_10m  \\\n",
       "131494                         0.0                 0.041773        6.763786   \n",
       "131495                         0.0                 0.047036        6.439876   \n",
       "\n",
       "        wind_speed_100m  wind_direction_10m  wind_direction_100m  \\\n",
       "131494        12.429127           154.79890            190.00792   \n",
       "131495        12.605142           153.43501            181.63654   \n",
       "\n",
       "        wind_gusts_10m  sunshine_duration  \n",
       "131494           26.28              0.679  \n",
       "131495           27.00              0.679  \n",
       "\n",
       "[2 rows x 23 columns]"
      ]
     },
     "execution_count": 9,
     "metadata": {},
     "output_type": "execute_result"
    }
   ],
   "source": [
    "df.tail(2)"
   ]
  },
  {
   "cell_type": "markdown",
   "metadata": {},
   "source": [
    "## 1.1 Splitting and scaling"
   ]
  },
  {
   "cell_type": "code",
   "execution_count": 10,
   "metadata": {},
   "outputs": [],
   "source": [
    "df = df.drop_duplicates()\n",
    "df = df.dropna()\n",
    "df['date'] = pd.to_datetime(df['date'])"
   ]
  },
  {
   "cell_type": "code",
   "execution_count": 11,
   "metadata": {},
   "outputs": [
    {
     "data": {
      "text/html": [
       "<div>\n",
       "<style scoped>\n",
       "    .dataframe tbody tr th:only-of-type {\n",
       "        vertical-align: middle;\n",
       "    }\n",
       "\n",
       "    .dataframe tbody tr th {\n",
       "        vertical-align: top;\n",
       "    }\n",
       "\n",
       "    .dataframe thead th {\n",
       "        text-align: right;\n",
       "    }\n",
       "</style>\n",
       "<table border=\"1\" class=\"dataframe\">\n",
       "  <thead>\n",
       "    <tr style=\"text-align: right;\">\n",
       "      <th></th>\n",
       "      <th>date</th>\n",
       "      <th>temperature_2m</th>\n",
       "      <th>relative_humidity_2m</th>\n",
       "      <th>dew_point_2m</th>\n",
       "      <th>precipitation</th>\n",
       "      <th>rain</th>\n",
       "      <th>snowfall</th>\n",
       "      <th>snow_depth</th>\n",
       "      <th>weather_code</th>\n",
       "      <th>pressure_msl</th>\n",
       "      <th>...</th>\n",
       "      <th>cloud_cover_mid</th>\n",
       "      <th>cloud_cover_high</th>\n",
       "      <th>et0_fao_evapotranspiration</th>\n",
       "      <th>vapour_pressure_deficit</th>\n",
       "      <th>wind_speed_10m</th>\n",
       "      <th>wind_speed_100m</th>\n",
       "      <th>wind_direction_10m</th>\n",
       "      <th>wind_direction_100m</th>\n",
       "      <th>wind_gusts_10m</th>\n",
       "      <th>sunshine_duration</th>\n",
       "    </tr>\n",
       "  </thead>\n",
       "  <tbody>\n",
       "    <tr>\n",
       "      <th>0</th>\n",
       "      <td>2009-01-01 00:00:00</td>\n",
       "      <td>-10.842501</td>\n",
       "      <td>72.968170</td>\n",
       "      <td>-14.742500</td>\n",
       "      <td>0.0</td>\n",
       "      <td>0.0</td>\n",
       "      <td>0.00</td>\n",
       "      <td>0.92</td>\n",
       "      <td>3.0</td>\n",
       "      <td>1025.2</td>\n",
       "      <td>...</td>\n",
       "      <td>95.0</td>\n",
       "      <td>24.0</td>\n",
       "      <td>0.001225</td>\n",
       "      <td>0.072607</td>\n",
       "      <td>6.989935</td>\n",
       "      <td>11.275530</td>\n",
       "      <td>191.88864</td>\n",
       "      <td>196.69933</td>\n",
       "      <td>29.880000</td>\n",
       "      <td>-0.1425</td>\n",
       "    </tr>\n",
       "    <tr>\n",
       "      <th>1</th>\n",
       "      <td>2009-01-01 01:00:00</td>\n",
       "      <td>-10.642500</td>\n",
       "      <td>73.911520</td>\n",
       "      <td>-14.392500</td>\n",
       "      <td>0.0</td>\n",
       "      <td>0.0</td>\n",
       "      <td>0.00</td>\n",
       "      <td>0.92</td>\n",
       "      <td>3.0</td>\n",
       "      <td>1025.2</td>\n",
       "      <td>...</td>\n",
       "      <td>95.0</td>\n",
       "      <td>46.0</td>\n",
       "      <td>0.000000</td>\n",
       "      <td>0.071200</td>\n",
       "      <td>5.860375</td>\n",
       "      <td>8.557102</td>\n",
       "      <td>190.61960</td>\n",
       "      <td>202.24907</td>\n",
       "      <td>25.560000</td>\n",
       "      <td>-0.1425</td>\n",
       "    </tr>\n",
       "    <tr>\n",
       "      <th>2</th>\n",
       "      <td>2009-01-01 02:00:00</td>\n",
       "      <td>-10.492500</td>\n",
       "      <td>74.547844</td>\n",
       "      <td>-14.142500</td>\n",
       "      <td>0.1</td>\n",
       "      <td>0.0</td>\n",
       "      <td>0.07</td>\n",
       "      <td>0.92</td>\n",
       "      <td>71.0</td>\n",
       "      <td>1025.0</td>\n",
       "      <td>...</td>\n",
       "      <td>89.0</td>\n",
       "      <td>51.0</td>\n",
       "      <td>0.000000</td>\n",
       "      <td>0.070298</td>\n",
       "      <td>5.154416</td>\n",
       "      <td>6.696387</td>\n",
       "      <td>192.09474</td>\n",
       "      <td>216.25392</td>\n",
       "      <td>20.160000</td>\n",
       "      <td>-0.1925</td>\n",
       "    </tr>\n",
       "    <tr>\n",
       "      <th>3</th>\n",
       "      <td>2009-01-01 03:00:00</td>\n",
       "      <td>-10.442499</td>\n",
       "      <td>75.476270</td>\n",
       "      <td>-13.942499</td>\n",
       "      <td>0.1</td>\n",
       "      <td>0.0</td>\n",
       "      <td>0.07</td>\n",
       "      <td>0.92</td>\n",
       "      <td>71.0</td>\n",
       "      <td>1025.3</td>\n",
       "      <td>...</td>\n",
       "      <td>92.0</td>\n",
       "      <td>75.0</td>\n",
       "      <td>0.000000</td>\n",
       "      <td>0.068005</td>\n",
       "      <td>3.758510</td>\n",
       "      <td>4.896529</td>\n",
       "      <td>196.69933</td>\n",
       "      <td>252.89719</td>\n",
       "      <td>15.119999</td>\n",
       "      <td>-0.1925</td>\n",
       "    </tr>\n",
       "    <tr>\n",
       "      <th>4</th>\n",
       "      <td>2009-01-01 04:00:00</td>\n",
       "      <td>-10.542500</td>\n",
       "      <td>78.596596</td>\n",
       "      <td>-13.542500</td>\n",
       "      <td>0.2</td>\n",
       "      <td>0.0</td>\n",
       "      <td>0.14</td>\n",
       "      <td>0.93</td>\n",
       "      <td>71.0</td>\n",
       "      <td>1025.5</td>\n",
       "      <td>...</td>\n",
       "      <td>92.0</td>\n",
       "      <td>81.0</td>\n",
       "      <td>0.000000</td>\n",
       "      <td>0.058886</td>\n",
       "      <td>2.099143</td>\n",
       "      <td>5.860375</td>\n",
       "      <td>239.03630</td>\n",
       "      <td>317.48960</td>\n",
       "      <td>14.759999</td>\n",
       "      <td>-0.1925</td>\n",
       "    </tr>\n",
       "  </tbody>\n",
       "</table>\n",
       "<p>5 rows × 23 columns</p>\n",
       "</div>"
      ],
      "text/plain": [
       "                 date  temperature_2m  relative_humidity_2m  dew_point_2m  \\\n",
       "0 2009-01-01 00:00:00      -10.842501             72.968170    -14.742500   \n",
       "1 2009-01-01 01:00:00      -10.642500             73.911520    -14.392500   \n",
       "2 2009-01-01 02:00:00      -10.492500             74.547844    -14.142500   \n",
       "3 2009-01-01 03:00:00      -10.442499             75.476270    -13.942499   \n",
       "4 2009-01-01 04:00:00      -10.542500             78.596596    -13.542500   \n",
       "\n",
       "   precipitation  rain  snowfall  snow_depth  weather_code  pressure_msl  ...  \\\n",
       "0            0.0   0.0      0.00        0.92           3.0        1025.2  ...   \n",
       "1            0.0   0.0      0.00        0.92           3.0        1025.2  ...   \n",
       "2            0.1   0.0      0.07        0.92          71.0        1025.0  ...   \n",
       "3            0.1   0.0      0.07        0.92          71.0        1025.3  ...   \n",
       "4            0.2   0.0      0.14        0.93          71.0        1025.5  ...   \n",
       "\n",
       "   cloud_cover_mid  cloud_cover_high  et0_fao_evapotranspiration  \\\n",
       "0             95.0              24.0                    0.001225   \n",
       "1             95.0              46.0                    0.000000   \n",
       "2             89.0              51.0                    0.000000   \n",
       "3             92.0              75.0                    0.000000   \n",
       "4             92.0              81.0                    0.000000   \n",
       "\n",
       "   vapour_pressure_deficit  wind_speed_10m  wind_speed_100m  \\\n",
       "0                 0.072607        6.989935        11.275530   \n",
       "1                 0.071200        5.860375         8.557102   \n",
       "2                 0.070298        5.154416         6.696387   \n",
       "3                 0.068005        3.758510         4.896529   \n",
       "4                 0.058886        2.099143         5.860375   \n",
       "\n",
       "   wind_direction_10m  wind_direction_100m  wind_gusts_10m  sunshine_duration  \n",
       "0           191.88864            196.69933       29.880000            -0.1425  \n",
       "1           190.61960            202.24907       25.560000            -0.1425  \n",
       "2           192.09474            216.25392       20.160000            -0.1925  \n",
       "3           196.69933            252.89719       15.119999            -0.1925  \n",
       "4           239.03630            317.48960       14.759999            -0.1925  \n",
       "\n",
       "[5 rows x 23 columns]"
      ]
     },
     "execution_count": 11,
     "metadata": {},
     "output_type": "execute_result"
    }
   ],
   "source": [
    "df.head()"
   ]
  },
  {
   "cell_type": "markdown",
   "metadata": {},
   "source": [
    "def label_encode_columns(cat_data, cat_columns):\n",
    "    \"\"\"Apply LabelEncoder to specified categorical columns.\"\"\"\n",
    "    for col in cat_columns:\n",
    "        cat_data[col] = LabelEncoder().fit_transform(cat_data[col])\n",
    "    return cat_data\n",
    "\n",
    "def preprocess(data):\n",
    "    \"\"\"\n",
    "    Process the input data X by adding cylical feature, applying label encoding to categorical columns\n",
    "    and standard scaling to numerical columns.\n",
    "    Parameters:\n",
    "        X (pd.DataFrame): Input dataframe to process.\n",
    "    Returns:\n",
    "        pd.DataFrame: Processed dataframe.\n",
    "    \"\"\"\n",
    "\n",
    "    # Check if the DataFrame index is a datetime-like index\n",
    "    if not isinstance(data.index, pd.DatetimeIndex):\n",
    "        raise ValueError(\"The DataFrame index must be a datetime-like index (e.g., pd.DatetimeIndex). \"\n",
    "                        \"Ensure your DataFrame has a datetime index using data.set_index().\")\n",
    "\n",
    "    #Add cyclical features\n",
    "    data['hour_sin'] = np.sin(2 * np.pi * data.index.hour / 24)\n",
    "    data['hour_cos'] = np.cos(2 * np.pi * data.index.hour / 24)\n",
    "\n",
    "    data['day_of_week_sin'] = np.sin(2 * np.pi * data.index.dayofweek / 7)\n",
    "    data['day_of_week_cos'] = np.cos(2 * np.pi * data.index.dayofweek / 7)\n",
    "\n",
    "    data['month_sin'] = np.sin(2 * np.pi * (data.index.month - 1) / 12)\n",
    "    data['month_cos'] = np.cos(2 * np.pi * (data.index.month - 1) / 12)\n",
    "\n",
    "    # Define categorical and numerical columns\n",
    "    cat_columns = ['weather_code']\n",
    "    num_columns = data.drop(columns=cat_columns).select_dtypes(include=['float64']).columns.tolist()\n",
    "\n",
    "    # Helper function to generate column names for label-encoded columns\n",
    "    def get_label_encoded_column_names(cat_columns):\n",
    "        return [f\"{col}_encoded\" for col in cat_columns]\n",
    "\n",
    "    # Define the ColumnTransformer\n",
    "    preprocessor = ColumnTransformer(\n",
    "        transformers=[\n",
    "            # Apply FunctionTransformer to label encode categorical columns\n",
    "            ('label_encoder', FunctionTransformer(lambda data: label_encode_columns(data, cat_columns), validate=False), cat_columns),\n",
    "\n",
    "            # Apply StandardScaler to numerical columns\n",
    "            ('standard_scaler', StandardScaler(), num_columns)\n",
    "        ],\n",
    "        remainder='passthrough'  # Keeps other columns as is\n",
    "    )\n",
    "\n",
    "    # Create the pipeline\n",
    "    preprocess_pipe = make_pipeline(preprocessor)\n",
    "\n",
    "    # Process and return the transformed data\n",
    "    processed_data = preprocess_pipe.fit_transform(data)\n",
    "\n",
    "    # Convert to DataFrame to maintain column names\n",
    "    processed_columns = get_label_encoded_column_names(cat_columns) + num_columns + list(data.columns.difference(cat_columns + num_columns))\n",
    "\n",
    "    print(\"✅ Processed data, with shape\", processed_data.shape)\n",
    "\n",
    "    # print(processed_columns)\n",
    "\n",
    "    return pd.DataFrame(processed_data, columns=processed_columns)"
   ]
  },
  {
   "cell_type": "code",
   "execution_count": 12,
   "metadata": {
    "jupyter": {
     "source_hidden": true
    }
   },
   "outputs": [],
   "source": [
    "def label_encode_columns(cat_data, cat_columns):\n",
    "    \"\"\"Apply LabelEncoder to specified categorical columns.\"\"\"\n",
    "    for col in cat_columns:\n",
    "        cat_data[col] = LabelEncoder().fit_transform(cat_data[col])\n",
    "    return cat_data"
   ]
  },
  {
   "cell_type": "code",
   "execution_count": 13,
   "metadata": {
    "jupyter": {
     "source_hidden": true
    }
   },
   "outputs": [],
   "source": [
    "def preprocess_training(data):\n",
    "    \"\"\"\n",
    "    Process the input data X by adding cylical feature, applying label encoding to categorical columns\n",
    "    and standard scaling to numerical columns.\n",
    "    Parameters:\n",
    "        X (pd.DataFrame): Input dataframe to process.\n",
    "    Returns:\n",
    "        pd.DataFrame: Processed dataframe.\n",
    "    \"\"\"\n",
    "\n",
    "    # Check if the DataFrame index is a datetime-like index\n",
    "    if not isinstance(data.index, pd.DatetimeIndex):\n",
    "        raise ValueError(\"The DataFrame index must be a datetime-like index (e.g., pd.DatetimeIndex). \"\n",
    "                        \"Ensure your DataFrame has a datetime index using data.set_index().\")\n",
    "\n",
    "    #Add cyclical features\n",
    "    data['hour_sin'] = np.sin(2 * np.pi * data.index.hour / 24)\n",
    "    data['hour_cos'] = np.cos(2 * np.pi * data.index.hour / 24)\n",
    "\n",
    "    data['day_of_week_sin'] = np.sin(2 * np.pi * data.index.dayofweek / 7)\n",
    "    data['day_of_week_cos'] = np.cos(2 * np.pi * data.index.dayofweek / 7)\n",
    "\n",
    "    data['month_sin'] = np.sin(2 * np.pi * (data.index.month - 1) / 12)\n",
    "    data['month_cos'] = np.cos(2 * np.pi * (data.index.month - 1) / 12)\n",
    "\n",
    "    # Define categorical and numerical columns\n",
    "    cat_columns = ['weather_code']\n",
    "    num_columns = data.drop(columns=cat_columns).select_dtypes(include=['float64']).columns.tolist()\n",
    "\n",
    "    # Helper function to generate column names for label-encoded columns\n",
    "    def get_label_encoded_column_names(cat_columns):\n",
    "        return [f\"{col}_encoded\" for col in cat_columns]\n",
    "\n",
    "    # Define the ColumnTransformer\n",
    "    preprocessor = ColumnTransformer(\n",
    "        transformers=[\n",
    "            # Apply FunctionTransformer to label encode categorical columns\n",
    "            ('label_encoder', FunctionTransformer(lambda data: label_encode_columns(data, cat_columns), validate=False), cat_columns),\n",
    "\n",
    "            # Apply StandardScaler to numerical columns\n",
    "            ('standard_scaler', StandardScaler(), num_columns)\n",
    "        ],\n",
    "        remainder='passthrough'  # Keeps other columns as is\n",
    "    )\n",
    "\n",
    "    # Create the pipeline\n",
    "    preprocess_pipe = make_pipeline(preprocessor)\n",
    "\n",
    "    # Process and return the transformed data\n",
    "    processed_data = preprocess_pipe.fit_transform(data)\n",
    "\n",
    "    # Convert to DataFrame to maintain column names\n",
    "    processed_columns = get_label_encoded_column_names(cat_columns) + num_columns + list(data.columns.difference(cat_columns + num_columns))\n",
    "\n",
    "    print(\":white_check_mark: Processed data, with shape\", processed_data.shape)\n",
    "    print(processed_columns)\n",
    "\n",
    "    # print(processed_columns)\n",
    "\n",
    "    return preprocess_pipe, pd.DataFrame(processed_data, columns=processed_columns)"
   ]
  },
  {
   "cell_type": "code",
   "execution_count": 14,
   "metadata": {},
   "outputs": [],
   "source": [
    "X = df.drop(columns = 'temperature_2m')\n",
    "X['date'] = pd.to_datetime(X['date'])\n",
    "X.set_index('date', inplace=True)\n",
    "y = df.temperature_2m"
   ]
  },
  {
   "cell_type": "code",
   "execution_count": 15,
   "metadata": {},
   "outputs": [
    {
     "name": "stdout",
     "output_type": "stream",
     "text": [
      ":white_check_mark: Processed data, with shape (131496, 27)\n",
      "['weather_code_encoded', 'relative_humidity_2m', 'dew_point_2m', 'precipitation', 'rain', 'snowfall', 'snow_depth', 'pressure_msl', 'surface_pressure', 'cloud_cover', 'cloud_cover_low', 'cloud_cover_mid', 'cloud_cover_high', 'et0_fao_evapotranspiration', 'vapour_pressure_deficit', 'wind_speed_10m', 'wind_speed_100m', 'wind_direction_10m', 'wind_direction_100m', 'wind_gusts_10m', 'sunshine_duration', 'hour_sin', 'hour_cos', 'day_of_week_sin', 'day_of_week_cos', 'month_sin', 'month_cos']\n"
     ]
    }
   ],
   "source": [
    "preprocessor, X_processed = preprocess_training(X)"
   ]
  },
  {
   "cell_type": "code",
   "execution_count": 16,
   "metadata": {},
   "outputs": [
    {
     "data": {
      "text/html": [
       "<style>#sk-container-id-1 {\n",
       "  /* Definition of color scheme common for light and dark mode */\n",
       "  --sklearn-color-text: black;\n",
       "  --sklearn-color-line: gray;\n",
       "  /* Definition of color scheme for unfitted estimators */\n",
       "  --sklearn-color-unfitted-level-0: #fff5e6;\n",
       "  --sklearn-color-unfitted-level-1: #f6e4d2;\n",
       "  --sklearn-color-unfitted-level-2: #ffe0b3;\n",
       "  --sklearn-color-unfitted-level-3: chocolate;\n",
       "  /* Definition of color scheme for fitted estimators */\n",
       "  --sklearn-color-fitted-level-0: #f0f8ff;\n",
       "  --sklearn-color-fitted-level-1: #d4ebff;\n",
       "  --sklearn-color-fitted-level-2: #b3dbfd;\n",
       "  --sklearn-color-fitted-level-3: cornflowerblue;\n",
       "\n",
       "  /* Specific color for light theme */\n",
       "  --sklearn-color-text-on-default-background: var(--sg-text-color, var(--theme-code-foreground, var(--jp-content-font-color1, black)));\n",
       "  --sklearn-color-background: var(--sg-background-color, var(--theme-background, var(--jp-layout-color0, white)));\n",
       "  --sklearn-color-border-box: var(--sg-text-color, var(--theme-code-foreground, var(--jp-content-font-color1, black)));\n",
       "  --sklearn-color-icon: #696969;\n",
       "\n",
       "  @media (prefers-color-scheme: dark) {\n",
       "    /* Redefinition of color scheme for dark theme */\n",
       "    --sklearn-color-text-on-default-background: var(--sg-text-color, var(--theme-code-foreground, var(--jp-content-font-color1, white)));\n",
       "    --sklearn-color-background: var(--sg-background-color, var(--theme-background, var(--jp-layout-color0, #111)));\n",
       "    --sklearn-color-border-box: var(--sg-text-color, var(--theme-code-foreground, var(--jp-content-font-color1, white)));\n",
       "    --sklearn-color-icon: #878787;\n",
       "  }\n",
       "}\n",
       "\n",
       "#sk-container-id-1 {\n",
       "  color: var(--sklearn-color-text);\n",
       "}\n",
       "\n",
       "#sk-container-id-1 pre {\n",
       "  padding: 0;\n",
       "}\n",
       "\n",
       "#sk-container-id-1 input.sk-hidden--visually {\n",
       "  border: 0;\n",
       "  clip: rect(1px 1px 1px 1px);\n",
       "  clip: rect(1px, 1px, 1px, 1px);\n",
       "  height: 1px;\n",
       "  margin: -1px;\n",
       "  overflow: hidden;\n",
       "  padding: 0;\n",
       "  position: absolute;\n",
       "  width: 1px;\n",
       "}\n",
       "\n",
       "#sk-container-id-1 div.sk-dashed-wrapped {\n",
       "  border: 1px dashed var(--sklearn-color-line);\n",
       "  margin: 0 0.4em 0.5em 0.4em;\n",
       "  box-sizing: border-box;\n",
       "  padding-bottom: 0.4em;\n",
       "  background-color: var(--sklearn-color-background);\n",
       "}\n",
       "\n",
       "#sk-container-id-1 div.sk-container {\n",
       "  /* jupyter's `normalize.less` sets `[hidden] { display: none; }`\n",
       "     but bootstrap.min.css set `[hidden] { display: none !important; }`\n",
       "     so we also need the `!important` here to be able to override the\n",
       "     default hidden behavior on the sphinx rendered scikit-learn.org.\n",
       "     See: https://github.com/scikit-learn/scikit-learn/issues/21755 */\n",
       "  display: inline-block !important;\n",
       "  position: relative;\n",
       "}\n",
       "\n",
       "#sk-container-id-1 div.sk-text-repr-fallback {\n",
       "  display: none;\n",
       "}\n",
       "\n",
       "div.sk-parallel-item,\n",
       "div.sk-serial,\n",
       "div.sk-item {\n",
       "  /* draw centered vertical line to link estimators */\n",
       "  background-image: linear-gradient(var(--sklearn-color-text-on-default-background), var(--sklearn-color-text-on-default-background));\n",
       "  background-size: 2px 100%;\n",
       "  background-repeat: no-repeat;\n",
       "  background-position: center center;\n",
       "}\n",
       "\n",
       "/* Parallel-specific style estimator block */\n",
       "\n",
       "#sk-container-id-1 div.sk-parallel-item::after {\n",
       "  content: \"\";\n",
       "  width: 100%;\n",
       "  border-bottom: 2px solid var(--sklearn-color-text-on-default-background);\n",
       "  flex-grow: 1;\n",
       "}\n",
       "\n",
       "#sk-container-id-1 div.sk-parallel {\n",
       "  display: flex;\n",
       "  align-items: stretch;\n",
       "  justify-content: center;\n",
       "  background-color: var(--sklearn-color-background);\n",
       "  position: relative;\n",
       "}\n",
       "\n",
       "#sk-container-id-1 div.sk-parallel-item {\n",
       "  display: flex;\n",
       "  flex-direction: column;\n",
       "}\n",
       "\n",
       "#sk-container-id-1 div.sk-parallel-item:first-child::after {\n",
       "  align-self: flex-end;\n",
       "  width: 50%;\n",
       "}\n",
       "\n",
       "#sk-container-id-1 div.sk-parallel-item:last-child::after {\n",
       "  align-self: flex-start;\n",
       "  width: 50%;\n",
       "}\n",
       "\n",
       "#sk-container-id-1 div.sk-parallel-item:only-child::after {\n",
       "  width: 0;\n",
       "}\n",
       "\n",
       "/* Serial-specific style estimator block */\n",
       "\n",
       "#sk-container-id-1 div.sk-serial {\n",
       "  display: flex;\n",
       "  flex-direction: column;\n",
       "  align-items: center;\n",
       "  background-color: var(--sklearn-color-background);\n",
       "  padding-right: 1em;\n",
       "  padding-left: 1em;\n",
       "}\n",
       "\n",
       "\n",
       "/* Toggleable style: style used for estimator/Pipeline/ColumnTransformer box that is\n",
       "clickable and can be expanded/collapsed.\n",
       "- Pipeline and ColumnTransformer use this feature and define the default style\n",
       "- Estimators will overwrite some part of the style using the `sk-estimator` class\n",
       "*/\n",
       "\n",
       "/* Pipeline and ColumnTransformer style (default) */\n",
       "\n",
       "#sk-container-id-1 div.sk-toggleable {\n",
       "  /* Default theme specific background. It is overwritten whether we have a\n",
       "  specific estimator or a Pipeline/ColumnTransformer */\n",
       "  background-color: var(--sklearn-color-background);\n",
       "}\n",
       "\n",
       "/* Toggleable label */\n",
       "#sk-container-id-1 label.sk-toggleable__label {\n",
       "  cursor: pointer;\n",
       "  display: block;\n",
       "  width: 100%;\n",
       "  margin-bottom: 0;\n",
       "  padding: 0.5em;\n",
       "  box-sizing: border-box;\n",
       "  text-align: center;\n",
       "}\n",
       "\n",
       "#sk-container-id-1 label.sk-toggleable__label-arrow:before {\n",
       "  /* Arrow on the left of the label */\n",
       "  content: \"▸\";\n",
       "  float: left;\n",
       "  margin-right: 0.25em;\n",
       "  color: var(--sklearn-color-icon);\n",
       "}\n",
       "\n",
       "#sk-container-id-1 label.sk-toggleable__label-arrow:hover:before {\n",
       "  color: var(--sklearn-color-text);\n",
       "}\n",
       "\n",
       "/* Toggleable content - dropdown */\n",
       "\n",
       "#sk-container-id-1 div.sk-toggleable__content {\n",
       "  max-height: 0;\n",
       "  max-width: 0;\n",
       "  overflow: hidden;\n",
       "  text-align: left;\n",
       "  /* unfitted */\n",
       "  background-color: var(--sklearn-color-unfitted-level-0);\n",
       "}\n",
       "\n",
       "#sk-container-id-1 div.sk-toggleable__content.fitted {\n",
       "  /* fitted */\n",
       "  background-color: var(--sklearn-color-fitted-level-0);\n",
       "}\n",
       "\n",
       "#sk-container-id-1 div.sk-toggleable__content pre {\n",
       "  margin: 0.2em;\n",
       "  border-radius: 0.25em;\n",
       "  color: var(--sklearn-color-text);\n",
       "  /* unfitted */\n",
       "  background-color: var(--sklearn-color-unfitted-level-0);\n",
       "}\n",
       "\n",
       "#sk-container-id-1 div.sk-toggleable__content.fitted pre {\n",
       "  /* unfitted */\n",
       "  background-color: var(--sklearn-color-fitted-level-0);\n",
       "}\n",
       "\n",
       "#sk-container-id-1 input.sk-toggleable__control:checked~div.sk-toggleable__content {\n",
       "  /* Expand drop-down */\n",
       "  max-height: 200px;\n",
       "  max-width: 100%;\n",
       "  overflow: auto;\n",
       "}\n",
       "\n",
       "#sk-container-id-1 input.sk-toggleable__control:checked~label.sk-toggleable__label-arrow:before {\n",
       "  content: \"▾\";\n",
       "}\n",
       "\n",
       "/* Pipeline/ColumnTransformer-specific style */\n",
       "\n",
       "#sk-container-id-1 div.sk-label input.sk-toggleable__control:checked~label.sk-toggleable__label {\n",
       "  color: var(--sklearn-color-text);\n",
       "  background-color: var(--sklearn-color-unfitted-level-2);\n",
       "}\n",
       "\n",
       "#sk-container-id-1 div.sk-label.fitted input.sk-toggleable__control:checked~label.sk-toggleable__label {\n",
       "  background-color: var(--sklearn-color-fitted-level-2);\n",
       "}\n",
       "\n",
       "/* Estimator-specific style */\n",
       "\n",
       "/* Colorize estimator box */\n",
       "#sk-container-id-1 div.sk-estimator input.sk-toggleable__control:checked~label.sk-toggleable__label {\n",
       "  /* unfitted */\n",
       "  background-color: var(--sklearn-color-unfitted-level-2);\n",
       "}\n",
       "\n",
       "#sk-container-id-1 div.sk-estimator.fitted input.sk-toggleable__control:checked~label.sk-toggleable__label {\n",
       "  /* fitted */\n",
       "  background-color: var(--sklearn-color-fitted-level-2);\n",
       "}\n",
       "\n",
       "#sk-container-id-1 div.sk-label label.sk-toggleable__label,\n",
       "#sk-container-id-1 div.sk-label label {\n",
       "  /* The background is the default theme color */\n",
       "  color: var(--sklearn-color-text-on-default-background);\n",
       "}\n",
       "\n",
       "/* On hover, darken the color of the background */\n",
       "#sk-container-id-1 div.sk-label:hover label.sk-toggleable__label {\n",
       "  color: var(--sklearn-color-text);\n",
       "  background-color: var(--sklearn-color-unfitted-level-2);\n",
       "}\n",
       "\n",
       "/* Label box, darken color on hover, fitted */\n",
       "#sk-container-id-1 div.sk-label.fitted:hover label.sk-toggleable__label.fitted {\n",
       "  color: var(--sklearn-color-text);\n",
       "  background-color: var(--sklearn-color-fitted-level-2);\n",
       "}\n",
       "\n",
       "/* Estimator label */\n",
       "\n",
       "#sk-container-id-1 div.sk-label label {\n",
       "  font-family: monospace;\n",
       "  font-weight: bold;\n",
       "  display: inline-block;\n",
       "  line-height: 1.2em;\n",
       "}\n",
       "\n",
       "#sk-container-id-1 div.sk-label-container {\n",
       "  text-align: center;\n",
       "}\n",
       "\n",
       "/* Estimator-specific */\n",
       "#sk-container-id-1 div.sk-estimator {\n",
       "  font-family: monospace;\n",
       "  border: 1px dotted var(--sklearn-color-border-box);\n",
       "  border-radius: 0.25em;\n",
       "  box-sizing: border-box;\n",
       "  margin-bottom: 0.5em;\n",
       "  /* unfitted */\n",
       "  background-color: var(--sklearn-color-unfitted-level-0);\n",
       "}\n",
       "\n",
       "#sk-container-id-1 div.sk-estimator.fitted {\n",
       "  /* fitted */\n",
       "  background-color: var(--sklearn-color-fitted-level-0);\n",
       "}\n",
       "\n",
       "/* on hover */\n",
       "#sk-container-id-1 div.sk-estimator:hover {\n",
       "  /* unfitted */\n",
       "  background-color: var(--sklearn-color-unfitted-level-2);\n",
       "}\n",
       "\n",
       "#sk-container-id-1 div.sk-estimator.fitted:hover {\n",
       "  /* fitted */\n",
       "  background-color: var(--sklearn-color-fitted-level-2);\n",
       "}\n",
       "\n",
       "/* Specification for estimator info (e.g. \"i\" and \"?\") */\n",
       "\n",
       "/* Common style for \"i\" and \"?\" */\n",
       "\n",
       ".sk-estimator-doc-link,\n",
       "a:link.sk-estimator-doc-link,\n",
       "a:visited.sk-estimator-doc-link {\n",
       "  float: right;\n",
       "  font-size: smaller;\n",
       "  line-height: 1em;\n",
       "  font-family: monospace;\n",
       "  background-color: var(--sklearn-color-background);\n",
       "  border-radius: 1em;\n",
       "  height: 1em;\n",
       "  width: 1em;\n",
       "  text-decoration: none !important;\n",
       "  margin-left: 1ex;\n",
       "  /* unfitted */\n",
       "  border: var(--sklearn-color-unfitted-level-1) 1pt solid;\n",
       "  color: var(--sklearn-color-unfitted-level-1);\n",
       "}\n",
       "\n",
       ".sk-estimator-doc-link.fitted,\n",
       "a:link.sk-estimator-doc-link.fitted,\n",
       "a:visited.sk-estimator-doc-link.fitted {\n",
       "  /* fitted */\n",
       "  border: var(--sklearn-color-fitted-level-1) 1pt solid;\n",
       "  color: var(--sklearn-color-fitted-level-1);\n",
       "}\n",
       "\n",
       "/* On hover */\n",
       "div.sk-estimator:hover .sk-estimator-doc-link:hover,\n",
       ".sk-estimator-doc-link:hover,\n",
       "div.sk-label-container:hover .sk-estimator-doc-link:hover,\n",
       ".sk-estimator-doc-link:hover {\n",
       "  /* unfitted */\n",
       "  background-color: var(--sklearn-color-unfitted-level-3);\n",
       "  color: var(--sklearn-color-background);\n",
       "  text-decoration: none;\n",
       "}\n",
       "\n",
       "div.sk-estimator.fitted:hover .sk-estimator-doc-link.fitted:hover,\n",
       ".sk-estimator-doc-link.fitted:hover,\n",
       "div.sk-label-container:hover .sk-estimator-doc-link.fitted:hover,\n",
       ".sk-estimator-doc-link.fitted:hover {\n",
       "  /* fitted */\n",
       "  background-color: var(--sklearn-color-fitted-level-3);\n",
       "  color: var(--sklearn-color-background);\n",
       "  text-decoration: none;\n",
       "}\n",
       "\n",
       "/* Span, style for the box shown on hovering the info icon */\n",
       ".sk-estimator-doc-link span {\n",
       "  display: none;\n",
       "  z-index: 9999;\n",
       "  position: relative;\n",
       "  font-weight: normal;\n",
       "  right: .2ex;\n",
       "  padding: .5ex;\n",
       "  margin: .5ex;\n",
       "  width: min-content;\n",
       "  min-width: 20ex;\n",
       "  max-width: 50ex;\n",
       "  color: var(--sklearn-color-text);\n",
       "  box-shadow: 2pt 2pt 4pt #999;\n",
       "  /* unfitted */\n",
       "  background: var(--sklearn-color-unfitted-level-0);\n",
       "  border: .5pt solid var(--sklearn-color-unfitted-level-3);\n",
       "}\n",
       "\n",
       ".sk-estimator-doc-link.fitted span {\n",
       "  /* fitted */\n",
       "  background: var(--sklearn-color-fitted-level-0);\n",
       "  border: var(--sklearn-color-fitted-level-3);\n",
       "}\n",
       "\n",
       ".sk-estimator-doc-link:hover span {\n",
       "  display: block;\n",
       "}\n",
       "\n",
       "/* \"?\"-specific style due to the `<a>` HTML tag */\n",
       "\n",
       "#sk-container-id-1 a.estimator_doc_link {\n",
       "  float: right;\n",
       "  font-size: 1rem;\n",
       "  line-height: 1em;\n",
       "  font-family: monospace;\n",
       "  background-color: var(--sklearn-color-background);\n",
       "  border-radius: 1rem;\n",
       "  height: 1rem;\n",
       "  width: 1rem;\n",
       "  text-decoration: none;\n",
       "  /* unfitted */\n",
       "  color: var(--sklearn-color-unfitted-level-1);\n",
       "  border: var(--sklearn-color-unfitted-level-1) 1pt solid;\n",
       "}\n",
       "\n",
       "#sk-container-id-1 a.estimator_doc_link.fitted {\n",
       "  /* fitted */\n",
       "  border: var(--sklearn-color-fitted-level-1) 1pt solid;\n",
       "  color: var(--sklearn-color-fitted-level-1);\n",
       "}\n",
       "\n",
       "/* On hover */\n",
       "#sk-container-id-1 a.estimator_doc_link:hover {\n",
       "  /* unfitted */\n",
       "  background-color: var(--sklearn-color-unfitted-level-3);\n",
       "  color: var(--sklearn-color-background);\n",
       "  text-decoration: none;\n",
       "}\n",
       "\n",
       "#sk-container-id-1 a.estimator_doc_link.fitted:hover {\n",
       "  /* fitted */\n",
       "  background-color: var(--sklearn-color-fitted-level-3);\n",
       "}\n",
       "</style><div id=\"sk-container-id-1\" class=\"sk-top-container\"><div class=\"sk-text-repr-fallback\"><pre>Pipeline(steps=[(&#x27;columntransformer&#x27;,\n",
       "                 ColumnTransformer(remainder=&#x27;passthrough&#x27;,\n",
       "                                   transformers=[(&#x27;label_encoder&#x27;,\n",
       "                                                  FunctionTransformer(func=&lt;function preprocess_training.&lt;locals&gt;.&lt;lambda&gt; at 0x17a9ef640&gt;),\n",
       "                                                  [&#x27;weather_code&#x27;]),\n",
       "                                                 (&#x27;standard_scaler&#x27;,\n",
       "                                                  StandardScaler(),\n",
       "                                                  [&#x27;relative_humidity_2m&#x27;,\n",
       "                                                   &#x27;dew_point_2m&#x27;,\n",
       "                                                   &#x27;precipitation&#x27;, &#x27;rain&#x27;,\n",
       "                                                   &#x27;snowfall&#x27;, &#x27;snow_depth&#x27;,\n",
       "                                                   &#x27;pressure_msl&#x27;,\n",
       "                                                   &#x27;surface_pressure&#x27;,\n",
       "                                                   &#x27;cloud_cover&#x27;,\n",
       "                                                   &#x27;cloud_cover_low&#x27;,\n",
       "                                                   &#x27;cloud_cover_mid&#x27;,\n",
       "                                                   &#x27;cloud_cover_high&#x27;,\n",
       "                                                   &#x27;et0_fao_evapotranspiration&#x27;,\n",
       "                                                   &#x27;vapour_pressure_deficit&#x27;,\n",
       "                                                   &#x27;wind_speed_10m&#x27;,\n",
       "                                                   &#x27;wind_speed_100m&#x27;,\n",
       "                                                   &#x27;wind_direction_10m&#x27;,\n",
       "                                                   &#x27;wind_direction_100m&#x27;,\n",
       "                                                   &#x27;wind_gusts_10m&#x27;,\n",
       "                                                   &#x27;sunshine_duration&#x27;,\n",
       "                                                   &#x27;hour_sin&#x27;, &#x27;hour_cos&#x27;,\n",
       "                                                   &#x27;day_of_week_sin&#x27;,\n",
       "                                                   &#x27;day_of_week_cos&#x27;,\n",
       "                                                   &#x27;month_sin&#x27;,\n",
       "                                                   &#x27;month_cos&#x27;])]))])</pre><b>In a Jupyter environment, please rerun this cell to show the HTML representation or trust the notebook. <br />On GitHub, the HTML representation is unable to render, please try loading this page with nbviewer.org.</b></div><div class=\"sk-container\" hidden><div class=\"sk-item sk-dashed-wrapped\"><div class=\"sk-label-container\"><div class=\"sk-label fitted sk-toggleable\"><input class=\"sk-toggleable__control sk-hidden--visually\" id=\"sk-estimator-id-1\" type=\"checkbox\" ><label for=\"sk-estimator-id-1\" class=\"sk-toggleable__label fitted sk-toggleable__label-arrow fitted\">&nbsp;&nbsp;Pipeline<a class=\"sk-estimator-doc-link fitted\" rel=\"noreferrer\" target=\"_blank\" href=\"https://scikit-learn.org/1.5/modules/generated/sklearn.pipeline.Pipeline.html\">?<span>Documentation for Pipeline</span></a><span class=\"sk-estimator-doc-link fitted\">i<span>Fitted</span></span></label><div class=\"sk-toggleable__content fitted\"><pre>Pipeline(steps=[(&#x27;columntransformer&#x27;,\n",
       "                 ColumnTransformer(remainder=&#x27;passthrough&#x27;,\n",
       "                                   transformers=[(&#x27;label_encoder&#x27;,\n",
       "                                                  FunctionTransformer(func=&lt;function preprocess_training.&lt;locals&gt;.&lt;lambda&gt; at 0x17a9ef640&gt;),\n",
       "                                                  [&#x27;weather_code&#x27;]),\n",
       "                                                 (&#x27;standard_scaler&#x27;,\n",
       "                                                  StandardScaler(),\n",
       "                                                  [&#x27;relative_humidity_2m&#x27;,\n",
       "                                                   &#x27;dew_point_2m&#x27;,\n",
       "                                                   &#x27;precipitation&#x27;, &#x27;rain&#x27;,\n",
       "                                                   &#x27;snowfall&#x27;, &#x27;snow_depth&#x27;,\n",
       "                                                   &#x27;pressure_msl&#x27;,\n",
       "                                                   &#x27;surface_pressure&#x27;,\n",
       "                                                   &#x27;cloud_cover&#x27;,\n",
       "                                                   &#x27;cloud_cover_low&#x27;,\n",
       "                                                   &#x27;cloud_cover_mid&#x27;,\n",
       "                                                   &#x27;cloud_cover_high&#x27;,\n",
       "                                                   &#x27;et0_fao_evapotranspiration&#x27;,\n",
       "                                                   &#x27;vapour_pressure_deficit&#x27;,\n",
       "                                                   &#x27;wind_speed_10m&#x27;,\n",
       "                                                   &#x27;wind_speed_100m&#x27;,\n",
       "                                                   &#x27;wind_direction_10m&#x27;,\n",
       "                                                   &#x27;wind_direction_100m&#x27;,\n",
       "                                                   &#x27;wind_gusts_10m&#x27;,\n",
       "                                                   &#x27;sunshine_duration&#x27;,\n",
       "                                                   &#x27;hour_sin&#x27;, &#x27;hour_cos&#x27;,\n",
       "                                                   &#x27;day_of_week_sin&#x27;,\n",
       "                                                   &#x27;day_of_week_cos&#x27;,\n",
       "                                                   &#x27;month_sin&#x27;,\n",
       "                                                   &#x27;month_cos&#x27;])]))])</pre></div> </div></div><div class=\"sk-serial\"><div class=\"sk-item sk-dashed-wrapped\"><div class=\"sk-label-container\"><div class=\"sk-label fitted sk-toggleable\"><input class=\"sk-toggleable__control sk-hidden--visually\" id=\"sk-estimator-id-2\" type=\"checkbox\" ><label for=\"sk-estimator-id-2\" class=\"sk-toggleable__label fitted sk-toggleable__label-arrow fitted\">&nbsp;columntransformer: ColumnTransformer<a class=\"sk-estimator-doc-link fitted\" rel=\"noreferrer\" target=\"_blank\" href=\"https://scikit-learn.org/1.5/modules/generated/sklearn.compose.ColumnTransformer.html\">?<span>Documentation for columntransformer: ColumnTransformer</span></a></label><div class=\"sk-toggleable__content fitted\"><pre>ColumnTransformer(remainder=&#x27;passthrough&#x27;,\n",
       "                  transformers=[(&#x27;label_encoder&#x27;,\n",
       "                                 FunctionTransformer(func=&lt;function preprocess_training.&lt;locals&gt;.&lt;lambda&gt; at 0x17a9ef640&gt;),\n",
       "                                 [&#x27;weather_code&#x27;]),\n",
       "                                (&#x27;standard_scaler&#x27;, StandardScaler(),\n",
       "                                 [&#x27;relative_humidity_2m&#x27;, &#x27;dew_point_2m&#x27;,\n",
       "                                  &#x27;precipitation&#x27;, &#x27;rain&#x27;, &#x27;snowfall&#x27;,\n",
       "                                  &#x27;snow_depth&#x27;, &#x27;pressure_msl&#x27;,\n",
       "                                  &#x27;surface_pressure&#x27;, &#x27;cloud_cover&#x27;,\n",
       "                                  &#x27;cloud_cover_low&#x27;, &#x27;cloud_cover_mid&#x27;,\n",
       "                                  &#x27;cloud_cover_high&#x27;,\n",
       "                                  &#x27;et0_fao_evapotranspiration&#x27;,\n",
       "                                  &#x27;vapour_pressure_deficit&#x27;, &#x27;wind_speed_10m&#x27;,\n",
       "                                  &#x27;wind_speed_100m&#x27;, &#x27;wind_direction_10m&#x27;,\n",
       "                                  &#x27;wind_direction_100m&#x27;, &#x27;wind_gusts_10m&#x27;,\n",
       "                                  &#x27;sunshine_duration&#x27;, &#x27;hour_sin&#x27;, &#x27;hour_cos&#x27;,\n",
       "                                  &#x27;day_of_week_sin&#x27;, &#x27;day_of_week_cos&#x27;,\n",
       "                                  &#x27;month_sin&#x27;, &#x27;month_cos&#x27;])])</pre></div> </div></div><div class=\"sk-parallel\"><div class=\"sk-parallel-item\"><div class=\"sk-item\"><div class=\"sk-label-container\"><div class=\"sk-label fitted sk-toggleable\"><input class=\"sk-toggleable__control sk-hidden--visually\" id=\"sk-estimator-id-3\" type=\"checkbox\" ><label for=\"sk-estimator-id-3\" class=\"sk-toggleable__label fitted sk-toggleable__label-arrow fitted\">label_encoder</label><div class=\"sk-toggleable__content fitted\"><pre>[&#x27;weather_code&#x27;]</pre></div> </div></div><div class=\"sk-serial\"><div class=\"sk-item\"><div class=\"sk-estimator fitted sk-toggleable\"><input class=\"sk-toggleable__control sk-hidden--visually\" id=\"sk-estimator-id-4\" type=\"checkbox\" ><label for=\"sk-estimator-id-4\" class=\"sk-toggleable__label fitted sk-toggleable__label-arrow fitted\">&nbsp;FunctionTransformer<a class=\"sk-estimator-doc-link fitted\" rel=\"noreferrer\" target=\"_blank\" href=\"https://scikit-learn.org/1.5/modules/generated/sklearn.preprocessing.FunctionTransformer.html\">?<span>Documentation for FunctionTransformer</span></a></label><div class=\"sk-toggleable__content fitted\"><pre>FunctionTransformer(func=&lt;function preprocess_training.&lt;locals&gt;.&lt;lambda&gt; at 0x17a9ef640&gt;)</pre></div> </div></div></div></div></div><div class=\"sk-parallel-item\"><div class=\"sk-item\"><div class=\"sk-label-container\"><div class=\"sk-label fitted sk-toggleable\"><input class=\"sk-toggleable__control sk-hidden--visually\" id=\"sk-estimator-id-5\" type=\"checkbox\" ><label for=\"sk-estimator-id-5\" class=\"sk-toggleable__label fitted sk-toggleable__label-arrow fitted\">standard_scaler</label><div class=\"sk-toggleable__content fitted\"><pre>[&#x27;relative_humidity_2m&#x27;, &#x27;dew_point_2m&#x27;, &#x27;precipitation&#x27;, &#x27;rain&#x27;, &#x27;snowfall&#x27;, &#x27;snow_depth&#x27;, &#x27;pressure_msl&#x27;, &#x27;surface_pressure&#x27;, &#x27;cloud_cover&#x27;, &#x27;cloud_cover_low&#x27;, &#x27;cloud_cover_mid&#x27;, &#x27;cloud_cover_high&#x27;, &#x27;et0_fao_evapotranspiration&#x27;, &#x27;vapour_pressure_deficit&#x27;, &#x27;wind_speed_10m&#x27;, &#x27;wind_speed_100m&#x27;, &#x27;wind_direction_10m&#x27;, &#x27;wind_direction_100m&#x27;, &#x27;wind_gusts_10m&#x27;, &#x27;sunshine_duration&#x27;, &#x27;hour_sin&#x27;, &#x27;hour_cos&#x27;, &#x27;day_of_week_sin&#x27;, &#x27;day_of_week_cos&#x27;, &#x27;month_sin&#x27;, &#x27;month_cos&#x27;]</pre></div> </div></div><div class=\"sk-serial\"><div class=\"sk-item\"><div class=\"sk-estimator fitted sk-toggleable\"><input class=\"sk-toggleable__control sk-hidden--visually\" id=\"sk-estimator-id-6\" type=\"checkbox\" ><label for=\"sk-estimator-id-6\" class=\"sk-toggleable__label fitted sk-toggleable__label-arrow fitted\">&nbsp;StandardScaler<a class=\"sk-estimator-doc-link fitted\" rel=\"noreferrer\" target=\"_blank\" href=\"https://scikit-learn.org/1.5/modules/generated/sklearn.preprocessing.StandardScaler.html\">?<span>Documentation for StandardScaler</span></a></label><div class=\"sk-toggleable__content fitted\"><pre>StandardScaler()</pre></div> </div></div></div></div></div><div class=\"sk-parallel-item\"><div class=\"sk-item\"><div class=\"sk-label-container\"><div class=\"sk-label fitted sk-toggleable\"><input class=\"sk-toggleable__control sk-hidden--visually\" id=\"sk-estimator-id-7\" type=\"checkbox\" ><label for=\"sk-estimator-id-7\" class=\"sk-toggleable__label fitted sk-toggleable__label-arrow fitted\">remainder</label><div class=\"sk-toggleable__content fitted\"><pre>[]</pre></div> </div></div><div class=\"sk-serial\"><div class=\"sk-item\"><div class=\"sk-estimator fitted sk-toggleable\"><input class=\"sk-toggleable__control sk-hidden--visually\" id=\"sk-estimator-id-8\" type=\"checkbox\" ><label for=\"sk-estimator-id-8\" class=\"sk-toggleable__label fitted sk-toggleable__label-arrow fitted\">passthrough</label><div class=\"sk-toggleable__content fitted\"><pre>passthrough</pre></div> </div></div></div></div></div></div></div></div></div></div></div>"
      ],
      "text/plain": [
       "Pipeline(steps=[('columntransformer',\n",
       "                 ColumnTransformer(remainder='passthrough',\n",
       "                                   transformers=[('label_encoder',\n",
       "                                                  FunctionTransformer(func=<function preprocess_training.<locals>.<lambda> at 0x17a9ef640>),\n",
       "                                                  ['weather_code']),\n",
       "                                                 ('standard_scaler',\n",
       "                                                  StandardScaler(),\n",
       "                                                  ['relative_humidity_2m',\n",
       "                                                   'dew_point_2m',\n",
       "                                                   'precipitation', 'rain',\n",
       "                                                   'snowfall', 'snow_depth',\n",
       "                                                   'pressure_msl',\n",
       "                                                   'surface_pressure',\n",
       "                                                   'cloud_cover',\n",
       "                                                   'cloud_cover_low',\n",
       "                                                   'cloud_cover_mid',\n",
       "                                                   'cloud_cover_high',\n",
       "                                                   'et0_fao_evapotranspiration',\n",
       "                                                   'vapour_pressure_deficit',\n",
       "                                                   'wind_speed_10m',\n",
       "                                                   'wind_speed_100m',\n",
       "                                                   'wind_direction_10m',\n",
       "                                                   'wind_direction_100m',\n",
       "                                                   'wind_gusts_10m',\n",
       "                                                   'sunshine_duration',\n",
       "                                                   'hour_sin', 'hour_cos',\n",
       "                                                   'day_of_week_sin',\n",
       "                                                   'day_of_week_cos',\n",
       "                                                   'month_sin',\n",
       "                                                   'month_cos'])]))])"
      ]
     },
     "execution_count": 16,
     "metadata": {},
     "output_type": "execute_result"
    }
   ],
   "source": [
    "preprocessor"
   ]
  },
  {
   "cell_type": "code",
   "execution_count": 126,
   "metadata": {},
   "outputs": [
    {
     "data": {
      "text/plain": [
       "Index(['weather_code_encoded', 'relative_humidity_2m', 'dew_point_2m',\n",
       "       'precipitation', 'rain', 'snowfall', 'snow_depth', 'pressure_msl',\n",
       "       'surface_pressure', 'cloud_cover', 'cloud_cover_low', 'cloud_cover_mid',\n",
       "       'cloud_cover_high', 'et0_fao_evapotranspiration',\n",
       "       'vapour_pressure_deficit', 'wind_speed_10m', 'wind_speed_100m',\n",
       "       'wind_direction_10m', 'wind_direction_100m', 'wind_gusts_10m',\n",
       "       'sunshine_duration', 'hour_sin', 'hour_cos', 'day_of_week_sin',\n",
       "       'day_of_week_cos', 'month_sin', 'month_cos'],\n",
       "      dtype='object')"
      ]
     },
     "execution_count": 126,
     "metadata": {},
     "output_type": "execute_result"
    }
   ],
   "source": [
    "X_processed.columns"
   ]
  },
  {
   "cell_type": "code",
   "execution_count": 127,
   "metadata": {},
   "outputs": [],
   "source": [
    "df = pd.concat([y.reset_index(drop=True), X_processed], axis=1)"
   ]
  },
  {
   "cell_type": "code",
   "execution_count": 18,
   "metadata": {},
   "outputs": [
    {
     "data": {
      "text/plain": [
       "Index(['temperature_2m', 'weather_code_encoded', 'relative_humidity_2m',\n",
       "       'dew_point_2m', 'precipitation', 'rain', 'snowfall', 'snow_depth',\n",
       "       'pressure_msl', 'surface_pressure', 'cloud_cover', 'cloud_cover_low',\n",
       "       'cloud_cover_mid', 'cloud_cover_high', 'et0_fao_evapotranspiration',\n",
       "       'vapour_pressure_deficit', 'wind_speed_10m', 'wind_speed_100m',\n",
       "       'wind_direction_10m', 'wind_direction_100m', 'wind_gusts_10m',\n",
       "       'sunshine_duration', 'hour_sin', 'hour_cos', 'day_of_week_sin',\n",
       "       'day_of_week_cos', 'month_sin', 'month_cos'],\n",
       "      dtype='object')"
      ]
     },
     "execution_count": 18,
     "metadata": {},
     "output_type": "execute_result"
    }
   ],
   "source": [
    "df.columns"
   ]
  },
  {
   "cell_type": "code",
   "execution_count": 19,
   "metadata": {},
   "outputs": [
    {
     "data": {
      "text/html": [
       "<div>\n",
       "<style scoped>\n",
       "    .dataframe tbody tr th:only-of-type {\n",
       "        vertical-align: middle;\n",
       "    }\n",
       "\n",
       "    .dataframe tbody tr th {\n",
       "        vertical-align: top;\n",
       "    }\n",
       "\n",
       "    .dataframe thead th {\n",
       "        text-align: right;\n",
       "    }\n",
       "</style>\n",
       "<table border=\"1\" class=\"dataframe\">\n",
       "  <thead>\n",
       "    <tr style=\"text-align: right;\">\n",
       "      <th></th>\n",
       "      <th>temperature_2m</th>\n",
       "      <th>weather_code_encoded</th>\n",
       "      <th>relative_humidity_2m</th>\n",
       "      <th>dew_point_2m</th>\n",
       "      <th>precipitation</th>\n",
       "      <th>rain</th>\n",
       "      <th>snowfall</th>\n",
       "      <th>snow_depth</th>\n",
       "      <th>pressure_msl</th>\n",
       "      <th>surface_pressure</th>\n",
       "      <th>...</th>\n",
       "      <th>wind_direction_10m</th>\n",
       "      <th>wind_direction_100m</th>\n",
       "      <th>wind_gusts_10m</th>\n",
       "      <th>sunshine_duration</th>\n",
       "      <th>hour_sin</th>\n",
       "      <th>hour_cos</th>\n",
       "      <th>day_of_week_sin</th>\n",
       "      <th>day_of_week_cos</th>\n",
       "      <th>month_sin</th>\n",
       "      <th>month_cos</th>\n",
       "    </tr>\n",
       "  </thead>\n",
       "  <tbody>\n",
       "    <tr>\n",
       "      <th>0</th>\n",
       "      <td>-10.842501</td>\n",
       "      <td>3.0</td>\n",
       "      <td>-0.359492</td>\n",
       "      <td>-1.676971</td>\n",
       "      <td>-0.389763</td>\n",
       "      <td>-0.272938</td>\n",
       "      <td>-0.289634</td>\n",
       "      <td>0.821605</td>\n",
       "      <td>0.915229</td>\n",
       "      <td>-0.344468</td>\n",
       "      <td>...</td>\n",
       "      <td>-0.038465</td>\n",
       "      <td>0.000227</td>\n",
       "      <td>0.164295</td>\n",
       "      <td>-0.722739</td>\n",
       "      <td>2.619209e-17</td>\n",
       "      <td>1.414214</td>\n",
       "      <td>0.614121</td>\n",
       "      <td>-1.273928</td>\n",
       "      <td>0.004523</td>\n",
       "      <td>1.419691</td>\n",
       "    </tr>\n",
       "  </tbody>\n",
       "</table>\n",
       "<p>1 rows × 28 columns</p>\n",
       "</div>"
      ],
      "text/plain": [
       "   temperature_2m  weather_code_encoded  relative_humidity_2m  dew_point_2m  \\\n",
       "0      -10.842501                   3.0             -0.359492     -1.676971   \n",
       "\n",
       "   precipitation      rain  snowfall  snow_depth  pressure_msl  \\\n",
       "0      -0.389763 -0.272938 -0.289634    0.821605      0.915229   \n",
       "\n",
       "   surface_pressure  ...  wind_direction_10m  wind_direction_100m  \\\n",
       "0         -0.344468  ...           -0.038465             0.000227   \n",
       "\n",
       "   wind_gusts_10m  sunshine_duration      hour_sin  hour_cos  day_of_week_sin  \\\n",
       "0        0.164295          -0.722739  2.619209e-17  1.414214         0.614121   \n",
       "\n",
       "   day_of_week_cos  month_sin  month_cos  \n",
       "0        -1.273928   0.004523   1.419691  \n",
       "\n",
       "[1 rows x 28 columns]"
      ]
     },
     "execution_count": 19,
     "metadata": {},
     "output_type": "execute_result"
    }
   ],
   "source": [
    "df.head(1)"
   ]
  },
  {
   "cell_type": "markdown",
   "metadata": {},
   "source": [
    "# 2. Folds"
   ]
  },
  {
   "cell_type": "code",
   "execution_count": 20,
   "metadata": {},
   "outputs": [],
   "source": [
    "target2 = 'temperature_2m'\n",
    "\n",
    "FOLD_LENGTH = df.shape[0] # each fold will have the whole dataset --> only 1 fold in this model\n",
    "FOLD_STRIDE = 1 # sliding only on hour\n",
    "TRAIN_TEST_RATIO = 0.66\n",
    "split_index = int(df.shape[0] * TRAIN_TEST_RATIO)\n",
    "\n",
    "# Inputs\n",
    "N_FEATURES = df.shape[1] - 1\n",
    "INPUT_LENGTH = 48 # 48 hours input = forecast the upcooming 48 hours\n",
    "\n",
    "# Outputs\n",
    "TARGET = target2\n",
    "N_TARGETS = 1\n",
    "OUTPUT_LENGTH = N_TARGETS * 48 # - Predicting one target, the temperature - for two days with predictions every hour\n",
    "\n",
    "# Additional parameters\n",
    "HORIZON = 1 # - We are predicting next two days\n",
    "TARGET_COLUMN_IDX = df.columns.get_loc(target2)"
   ]
  },
  {
   "cell_type": "code",
   "execution_count": 21,
   "metadata": {},
   "outputs": [
    {
     "name": "stdout",
     "output_type": "stream",
     "text": [
      "DS includes 131496 rows --> hours\n",
      "DS includes 782.7142857142857 --> weeks\n",
      "DS includes 195.67857142857142 --> months\n",
      "DS includes 16.306547619047617 --> years\n"
     ]
    }
   ],
   "source": [
    "rows = FOLD_LENGTH\n",
    "days = rows/24\n",
    "weeks = days/7\n",
    "months = weeks/4\n",
    "years = months/ 12\n",
    "print(f'DS includes {rows} rows --> hours')\n",
    "print(f'DS includes {weeks} --> weeks')\n",
    "print(f'DS includes {months} --> months')\n",
    "print(f'DS includes {years} --> years')"
   ]
  },
  {
   "cell_type": "code",
   "execution_count": 22,
   "metadata": {},
   "outputs": [],
   "source": [
    "def get_folds(\n",
    "    df: pd.DataFrame,\n",
    "    fold_length: int,\n",
    "    fold_stride: int) -> List[pd.DataFrame]:\n",
    "    '''\n",
    "    This function slides through the Time Series dataframe of shape (n_timesteps, n_features) to create folds\n",
    "    - of equal `fold_length`\n",
    "    - using `fold_stride` between each fold\n",
    "\n",
    "    Returns a list of folds, each as a DataFrame\n",
    "    '''\n",
    "\n",
    "    folds = []\n",
    "    for idx in range(0, len(df), fold_stride):\n",
    "        # Exits the loop as soon as the last fold index would exceed the last index\n",
    "        if (idx + fold_length) > len(df):\n",
    "            break\n",
    "        fold = df.iloc[idx:idx + fold_length, :]\n",
    "        folds.append(fold)\n",
    "    return folds"
   ]
  },
  {
   "cell_type": "code",
   "execution_count": 23,
   "metadata": {},
   "outputs": [
    {
     "name": "stdout",
     "output_type": "stream",
     "text": [
      "The function generated 1 folds.\n",
      "Each fold has a shape equal to (131496, 28).\n"
     ]
    }
   ],
   "source": [
    "folds = get_folds(df, FOLD_LENGTH, FOLD_STRIDE)\n",
    "\n",
    "print(f'The function generated {len(folds)} folds.')\n",
    "print(f'Each fold has a shape equal to {folds[0].shape}.')"
   ]
  },
  {
   "cell_type": "code",
   "execution_count": 24,
   "metadata": {},
   "outputs": [],
   "source": [
    "fold = folds[0]"
   ]
  },
  {
   "cell_type": "code",
   "execution_count": 25,
   "metadata": {},
   "outputs": [
    {
     "data": {
      "text/plain": [
       "(131496, 28)"
      ]
     },
     "execution_count": 25,
     "metadata": {},
     "output_type": "execute_result"
    }
   ],
   "source": [
    "fold.shape"
   ]
  },
  {
   "cell_type": "markdown",
   "metadata": {},
   "source": [
    "# 3. Creating Sequences"
   ]
  },
  {
   "cell_type": "code",
   "execution_count": 26,
   "metadata": {},
   "outputs": [],
   "source": [
    "def train_test_split(fold: pd.DataFrame,\n",
    "                     train_test_ratio: float,\n",
    "                     input_length: int,\n",
    "                     horizon: int) -> Tuple[pd.DataFrame]:\n",
    "    '''\n",
    "    Returns a train dataframe and a test dataframe (fold_train, fold_test)\n",
    "    from which one can sample (X,y) sequences.\n",
    "    df_train should contain all the timesteps until round(train_test_ratio * len(fold))\n",
    "    '''\n",
    "\n",
    "    # TRAIN SET\n",
    "    # ======================\n",
    "    last_train_idx = round(train_test_ratio * len(fold))\n",
    "    fold_train = fold.iloc[0:last_train_idx, :]\n",
    "\n",
    "    # TEST SET\n",
    "    # ======================\n",
    "    first_test_idx = last_train_idx - input_length\n",
    "    fold_test = fold.iloc[first_test_idx:, :]\n",
    "\n",
    "    return (fold_train, fold_test)"
   ]
  },
  {
   "cell_type": "code",
   "execution_count": 27,
   "metadata": {},
   "outputs": [],
   "source": [
    "(fold_train, fold_test) = train_test_split(fold,\n",
    "                                           TRAIN_TEST_RATIO,\n",
    "                                           INPUT_LENGTH,\n",
    "                                           HORIZON)"
   ]
  },
  {
   "cell_type": "code",
   "execution_count": 28,
   "metadata": {},
   "outputs": [
    {
     "data": {
      "text/plain": [
       "((86787, 28), (44757, 28))"
      ]
     },
     "execution_count": 28,
     "metadata": {},
     "output_type": "execute_result"
    }
   ],
   "source": [
    "fold_train.shape, fold_test.shape"
   ]
  },
  {
   "cell_type": "code",
   "execution_count": 29,
   "metadata": {},
   "outputs": [
    {
     "data": {
      "text/plain": [
       "0"
      ]
     },
     "execution_count": 29,
     "metadata": {},
     "output_type": "execute_result"
    }
   ],
   "source": [
    "fold_train.index[0]"
   ]
  },
  {
   "cell_type": "code",
   "execution_count": 30,
   "metadata": {},
   "outputs": [
    {
     "name": "stdout",
     "output_type": "stream",
     "text": [
      "##### INPUTS #####\n",
      "- INPUT_LENGTH = 48 timesteps = 2 days = 0 weeks\n",
      "- N_FEATURES = 27\n",
      "##### OUTPUTS #####\n",
      "- OUTPUT_LENGTH = 48 timesteps = 2 day(s)\n",
      "- N_TARGETS = 1\n",
      "##### PARAMETERS #####\n",
      "- HORIZON = 1 timesteps = 0 day(s)\n",
      "##### TRAIN SET #####\n",
      "- The training fold starts at index 0 and stops at index 86786.\n",
      "##### TEST SET #####\n",
      "- The test fold starts at index 86739 and stops at index 131495.\n"
     ]
    }
   ],
   "source": [
    "# Inputs\n",
    "print(\"##### INPUTS #####\")\n",
    "print(f'- INPUT_LENGTH = {INPUT_LENGTH} timesteps = {int(INPUT_LENGTH/24)} days = {int(INPUT_LENGTH/24/7)} weeks')\n",
    "print(f'- N_FEATURES = {N_FEATURES}')\n",
    "# Outputs\n",
    "print(\"##### OUTPUTS #####\")\n",
    "print(f'- OUTPUT_LENGTH = {OUTPUT_LENGTH} timesteps = {int(OUTPUT_LENGTH/24)} day(s)')\n",
    "print(f'- N_TARGETS = {N_TARGETS}')\n",
    "# Parameters\n",
    "print(\"##### PARAMETERS #####\")\n",
    "print(f'- HORIZON = {HORIZON} timesteps = {int(HORIZON/24)} day(s)')\n",
    "# Train\n",
    "print(\"##### TRAIN SET #####\")\n",
    "print(f\"- The training fold starts at index {fold_train.index[0]} and stops at index {fold_train.index[-1]}.\")\n",
    "# Test\n",
    "print(\"##### TEST SET #####\")\n",
    "print(f\"- The test fold starts at index {fold_test.index[0]} and stops at index {fold_test.index[-1]}.\")"
   ]
  },
  {
   "cell_type": "code",
   "execution_count": 31,
   "metadata": {},
   "outputs": [
    {
     "name": "stdout",
     "output_type": "stream",
     "text": [
      "STRIDE = 1 timesteps = 0 day(s)\n"
     ]
    }
   ],
   "source": [
    "# New: Scanning  through a fold\n",
    "STRIDE = 1 # sliding every day, for instance\n",
    "print(f'STRIDE = {STRIDE} timesteps = {int(STRIDE/24)} day(s)')"
   ]
  },
  {
   "cell_type": "code",
   "execution_count": 32,
   "metadata": {},
   "outputs": [],
   "source": [
    "def get_Xi_yi(first_index: int,\n",
    "              fold: pd.DataFrame,\n",
    "              horizon: int,\n",
    "              input_length: int,\n",
    "              output_length: int) -> Tuple[np.ndarray, np.ndarray]:\n",
    "    '''\n",
    "    - extracts one sequence from a fold\n",
    "    - returns a pair (Xi, yi) with:\n",
    "        * len(Xi) = `input_length` and Xi starting at first_index\n",
    "        * len(yi) = `output_length`\n",
    "        * last_Xi and first_yi separated by the gap = horizon -1\n",
    "    '''\n",
    "\n",
    "    Xi_start = first_index\n",
    "    Xi_last = Xi_start + input_length\n",
    "    yi_start = Xi_last + horizon - 1\n",
    "    yi_last = yi_start + output_length\n",
    "\n",
    "    Xi = fold[Xi_start:Xi_last]\n",
    "    yi = fold[yi_start:yi_last][TARGET]\n",
    "\n",
    "    return (Xi, yi)"
   ]
  },
  {
   "cell_type": "code",
   "execution_count": 33,
   "metadata": {},
   "outputs": [],
   "source": [
    "def get_X_y(fold: pd.DataFrame,\n",
    "            horizon: int,\n",
    "            input_length: int,\n",
    "            output_length: int,\n",
    "            stride: int,\n",
    "            shuffle=False) -> Tuple[np.ndarray, np.ndarray]:\n",
    "    \"\"\"\n",
    "    - Uses `data`, a 2D-array with axis=0 for timesteps, and axis=1 for (targets+covariates columns)\n",
    "    - Returns a Tuple (X,y) of two ndarrays :\n",
    "        * X.shape = (n_samples, input_length, n_covariates)\n",
    "        * y.shape =\n",
    "            (n_samples, output_length, n_targets) if all 3-dimensions are of size > 1\n",
    "            (n_samples, output_length) if n_targets == 1\n",
    "            (n_samples, n_targets) if output_length == 1\n",
    "            (n_samples, ) if both n_targets and lenghts == 1\n",
    "    - You can shuffle the pairs (Xi,yi) of your fold\n",
    "    \"\"\"\n",
    "\n",
    "    X = []\n",
    "    y = []\n",
    "\n",
    "    for i in range(0, len(fold), stride):\n",
    "        ## Extracting a sequence starting at index_i\n",
    "        Xi, yi = get_Xi_yi(first_index=i,\n",
    "                           fold=fold,\n",
    "                           horizon=horizon,\n",
    "                           input_length=input_length,\n",
    "                           output_length=output_length)\n",
    "        ## Exits loop as soon as we reach the end of the dataset\n",
    "        if len(yi) < output_length:\n",
    "            break\n",
    "        X.append(Xi)\n",
    "        y.append(yi)\n",
    "\n",
    "    X = np.array(X)\n",
    "    y = np.array(y)\n",
    "    y = np.squeeze(y)\n",
    "\n",
    "    if shuffle:\n",
    "        idx = np.arange(len(X))\n",
    "        np.random.shuffle(idx)\n",
    "        X = X[idx]\n",
    "        y = y[idx]\n",
    "\n",
    "    return X, y"
   ]
  },
  {
   "cell_type": "code",
   "execution_count": 34,
   "metadata": {},
   "outputs": [
    {
     "name": "stdout",
     "output_type": "stream",
     "text": [
      "Shapes for the training set:\n",
      "X_train.shape = (86692, 48, 28), y_train.shape = (86692, 48)\n",
      "Shapes for the test set:\n",
      "X_test.shape = (44662, 48, 28), y_test.shape = (44662, 48)\n"
     ]
    }
   ],
   "source": [
    "X_train, y_train = get_X_y(fold=fold_train,\n",
    "                           horizon=HORIZON,\n",
    "                           input_length=INPUT_LENGTH,\n",
    "                           output_length=OUTPUT_LENGTH,\n",
    "                           stride=STRIDE)\n",
    "X_test, y_test = get_X_y(fold=fold_test,\n",
    "                         horizon=HORIZON,\n",
    "                         input_length=INPUT_LENGTH,\n",
    "                         output_length=OUTPUT_LENGTH,\n",
    "                         stride=STRIDE)\n",
    "\n",
    "print(\"Shapes for the training set:\")\n",
    "print(f\"X_train.shape = {X_train.shape}, y_train.shape = {y_train.shape}\")\n",
    "\n",
    "print(\"Shapes for the test set:\")\n",
    "print(f\"X_test.shape = {X_test.shape}, y_test.shape = {y_test.shape}\")"
   ]
  },
  {
   "cell_type": "markdown",
   "metadata": {},
   "source": [
    "# 4. Modelling"
   ]
  },
  {
   "cell_type": "markdown",
   "metadata": {},
   "source": [
    "## 4.1 Main Model"
   ]
  },
  {
   "cell_type": "code",
   "execution_count": 35,
   "metadata": {
    "scrolled": true
   },
   "outputs": [],
   "source": [
    "from tensorflow.keras import models\n",
    "from tensorflow.keras import layers\n",
    "from tensorflow.keras import optimizers, metrics\n",
    "from tensorflow.keras.layers import Normalization, BatchNormalization\n",
    "from tensorflow.keras import regularizers\n",
    "from tensorflow.keras.optimizers.schedules import ExponentialDecay\n",
    "from tensorflow.keras.optimizers import Adam\n",
    "from sklearn.model_selection import GridSearchCV\n",
    "\n",
    "def init_model(X_train):\n",
    "    reg_l2 = regularizers.L2(0.1)\n",
    "\n",
    "    #========================================================================================\n",
    "\n",
    "    # 1 - RNN architecture\n",
    "    model = models.Sequential()\n",
    "    model.add(layers.Input(shape=(X_train.shape[1], X_train.shape[2])))\n",
    "\n",
    "    # Recurrent Layer\n",
    "    model.add(layers.LSTM(units=32, activation='tanh',return_sequences=True,\n",
    "                        #   recurrent_dropout=0.3,dropout=0.3\n",
    "                        )\n",
    "                          )\n",
    "\n",
    "    # Hidden Dense Layer that we are regularizing\n",
    "    model.add(layers.Dense(16, activation=\"relu\",\n",
    "                        #    kernel_regularizer = reg_l2\n",
    "                        )\n",
    "                           )\n",
    "    # model.add(layers.Dropout(rate=0.3))\n",
    "\n",
    "    # Predictive Dense Layer\n",
    "    model.add(layers.Dense(1, activation='linear'))\n",
    "\n",
    "    #========================================================================================\n",
    "\n",
    "    # 2 - Compiler\n",
    "    optimizer = Adam(learning_rate=0.0001)\n",
    "    model.compile(loss='mse', optimizer=optimizer, metrics=[\"mae\"])\n",
    "\n",
    "    return model\n"
   ]
  },
  {
   "cell_type": "code",
   "execution_count": 36,
   "metadata": {},
   "outputs": [],
   "source": [
    "from tensorflow.keras.callbacks import EarlyStopping, ModelCheckpoint, ReduceLROnPlateau\n",
    "\n",
    "def fit_model(model: tf.keras.Model, verbose=1) -> Tuple[tf.keras.Model, dict]:\n",
    "\n",
    "    es = EarlyStopping(\n",
    "        monitor=\"val_mae\",\n",
    "        patience=10,\n",
    "        mode=\"min\",\n",
    "        restore_best_weights=True)\n",
    "\n",
    "    reduce_lr = ReduceLROnPlateau(\n",
    "        monitor='val_mae',\n",
    "        factor=0.1,\n",
    "        patience=5,\n",
    "        min_lr=1e-6)\n",
    "\n",
    "    history = model.fit(\n",
    "        X_train,\n",
    "        y_train,\n",
    "        validation_split=0.3,\n",
    "        shuffle=False,\n",
    "        batch_size=64,\n",
    "        epochs=100,\n",
    "        callbacks=[es, reduce_lr],\n",
    "        verbose=verbose)\n",
    "\n",
    "    return model, history"
   ]
  },
  {
   "cell_type": "code",
   "execution_count": 37,
   "metadata": {
    "jupyter": {
     "source_hidden": true
    }
   },
   "outputs": [],
   "source": [
    "def plot_history(history):\n",
    "\n",
    "    fig, ax = plt.subplots(1,2, figsize=(20,7))\n",
    "    # --- LOSS: MSE ---\n",
    "    ax[0].plot(history.history['loss'])\n",
    "    ax[0].plot(history.history['val_loss'])\n",
    "    ax[0].set_title('MSE')\n",
    "    ax[0].set_ylabel('Loss')\n",
    "    ax[0].set_xlabel('Epoch')\n",
    "    ax[0].legend(['Train', 'Validation'], loc='best')\n",
    "    ax[0].grid(axis=\"x\",linewidth=0.5)\n",
    "    ax[0].grid(axis=\"y\",linewidth=0.5)\n",
    "\n",
    "    # --- METRICS:MAE ---\n",
    "\n",
    "    ax[1].plot(history.history['mae'])\n",
    "    ax[1].plot(history.history['val_mae'])\n",
    "    ax[1].set_title('MAE')\n",
    "    ax[1].set_ylabel('MAE')\n",
    "    ax[1].set_xlabel('Epoch')\n",
    "    ax[1].legend(['Train', 'Validation'], loc='best')\n",
    "    ax[1].grid(axis=\"x\",linewidth=0.5)\n",
    "    ax[1].grid(axis=\"y\",linewidth=0.5)\n",
    "\n",
    "    return ax"
   ]
  },
  {
   "cell_type": "code",
   "execution_count": 38,
   "metadata": {},
   "outputs": [
    {
     "name": "stderr",
     "output_type": "stream",
     "text": [
      "2024-12-18 20:37:22.232166: E external/local_xla/xla/stream_executor/cuda/cuda_driver.cc:152] failed call to cuInit: INTERNAL: CUDA error: Failed call to cuInit: UNKNOWN ERROR (303)\n"
     ]
    },
    {
     "data": {
      "text/html": [
       "<pre style=\"white-space:pre;overflow-x:auto;line-height:normal;font-family:Menlo,'DejaVu Sans Mono',consolas,'Courier New',monospace\"><span style=\"font-weight: bold\">Model: \"sequential\"</span>\n",
       "</pre>\n"
      ],
      "text/plain": [
       "\u001b[1mModel: \"sequential\"\u001b[0m\n"
      ]
     },
     "metadata": {},
     "output_type": "display_data"
    },
    {
     "data": {
      "text/html": [
       "<pre style=\"white-space:pre;overflow-x:auto;line-height:normal;font-family:Menlo,'DejaVu Sans Mono',consolas,'Courier New',monospace\">┏━━━━━━━━━━━━━━━━━━━━━━━━━━━━━━━━━┳━━━━━━━━━━━━━━━━━━━━━━━━┳━━━━━━━━━━━━━━━┓\n",
       "┃<span style=\"font-weight: bold\"> Layer (type)                    </span>┃<span style=\"font-weight: bold\"> Output Shape           </span>┃<span style=\"font-weight: bold\">       Param # </span>┃\n",
       "┡━━━━━━━━━━━━━━━━━━━━━━━━━━━━━━━━━╇━━━━━━━━━━━━━━━━━━━━━━━━╇━━━━━━━━━━━━━━━┩\n",
       "│ lstm (<span style=\"color: #0087ff; text-decoration-color: #0087ff\">LSTM</span>)                     │ (<span style=\"color: #00d7ff; text-decoration-color: #00d7ff\">None</span>, <span style=\"color: #00af00; text-decoration-color: #00af00\">48</span>, <span style=\"color: #00af00; text-decoration-color: #00af00\">32</span>)         │         <span style=\"color: #00af00; text-decoration-color: #00af00\">7,808</span> │\n",
       "├─────────────────────────────────┼────────────────────────┼───────────────┤\n",
       "│ dense (<span style=\"color: #0087ff; text-decoration-color: #0087ff\">Dense</span>)                   │ (<span style=\"color: #00d7ff; text-decoration-color: #00d7ff\">None</span>, <span style=\"color: #00af00; text-decoration-color: #00af00\">48</span>, <span style=\"color: #00af00; text-decoration-color: #00af00\">16</span>)         │           <span style=\"color: #00af00; text-decoration-color: #00af00\">528</span> │\n",
       "├─────────────────────────────────┼────────────────────────┼───────────────┤\n",
       "│ dense_1 (<span style=\"color: #0087ff; text-decoration-color: #0087ff\">Dense</span>)                 │ (<span style=\"color: #00d7ff; text-decoration-color: #00d7ff\">None</span>, <span style=\"color: #00af00; text-decoration-color: #00af00\">48</span>, <span style=\"color: #00af00; text-decoration-color: #00af00\">1</span>)          │            <span style=\"color: #00af00; text-decoration-color: #00af00\">17</span> │\n",
       "└─────────────────────────────────┴────────────────────────┴───────────────┘\n",
       "</pre>\n"
      ],
      "text/plain": [
       "┏━━━━━━━━━━━━━━━━━━━━━━━━━━━━━━━━━┳━━━━━━━━━━━━━━━━━━━━━━━━┳━━━━━━━━━━━━━━━┓\n",
       "┃\u001b[1m \u001b[0m\u001b[1mLayer (type)                   \u001b[0m\u001b[1m \u001b[0m┃\u001b[1m \u001b[0m\u001b[1mOutput Shape          \u001b[0m\u001b[1m \u001b[0m┃\u001b[1m \u001b[0m\u001b[1m      Param #\u001b[0m\u001b[1m \u001b[0m┃\n",
       "┡━━━━━━━━━━━━━━━━━━━━━━━━━━━━━━━━━╇━━━━━━━━━━━━━━━━━━━━━━━━╇━━━━━━━━━━━━━━━┩\n",
       "│ lstm (\u001b[38;5;33mLSTM\u001b[0m)                     │ (\u001b[38;5;45mNone\u001b[0m, \u001b[38;5;34m48\u001b[0m, \u001b[38;5;34m32\u001b[0m)         │         \u001b[38;5;34m7,808\u001b[0m │\n",
       "├─────────────────────────────────┼────────────────────────┼───────────────┤\n",
       "│ dense (\u001b[38;5;33mDense\u001b[0m)                   │ (\u001b[38;5;45mNone\u001b[0m, \u001b[38;5;34m48\u001b[0m, \u001b[38;5;34m16\u001b[0m)         │           \u001b[38;5;34m528\u001b[0m │\n",
       "├─────────────────────────────────┼────────────────────────┼───────────────┤\n",
       "│ dense_1 (\u001b[38;5;33mDense\u001b[0m)                 │ (\u001b[38;5;45mNone\u001b[0m, \u001b[38;5;34m48\u001b[0m, \u001b[38;5;34m1\u001b[0m)          │            \u001b[38;5;34m17\u001b[0m │\n",
       "└─────────────────────────────────┴────────────────────────┴───────────────┘\n"
      ]
     },
     "metadata": {},
     "output_type": "display_data"
    },
    {
     "data": {
      "text/html": [
       "<pre style=\"white-space:pre;overflow-x:auto;line-height:normal;font-family:Menlo,'DejaVu Sans Mono',consolas,'Courier New',monospace\"><span style=\"font-weight: bold\"> Total params: </span><span style=\"color: #00af00; text-decoration-color: #00af00\">8,353</span> (32.63 KB)\n",
       "</pre>\n"
      ],
      "text/plain": [
       "\u001b[1m Total params: \u001b[0m\u001b[38;5;34m8,353\u001b[0m (32.63 KB)\n"
      ]
     },
     "metadata": {},
     "output_type": "display_data"
    },
    {
     "data": {
      "text/html": [
       "<pre style=\"white-space:pre;overflow-x:auto;line-height:normal;font-family:Menlo,'DejaVu Sans Mono',consolas,'Courier New',monospace\"><span style=\"font-weight: bold\"> Trainable params: </span><span style=\"color: #00af00; text-decoration-color: #00af00\">8,353</span> (32.63 KB)\n",
       "</pre>\n"
      ],
      "text/plain": [
       "\u001b[1m Trainable params: \u001b[0m\u001b[38;5;34m8,353\u001b[0m (32.63 KB)\n"
      ]
     },
     "metadata": {},
     "output_type": "display_data"
    },
    {
     "data": {
      "text/html": [
       "<pre style=\"white-space:pre;overflow-x:auto;line-height:normal;font-family:Menlo,'DejaVu Sans Mono',consolas,'Courier New',monospace\"><span style=\"font-weight: bold\"> Non-trainable params: </span><span style=\"color: #00af00; text-decoration-color: #00af00\">0</span> (0.00 B)\n",
       "</pre>\n"
      ],
      "text/plain": [
       "\u001b[1m Non-trainable params: \u001b[0m\u001b[38;5;34m0\u001b[0m (0.00 B)\n"
      ]
     },
     "metadata": {},
     "output_type": "display_data"
    }
   ],
   "source": [
    "model = init_model(X_train)\n",
    "model.summary()"
   ]
  },
  {
   "cell_type": "code",
   "execution_count": 39,
   "metadata": {
    "scrolled": true
   },
   "outputs": [
    {
     "name": "stdout",
     "output_type": "stream",
     "text": [
      "Epoch 1/100\n",
      "\u001b[1m949/949\u001b[0m \u001b[32m━━━━━━━━━━━━━━━━━━━━\u001b[0m\u001b[37m\u001b[0m \u001b[1m23s\u001b[0m 22ms/step - loss: 69.4791 - mae: 6.7838 - val_loss: 33.8510 - val_mae: 4.5243 - learning_rate: 1.0000e-04\n",
      "Epoch 2/100\n",
      "\u001b[1m949/949\u001b[0m \u001b[32m━━━━━━━━━━━━━━━━━━━━\u001b[0m\u001b[37m\u001b[0m \u001b[1m21s\u001b[0m 22ms/step - loss: 38.8103 - mae: 4.7640 - val_loss: 22.1964 - val_mae: 3.5992 - learning_rate: 1.0000e-04\n",
      "Epoch 3/100\n",
      "\u001b[1m949/949\u001b[0m \u001b[32m━━━━━━━━━━━━━━━━━━━━\u001b[0m\u001b[37m\u001b[0m \u001b[1m20s\u001b[0m 21ms/step - loss: 27.7173 - mae: 3.9259 - val_loss: 17.9512 - val_mae: 3.2416 - learning_rate: 1.0000e-04\n",
      "Epoch 4/100\n",
      "\u001b[1m949/949\u001b[0m \u001b[32m━━━━━━━━━━━━━━━━━━━━\u001b[0m\u001b[37m\u001b[0m \u001b[1m20s\u001b[0m 21ms/step - loss: 21.6041 - mae: 3.4639 - val_loss: 15.9577 - val_mae: 3.0649 - learning_rate: 1.0000e-04\n",
      "Epoch 5/100\n",
      "\u001b[1m949/949\u001b[0m \u001b[32m━━━━━━━━━━━━━━━━━━━━\u001b[0m\u001b[37m\u001b[0m \u001b[1m20s\u001b[0m 21ms/step - loss: 18.0204 - mae: 3.1840 - val_loss: 15.0092 - val_mae: 2.9769 - learning_rate: 1.0000e-04\n",
      "Epoch 6/100\n",
      "\u001b[1m949/949\u001b[0m \u001b[32m━━━━━━━━━━━━━━━━━━━━\u001b[0m\u001b[37m\u001b[0m \u001b[1m19s\u001b[0m 20ms/step - loss: 15.9417 - mae: 3.0139 - val_loss: 14.5320 - val_mae: 2.9307 - learning_rate: 1.0000e-04\n",
      "Epoch 7/100\n",
      "\u001b[1m949/949\u001b[0m \u001b[32m━━━━━━━━━━━━━━━━━━━━\u001b[0m\u001b[37m\u001b[0m \u001b[1m20s\u001b[0m 21ms/step - loss: 14.7021 - mae: 2.9083 - val_loss: 14.2504 - val_mae: 2.9022 - learning_rate: 1.0000e-04\n",
      "Epoch 8/100\n",
      "\u001b[1m949/949\u001b[0m \u001b[32m━━━━━━━━━━━━━━━━━━━━\u001b[0m\u001b[37m\u001b[0m \u001b[1m21s\u001b[0m 22ms/step - loss: 13.8966 - mae: 2.8375 - val_loss: 14.0664 - val_mae: 2.8842 - learning_rate: 1.0000e-04\n",
      "Epoch 9/100\n",
      "\u001b[1m949/949\u001b[0m \u001b[32m━━━━━━━━━━━━━━━━━━━━\u001b[0m\u001b[37m\u001b[0m \u001b[1m20s\u001b[0m 21ms/step - loss: 13.3331 - mae: 2.7866 - val_loss: 13.9368 - val_mae: 2.8715 - learning_rate: 1.0000e-04\n",
      "Epoch 10/100\n",
      "\u001b[1m949/949\u001b[0m \u001b[32m━━━━━━━━━━━━━━━━━━━━\u001b[0m\u001b[37m\u001b[0m \u001b[1m21s\u001b[0m 22ms/step - loss: 12.9278 - mae: 2.7500 - val_loss: 13.8385 - val_mae: 2.8621 - learning_rate: 1.0000e-04\n",
      "Epoch 11/100\n",
      "\u001b[1m949/949\u001b[0m \u001b[32m━━━━━━━━━━━━━━━━━━━━\u001b[0m\u001b[37m\u001b[0m \u001b[1m21s\u001b[0m 22ms/step - loss: 12.6250 - mae: 2.7220 - val_loss: 13.7613 - val_mae: 2.8552 - learning_rate: 1.0000e-04\n",
      "Epoch 12/100\n",
      "\u001b[1m949/949\u001b[0m \u001b[32m━━━━━━━━━━━━━━━━━━━━\u001b[0m\u001b[37m\u001b[0m \u001b[1m20s\u001b[0m 21ms/step - loss: 12.3870 - mae: 2.6993 - val_loss: 13.7004 - val_mae: 2.8497 - learning_rate: 1.0000e-04\n",
      "Epoch 13/100\n",
      "\u001b[1m949/949\u001b[0m \u001b[32m━━━━━━━━━━━━━━━━━━━━\u001b[0m\u001b[37m\u001b[0m \u001b[1m21s\u001b[0m 22ms/step - loss: 12.1924 - mae: 2.6801 - val_loss: 13.6491 - val_mae: 2.8452 - learning_rate: 1.0000e-04\n",
      "Epoch 14/100\n",
      "\u001b[1m949/949\u001b[0m \u001b[32m━━━━━━━━━━━━━━━━━━━━\u001b[0m\u001b[37m\u001b[0m \u001b[1m22s\u001b[0m 23ms/step - loss: 12.0322 - mae: 2.6638 - val_loss: 13.6041 - val_mae: 2.8411 - learning_rate: 1.0000e-04\n",
      "Epoch 15/100\n",
      "\u001b[1m949/949\u001b[0m \u001b[32m━━━━━━━━━━━━━━━━━━━━\u001b[0m\u001b[37m\u001b[0m \u001b[1m20s\u001b[0m 21ms/step - loss: 11.8971 - mae: 2.6496 - val_loss: 13.5653 - val_mae: 2.8374 - learning_rate: 1.0000e-04\n",
      "Epoch 16/100\n",
      "\u001b[1m949/949\u001b[0m \u001b[32m━━━━━━━━━━━━━━━━━━━━\u001b[0m\u001b[37m\u001b[0m \u001b[1m21s\u001b[0m 22ms/step - loss: 11.7805 - mae: 2.6371 - val_loss: 13.5324 - val_mae: 2.8343 - learning_rate: 1.0000e-04\n",
      "Epoch 17/100\n",
      "\u001b[1m949/949\u001b[0m \u001b[32m━━━━━━━━━━━━━━━━━━━━\u001b[0m\u001b[37m\u001b[0m \u001b[1m20s\u001b[0m 21ms/step - loss: 11.6784 - mae: 2.6260 - val_loss: 13.5033 - val_mae: 2.8316 - learning_rate: 1.0000e-04\n",
      "Epoch 18/100\n",
      "\u001b[1m949/949\u001b[0m \u001b[32m━━━━━━━━━━━━━━━━━━━━\u001b[0m\u001b[37m\u001b[0m \u001b[1m20s\u001b[0m 21ms/step - loss: 11.5871 - mae: 2.6159 - val_loss: 13.4777 - val_mae: 2.8291 - learning_rate: 1.0000e-04\n",
      "Epoch 19/100\n",
      "\u001b[1m949/949\u001b[0m \u001b[32m━━━━━━━━━━━━━━━━━━━━\u001b[0m\u001b[37m\u001b[0m \u001b[1m21s\u001b[0m 22ms/step - loss: 11.5044 - mae: 2.6066 - val_loss: 13.4553 - val_mae: 2.8270 - learning_rate: 1.0000e-04\n",
      "Epoch 20/100\n",
      "\u001b[1m949/949\u001b[0m \u001b[32m━━━━━━━━━━━━━━━━━━━━\u001b[0m\u001b[37m\u001b[0m \u001b[1m20s\u001b[0m 22ms/step - loss: 11.4296 - mae: 2.5981 - val_loss: 13.4359 - val_mae: 2.8252 - learning_rate: 1.0000e-04\n",
      "Epoch 21/100\n",
      "\u001b[1m949/949\u001b[0m \u001b[32m━━━━━━━━━━━━━━━━━━━━\u001b[0m\u001b[37m\u001b[0m \u001b[1m20s\u001b[0m 21ms/step - loss: 11.3604 - mae: 2.5902 - val_loss: 13.4195 - val_mae: 2.8236 - learning_rate: 1.0000e-04\n",
      "Epoch 22/100\n",
      "\u001b[1m949/949\u001b[0m \u001b[32m━━━━━━━━━━━━━━━━━━━━\u001b[0m\u001b[37m\u001b[0m \u001b[1m20s\u001b[0m 21ms/step - loss: 11.2960 - mae: 2.5828 - val_loss: 13.4067 - val_mae: 2.8225 - learning_rate: 1.0000e-04\n",
      "Epoch 23/100\n",
      "\u001b[1m949/949\u001b[0m \u001b[32m━━━━━━━━━━━━━━━━━━━━\u001b[0m\u001b[37m\u001b[0m \u001b[1m20s\u001b[0m 21ms/step - loss: 11.2359 - mae: 2.5758 - val_loss: 13.3964 - val_mae: 2.8217 - learning_rate: 1.0000e-04\n",
      "Epoch 24/100\n",
      "\u001b[1m949/949\u001b[0m \u001b[32m━━━━━━━━━━━━━━━━━━━━\u001b[0m\u001b[37m\u001b[0m \u001b[1m19s\u001b[0m 21ms/step - loss: 11.1792 - mae: 2.5693 - val_loss: 13.3885 - val_mae: 2.8210 - learning_rate: 1.0000e-04\n",
      "Epoch 25/100\n",
      "\u001b[1m949/949\u001b[0m \u001b[32m━━━━━━━━━━━━━━━━━━━━\u001b[0m\u001b[37m\u001b[0m \u001b[1m20s\u001b[0m 21ms/step - loss: 11.1257 - mae: 2.5631 - val_loss: 13.3828 - val_mae: 2.8207 - learning_rate: 1.0000e-04\n",
      "Epoch 26/100\n",
      "\u001b[1m949/949\u001b[0m \u001b[32m━━━━━━━━━━━━━━━━━━━━\u001b[0m\u001b[37m\u001b[0m \u001b[1m20s\u001b[0m 21ms/step - loss: 11.0746 - mae: 2.5571 - val_loss: 13.3790 - val_mae: 2.8204 - learning_rate: 1.0000e-04\n",
      "Epoch 27/100\n",
      "\u001b[1m949/949\u001b[0m \u001b[32m━━━━━━━━━━━━━━━━━━━━\u001b[0m\u001b[37m\u001b[0m \u001b[1m20s\u001b[0m 21ms/step - loss: 11.0261 - mae: 2.5515 - val_loss: 13.3764 - val_mae: 2.8203 - learning_rate: 1.0000e-04\n",
      "Epoch 28/100\n",
      "\u001b[1m949/949\u001b[0m \u001b[32m━━━━━━━━━━━━━━━━━━━━\u001b[0m\u001b[37m\u001b[0m \u001b[1m20s\u001b[0m 21ms/step - loss: 10.9790 - mae: 2.5460 - val_loss: 13.3759 - val_mae: 2.8204 - learning_rate: 1.0000e-04\n",
      "Epoch 29/100\n",
      "\u001b[1m949/949\u001b[0m \u001b[32m━━━━━━━━━━━━━━━━━━━━\u001b[0m\u001b[37m\u001b[0m \u001b[1m20s\u001b[0m 21ms/step - loss: 10.9341 - mae: 2.5407 - val_loss: 13.3753 - val_mae: 2.8204 - learning_rate: 1.0000e-04\n",
      "Epoch 30/100\n",
      "\u001b[1m949/949\u001b[0m \u001b[32m━━━━━━━━━━━━━━━━━━━━\u001b[0m\u001b[37m\u001b[0m \u001b[1m20s\u001b[0m 21ms/step - loss: 10.8899 - mae: 2.5355 - val_loss: 13.3763 - val_mae: 2.8206 - learning_rate: 1.0000e-04\n",
      "Epoch 31/100\n",
      "\u001b[1m949/949\u001b[0m \u001b[32m━━━━━━━━━━━━━━━━━━━━\u001b[0m\u001b[37m\u001b[0m \u001b[1m20s\u001b[0m 21ms/step - loss: 10.8481 - mae: 2.5304 - val_loss: 13.3769 - val_mae: 2.8208 - learning_rate: 1.0000e-04\n",
      "Epoch 32/100\n",
      "\u001b[1m949/949\u001b[0m \u001b[32m━━━━━━━━━━━━━━━━━━━━\u001b[0m\u001b[37m\u001b[0m \u001b[1m20s\u001b[0m 21ms/step - loss: 10.8053 - mae: 2.5253 - val_loss: 13.3798 - val_mae: 2.8211 - learning_rate: 1.0000e-04\n",
      "Epoch 33/100\n",
      "\u001b[1m949/949\u001b[0m \u001b[32m━━━━━━━━━━━━━━━━━━━━\u001b[0m\u001b[37m\u001b[0m \u001b[1m20s\u001b[0m 21ms/step - loss: 10.7332 - mae: 2.5056 - val_loss: 13.2956 - val_mae: 2.8198 - learning_rate: 1.0000e-05\n",
      "Epoch 34/100\n",
      "\u001b[1m949/949\u001b[0m \u001b[32m━━━━━━━━━━━━━━━━━━━━\u001b[0m\u001b[37m\u001b[0m \u001b[1m20s\u001b[0m 21ms/step - loss: 10.6704 - mae: 2.5055 - val_loss: 13.2806 - val_mae: 2.8203 - learning_rate: 1.0000e-05\n",
      "Epoch 35/100\n",
      "\u001b[1m949/949\u001b[0m \u001b[32m━━━━━━━━━━━━━━━━━━━━\u001b[0m\u001b[37m\u001b[0m \u001b[1m20s\u001b[0m 21ms/step - loss: 10.6466 - mae: 2.5047 - val_loss: 13.2773 - val_mae: 2.8206 - learning_rate: 1.0000e-05\n",
      "Epoch 36/100\n",
      "\u001b[1m949/949\u001b[0m \u001b[32m━━━━━━━━━━━━━━━━━━━━\u001b[0m\u001b[37m\u001b[0m \u001b[1m20s\u001b[0m 21ms/step - loss: 10.6319 - mae: 2.5035 - val_loss: 13.2765 - val_mae: 2.8207 - learning_rate: 1.0000e-05\n",
      "Epoch 37/100\n",
      "\u001b[1m949/949\u001b[0m \u001b[32m━━━━━━━━━━━━━━━━━━━━\u001b[0m\u001b[37m\u001b[0m \u001b[1m20s\u001b[0m 21ms/step - loss: 10.6208 - mae: 2.5024 - val_loss: 13.2764 - val_mae: 2.8208 - learning_rate: 1.0000e-05\n",
      "Epoch 38/100\n",
      "\u001b[1m949/949\u001b[0m \u001b[32m━━━━━━━━━━━━━━━━━━━━\u001b[0m\u001b[37m\u001b[0m \u001b[1m20s\u001b[0m 21ms/step - loss: 10.6117 - mae: 2.5015 - val_loss: 13.2765 - val_mae: 2.8208 - learning_rate: 1.0000e-05\n",
      "Epoch 39/100\n",
      "\u001b[1m949/949\u001b[0m \u001b[32m━━━━━━━━━━━━━━━━━━━━\u001b[0m\u001b[37m\u001b[0m \u001b[1m20s\u001b[0m 21ms/step - loss: 10.5975 - mae: 2.4984 - val_loss: 13.2772 - val_mae: 2.8211 - learning_rate: 1.0000e-06\n",
      "Epoch 40/100\n",
      "\u001b[1m949/949\u001b[0m \u001b[32m━━━━━━━━━━━━━━━━━━━━\u001b[0m\u001b[37m\u001b[0m \u001b[1m20s\u001b[0m 21ms/step - loss: 10.5958 - mae: 2.4985 - val_loss: 13.2779 - val_mae: 2.8213 - learning_rate: 1.0000e-06\n",
      "Epoch 41/100\n",
      "\u001b[1m949/949\u001b[0m \u001b[32m━━━━━━━━━━━━━━━━━━━━\u001b[0m\u001b[37m\u001b[0m \u001b[1m20s\u001b[0m 22ms/step - loss: 10.5941 - mae: 2.4985 - val_loss: 13.2786 - val_mae: 2.8215 - learning_rate: 1.0000e-06\n",
      "Epoch 42/100\n",
      "\u001b[1m949/949\u001b[0m \u001b[32m━━━━━━━━━━━━━━━━━━━━\u001b[0m\u001b[37m\u001b[0m \u001b[1m20s\u001b[0m 21ms/step - loss: 10.5926 - mae: 2.4985 - val_loss: 13.2793 - val_mae: 2.8216 - learning_rate: 1.0000e-06\n",
      "Epoch 43/100\n",
      "\u001b[1m949/949\u001b[0m \u001b[32m━━━━━━━━━━━━━━━━━━━━\u001b[0m\u001b[37m\u001b[0m \u001b[1m20s\u001b[0m 21ms/step - loss: 10.5911 - mae: 2.4985 - val_loss: 13.2799 - val_mae: 2.8218 - learning_rate: 1.0000e-06\n",
      "\u001b[1m1396/1396\u001b[0m \u001b[32m━━━━━━━━━━━━━━━━━━━━\u001b[0m\u001b[37m\u001b[0m \u001b[1m8s\u001b[0m 6ms/step - loss: 15.3518 - mae: 3.0871\n",
      "--------------------------------------------------\n",
      "The LSTM MAE on the test set is equal to 3.08 Celsius degrees\n"
     ]
    },
    {
     "data": {
      "image/png": "[encoded data removed]",
      "text/plain": [
       "<Figure size 2000x700 with 2 Axes>"
      ]
     },
     "metadata": {},
     "output_type": "display_data"
    }
   ],
   "source": [
    "# 2 - Training\n",
    "# ====================================\n",
    "model, history = fit_model(model, verbose=1)\n",
    "\n",
    "plot_history(history);\n",
    "\n",
    "# 3 - Evaluation\n",
    "# ====================================\n",
    "res = model.evaluate(X_test, y_test)\n",
    "print(\"-\"*50)\n",
    "print(f\"The LSTM MAE on the test set is equal to {round(res[1],2)} Celsius degrees\")"
   ]
  },
  {
   "cell_type": "code",
   "execution_count": 45,
   "metadata": {},
   "outputs": [],
   "source": [
    "model.save('Base_temperature_model.keras')"
   ]
  },
  {
   "cell_type": "markdown",
   "metadata": {},
   "source": [
    "## 4.2 Baseline"
   ]
  },
  {
   "cell_type": "code",
   "execution_count": 46,
   "metadata": {},
   "outputs": [],
   "source": [
    "def last_seen_value_baseline(X_test, y_test, target_column_idx=0):\n",
    "    \"\"\"\n",
    "    Baseline model that predicts the last observed value of the target variable (temperature).\n",
    "\n",
    "    Parameters:\n",
    "    X: Input features (shape: [num_samples, time_steps, num_features])\n",
    "    y: Ground truth values (shape: [num_samples, time_steps, num_targets])\n",
    "    target_column_idx: Index of the target variable in the input features\n",
    "\n",
    "    Returns:\n",
    "    baseline_mae: Mean Absolute Error (MAE) of the baseline model\n",
    "    \"\"\"\n",
    "    # Get the last observed value of the target (temperature) for each sample\n",
    "    last_seen_values = X_test[:, -1, target_column_idx].reshape(-1, 1)\n",
    "\n",
    "    # Repeat this value for all the output steps\n",
    "    output_length = y_test.shape[1]  # Number of time steps in the target sequence\n",
    "    repeated = np.repeat(last_seen_values, axis=1, repeats=output_length)\n",
    "\n",
    "    # Calculate the MAE: Mean of absolute errors\n",
    "    mae = np.mean(np.abs(y_test - repeated))\n",
    "\n",
    "    return mae"
   ]
  },
  {
   "cell_type": "code",
   "execution_count": 47,
   "metadata": {},
   "outputs": [
    {
     "name": "stdout",
     "output_type": "stream",
     "text": [
      "- The Baseline MAE on the test set is equal to 4.03 Celsius degrees\n",
      "- The LSTM MAE on the test set is equal to 3.08 Celsius degrees\n",
      "👉 Improvement/decrease of the LSTM model over the baseline (on this fold for the test set): 23.43 % 👈\n"
     ]
    }
   ],
   "source": [
    "# 1 - Evaluation of the Baseline Model\n",
    "# ====================================\n",
    "mae_baseline = last_seen_value_baseline(X_test, y_test, target_column_idx=0)\n",
    "print(f\"- The Baseline MAE on the test set is equal to {round(mae_baseline,2)} Celsius degrees\")\n",
    "\n",
    "# 4 - Comparison with the LSTM model\n",
    "# ====================================\n",
    "print(f\"- The LSTM MAE on the test set is equal to {round(res[1],2)} Celsius degrees\")\n",
    "print(f\"👉 Improvement/decrease of the LSTM model over the baseline (on this fold for the test set): {round((1 - (res[1]/mae_baseline))*100,2)} % 👈\")"
   ]
  },
  {
   "cell_type": "markdown",
   "metadata": {},
   "source": [
    "## 4.3 Optimizing on Hyperparameters"
   ]
  },
  {
   "cell_type": "code",
   "execution_count": 48,
   "metadata": {},
   "outputs": [],
   "source": [
    "from tensorflow.keras import layers, models, optimizers\n",
    "from tensorflow.keras import regularizers\n",
    "from tensorflow.keras.optimizers import Adam\n",
    "from keras_tuner import HyperModel\n",
    "from keras_tuner import RandomSearch\n",
    "\n",
    "class LSTMModel(HyperModel):\n",
    "    def build(self, hp):\n",
    "        reg_l2 = regularizers.L2(hp.Float('l2_reg', min_value=0.001, max_value=0.1, step=0.001))\n",
    "\n",
    "        #========================================================================================\n",
    "\n",
    "        model = models.Sequential()\n",
    "\n",
    "        # Input Layer\n",
    "        model.add(layers.Input(shape=(X_train.shape[1], X_train.shape[2])))\n",
    "\n",
    "        # Recurrent Layer with tunable units and dropout\n",
    "        model.add(layers.LSTM(\n",
    "            units=hp.Int('units', min_value=16, max_value=128, step=16),\n",
    "            activation='tanh',\n",
    "            return_sequences=True,\n",
    "            recurrent_dropout=hp.Float('recurrent_dropout', min_value=0.2, max_value=0.5, step=0.05),\n",
    "            dropout=hp.Float('dropout', min_value=0.2, max_value=0.5, step=0.05)\n",
    "        ))\n",
    "        model.add(layers.LSTM(\n",
    "            units=hp.Int('units', min_value=16, max_value=128, step=16),\n",
    "            activation='tanh',\n",
    "            return_sequences=True,\n",
    "            recurrent_dropout=hp.Float('recurrent_dropout', min_value=0.2, max_value=0.5, step=0.05),\n",
    "            dropout=hp.Float('dropout', min_value=0.2, max_value=0.5, step=0.05)\n",
    "        ))\n",
    "\n",
    "        # Hidden Dense Layer with tunable regularization\n",
    "        model.add(layers.Dense(\n",
    "            units=hp.Int('dense_units', min_value=32, max_value=128, step=32),\n",
    "            activation=\"relu\",\n",
    "            kernel_regularizer=reg_l2\n",
    "        ))\n",
    "        model.add(layers.Dropout(rate=hp.Float('dense_dropout', min_value=0.2, max_value=0.5, step=0.05)))\n",
    "\n",
    "        # Output Layer\n",
    "        model.add(layers.Dense(1, activation='linear'))\n",
    "\n",
    "        #========================================================================================\n",
    "\n",
    "        # Compile the model\n",
    "        model.compile(\n",
    "            loss='mse',\n",
    "            optimizer=Adam(learning_rate=hp.Float('learning_rate', min_value=1e-5, max_value=1e-2, sampling='log')),\n",
    "            metrics=[\"mae\"]\n",
    "        )\n",
    "\n",
    "        return model"
   ]
  },
  {
   "cell_type": "code",
   "execution_count": 49,
   "metadata": {},
   "outputs": [
    {
     "name": "stdout",
     "output_type": "stream",
     "text": [
      "Reloading Tuner from models/temperature_hyperparameters/tuner0.json\n"
     ]
    }
   ],
   "source": [
    "tuner = RandomSearch(\n",
    "    LSTMModel(),  # The HyperModel class\n",
    "    objective='val_mae',  # We want to minimize validation MAE\n",
    "    max_trials=10,  # Number of different hyperparameter combinations to try\n",
    "    executions_per_trial=1,  # Number of models to train per trial\n",
    "    directory='models',  # Directory to store logs and models\n",
    "    project_name='temperature_hyperparameters')\n",
    "\n",
    "tuner.search(\n",
    "    X_train,\n",
    "    y_train,\n",
    "    epochs=50,\n",
    "    batch_size=64,\n",
    "    validation_split=0.3,  # Use a validation split\n",
    "    callbacks=[tf.keras.callbacks.EarlyStopping(monitor='val_mae', patience=2)])"
   ]
  },
  {
   "cell_type": "code",
   "execution_count": 50,
   "metadata": {},
   "outputs": [
    {
     "name": "stdout",
     "output_type": "stream",
     "text": [
      "Best Hyperparameters: {'l2_reg': 0.057, 'units': 64, 'recurrent_dropout': 0.25, 'dropout': 0.2, 'dense_units': 64, 'dense_dropout': 0.2, 'learning_rate': 0.00021094668651953433}\n",
      "Epoch 1/100\n",
      "\u001b[1m1084/1084\u001b[0m \u001b[32m━━━━━━━━━━━━━━━━━━━━\u001b[0m\u001b[37m\u001b[0m \u001b[1m68s\u001b[0m 59ms/step - loss: 35.8314 - mae: 4.3212 - val_loss: 17.1492 - val_mae: 3.0242\n",
      "Epoch 2/100\n",
      "\u001b[1m1084/1084\u001b[0m \u001b[32m━━━━━━━━━━━━━━━━━━━━\u001b[0m\u001b[37m\u001b[0m \u001b[1m63s\u001b[0m 59ms/step - loss: 16.7728 - mae: 2.9987 - val_loss: 15.2662 - val_mae: 2.9309\n",
      "Epoch 3/100\n",
      "\u001b[1m1084/1084\u001b[0m \u001b[32m━━━━━━━━━━━━━━━━━━━━\u001b[0m\u001b[37m\u001b[0m \u001b[1m64s\u001b[0m 59ms/step - loss: 14.8267 - mae: 2.8822 - val_loss: 14.5812 - val_mae: 2.8907\n",
      "Epoch 4/100\n",
      "\u001b[1m1084/1084\u001b[0m \u001b[32m━━━━━━━━━━━━━━━━━━━━\u001b[0m\u001b[37m\u001b[0m \u001b[1m63s\u001b[0m 58ms/step - loss: 14.0452 - mae: 2.8395 - val_loss: 14.1350 - val_mae: 2.8737\n",
      "Epoch 5/100\n",
      "\u001b[1m1084/1084\u001b[0m \u001b[32m━━━━━━━━━━━━━━━━━━━━\u001b[0m\u001b[37m\u001b[0m \u001b[1m65s\u001b[0m 60ms/step - loss: 13.5175 - mae: 2.8018 - val_loss: 14.1026 - val_mae: 2.9005\n",
      "Epoch 6/100\n",
      "\u001b[1m1084/1084\u001b[0m \u001b[32m━━━━━━━━━━━━━━━━━━━━\u001b[0m\u001b[37m\u001b[0m \u001b[1m65s\u001b[0m 60ms/step - loss: 13.1383 - mae: 2.7728 - val_loss: 13.9174 - val_mae: 2.8747\n",
      "Epoch 7/100\n",
      "\u001b[1m1084/1084\u001b[0m \u001b[32m━━━━━━━━━━━━━━━━━━━━\u001b[0m\u001b[37m\u001b[0m \u001b[1m65s\u001b[0m 60ms/step - loss: 12.7497 - mae: 2.7368 - val_loss: 13.9142 - val_mae: 2.8943\n",
      "\u001b[1m1396/1396\u001b[0m \u001b[32m━━━━━━━━━━━━━━━━━━━━\u001b[0m\u001b[37m\u001b[0m \u001b[1m21s\u001b[0m 15ms/step - loss: 15.0383 - mae: 3.0571\n",
      "Test MAE: 3.059976100921631 Celsius degrees\n"
     ]
    }
   ],
   "source": [
    "# Get the best hyperparameters\n",
    "best_hps = tuner.get_best_hyperparameters(num_trials=1)[0]\n",
    "print(f\"Best Hyperparameters: {best_hps.values}\")\n",
    "\n",
    "# Build the best model with those hyperparameters\n",
    "best_model = tuner.hypermodel.build(best_hps)\n",
    "\n",
    "# Train the best model\n",
    "history = best_model.fit(\n",
    "    X_train,\n",
    "    y_train,\n",
    "    validation_split=0.2,\n",
    "    epochs=100,\n",
    "    batch_size=64,\n",
    "    callbacks=[tf.keras.callbacks.EarlyStopping(monitor='val_mae', patience=3)]\n",
    ")\n",
    "\n",
    "# Evaluate the best model on the test set\n",
    "test_results = best_model.evaluate(X_test, y_test)\n",
    "print(f\"Test MAE: {test_results[1]} Celsius degrees\")"
   ]
  },
  {
   "cell_type": "code",
   "execution_count": 51,
   "metadata": {},
   "outputs": [
    {
     "data": {
      "image/png": "[encoded data removed]",
      "text/plain": [
       "<Figure size 2000x700 with 2 Axes>"
      ]
     },
     "metadata": {},
     "output_type": "display_data"
    }
   ],
   "source": [
    "plot_history(history);"
   ]
  },
  {
   "cell_type": "markdown",
   "metadata": {},
   "source": [
    "# 4.4. Safe/ Load model"
   ]
  },
  {
   "cell_type": "code",
   "execution_count": 48,
   "metadata": {},
   "outputs": [],
   "source": [
    "from tensorflow.keras.models import Sequential, save_model, load_model\n",
    "from tensorflow.keras import models"
   ]
  },
  {
   "cell_type": "code",
   "execution_count": 49,
   "metadata": {},
   "outputs": [],
   "source": [
    "relative_path = os.path.dirname(current_dir)\n",
    "models_folder = os.path.join(relative_path, \"powder_alert2.0/models\")\n",
    "\n",
    "save_as_keras = os.path.join(models_folder, 'temperature_FINAL.keras')"
   ]
  },
  {
   "cell_type": "code",
   "execution_count": 50,
   "metadata": {},
   "outputs": [
    {
     "ename": "NameError",
     "evalue": "name 'best_model' is not defined",
     "output_type": "error",
     "traceback": [
      "\u001b[0;31m---------------------------------------------------------------------------\u001b[0m",
      "\u001b[0;31mNameError\u001b[0m                                 Traceback (most recent call last)",
      "Cell \u001b[0;32mIn[50], line 1\u001b[0m\n\u001b[0;32m----> 1\u001b[0m \u001b[43mbest_model\u001b[49m\u001b[38;5;241m.\u001b[39msave(save_as_keras)\n",
      "\u001b[0;31mNameError\u001b[0m: name 'best_model' is not defined"
     ]
    }
   ],
   "source": [
    "best_model.save(save_as_keras)"
   ]
  },
  {
   "cell_type": "code",
   "execution_count": 63,
   "metadata": {},
   "outputs": [],
   "source": [
    "loaded_model_keras = tf.keras.models.load_model(save_as_keras)"
   ]
  },
  {
   "cell_type": "markdown",
   "metadata": {},
   "source": [
    "# 5. Prediction"
   ]
  },
  {
   "cell_type": "markdown",
   "metadata": {},
   "source": [
    "## 5.1 Best_model"
   ]
  },
  {
   "cell_type": "markdown",
   "metadata": {},
   "source": [
    "### 5.1.1 Current data"
   ]
  },
  {
   "cell_type": "code",
   "execution_count": 17,
   "metadata": {},
   "outputs": [],
   "source": [
    "import openmeteo_requests\n",
    "import requests_cache\n",
    "import pandas as pd\n",
    "import numpy as np\n",
    "from retry_requests import retry\n",
    "from requests.exceptions import RequestException\n",
    "from google.cloud import bigquery\n",
    "from colorama import Fore, Style\n",
    "from datetime import datetime as dt\n",
    "from datetime import timedelta"
   ]
  },
  {
   "cell_type": "code",
   "execution_count": 18,
   "metadata": {
    "jupyter": {
     "source_hidden": true
    }
   },
   "outputs": [],
   "source": [
    "def fetch_prediction_data(latitude, longitude, variables=None, models=\"best_match\"):\n",
    "    \"\"\"\n",
    "    Fetch prediction data from the Open-Meteo API, processing hourly weather data for the last `prediction_length` days.\n",
    "\n",
    "    Parameters:\n",
    "        latitude (float): Latitude of the location.\n",
    "        longitude (float): Longitude of the location.\n",
    "        prediction_length (int): Number of past days to fetch data for.\n",
    "        models (str): Weather model (default: \"best_match\").\n",
    "\n",
    "    Returns:\n",
    "        pd.DataFrame: Hourly weather data as a Pandas DataFrame or None if the API request fails.\n",
    "    \"\"\"\n",
    "    # Set up the Open-Meteo API client with cache and retry\n",
    "    cache_session = requests_cache.CachedSession('.cache', expire_after=-1)\n",
    "    retry_session = retry(cache_session, retries=5, backoff_factor=0.2)\n",
    "    openmeteo = openmeteo_requests.Client(session=retry_session)\n",
    "\n",
    "    # Weather variables\n",
    "    variables = [\n",
    "        \"temperature_2m\", \"relative_humidity_2m\", \"dew_point_2m\", \"precipitation\",\n",
    "        \"rain\", \"snowfall\", \"snow_depth\", \"weather_code\", \"pressure_msl\",\n",
    "        \"surface_pressure\", \"cloud_cover\", \"cloud_cover_low\", \"cloud_cover_mid\",\n",
    "        \"cloud_cover_high\", \"et0_fao_evapotranspiration\", \"vapour_pressure_deficit\",\n",
    "        \"wind_speed_10m\", \"wind_speed_120m\", \"wind_direction_10m\", \"wind_direction_120m\",\n",
    "        \"wind_gusts_10m\", \"sunshine_duration\"\n",
    "    ]\n",
    "\n",
    "    # API parameters\n",
    "    url = \"https://api.open-meteo.com/v1/forecast\"\n",
    "    params = {\n",
    "        \"latitude\": latitude,\n",
    "        \"longitude\": longitude,\n",
    "        \"past_hours\": 48,  # Number of past days to fetch\n",
    "        \"forecast_hours\": 48,  # Only fetch past data\n",
    "        \"hourly\": variables,\n",
    "        \"models\": models\n",
    "    }\n",
    "\n",
    "    try:\n",
    "        # Fetch the weather data\n",
    "        responses = openmeteo.weather_api(url, params=params)\n",
    "\n",
    "        # Ensure the response is valid\n",
    "        if not responses or len(responses) == 0:\n",
    "            raise ValueError(\"No response received from the Open-Meteo API.\")\n",
    "\n",
    "        # Process first location\n",
    "        response = responses[0]\n",
    "        print(f\"Coordinates: {response.Latitude()}°N, {response.Longitude()}°E\")\n",
    "        print(f\"Elevation: {response.Elevation()} m asl\")\n",
    "        print(f\"Timezone: {response.Timezone()} ({response.TimezoneAbbreviation()})\")\n",
    "        print(f\"UTC Offset: {response.UtcOffsetSeconds()} seconds\")\n",
    "\n",
    "        # Process hourly data\n",
    "        hourly = response.Hourly()\n",
    "        hourly_data = {\"date\": pd.date_range(\n",
    "            start=pd.to_datetime(hourly.Time(), unit=\"s\", utc=True),\n",
    "            end=pd.to_datetime(hourly.TimeEnd(), unit=\"s\", utc=True),\n",
    "            freq=pd.Timedelta(seconds=hourly.Interval()),\n",
    "            inclusive=\"left\"\n",
    "        )}\n",
    "\n",
    "        # Assign hourly variables\n",
    "        hourly_data[\"temperature_2m\"] = hourly.Variables(0).ValuesAsNumpy()\n",
    "        hourly_data[\"relative_humidity_2m\"] = hourly.Variables(1).ValuesAsNumpy()\n",
    "        hourly_data[\"dew_point_2m\"] = hourly.Variables(2).ValuesAsNumpy()\n",
    "        hourly_data[\"precipitation\"] = hourly.Variables(3).ValuesAsNumpy()\n",
    "        hourly_data[\"rain\"] = hourly.Variables(4).ValuesAsNumpy()\n",
    "        hourly_data[\"snowfall\"] = hourly.Variables(5).ValuesAsNumpy()\n",
    "        hourly_data[\"snow_depth\"] = hourly.Variables(6).ValuesAsNumpy()\n",
    "        hourly_data[\"weather_code\"] = hourly.Variables(7).ValuesAsNumpy()\n",
    "        hourly_data[\"pressure_msl\"] = hourly.Variables(8).ValuesAsNumpy()\n",
    "        hourly_data[\"surface_pressure\"] = hourly.Variables(9).ValuesAsNumpy()\n",
    "        hourly_data[\"cloud_cover\"] = hourly.Variables(10).ValuesAsNumpy()\n",
    "        hourly_data[\"cloud_cover_low\"] = hourly.Variables(11).ValuesAsNumpy()\n",
    "        hourly_data[\"cloud_cover_mid\"] = hourly.Variables(12).ValuesAsNumpy()\n",
    "        hourly_data[\"cloud_cover_high\"] = hourly.Variables(13).ValuesAsNumpy()\n",
    "        hourly_data[\"et0_fao_evapotranspiration\"] = hourly.Variables(14).ValuesAsNumpy()\n",
    "        hourly_data[\"vapour_pressure_deficit\"] = hourly.Variables(15).ValuesAsNumpy()\n",
    "        hourly_data[\"wind_speed_10m\"] = hourly.Variables(16).ValuesAsNumpy()\n",
    "        hourly_data[\"wind_speed_100m\"] = hourly.Variables(17).ValuesAsNumpy()  # Renamed for train dataset\n",
    "        hourly_data[\"wind_direction_10m\"] = hourly.Variables(18).ValuesAsNumpy()\n",
    "        hourly_data[\"wind_direction_100m\"] = hourly.Variables(19).ValuesAsNumpy()  # Renamed for train dataset\n",
    "        hourly_data[\"wind_gusts_10m\"] = hourly.Variables(20).ValuesAsNumpy()\n",
    "        hourly_data[\"sunshine_duration\"] = hourly.Variables(21).ValuesAsNumpy()\n",
    "\n",
    "        # Create a DataFrame\n",
    "        hourly_dataframe = pd.DataFrame(data=hourly_data)\n",
    "        print(f\"✅ Prediction data fetched successfully\")\n",
    "        print(f\"Shape: {hourly_dataframe.shape}\")\n",
    "        print(hourly_dataframe.dtypes)\n",
    "        return hourly_dataframe\n",
    "\n",
    "    except RequestException as req_err:\n",
    "        print(f\"❌ API request failed due to a network issue: {req_err}\")\n",
    "    except ValueError as val_err:\n",
    "        print(f\"❌ API response error: {val_err}\")\n",
    "    except Exception as ex:\n",
    "        print(f\"❌ An unexpected error occurred: {ex}\")\n",
    "\n",
    "    # Return None if the data could not be fetched\n",
    "    return None"
   ]
  },
  {
   "cell_type": "code",
   "execution_count": 19,
   "metadata": {
    "jupyter": {
     "source_hidden": true
    }
   },
   "outputs": [],
   "source": [
    "def label_encode_columns(cat_data, cat_columns):\n",
    "    \"\"\"Apply LabelEncoder to specified categorical columns.\"\"\"\n",
    "    for col in cat_columns:\n",
    "        cat_data[col] = LabelEncoder().fit_transform(cat_data[col])\n",
    "    return cat_data"
   ]
  },
  {
   "cell_type": "code",
   "execution_count": 20,
   "metadata": {
    "jupyter": {
     "source_hidden": true
    }
   },
   "outputs": [],
   "source": [
    "def preprocess_pred(data, preprocessor):\n",
    "    \"\"\"\n",
    "    Process the input data X by adding cylical feature, applying label encoding to categorical columns\n",
    "    and standard scaling to numerical columns.\n",
    "    Parameters:\n",
    "        X (pd.DataFrame): Input dataframe to process.\n",
    "    Returns:\n",
    "        pd.DataFrame: Processed dataframe.\n",
    "    \"\"\"\n",
    "\n",
    "    # Check if the DataFrame index is a datetime-like index\n",
    "    if not isinstance(data.index, pd.DatetimeIndex):\n",
    "        raise ValueError(\"The DataFrame index must be a datetime-like index (e.g., pd.DatetimeIndex). \"\n",
    "                        \"Ensure your DataFrame has a datetime index using data.set_index().\")\n",
    "\n",
    "    #Add cyclical features\n",
    "    data['hour_sin'] = np.sin(2 * np.pi * data.index.hour / 24)\n",
    "    data['hour_cos'] = np.cos(2 * np.pi * data.index.hour / 24)\n",
    "\n",
    "    data['day_of_week_sin'] = np.sin(2 * np.pi * data.index.dayofweek / 7)\n",
    "    data['day_of_week_cos'] = np.cos(2 * np.pi * data.index.dayofweek / 7)\n",
    "\n",
    "    data['month_sin'] = np.sin(2 * np.pi * (data.index.month - 1) / 12)\n",
    "    data['month_cos'] = np.cos(2 * np.pi * (data.index.month - 1) / 12)\n",
    "\n",
    "    # Process and return the transformed data\n",
    "    processed_data = preprocessor.transform(data)\n",
    "\n",
    "    # Convert to DataFrame to maintain column names\n",
    "    processed_columns = ['weather_code_encoded',\n",
    "                         'relative_humidity_2m',\n",
    "                         'dew_point_2m',\n",
    "                         'precipitation',\n",
    "                         'rain',\n",
    "                         'snowfall',\n",
    "                         'snow_depth',\n",
    "                         'pressure_msl',\n",
    "                         'surface_pressure',\n",
    "                         'cloud_cover',\n",
    "                         'cloud_cover_low',\n",
    "                         'cloud_cover_mid',\n",
    "                         'cloud_cover_high',\n",
    "                         'et0_fao_evapotranspiration',\n",
    "                         'vapour_pressure_deficit',\n",
    "                         'wind_speed_10m',\n",
    "                         'wind_speed_100m',\n",
    "                         'wind_direction_10m',\n",
    "                         'wind_direction_100m',\n",
    "                         'wind_gusts_10m',\n",
    "                         'sunshine_duration',\n",
    "                         'hour_sin',\n",
    "                         'hour_cos',\n",
    "                         'day_of_week_sin',\n",
    "                         'day_of_week_cos',\n",
    "                         'month_sin',\n",
    "                         'month_cos']\n",
    "\n",
    "    print(\":white_check_mark: Processed data, with shape\", processed_data.shape)\n",
    "\n",
    "    # print(processed_columns)\n",
    "\n",
    "    return pd.DataFrame(processed_data, columns=processed_columns)"
   ]
  },
  {
   "cell_type": "code",
   "execution_count": 21,
   "metadata": {},
   "outputs": [
    {
     "name": "stdout",
     "output_type": "stream",
     "text": [
      "Coordinates: 47.2400016784668°N, 11.84000015258789°E\n",
      "Elevation: 1818.0 m asl\n",
      "Timezone: None (None)\n",
      "UTC Offset: 0 seconds\n",
      "✅ Prediction data fetched successfully\n",
      "Shape: (96, 23)\n",
      "date                          datetime64[ns, UTC]\n",
      "temperature_2m                            float32\n",
      "relative_humidity_2m                      float32\n",
      "dew_point_2m                              float32\n",
      "precipitation                             float32\n",
      "rain                                      float32\n",
      "snowfall                                  float32\n",
      "snow_depth                                float32\n",
      "weather_code                              float32\n",
      "pressure_msl                              float32\n",
      "surface_pressure                          float32\n",
      "cloud_cover                               float32\n",
      "cloud_cover_low                           float32\n",
      "cloud_cover_mid                           float32\n",
      "cloud_cover_high                          float32\n",
      "et0_fao_evapotranspiration                float32\n",
      "vapour_pressure_deficit                   float32\n",
      "wind_speed_10m                            float32\n",
      "wind_speed_100m                           float32\n",
      "wind_direction_10m                        float32\n",
      "wind_direction_100m                       float32\n",
      "wind_gusts_10m                            float32\n",
      "sunshine_duration                         float32\n",
      "dtype: object\n"
     ]
    }
   ],
   "source": [
    "df = fetch_prediction_data(47.26580883196723, 11.84457426992035, variables=None, models=\"best_match\")"
   ]
  },
  {
   "cell_type": "code",
   "execution_count": 22,
   "metadata": {},
   "outputs": [
    {
     "data": {
      "text/html": [
       "<div>\n",
       "<style scoped>\n",
       "    .dataframe tbody tr th:only-of-type {\n",
       "        vertical-align: middle;\n",
       "    }\n",
       "\n",
       "    .dataframe tbody tr th {\n",
       "        vertical-align: top;\n",
       "    }\n",
       "\n",
       "    .dataframe thead th {\n",
       "        text-align: right;\n",
       "    }\n",
       "</style>\n",
       "<table border=\"1\" class=\"dataframe\">\n",
       "  <thead>\n",
       "    <tr style=\"text-align: right;\">\n",
       "      <th></th>\n",
       "      <th>date</th>\n",
       "      <th>temperature_2m</th>\n",
       "      <th>relative_humidity_2m</th>\n",
       "      <th>dew_point_2m</th>\n",
       "      <th>precipitation</th>\n",
       "      <th>rain</th>\n",
       "      <th>snowfall</th>\n",
       "      <th>snow_depth</th>\n",
       "      <th>weather_code</th>\n",
       "      <th>pressure_msl</th>\n",
       "      <th>...</th>\n",
       "      <th>cloud_cover_mid</th>\n",
       "      <th>cloud_cover_high</th>\n",
       "      <th>et0_fao_evapotranspiration</th>\n",
       "      <th>vapour_pressure_deficit</th>\n",
       "      <th>wind_speed_10m</th>\n",
       "      <th>wind_speed_100m</th>\n",
       "      <th>wind_direction_10m</th>\n",
       "      <th>wind_direction_100m</th>\n",
       "      <th>wind_gusts_10m</th>\n",
       "      <th>sunshine_duration</th>\n",
       "    </tr>\n",
       "  </thead>\n",
       "  <tbody>\n",
       "    <tr>\n",
       "      <th>0</th>\n",
       "      <td>2024-12-17 11:00:00+00:00</td>\n",
       "      <td>4.526</td>\n",
       "      <td>55.0</td>\n",
       "      <td>-3.742100</td>\n",
       "      <td>0.0</td>\n",
       "      <td>0.0</td>\n",
       "      <td>0.0</td>\n",
       "      <td>0.19</td>\n",
       "      <td>0.0</td>\n",
       "      <td>1029.099976</td>\n",
       "      <td>...</td>\n",
       "      <td>0.0</td>\n",
       "      <td>0.0</td>\n",
       "      <td>0.118263</td>\n",
       "      <td>0.380709</td>\n",
       "      <td>1.440000</td>\n",
       "      <td>4.198285</td>\n",
       "      <td>360.000000</td>\n",
       "      <td>300.963684</td>\n",
       "      <td>42.480000</td>\n",
       "      <td>3600.0</td>\n",
       "    </tr>\n",
       "    <tr>\n",
       "      <th>1</th>\n",
       "      <td>2024-12-17 12:00:00+00:00</td>\n",
       "      <td>4.426</td>\n",
       "      <td>55.0</td>\n",
       "      <td>-3.835533</td>\n",
       "      <td>0.0</td>\n",
       "      <td>0.0</td>\n",
       "      <td>0.0</td>\n",
       "      <td>0.18</td>\n",
       "      <td>0.0</td>\n",
       "      <td>1028.099976</td>\n",
       "      <td>...</td>\n",
       "      <td>0.0</td>\n",
       "      <td>0.0</td>\n",
       "      <td>0.124962</td>\n",
       "      <td>0.378054</td>\n",
       "      <td>6.379216</td>\n",
       "      <td>10.464797</td>\n",
       "      <td>343.610382</td>\n",
       "      <td>319.185028</td>\n",
       "      <td>34.919998</td>\n",
       "      <td>3600.0</td>\n",
       "    </tr>\n",
       "  </tbody>\n",
       "</table>\n",
       "<p>2 rows × 23 columns</p>\n",
       "</div>"
      ],
      "text/plain": [
       "                       date  temperature_2m  relative_humidity_2m  \\\n",
       "0 2024-12-17 11:00:00+00:00           4.526                  55.0   \n",
       "1 2024-12-17 12:00:00+00:00           4.426                  55.0   \n",
       "\n",
       "   dew_point_2m  precipitation  rain  snowfall  snow_depth  weather_code  \\\n",
       "0     -3.742100            0.0   0.0       0.0        0.19           0.0   \n",
       "1     -3.835533            0.0   0.0       0.0        0.18           0.0   \n",
       "\n",
       "   pressure_msl  ...  cloud_cover_mid  cloud_cover_high  \\\n",
       "0   1029.099976  ...              0.0               0.0   \n",
       "1   1028.099976  ...              0.0               0.0   \n",
       "\n",
       "   et0_fao_evapotranspiration  vapour_pressure_deficit  wind_speed_10m  \\\n",
       "0                    0.118263                 0.380709        1.440000   \n",
       "1                    0.124962                 0.378054        6.379216   \n",
       "\n",
       "   wind_speed_100m  wind_direction_10m  wind_direction_100m  wind_gusts_10m  \\\n",
       "0         4.198285          360.000000           300.963684       42.480000   \n",
       "1        10.464797          343.610382           319.185028       34.919998   \n",
       "\n",
       "   sunshine_duration  \n",
       "0             3600.0  \n",
       "1             3600.0  \n",
       "\n",
       "[2 rows x 23 columns]"
      ]
     },
     "execution_count": 22,
     "metadata": {},
     "output_type": "execute_result"
    }
   ],
   "source": [
    "df.head(2)"
   ]
  },
  {
   "cell_type": "code",
   "execution_count": 23,
   "metadata": {},
   "outputs": [],
   "source": [
    "df['date'] = pd.to_datetime(df['date'], errors='coerce').dt.tz_localize(None)"
   ]
  },
  {
   "cell_type": "code",
   "execution_count": 24,
   "metadata": {},
   "outputs": [
    {
     "name": "stderr",
     "output_type": "stream",
     "text": [
      "/var/folders/pb/bz16q8fx0flb7flbn8cbcsdw0000gn/T/ipykernel_82697/3689795608.py:3: FutureWarning: 'H' is deprecated and will be removed in a future version, please use 'h' instead.\n",
      "  df['datetime'] = pd.date_range(start=dt.now() - timedelta(hours=len(df)), periods=len(df), freq='H')\n"
     ]
    }
   ],
   "source": [
    "current_time = dt.now()\n",
    "earliest_time = current_time - timedelta(hours=48)\n",
    "df['datetime'] = pd.date_range(start=dt.now() - timedelta(hours=len(df)), periods=len(df), freq='H')\n",
    "df = df[df['datetime'].between(earliest_time, current_time)]\n",
    "df = df.drop(columns = 'datetime')"
   ]
  },
  {
   "cell_type": "code",
   "execution_count": 25,
   "metadata": {},
   "outputs": [],
   "source": [
    "X = df.drop(columns = 'temperature_2m')\n",
    "X['date'] = pd.to_datetime(X['date'])\n",
    "X.set_index('date', inplace=True)\n",
    "y = df.temperature_2m"
   ]
  },
  {
   "cell_type": "code",
   "execution_count": 26,
   "metadata": {},
   "outputs": [
    {
     "name": "stdout",
     "output_type": "stream",
     "text": [
      ":white_check_mark: Processed data, with shape (48, 27)\n"
     ]
    }
   ],
   "source": [
    "X_processed = preprocess_pred(X, preprocessor)"
   ]
  },
  {
   "cell_type": "code",
   "execution_count": 27,
   "metadata": {},
   "outputs": [
    {
     "data": {
      "text/plain": [
       "(48, 27)"
      ]
     },
     "execution_count": 27,
     "metadata": {},
     "output_type": "execute_result"
    }
   ],
   "source": [
    "X_processed.shape"
   ]
  },
  {
   "cell_type": "code",
   "execution_count": 28,
   "metadata": {},
   "outputs": [],
   "source": [
    "df = pd.concat([y.reset_index(drop=True), X_processed], axis=1)"
   ]
  },
  {
   "cell_type": "code",
   "execution_count": 29,
   "metadata": {},
   "outputs": [
    {
     "data": {
      "text/html": [
       "<div>\n",
       "<style scoped>\n",
       "    .dataframe tbody tr th:only-of-type {\n",
       "        vertical-align: middle;\n",
       "    }\n",
       "\n",
       "    .dataframe tbody tr th {\n",
       "        vertical-align: top;\n",
       "    }\n",
       "\n",
       "    .dataframe thead th {\n",
       "        text-align: right;\n",
       "    }\n",
       "</style>\n",
       "<table border=\"1\" class=\"dataframe\">\n",
       "  <thead>\n",
       "    <tr style=\"text-align: right;\">\n",
       "      <th></th>\n",
       "      <th>temperature_2m</th>\n",
       "      <th>weather_code_encoded</th>\n",
       "      <th>relative_humidity_2m</th>\n",
       "      <th>dew_point_2m</th>\n",
       "      <th>precipitation</th>\n",
       "      <th>rain</th>\n",
       "      <th>snowfall</th>\n",
       "      <th>snow_depth</th>\n",
       "      <th>pressure_msl</th>\n",
       "      <th>surface_pressure</th>\n",
       "      <th>...</th>\n",
       "      <th>wind_direction_10m</th>\n",
       "      <th>wind_direction_100m</th>\n",
       "      <th>wind_gusts_10m</th>\n",
       "      <th>sunshine_duration</th>\n",
       "      <th>hour_sin</th>\n",
       "      <th>hour_cos</th>\n",
       "      <th>day_of_week_sin</th>\n",
       "      <th>day_of_week_cos</th>\n",
       "      <th>month_sin</th>\n",
       "      <th>month_cos</th>\n",
       "    </tr>\n",
       "  </thead>\n",
       "  <tbody>\n",
       "    <tr>\n",
       "      <th>0</th>\n",
       "      <td>5.476</td>\n",
       "      <td>0.0</td>\n",
       "      <td>-2.047303</td>\n",
       "      <td>-0.549784</td>\n",
       "      <td>-0.389763</td>\n",
       "      <td>-0.272938</td>\n",
       "      <td>-0.289634</td>\n",
       "      <td>-0.623865</td>\n",
       "      <td>-1.526957</td>\n",
       "      <td>-0.925359</td>\n",
       "      <td>...</td>\n",
       "      <td>-0.044320</td>\n",
       "      <td>-0.157696</td>\n",
       "      <td>0.138139</td>\n",
       "      <td>689.910436</td>\n",
       "      <td>3.660254e-01</td>\n",
       "      <td>-1.366025</td>\n",
       "      <td>0.614121</td>\n",
       "      <td>-1.273928</td>\n",
       "      <td>-0.702752</td>\n",
       "      <td>1.230262</td>\n",
       "    </tr>\n",
       "    <tr>\n",
       "      <th>1</th>\n",
       "      <td>4.876</td>\n",
       "      <td>1.0</td>\n",
       "      <td>-1.522924</td>\n",
       "      <td>-0.308162</td>\n",
       "      <td>-0.389763</td>\n",
       "      <td>-0.272938</td>\n",
       "      <td>-0.289634</td>\n",
       "      <td>-0.623865</td>\n",
       "      <td>-1.715786</td>\n",
       "      <td>-1.119681</td>\n",
       "      <td>...</td>\n",
       "      <td>-0.070254</td>\n",
       "      <td>-0.119060</td>\n",
       "      <td>0.713583</td>\n",
       "      <td>689.910436</td>\n",
       "      <td>1.993833e-16</td>\n",
       "      <td>-1.414214</td>\n",
       "      <td>0.614121</td>\n",
       "      <td>-1.273928</td>\n",
       "      <td>-0.702752</td>\n",
       "      <td>1.230262</td>\n",
       "    </tr>\n",
       "    <tr>\n",
       "      <th>2</th>\n",
       "      <td>4.426</td>\n",
       "      <td>1.0</td>\n",
       "      <td>-1.115074</td>\n",
       "      <td>-0.151083</td>\n",
       "      <td>-0.389763</td>\n",
       "      <td>-0.272938</td>\n",
       "      <td>-0.289634</td>\n",
       "      <td>-0.623865</td>\n",
       "      <td>-1.854257</td>\n",
       "      <td>-1.262992</td>\n",
       "      <td>...</td>\n",
       "      <td>-0.081903</td>\n",
       "      <td>-0.083429</td>\n",
       "      <td>0.765897</td>\n",
       "      <td>-0.695403</td>\n",
       "      <td>-3.660254e-01</td>\n",
       "      <td>-1.366025</td>\n",
       "      <td>0.614121</td>\n",
       "      <td>-1.273928</td>\n",
       "      <td>-0.702752</td>\n",
       "      <td>1.230262</td>\n",
       "    </tr>\n",
       "  </tbody>\n",
       "</table>\n",
       "<p>3 rows × 28 columns</p>\n",
       "</div>"
      ],
      "text/plain": [
       "   temperature_2m  weather_code_encoded  relative_humidity_2m  dew_point_2m  \\\n",
       "0           5.476                   0.0             -2.047303     -0.549784   \n",
       "1           4.876                   1.0             -1.522924     -0.308162   \n",
       "2           4.426                   1.0             -1.115074     -0.151083   \n",
       "\n",
       "   precipitation      rain  snowfall  snow_depth  pressure_msl  \\\n",
       "0      -0.389763 -0.272938 -0.289634   -0.623865     -1.526957   \n",
       "1      -0.389763 -0.272938 -0.289634   -0.623865     -1.715786   \n",
       "2      -0.389763 -0.272938 -0.289634   -0.623865     -1.854257   \n",
       "\n",
       "   surface_pressure  ...  wind_direction_10m  wind_direction_100m  \\\n",
       "0         -0.925359  ...           -0.044320            -0.157696   \n",
       "1         -1.119681  ...           -0.070254            -0.119060   \n",
       "2         -1.262992  ...           -0.081903            -0.083429   \n",
       "\n",
       "   wind_gusts_10m  sunshine_duration      hour_sin  hour_cos  day_of_week_sin  \\\n",
       "0        0.138139         689.910436  3.660254e-01 -1.366025         0.614121   \n",
       "1        0.713583         689.910436  1.993833e-16 -1.414214         0.614121   \n",
       "2        0.765897          -0.695403 -3.660254e-01 -1.366025         0.614121   \n",
       "\n",
       "   day_of_week_cos  month_sin  month_cos  \n",
       "0        -1.273928  -0.702752   1.230262  \n",
       "1        -1.273928  -0.702752   1.230262  \n",
       "2        -1.273928  -0.702752   1.230262  \n",
       "\n",
       "[3 rows x 28 columns]"
      ]
     },
     "execution_count": 29,
     "metadata": {},
     "output_type": "execute_result"
    }
   ],
   "source": [
    "df.head(3)"
   ]
  },
  {
   "cell_type": "code",
   "execution_count": 30,
   "metadata": {},
   "outputs": [],
   "source": [
    "df = df.tail(48) # get rid of upcoming input or less then 48h input"
   ]
  },
  {
   "cell_type": "code",
   "execution_count": 31,
   "metadata": {},
   "outputs": [],
   "source": [
    "last_48h = df"
   ]
  },
  {
   "cell_type": "code",
   "execution_count": 32,
   "metadata": {},
   "outputs": [],
   "source": [
    "last_48h = np.expand_dims(last_48h, axis=0)"
   ]
  },
  {
   "cell_type": "code",
   "execution_count": 66,
   "metadata": {},
   "outputs": [],
   "source": [
    "best_model = tf.keras.models.load_model('models/temperature_FINAL.keras') # needs to be changed to load the best/ current model --> best_model"
   ]
  },
  {
   "cell_type": "code",
   "execution_count": 67,
   "metadata": {},
   "outputs": [
    {
     "name": "stdout",
     "output_type": "stream",
     "text": [
      "\u001b[1m1/1\u001b[0m \u001b[32m━━━━━━━━━━━━━━━━━━━━\u001b[0m\u001b[37m\u001b[0m \u001b[1m0s\u001b[0m 347ms/step\n"
     ]
    }
   ],
   "source": [
    "predictions = best_model.predict(last_48h)"
   ]
  },
  {
   "cell_type": "code",
   "execution_count": 68,
   "metadata": {},
   "outputs": [
    {
     "name": "stdout",
     "output_type": "stream",
     "text": [
      "The temperature for the upcoming 48 h ranges from -7.686563491821289 to 13.560851097106934 deggrees Celcius.\n"
     ]
    }
   ],
   "source": [
    "predicted_temperatures = predictions[0]\n",
    "print(f'The temperature for the upcoming 48 h ranges from {predicted_temperatures.min()} to {predicted_temperatures.max()} deggrees Celcius.')"
   ]
  },
  {
   "cell_type": "code",
   "execution_count": 69,
   "metadata": {},
   "outputs": [
    {
     "data": {
      "image/png": "[encoded data removed]",
      "text/plain": [
       "<Figure size 1000x600 with 1 Axes>"
      ]
     },
     "metadata": {},
     "output_type": "display_data"
    }
   ],
   "source": [
    "predicted_df = pd.DataFrame(predicted_temperatures, columns=[\"Predicted temperature\"])\n",
    "predicted_df[\"Hour\"] = pd.date_range(start=pd.to_datetime('now'), periods=48, freq='h')\n",
    "\n",
    "# Plot the predicted temperatures\n",
    "plt.figure(figsize=(10,6))\n",
    "plt.plot(predicted_df[\"Hour\"], predicted_df[\"Predicted temperature\"], marker='o')\n",
    "plt.title(\"Predicted temperature for the Next 48 Hours\")\n",
    "plt.xlabel(\"Hour\")\n",
    "plt.ylabel(\"Celcius degrees\")\n",
    "plt.grid(True)\n",
    "plt.xticks(rotation=45)\n",
    "plt.show();"
   ]
  },
  {
   "cell_type": "markdown",
   "metadata": {},
   "source": [
    "### 5.1.1 Current data"
   ]
  },
  {
   "cell_type": "code",
   "execution_count": 86,
   "metadata": {
    "jupyter": {
     "source_hidden": true
    }
   },
   "outputs": [],
   "source": [
    "def fetch_prediction_data(latitude, longitude, variables=None, models=\"best_match\"):\n",
    "    \"\"\"\n",
    "    Fetch prediction data from the Open-Meteo API, processing hourly weather data for the last `prediction_length` days.\n",
    "\n",
    "    Parameters:\n",
    "        latitude (float): Latitude of the location.\n",
    "        longitude (float): Longitude of the location.\n",
    "        prediction_length (int): Number of past days to fetch data for.\n",
    "        models (str): Weather model (default: \"best_match\").\n",
    "\n",
    "    Returns:\n",
    "        pd.DataFrame: Hourly weather data as a Pandas DataFrame or None if the API request fails.\n",
    "    \"\"\"\n",
    "    # Set up the Open-Meteo API client with cache and retry\n",
    "    cache_session = requests_cache.CachedSession('.cache', expire_after=-1)\n",
    "    retry_session = retry(cache_session, retries=5, backoff_factor=0.2)\n",
    "    openmeteo = openmeteo_requests.Client(session=retry_session)\n",
    "\n",
    "    # Weather variables\n",
    "    variables = [\n",
    "        \"temperature_2m\", \"relative_humidity_2m\", \"dew_point_2m\", \"precipitation\",\n",
    "        \"rain\", \"snowfall\", \"snow_depth\", \"weather_code\", \"pressure_msl\",\n",
    "        \"surface_pressure\", \"cloud_cover\", \"cloud_cover_low\", \"cloud_cover_mid\",\n",
    "        \"cloud_cover_high\", \"et0_fao_evapotranspiration\", \"vapour_pressure_deficit\",\n",
    "        \"wind_speed_10m\", \"wind_speed_120m\", \"wind_direction_10m\", \"wind_direction_120m\",\n",
    "        \"wind_gusts_10m\", \"sunshine_duration\"\n",
    "    ]\n",
    "\n",
    "    # API parameters\n",
    "    url = \"https://api.open-meteo.com/v1/forecast\"\n",
    "    params = {\n",
    "        \"latitude\": latitude,\n",
    "        \"longitude\": longitude,\n",
    "        \"past_hours\": 48,  # Number of past days to fetch\n",
    "        \"forecast_hours\": 48,  # Only fetch past data\n",
    "        \"hourly\": variables,\n",
    "        \"models\": models\n",
    "    }\n",
    "\n",
    "    try:\n",
    "        # Fetch the weather data\n",
    "        responses = openmeteo.weather_api(url, params=params)\n",
    "\n",
    "        # Ensure the response is valid\n",
    "        if not responses or len(responses) == 0:\n",
    "            raise ValueError(\"No response received from the Open-Meteo API.\")\n",
    "\n",
    "        # Process first location\n",
    "        response = responses[0]\n",
    "        print(f\"Coordinates: {response.Latitude()}°N, {response.Longitude()}°E\")\n",
    "        print(f\"Elevation: {response.Elevation()} m asl\")\n",
    "        print(f\"Timezone: {response.Timezone()} ({response.TimezoneAbbreviation()})\")\n",
    "        print(f\"UTC Offset: {response.UtcOffsetSeconds()} seconds\")\n",
    "\n",
    "        # Process hourly data\n",
    "        hourly = response.Hourly()\n",
    "        hourly_data = {\"date\": pd.date_range(\n",
    "            start=pd.to_datetime(hourly.Time(), unit=\"s\", utc=True),\n",
    "            end=pd.to_datetime(hourly.TimeEnd(), unit=\"s\", utc=True),\n",
    "            freq=pd.Timedelta(seconds=hourly.Interval()),\n",
    "            inclusive=\"left\"\n",
    "        )}\n",
    "\n",
    "        # Assign hourly variables\n",
    "        hourly_data[\"temperature_2m\"] = hourly.Variables(0).ValuesAsNumpy()\n",
    "        hourly_data[\"relative_humidity_2m\"] = hourly.Variables(1).ValuesAsNumpy()\n",
    "        hourly_data[\"dew_point_2m\"] = hourly.Variables(2).ValuesAsNumpy()\n",
    "        hourly_data[\"precipitation\"] = hourly.Variables(3).ValuesAsNumpy()\n",
    "        hourly_data[\"rain\"] = hourly.Variables(4).ValuesAsNumpy()\n",
    "        hourly_data[\"snowfall\"] = hourly.Variables(5).ValuesAsNumpy()\n",
    "        hourly_data[\"snow_depth\"] = hourly.Variables(6).ValuesAsNumpy()\n",
    "        hourly_data[\"weather_code\"] = hourly.Variables(7).ValuesAsNumpy()\n",
    "        hourly_data[\"pressure_msl\"] = hourly.Variables(8).ValuesAsNumpy()\n",
    "        hourly_data[\"surface_pressure\"] = hourly.Variables(9).ValuesAsNumpy()\n",
    "        hourly_data[\"cloud_cover\"] = hourly.Variables(10).ValuesAsNumpy()\n",
    "        hourly_data[\"cloud_cover_low\"] = hourly.Variables(11).ValuesAsNumpy()\n",
    "        hourly_data[\"cloud_cover_mid\"] = hourly.Variables(12).ValuesAsNumpy()\n",
    "        hourly_data[\"cloud_cover_high\"] = hourly.Variables(13).ValuesAsNumpy()\n",
    "        hourly_data[\"et0_fao_evapotranspiration\"] = hourly.Variables(14).ValuesAsNumpy()\n",
    "        hourly_data[\"vapour_pressure_deficit\"] = hourly.Variables(15).ValuesAsNumpy()\n",
    "        hourly_data[\"wind_speed_10m\"] = hourly.Variables(16).ValuesAsNumpy()\n",
    "        hourly_data[\"wind_speed_100m\"] = hourly.Variables(17).ValuesAsNumpy()  # Renamed for train dataset\n",
    "        hourly_data[\"wind_direction_10m\"] = hourly.Variables(18).ValuesAsNumpy()\n",
    "        hourly_data[\"wind_direction_100m\"] = hourly.Variables(19).ValuesAsNumpy()  # Renamed for train dataset\n",
    "        hourly_data[\"wind_gusts_10m\"] = hourly.Variables(20).ValuesAsNumpy()\n",
    "        hourly_data[\"sunshine_duration\"] = hourly.Variables(21).ValuesAsNumpy()\n",
    "\n",
    "        # Create a DataFrame\n",
    "        hourly_dataframe = pd.DataFrame(data=hourly_data)\n",
    "        print(f\"✅ Prediction data fetched successfully\")\n",
    "        print(f\"Shape: {hourly_dataframe.shape}\")\n",
    "        print(hourly_dataframe.dtypes)\n",
    "        return hourly_dataframe\n",
    "\n",
    "    except RequestException as req_err:\n",
    "        print(f\"❌ API request failed due to a network issue: {req_err}\")\n",
    "    except ValueError as val_err:\n",
    "        print(f\"❌ API response error: {val_err}\")\n",
    "    except Exception as ex:\n",
    "        print(f\"❌ An unexpected error occurred: {ex}\")\n",
    "\n",
    "    # Return None if the data could not be fetched\n",
    "    return None"
   ]
  },
  {
   "cell_type": "code",
   "execution_count": 87,
   "metadata": {},
   "outputs": [],
   "source": [
    "file_name = \"powder_alert2.0/raw_prediction.csv\"\n",
    "file_path = os.path.join(relative_path, file_name)\n",
    "\n",
    "df = pd.read_csv(file_path)"
   ]
  },
  {
   "cell_type": "code",
   "execution_count": 88,
   "metadata": {},
   "outputs": [],
   "source": [
    "# Drop the first weird column if it exists\n",
    "if 'Unnamed: 0' in df.columns:\n",
    "    df = df.drop(columns=['Unnamed: 0'])"
   ]
  },
  {
   "cell_type": "code",
   "execution_count": 89,
   "metadata": {},
   "outputs": [],
   "source": [
    "df['date'] = pd.to_datetime(df['date'], errors='coerce').dt.tz_localize(None)"
   ]
  },
  {
   "cell_type": "code",
   "execution_count": 90,
   "metadata": {},
   "outputs": [
    {
     "data": {
      "text/html": [
       "<div>\n",
       "<style scoped>\n",
       "    .dataframe tbody tr th:only-of-type {\n",
       "        vertical-align: middle;\n",
       "    }\n",
       "\n",
       "    .dataframe tbody tr th {\n",
       "        vertical-align: top;\n",
       "    }\n",
       "\n",
       "    .dataframe thead th {\n",
       "        text-align: right;\n",
       "    }\n",
       "</style>\n",
       "<table border=\"1\" class=\"dataframe\">\n",
       "  <thead>\n",
       "    <tr style=\"text-align: right;\">\n",
       "      <th></th>\n",
       "      <th>date</th>\n",
       "      <th>temperature_2m</th>\n",
       "      <th>relative_humidity_2m</th>\n",
       "      <th>dew_point_2m</th>\n",
       "      <th>precipitation</th>\n",
       "      <th>rain</th>\n",
       "      <th>snowfall</th>\n",
       "      <th>snow_depth</th>\n",
       "      <th>weather_code</th>\n",
       "      <th>pressure_msl</th>\n",
       "      <th>...</th>\n",
       "      <th>cloud_cover_mid</th>\n",
       "      <th>cloud_cover_high</th>\n",
       "      <th>et0_fao_evapotranspiration</th>\n",
       "      <th>vapour_pressure_deficit</th>\n",
       "      <th>wind_speed_10m</th>\n",
       "      <th>wind_speed_100m</th>\n",
       "      <th>wind_direction_10m</th>\n",
       "      <th>wind_direction_100m</th>\n",
       "      <th>wind_gusts_10m</th>\n",
       "      <th>sunshine_duration</th>\n",
       "    </tr>\n",
       "  </thead>\n",
       "  <tbody>\n",
       "    <tr>\n",
       "      <th>0</th>\n",
       "      <td>2024-12-14</td>\n",
       "      <td>-2.074</td>\n",
       "      <td>55.0</td>\n",
       "      <td>-9.91411</td>\n",
       "      <td>0.0</td>\n",
       "      <td>0.0</td>\n",
       "      <td>0.0</td>\n",
       "      <td>0.22</td>\n",
       "      <td>3.0</td>\n",
       "      <td>1021.8</td>\n",
       "      <td>...</td>\n",
       "      <td>100.0</td>\n",
       "      <td>100.0</td>\n",
       "      <td>0.012611</td>\n",
       "      <td>0.236865</td>\n",
       "      <td>7.28055</td>\n",
       "      <td>3.396233</td>\n",
       "      <td>261.46933</td>\n",
       "      <td>212.00534</td>\n",
       "      <td>25.919998</td>\n",
       "      <td>0.0</td>\n",
       "    </tr>\n",
       "  </tbody>\n",
       "</table>\n",
       "<p>1 rows × 23 columns</p>\n",
       "</div>"
      ],
      "text/plain": [
       "        date  temperature_2m  relative_humidity_2m  dew_point_2m  \\\n",
       "0 2024-12-14          -2.074                  55.0      -9.91411   \n",
       "\n",
       "   precipitation  rain  snowfall  snow_depth  weather_code  pressure_msl  ...  \\\n",
       "0            0.0   0.0       0.0        0.22           3.0        1021.8  ...   \n",
       "\n",
       "   cloud_cover_mid  cloud_cover_high  et0_fao_evapotranspiration  \\\n",
       "0            100.0             100.0                    0.012611   \n",
       "\n",
       "   vapour_pressure_deficit  wind_speed_10m  wind_speed_100m  \\\n",
       "0                 0.236865         7.28055         3.396233   \n",
       "\n",
       "   wind_direction_10m  wind_direction_100m  wind_gusts_10m  sunshine_duration  \n",
       "0           261.46933            212.00534       25.919998                0.0  \n",
       "\n",
       "[1 rows x 23 columns]"
      ]
     },
     "execution_count": 90,
     "metadata": {},
     "output_type": "execute_result"
    }
   ],
   "source": [
    "df.head(1)"
   ]
  },
  {
   "cell_type": "code",
   "execution_count": 91,
   "metadata": {},
   "outputs": [],
   "source": [
    "current_time = dt.now()"
   ]
  },
  {
   "cell_type": "code",
   "execution_count": 92,
   "metadata": {},
   "outputs": [],
   "source": [
    "df = df.tail(48)"
   ]
  },
  {
   "cell_type": "code",
   "execution_count": 93,
   "metadata": {},
   "outputs": [],
   "source": [
    "X = df.drop(columns = 'temperature_2m')\n",
    "X['date'] = pd.to_datetime(X['date'])\n",
    "X.set_index('date', inplace=True)\n",
    "y = df.temperature_2m"
   ]
  },
  {
   "cell_type": "code",
   "execution_count": 94,
   "metadata": {},
   "outputs": [
    {
     "name": "stdout",
     "output_type": "stream",
     "text": [
      ":white_check_mark: Processed data, with shape (48, 27)\n"
     ]
    }
   ],
   "source": [
    "X_processed = preprocess_pred(X, preprocessor)"
   ]
  },
  {
   "cell_type": "code",
   "execution_count": 95,
   "metadata": {},
   "outputs": [],
   "source": [
    "df = pd.concat([y.reset_index(drop=True), X_processed], axis=1)"
   ]
  },
  {
   "cell_type": "code",
   "execution_count": 96,
   "metadata": {},
   "outputs": [],
   "source": [
    "last_48h = df"
   ]
  },
  {
   "cell_type": "code",
   "execution_count": 97,
   "metadata": {},
   "outputs": [],
   "source": [
    "last_48h = np.expand_dims(last_48h, axis=0)"
   ]
  },
  {
   "cell_type": "code",
   "execution_count": 98,
   "metadata": {},
   "outputs": [],
   "source": [
    "best_model = loaded_model_keras # needs to be changed to load the best/ current model --> best_model"
   ]
  },
  {
   "cell_type": "code",
   "execution_count": 99,
   "metadata": {},
   "outputs": [
    {
     "name": "stdout",
     "output_type": "stream",
     "text": [
      "\u001b[1m1/1\u001b[0m \u001b[32m━━━━━━━━━━━━━━━━━━━━\u001b[0m\u001b[37m\u001b[0m \u001b[1m0s\u001b[0m 370ms/step\n"
     ]
    }
   ],
   "source": [
    "predictions = best_model.predict(last_48h)"
   ]
  },
  {
   "cell_type": "code",
   "execution_count": 100,
   "metadata": {},
   "outputs": [
    {
     "name": "stdout",
     "output_type": "stream",
     "text": [
      "The temp for the upcoming 48 h ranges from -3.227973222732544 to 12.7345609664917 Celcius.\n"
     ]
    }
   ],
   "source": [
    "predicted_temperatures = predictions[0]\n",
    "print(f'The temp for the upcoming 48 h ranges from {predicted_temperatures.min()} to {predicted_temperatures.max()} Celcius.')"
   ]
  },
  {
   "cell_type": "code",
   "execution_count": 101,
   "metadata": {},
   "outputs": [
    {
     "data": {
      "image/png": "[encoded data removed]",
      "text/plain": [
       "<Figure size 1000x600 with 1 Axes>"
      ]
     },
     "metadata": {},
     "output_type": "display_data"
    }
   ],
   "source": [
    "predicted_df = pd.DataFrame(predicted_temperatures, columns=[\"Predicted temperature\"])\n",
    "predicted_df[\"Hour\"] = pd.date_range(start=pd.to_datetime('now'), periods=48, freq='h')\n",
    "\n",
    "# Plot the predicted temperatures\n",
    "plt.figure(figsize=(10,6))\n",
    "plt.plot(predicted_df[\"Hour\"], predicted_df[\"Predicted temperature\"], marker='o')\n",
    "plt.title(\"Predicted temperature for the Next 48 Hours\")\n",
    "plt.xlabel(\"Hour\")\n",
    "plt.ylabel(\"Celcius\")\n",
    "plt.grid(True)\n",
    "plt.xticks(rotation=45)\n",
    "plt.show();"
   ]
  },
  {
   "cell_type": "markdown",
   "metadata": {},
   "source": [
    "## 5.2 Basis model"
   ]
  },
  {
   "cell_type": "code",
   "execution_count": 33,
   "metadata": {},
   "outputs": [],
   "source": [
    "model = tf.keras.models.load_model('/Users/maxburger/code/MadMax1995bb/powder_alert2.0/models/temperature/Base_temperature_model.keras') # needs to be changed to load the best/ current model --> best_model"
   ]
  },
  {
   "cell_type": "code",
   "execution_count": 34,
   "metadata": {},
   "outputs": [
    {
     "name": "stdout",
     "output_type": "stream",
     "text": [
      "\u001b[1m1/1\u001b[0m \u001b[32m━━━━━━━━━━━━━━━━━━━━\u001b[0m\u001b[37m\u001b[0m \u001b[1m0s\u001b[0m 139ms/step\n"
     ]
    }
   ],
   "source": [
    "predictions = model.predict(last_48h)"
   ]
  },
  {
   "cell_type": "code",
   "execution_count": 35,
   "metadata": {},
   "outputs": [
    {
     "name": "stdout",
     "output_type": "stream",
     "text": [
      "The snow_depth for the upcoming 48 h ranges from -9.00456428527832 to 2.4700429439544678 m.\n"
     ]
    }
   ],
   "source": [
    "predicted_temperature = predictions[0]\n",
    "print(f'The snow_depth for the upcoming 48 h ranges from {predicted_temperature.min()} to {predicted_temperature.max()} m.')"
   ]
  },
  {
   "cell_type": "code",
   "execution_count": 36,
   "metadata": {},
   "outputs": [
    {
     "data": {
      "image/png": "[encoded data removed]",
      "text/plain": [
       "<Figure size 1000x600 with 1 Axes>"
      ]
     },
     "metadata": {},
     "output_type": "display_data"
    }
   ],
   "source": [
    "predicted_df = pd.DataFrame(predicted_temperature, columns=[\"Predicted temperature\"])\n",
    "predicted_df[\"Hour\"] = pd.date_range(start=pd.to_datetime('now'), periods=48, freq='h')\n",
    "\n",
    "# Plot the predicted temperatures\n",
    "plt.figure(figsize=(10,6))\n",
    "plt.plot(predicted_df[\"Hour\"], predicted_df[\"Predicted temperature\"], marker='o')\n",
    "plt.title(\"Predicted temperature for the Next 48 Hours\")\n",
    "plt.xlabel(\"Hour\")\n",
    "plt.ylabel(\"Celcius degrees\")\n",
    "plt.grid(True)\n",
    "plt.xticks(rotation=45)\n",
    "plt.show();"
   ]
  },
  {
   "cell_type": "markdown",
   "metadata": {},
   "source": [
    "## Save Preprocessor as pckl"
   ]
  },
  {
   "cell_type": "code",
   "execution_count": 128,
   "metadata": {},
   "outputs": [],
   "source": [
    "import dill"
   ]
  },
  {
   "cell_type": "code",
   "execution_count": 129,
   "metadata": {},
   "outputs": [],
   "source": [
    "dill.settings['recurse'] = True"
   ]
  },
  {
   "cell_type": "code",
   "execution_count": 130,
   "metadata": {},
   "outputs": [],
   "source": [
    "with open('preprocessor_temperature.dill', 'wb') as file:\n",
    "    dill.dump(preprocessor, file)"
   ]
  },
  {
   "cell_type": "code",
   "execution_count": null,
   "metadata": {},
   "outputs": [],
   "source": []
  }
 ],
 "metadata": {
  "environment": {
   "kernel": "conda-base-py",
   "name": "workbench-notebooks.m126",
   "type": "gcloud",
   "uri": "us-docker.pkg.dev/deeplearning-platform-release/gcr.io/workbench-notebooks:m126"
  },
  "kernelspec": {
   "display_name": "powder_alert2.0",
   "language": "python",
   "name": "python3"
  },
  "language_info": {
   "codemirror_mode": {
    "name": "ipython",
    "version": 3
   },
   "file_extension": ".py",
   "mimetype": "text/x-python",
   "name": "python",
   "nbconvert_exporter": "python",
   "pygments_lexer": "ipython3",
   "version": "3.10.6"
  }
 },
 "nbformat": 4,
 "nbformat_minor": 4
}
